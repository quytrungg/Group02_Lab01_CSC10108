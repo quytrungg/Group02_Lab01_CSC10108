{
 "cells": [
  {
   "attachments": {},
   "cell_type": "markdown",
   "metadata": {},
   "source": [
    "# DATA ANALYSIS\n",
    "\n",
    "## 1. Ý nghĩa của thuộc tính:\n",
    "- **Country**: Tên quốc gia\n",
    "- Total Cases: Tổng số ca nhiễm\n",
    "- New Cases: Số ca nhiễm mới\n",
    "- Total Deaths: Tổng số ca tử vong\n",
    "- New Deaths: Số ca tử vong mới\n",
    "- Total Recovered: Tổng số ca hồi phục\n",
    "- New Recovered: Số ca hồi phục mới\n",
    "- Active Cases: Tổng số ca đang điều trị\n",
    "- Serious, Critical: Số ca nghiêm trọng, nguy kịch\n",
    "- Tot Cases/1M pop: Số ca nhiễm trên 1 triệu dân\n",
    "- Deaths/1M pop: Số ca tử vong trên 1 triệu dân\n",
    "- Total tests: Tổng số lần test\n",
    "- Tests/1M pop: Số lần test trên 1 triệu dân\n",
    "- Population: Dân số\n",
    "- Continent: Châu lục\n",
    "- 1 Case every X ppl: 1 ca nhiễm trên X dân\n",
    "- 1 Death every X ppl: 1 ca tử vong trên X dân\n",
    "- 1 Test every X ppl: 1 lần test trên X dân\n",
    "- New Cases/1M pop: Số ca nhiễm mới trên 1 triệu dân\n",
    "- New Deaths/1M pop: Số ca tử vong mới trên 1 triệu dân\n",
    "- Active Cases/1M pop: Số ca đang điều trị trên 1 triệu dân\n",
    "\n",
    "## 2. Phân tích các mối quan hệ nhờ trực quan"
   ]
  },
  {
   "cell_type": "code",
   "execution_count": 152,
   "metadata": {
    "tags": []
   },
   "outputs": [],
   "source": [
    "# Import thư viện: \n",
    "\n",
    "import pandas as pd\n",
    "import numpy as np\n",
    "import matplotlib.pyplot as plt\n",
    "import geopandas\n",
    "from matplotlib import colors\n",
    "import pandas\n",
    "import plotly.express as px"
   ]
  },
  {
   "cell_type": "code",
   "execution_count": 94,
   "metadata": {},
   "outputs": [
    {
     "data": {
      "text/html": [
       "<div>\n",
       "<style scoped>\n",
       "    .dataframe tbody tr th:only-of-type {\n",
       "        vertical-align: middle;\n",
       "    }\n",
       "\n",
       "    .dataframe tbody tr th {\n",
       "        vertical-align: top;\n",
       "    }\n",
       "\n",
       "    .dataframe thead th {\n",
       "        text-align: right;\n",
       "    }\n",
       "</style>\n",
       "<table border=\"1\" class=\"dataframe\">\n",
       "  <thead>\n",
       "    <tr style=\"text-align: right;\">\n",
       "      <th></th>\n",
       "      <th>Country</th>\n",
       "      <th>Total Cases</th>\n",
       "      <th>New Cases</th>\n",
       "      <th>Total Deaths</th>\n",
       "      <th>New Deaths</th>\n",
       "      <th>Total Recovered</th>\n",
       "      <th>New Recovered</th>\n",
       "      <th>Active Cases</th>\n",
       "      <th>Serious, Critical</th>\n",
       "      <th>Tot Cases/1M pop</th>\n",
       "      <th>...</th>\n",
       "      <th>Total tests</th>\n",
       "      <th>Tests/1M pop</th>\n",
       "      <th>Population</th>\n",
       "      <th>Continent</th>\n",
       "      <th>1 Case every X ppl</th>\n",
       "      <th>1 Death every X ppl</th>\n",
       "      <th>1 Test every X ppl</th>\n",
       "      <th>New Cases/1M pop</th>\n",
       "      <th>New Deaths/1M pop</th>\n",
       "      <th>Active Cases/1M pop</th>\n",
       "    </tr>\n",
       "  </thead>\n",
       "  <tbody>\n",
       "    <tr>\n",
       "      <th>0</th>\n",
       "      <td>USA</td>\n",
       "      <td>105396817.0</td>\n",
       "      <td>0.0</td>\n",
       "      <td>1146740.0</td>\n",
       "      <td>0.0</td>\n",
       "      <td>102864696.0</td>\n",
       "      <td>0.0</td>\n",
       "      <td>1385381.0</td>\n",
       "      <td>2726.0</td>\n",
       "      <td>314800.0</td>\n",
       "      <td>...</td>\n",
       "      <td>1.167686e+09</td>\n",
       "      <td>3487657.0</td>\n",
       "      <td>3.348053e+08</td>\n",
       "      <td>North America</td>\n",
       "      <td>3.0</td>\n",
       "      <td>292.0</td>\n",
       "      <td>0.0</td>\n",
       "      <td>0.0</td>\n",
       "      <td>0.0</td>\n",
       "      <td>4138.0</td>\n",
       "    </tr>\n",
       "    <tr>\n",
       "      <th>1</th>\n",
       "      <td>India</td>\n",
       "      <td>44688101.0</td>\n",
       "      <td>0.0</td>\n",
       "      <td>530775.0</td>\n",
       "      <td>0.0</td>\n",
       "      <td>44154425.0</td>\n",
       "      <td>0.0</td>\n",
       "      <td>2901.0</td>\n",
       "      <td>0.0</td>\n",
       "      <td>31770.0</td>\n",
       "      <td>...</td>\n",
       "      <td>9.191891e+08</td>\n",
       "      <td>653468.0</td>\n",
       "      <td>1.406632e+09</td>\n",
       "      <td>Asia</td>\n",
       "      <td>31.0</td>\n",
       "      <td>2650.0</td>\n",
       "      <td>2.0</td>\n",
       "      <td>0.0</td>\n",
       "      <td>0.0</td>\n",
       "      <td>2.0</td>\n",
       "    </tr>\n",
       "    <tr>\n",
       "      <th>2</th>\n",
       "      <td>France</td>\n",
       "      <td>39638159.0</td>\n",
       "      <td>0.0</td>\n",
       "      <td>165030.0</td>\n",
       "      <td>0.0</td>\n",
       "      <td>39400459.0</td>\n",
       "      <td>706.0</td>\n",
       "      <td>72670.0</td>\n",
       "      <td>869.0</td>\n",
       "      <td>604383.0</td>\n",
       "      <td>...</td>\n",
       "      <td>2.714902e+08</td>\n",
       "      <td>4139547.0</td>\n",
       "      <td>6.558452e+07</td>\n",
       "      <td>Europe</td>\n",
       "      <td>2.0</td>\n",
       "      <td>397.0</td>\n",
       "      <td>0.0</td>\n",
       "      <td>0.0</td>\n",
       "      <td>0.0</td>\n",
       "      <td>1108.0</td>\n",
       "    </tr>\n",
       "    <tr>\n",
       "      <th>3</th>\n",
       "      <td>Germany</td>\n",
       "      <td>38210850.0</td>\n",
       "      <td>0.0</td>\n",
       "      <td>168397.0</td>\n",
       "      <td>0.0</td>\n",
       "      <td>37767300.0</td>\n",
       "      <td>17500.0</td>\n",
       "      <td>275153.0</td>\n",
       "      <td>0.0</td>\n",
       "      <td>455522.0</td>\n",
       "      <td>...</td>\n",
       "      <td>1.223324e+08</td>\n",
       "      <td>1458359.0</td>\n",
       "      <td>8.388360e+07</td>\n",
       "      <td>Europe</td>\n",
       "      <td>2.0</td>\n",
       "      <td>498.0</td>\n",
       "      <td>1.0</td>\n",
       "      <td>0.0</td>\n",
       "      <td>0.0</td>\n",
       "      <td>3280.0</td>\n",
       "    </tr>\n",
       "    <tr>\n",
       "      <th>4</th>\n",
       "      <td>Brazil</td>\n",
       "      <td>37076053.0</td>\n",
       "      <td>0.0</td>\n",
       "      <td>699276.0</td>\n",
       "      <td>0.0</td>\n",
       "      <td>36249161.0</td>\n",
       "      <td>0.0</td>\n",
       "      <td>127616.0</td>\n",
       "      <td>0.0</td>\n",
       "      <td>172164.0</td>\n",
       "      <td>...</td>\n",
       "      <td>6.377617e+07</td>\n",
       "      <td>296146.0</td>\n",
       "      <td>2.153536e+08</td>\n",
       "      <td>South America</td>\n",
       "      <td>6.0</td>\n",
       "      <td>308.0</td>\n",
       "      <td>3.0</td>\n",
       "      <td>0.0</td>\n",
       "      <td>0.0</td>\n",
       "      <td>593.0</td>\n",
       "    </tr>\n",
       "    <tr>\n",
       "      <th>...</th>\n",
       "      <td>...</td>\n",
       "      <td>...</td>\n",
       "      <td>...</td>\n",
       "      <td>...</td>\n",
       "      <td>...</td>\n",
       "      <td>...</td>\n",
       "      <td>...</td>\n",
       "      <td>...</td>\n",
       "      <td>...</td>\n",
       "      <td>...</td>\n",
       "      <td>...</td>\n",
       "      <td>...</td>\n",
       "      <td>...</td>\n",
       "      <td>...</td>\n",
       "      <td>...</td>\n",
       "      <td>...</td>\n",
       "      <td>...</td>\n",
       "      <td>...</td>\n",
       "      <td>...</td>\n",
       "      <td>...</td>\n",
       "      <td>...</td>\n",
       "    </tr>\n",
       "    <tr>\n",
       "      <th>226</th>\n",
       "      <td>Vatican City</td>\n",
       "      <td>29.0</td>\n",
       "      <td>0.0</td>\n",
       "      <td>0.0</td>\n",
       "      <td>0.0</td>\n",
       "      <td>29.0</td>\n",
       "      <td>0.0</td>\n",
       "      <td>0.0</td>\n",
       "      <td>0.0</td>\n",
       "      <td>36295.0</td>\n",
       "      <td>...</td>\n",
       "      <td>0.000000e+00</td>\n",
       "      <td>0.0</td>\n",
       "      <td>7.990000e+02</td>\n",
       "      <td>Europe</td>\n",
       "      <td>28.0</td>\n",
       "      <td>0.0</td>\n",
       "      <td>0.0</td>\n",
       "      <td>0.0</td>\n",
       "      <td>0.0</td>\n",
       "      <td>0.0</td>\n",
       "    </tr>\n",
       "    <tr>\n",
       "      <th>227</th>\n",
       "      <td>Western Sahara</td>\n",
       "      <td>10.0</td>\n",
       "      <td>0.0</td>\n",
       "      <td>1.0</td>\n",
       "      <td>0.0</td>\n",
       "      <td>9.0</td>\n",
       "      <td>0.0</td>\n",
       "      <td>0.0</td>\n",
       "      <td>0.0</td>\n",
       "      <td>16.0</td>\n",
       "      <td>...</td>\n",
       "      <td>0.000000e+00</td>\n",
       "      <td>0.0</td>\n",
       "      <td>6.261610e+05</td>\n",
       "      <td>Africa</td>\n",
       "      <td>62616.0</td>\n",
       "      <td>626161.0</td>\n",
       "      <td>0.0</td>\n",
       "      <td>0.0</td>\n",
       "      <td>0.0</td>\n",
       "      <td>0.0</td>\n",
       "    </tr>\n",
       "    <tr>\n",
       "      <th>228</th>\n",
       "      <td>MS Zaandam</td>\n",
       "      <td>9.0</td>\n",
       "      <td>0.0</td>\n",
       "      <td>2.0</td>\n",
       "      <td>0.0</td>\n",
       "      <td>7.0</td>\n",
       "      <td>0.0</td>\n",
       "      <td>0.0</td>\n",
       "      <td>0.0</td>\n",
       "      <td>0.0</td>\n",
       "      <td>...</td>\n",
       "      <td>0.000000e+00</td>\n",
       "      <td>0.0</td>\n",
       "      <td>0.000000e+00</td>\n",
       "      <td>Unknown</td>\n",
       "      <td>0.0</td>\n",
       "      <td>0.0</td>\n",
       "      <td>0.0</td>\n",
       "      <td>0.0</td>\n",
       "      <td>0.0</td>\n",
       "      <td>0.0</td>\n",
       "    </tr>\n",
       "    <tr>\n",
       "      <th>229</th>\n",
       "      <td>Tokelau</td>\n",
       "      <td>5.0</td>\n",
       "      <td>0.0</td>\n",
       "      <td>0.0</td>\n",
       "      <td>0.0</td>\n",
       "      <td>0.0</td>\n",
       "      <td>0.0</td>\n",
       "      <td>5.0</td>\n",
       "      <td>0.0</td>\n",
       "      <td>3628.0</td>\n",
       "      <td>...</td>\n",
       "      <td>0.000000e+00</td>\n",
       "      <td>0.0</td>\n",
       "      <td>1.378000e+03</td>\n",
       "      <td>Australia/Oceania</td>\n",
       "      <td>276.0</td>\n",
       "      <td>0.0</td>\n",
       "      <td>0.0</td>\n",
       "      <td>0.0</td>\n",
       "      <td>0.0</td>\n",
       "      <td>3628.0</td>\n",
       "    </tr>\n",
       "    <tr>\n",
       "      <th>230</th>\n",
       "      <td>China</td>\n",
       "      <td>503302.0</td>\n",
       "      <td>0.0</td>\n",
       "      <td>5272.0</td>\n",
       "      <td>0.0</td>\n",
       "      <td>379053.0</td>\n",
       "      <td>0.0</td>\n",
       "      <td>118977.0</td>\n",
       "      <td>0.0</td>\n",
       "      <td>347.0</td>\n",
       "      <td>...</td>\n",
       "      <td>1.600000e+08</td>\n",
       "      <td>110461.0</td>\n",
       "      <td>1.448471e+09</td>\n",
       "      <td>Asia</td>\n",
       "      <td>2878.0</td>\n",
       "      <td>274748.0</td>\n",
       "      <td>9.0</td>\n",
       "      <td>0.0</td>\n",
       "      <td>0.0</td>\n",
       "      <td>82.0</td>\n",
       "    </tr>\n",
       "  </tbody>\n",
       "</table>\n",
       "<p>231 rows × 21 columns</p>\n",
       "</div>"
      ],
      "text/plain": [
       "            Country  Total Cases  New Cases  Total Deaths  New Deaths  \\\n",
       "0               USA  105396817.0        0.0     1146740.0         0.0   \n",
       "1             India   44688101.0        0.0      530775.0         0.0   \n",
       "2            France   39638159.0        0.0      165030.0         0.0   \n",
       "3           Germany   38210850.0        0.0      168397.0         0.0   \n",
       "4            Brazil   37076053.0        0.0      699276.0         0.0   \n",
       "..              ...          ...        ...           ...         ...   \n",
       "226    Vatican City         29.0        0.0           0.0         0.0   \n",
       "227  Western Sahara         10.0        0.0           1.0         0.0   \n",
       "228      MS Zaandam          9.0        0.0           2.0         0.0   \n",
       "229         Tokelau          5.0        0.0           0.0         0.0   \n",
       "230           China     503302.0        0.0        5272.0         0.0   \n",
       "\n",
       "     Total Recovered  New Recovered  Active Cases  Serious, Critical  \\\n",
       "0        102864696.0            0.0     1385381.0             2726.0   \n",
       "1         44154425.0            0.0        2901.0                0.0   \n",
       "2         39400459.0          706.0       72670.0              869.0   \n",
       "3         37767300.0        17500.0      275153.0                0.0   \n",
       "4         36249161.0            0.0      127616.0                0.0   \n",
       "..               ...            ...           ...                ...   \n",
       "226             29.0            0.0           0.0                0.0   \n",
       "227              9.0            0.0           0.0                0.0   \n",
       "228              7.0            0.0           0.0                0.0   \n",
       "229              0.0            0.0           5.0                0.0   \n",
       "230         379053.0            0.0      118977.0                0.0   \n",
       "\n",
       "     Tot Cases/1M pop  ...   Total tests  Tests/1M pop    Population  \\\n",
       "0            314800.0  ...  1.167686e+09     3487657.0  3.348053e+08   \n",
       "1             31770.0  ...  9.191891e+08      653468.0  1.406632e+09   \n",
       "2            604383.0  ...  2.714902e+08     4139547.0  6.558452e+07   \n",
       "3            455522.0  ...  1.223324e+08     1458359.0  8.388360e+07   \n",
       "4            172164.0  ...  6.377617e+07      296146.0  2.153536e+08   \n",
       "..                ...  ...           ...           ...           ...   \n",
       "226           36295.0  ...  0.000000e+00           0.0  7.990000e+02   \n",
       "227              16.0  ...  0.000000e+00           0.0  6.261610e+05   \n",
       "228               0.0  ...  0.000000e+00           0.0  0.000000e+00   \n",
       "229            3628.0  ...  0.000000e+00           0.0  1.378000e+03   \n",
       "230             347.0  ...  1.600000e+08      110461.0  1.448471e+09   \n",
       "\n",
       "             Continent 1 Case every X ppl  1 Death every X ppl  \\\n",
       "0        North America                3.0                292.0   \n",
       "1                 Asia               31.0               2650.0   \n",
       "2               Europe                2.0                397.0   \n",
       "3               Europe                2.0                498.0   \n",
       "4        South America                6.0                308.0   \n",
       "..                 ...                ...                  ...   \n",
       "226             Europe               28.0                  0.0   \n",
       "227             Africa            62616.0             626161.0   \n",
       "228            Unknown                0.0                  0.0   \n",
       "229  Australia/Oceania              276.0                  0.0   \n",
       "230               Asia             2878.0             274748.0   \n",
       "\n",
       "     1 Test every X ppl  New Cases/1M pop  New Deaths/1M pop  \\\n",
       "0                   0.0               0.0                0.0   \n",
       "1                   2.0               0.0                0.0   \n",
       "2                   0.0               0.0                0.0   \n",
       "3                   1.0               0.0                0.0   \n",
       "4                   3.0               0.0                0.0   \n",
       "..                  ...               ...                ...   \n",
       "226                 0.0               0.0                0.0   \n",
       "227                 0.0               0.0                0.0   \n",
       "228                 0.0               0.0                0.0   \n",
       "229                 0.0               0.0                0.0   \n",
       "230                 9.0               0.0                0.0   \n",
       "\n",
       "     Active Cases/1M pop  \n",
       "0                 4138.0  \n",
       "1                    2.0  \n",
       "2                 1108.0  \n",
       "3                 3280.0  \n",
       "4                  593.0  \n",
       "..                   ...  \n",
       "226                  0.0  \n",
       "227                  0.0  \n",
       "228                  0.0  \n",
       "229               3628.0  \n",
       "230                 82.0  \n",
       "\n",
       "[231 rows x 21 columns]"
      ]
     },
     "execution_count": 94,
     "metadata": {},
     "output_type": "execute_result"
    }
   ],
   "source": [
    "# Đọc dữ liệu:\n",
    "covid_df = pd.read_csv('../data/modified/Modified_March_06_2023_corona_data.csv')\n",
    "covid_df\n"
   ]
  },
  {
   "attachments": {},
   "cell_type": "markdown",
   "metadata": {},
   "source": [
    "### 2.1 Biểu đồ: "
   ]
  },
  {
   "cell_type": "code",
   "execution_count": 4,
   "metadata": {},
   "outputs": [],
   "source": [
    "# Lấy dữ liệu về các đồ thị quốc gia\n",
    "df = geopandas.read_file(geopandas.datasets.get_path(\"naturalearth_lowres\"))\n"
   ]
  },
  {
   "cell_type": "code",
   "execution_count": 5,
   "metadata": {},
   "outputs": [],
   "source": [
    "#đổi tên cột cũng như đổi đổi tên các quốc qua cho đúng với data từ Geopandas\n",
    "df = df.rename(columns={\"name\":\"Country\"})\n",
    "covid_df =  covid_df.replace(['USA','UK','Bosnia and Herzegovina','S. Korea','Western Sahara','South Sudan','Dominican Republic','Solomon Islands','Equatorial Guinea','Falkland Islands','Eswatini','DPRK','DRC','UAE','CAR','Ivory Coast']\n",
    "                 ,['United States of America','United Kingdom','Bosnia and Herz.','South Korea','W. Sahara', 'S. Sudan','Dominican Rep.', 'Solomon Is.','Eq. Guinea','Falkland Is.', 'eSwatini', 'North Korea','Dem. Rep. Congo','United Arab Emirates','Central African Rep.', \"Côte d'Ivoire\"])"
   ]
  },
  {
   "cell_type": "code",
   "execution_count": 6,
   "metadata": {},
   "outputs": [],
   "source": [
    "temp = geopandas.GeoDataFrame(covid_df.set_index('Country').join(df[['Country','geometry']].set_index('Country'),lsuffix='_caller', rsuffix='_other',))"
   ]
  },
  {
   "cell_type": "code",
   "execution_count": 7,
   "metadata": {},
   "outputs": [],
   "source": [
    "\n",
    "\n",
    "def MapPlot(Col, Norm = None,figsize =(30,18),fig = None, ax = None,data=temp,cmap ='cool',vcenter = None,fontdict={'fontsize': '25', 'fontweight': '3'} ):\n",
    "    col_plot = Col\n",
    "    if fig == None and ax == None:\n",
    "        fig, ax = plt.subplots(1, figsize=figsize)\n",
    "    ax.axis('off')\n",
    "    if type(Col) == type(\"\"):\n",
    "        col_plot = data[Col]\n",
    "        ax.set_title(Col, fontdict=fontdict)\n",
    "\n",
    "    if vcenter != None:\n",
    "        colorNorm = colors.CenteredNorm(vcenter=vcenter)\n",
    "    else:\n",
    "        if Norm == None:\n",
    "            vmin =  col_plot.min()\n",
    "            vmax =  col_plot.max()\n",
    "        else:\n",
    "            vmin =  Norm(col_plot.min())\n",
    "            vmax =  Norm(col_plot.max())\n",
    "        colorNorm = plt.Normalize(vmin=vmin, vmax=vmax)\n",
    "\n",
    "    if Norm == None:\n",
    "        data.plot(col_plot,ax = ax,linewidth = 1, cmap = cmap , norm = colorNorm,edgecolor='black')\n",
    "    else:\n",
    "        data.plot(Norm(col_plot),ax = ax,linewidth = 1, cmap = cmap,edgecolor='black')\n",
    "    ax.annotate('', xy=(0.1, .08), xycoords='figure fraction', horizontalalignment='left', \n",
    "                verticalalignment='bottom', fontsize=10)\n",
    "    \n",
    "    sm = plt.cm.ScalarMappable(norm=colorNorm, cmap=cmap)\n",
    "    sm._A = []\n",
    "    # Add the colorbar to the figure\n",
    "    cbaxes = ax.inset_axes([0.01, 0.02, 0.01, 1])\n",
    "    cbar = fig.colorbar(sm, cax=cbaxes)\n",
    "    cbar.set_ticks()"
   ]
  },
  {
   "cell_type": "code",
   "execution_count": 148,
   "metadata": {},
   "outputs": [
    {
     "data": {
      "text/plain": [
       "Text(0.5, 1.0, '1 test per 10^X people')"
      ]
     },
     "execution_count": 148,
     "metadata": {},
     "output_type": "execute_result"
    },
    {
     "data": {
      "image/png": "[encoded data removed]",
      "text/plain": [
       "<Figure size 2160x1008 with 2 Axes>"
      ]
     },
     "metadata": {
      "needs_background": "light"
     },
     "output_type": "display_data"
    }
   ],
   "source": [
    "fig, (ax1,ax2) = plt.subplots(2, figsize=(30, 14))\n",
    "\n",
    "MapPlot('CasePerPPL', data = temp.assign(CasePerPPL = lambda x: x['1 Case every X ppl']+1), cmap = 'GnBu',ax=ax1,fig=fig, Norm = np.log10)\n",
    "ax1.set_title('1 case per 10^X people', fontdict={'fontsize': '25', 'fontweight': '3'})\n",
    "\n",
    "MapPlot('CasePerPPL', data = temp.assign(CasePerPPL = lambda x: x['1 Test every X ppl']+1), cmap = 'GnBu',ax=ax2,fig=fig, Norm = np.log10)\n",
    "ax2.set_title('1 test per 10^X people', fontdict={'fontsize': '25', 'fontweight': '3'})"
   ]
  },
  {
   "attachments": {},
   "cell_type": "markdown",
   "metadata": {},
   "source": [
    "Nhận xét biểu đồ:\n",
    "- Nhìn sơ, ta có thể thấy được có thể thấy được tỉ lệ mắc bệnh có vẻ được phân bố theo một cách nào đó khi mà các nước có tỉ lệ nhiễm thấp lại ở gần nhau (Lục địa châu Phi) và phần nhỏ phía Tây Châu Á, nhưng đa phần các khu vực này có nhiệt độ và độ ẩm không thích hợp với Covid nên tỉ lệ bị nhiễm sẽ thấp hơn với phần còn lại của thế giới\n",
    "- Tuy nhiên khi ta xem xét thêm về điều kiện kiểm tra bệnh, thì tại các khu vực này cũng có điều kiện kiểm tra thấp nhất trên toàn thế giới, vậy liệu điều này có phải là lí do giải thích cho việc khu vực này ghi nhận ít ca bênh hơn khu vực khác ?\n"
   ]
  },
  {
   "cell_type": "code",
   "execution_count": 170,
   "metadata": {},
   "outputs": [
    {
     "data": {
      "application/vnd.plotly.v1+json": {
       "config": {
        "plotlyServerURL": "https://plot.ly"
       },
       "data": [
        {
         "hovertemplate": "x=%{x}<br>y=%{y}<extra></extra>",
         "legendgroup": "",
         "marker": {
          "color": "#636efa",
          "symbol": "circle"
         },
         "mode": "markers",
         "name": "",
         "orientation": "v",
         "showlegend": false,
         "type": "scatter",
         "x": [
          0,
          2,
          0,
          1,
          3,
          1,
          3,
          0,
          0,
          1,
          1,
          0,
          1,
          0,
          1,
          1,
          1,
          2,
          7,
          2,
          1,
          1,
          0,
          0,
          0,
          1,
          0,
          0,
          0,
          0,
          4,
          0,
          0,
          1,
          1,
          0,
          3,
          2,
          1,
          0,
          0,
          1,
          1,
          2,
          0,
          1,
          1,
          11,
          1,
          0,
          1,
          0,
          8,
          1,
          0,
          2,
          1,
          0,
          1,
          3,
          1,
          3,
          1,
          1,
          4,
          2,
          1,
          6,
          0,
          1,
          1,
          1,
          5,
          1,
          0,
          1,
          1,
          3,
          0,
          3,
          1,
          3,
          0,
          5,
          2,
          0,
          1,
          9,
          29,
          3,
          22,
          1,
          1,
          6,
          1,
          2,
          0,
          1,
          5,
          14,
          1,
          1,
          0,
          0,
          1,
          196,
          38,
          6,
          25,
          24,
          0,
          6,
          34,
          0,
          4,
          0,
          3,
          2,
          0,
          13,
          2,
          16,
          3,
          6,
          2,
          16,
          0,
          0,
          23,
          0,
          0,
          112,
          15,
          32,
          17,
          2,
          3,
          0,
          1,
          1,
          1,
          1,
          55,
          82,
          5,
          1,
          0,
          132,
          37,
          0,
          1,
          0,
          37,
          0,
          1,
          0,
          2,
          4,
          11,
          21,
          1,
          2,
          5,
          0,
          88,
          27,
          0,
          1,
          21,
          42,
          17,
          0,
          2,
          0,
          5,
          89,
          0,
          0,
          1,
          0,
          0,
          28,
          0,
          4,
          0,
          1,
          1,
          0,
          3,
          0,
          62,
          16,
          0,
          13,
          0,
          95,
          1,
          1,
          155,
          102,
          1,
          5,
          0,
          14,
          38,
          32,
          91,
          0,
          1,
          0,
          0,
          8,
          0,
          0,
          1,
          0,
          0,
          85,
          0,
          1,
          0,
          0,
          0,
          0,
          0,
          0,
          0,
          0,
          0,
          0,
          9
         ],
         "xaxis": "x",
         "y": [
          3,
          31,
          2,
          2,
          6,
          4,
          2,
          2,
          3,
          7,
          5,
          3,
          9,
          2,
          2,
          5,
          2,
          11,
          18,
          41,
          6,
          8,
          2,
          2,
          2,
          8,
          4,
          7,
          2,
          5,
          15,
          2,
          2,
          8,
          8,
          2,
          28,
          15,
          6,
          2,
          3,
          4,
          3,
          17,
          3,
          2,
          4,
          82,
          3,
          2,
          6,
          3,
          146,
          4,
          4,
          14,
          2,
          2,
          5,
          30,
          3,
          15,
          5,
          4,
          10,
          10,
          10,
          17,
          10,
          3,
          4,
          3,
          30,
          9,
          2,
          43,
          12,
          9,
          3,
          32,
          7,
          17,
          2,
          87,
          9,
          2,
          7,
          53,
          206,
          14,
          242,
          6,
          2,
          22,
          7,
          8,
          13,
          6,
          57,
          164,
          9,
          7,
          2,
          2,
          2,
          167,
          813,
          58,
          137,
          142,
          2,
          34,
          195,
          2,
          33,
          2,
          32,
          7,
          3,
          189,
          15,
          284,
          19,
          124,
          102,
          224,
          4,
          3,
          333,
          2,
          3,
          995,
          199,
          228,
          314,
          7,
          4,
          4,
          16,
          11,
          6,
          13,
          430,
          721,
          77,
          9,
          13,
          337,
          235,
          2,
          48,
          2,
          199,
          4,
          2,
          1477,
          7,
          31,
          220,
          362,
          2,
          11,
          63,
          1,
          342,
          650,
          2,
          6,
          457,
          616,
          228,
          29,
          5,
          1,
          58,
          1002,
          2,
          2,
          6,
          3,
          367,
          633,
          560,
          87,
          6,
          12,
          2,
          5,
          65,
          4,
          326,
          203,
          3,
          27,
          5,
          2608,
          2,
          4,
          359,
          2626,
          12,
          11,
          101,
          230,
          656,
          1070,
          2268,
          4,
          2,
          8,
          6,
          36,
          3,
          2,
          2,
          25,
          4,
          190,
          2,
          3,
          4,
          3,
          2,
          4,
          2,
          0,
          28,
          62616,
          0,
          276,
          2878
         ],
         "yaxis": "y"
        }
       ],
       "layout": {
        "legend": {
         "tracegroupgap": 0
        },
        "margin": {
         "t": 60
        },
        "template": {
         "data": {
          "bar": [
           {
            "error_x": {
             "color": "#2a3f5f"
            },
            "error_y": {
             "color": "#2a3f5f"
            },
            "marker": {
             "line": {
              "color": "#E5ECF6",
              "width": 0.5
             },
             "pattern": {
              "fillmode": "overlay",
              "size": 10,
              "solidity": 0.2
             }
            },
            "type": "bar"
           }
          ],
          "barpolar": [
           {
            "marker": {
             "line": {
              "color": "#E5ECF6",
              "width": 0.5
             },
             "pattern": {
              "fillmode": "overlay",
              "size": 10,
              "solidity": 0.2
             }
            },
            "type": "barpolar"
           }
          ],
          "carpet": [
           {
            "aaxis": {
             "endlinecolor": "#2a3f5f",
             "gridcolor": "white",
             "linecolor": "white",
             "minorgridcolor": "white",
             "startlinecolor": "#2a3f5f"
            },
            "baxis": {
             "endlinecolor": "#2a3f5f",
             "gridcolor": "white",
             "linecolor": "white",
             "minorgridcolor": "white",
             "startlinecolor": "#2a3f5f"
            },
            "type": "carpet"
           }
          ],
          "choropleth": [
           {
            "colorbar": {
             "outlinewidth": 0,
             "ticks": ""
            },
            "type": "choropleth"
           }
          ],
          "contour": [
           {
            "colorbar": {
             "outlinewidth": 0,
             "ticks": ""
            },
            "colorscale": [
             [
              0,
              "#0d0887"
             ],
             [
              0.1111111111111111,
              "#46039f"
             ],
             [
              0.2222222222222222,
              "#7201a8"
             ],
             [
              0.3333333333333333,
              "#9c179e"
             ],
             [
              0.4444444444444444,
              "#bd3786"
             ],
             [
              0.5555555555555556,
              "#d8576b"
             ],
             [
              0.6666666666666666,
              "#ed7953"
             ],
             [
              0.7777777777777778,
              "#fb9f3a"
             ],
             [
              0.8888888888888888,
              "#fdca26"
             ],
             [
              1,
              "#f0f921"
             ]
            ],
            "type": "contour"
           }
          ],
          "contourcarpet": [
           {
            "colorbar": {
             "outlinewidth": 0,
             "ticks": ""
            },
            "type": "contourcarpet"
           }
          ],
          "heatmap": [
           {
            "colorbar": {
             "outlinewidth": 0,
             "ticks": ""
            },
            "colorscale": [
             [
              0,
              "#0d0887"
             ],
             [
              0.1111111111111111,
              "#46039f"
             ],
             [
              0.2222222222222222,
              "#7201a8"
             ],
             [
              0.3333333333333333,
              "#9c179e"
             ],
             [
              0.4444444444444444,
              "#bd3786"
             ],
             [
              0.5555555555555556,
              "#d8576b"
             ],
             [
              0.6666666666666666,
              "#ed7953"
             ],
             [
              0.7777777777777778,
              "#fb9f3a"
             ],
             [
              0.8888888888888888,
              "#fdca26"
             ],
             [
              1,
              "#f0f921"
             ]
            ],
            "type": "heatmap"
           }
          ],
          "heatmapgl": [
           {
            "colorbar": {
             "outlinewidth": 0,
             "ticks": ""
            },
            "colorscale": [
             [
              0,
              "#0d0887"
             ],
             [
              0.1111111111111111,
              "#46039f"
             ],
             [
              0.2222222222222222,
              "#7201a8"
             ],
             [
              0.3333333333333333,
              "#9c179e"
             ],
             [
              0.4444444444444444,
              "#bd3786"
             ],
             [
              0.5555555555555556,
              "#d8576b"
             ],
             [
              0.6666666666666666,
              "#ed7953"
             ],
             [
              0.7777777777777778,
              "#fb9f3a"
             ],
             [
              0.8888888888888888,
              "#fdca26"
             ],
             [
              1,
              "#f0f921"
             ]
            ],
            "type": "heatmapgl"
           }
          ],
          "histogram": [
           {
            "marker": {
             "pattern": {
              "fillmode": "overlay",
              "size": 10,
              "solidity": 0.2
             }
            },
            "type": "histogram"
           }
          ],
          "histogram2d": [
           {
            "colorbar": {
             "outlinewidth": 0,
             "ticks": ""
            },
            "colorscale": [
             [
              0,
              "#0d0887"
             ],
             [
              0.1111111111111111,
              "#46039f"
             ],
             [
              0.2222222222222222,
              "#7201a8"
             ],
             [
              0.3333333333333333,
              "#9c179e"
             ],
             [
              0.4444444444444444,
              "#bd3786"
             ],
             [
              0.5555555555555556,
              "#d8576b"
             ],
             [
              0.6666666666666666,
              "#ed7953"
             ],
             [
              0.7777777777777778,
              "#fb9f3a"
             ],
             [
              0.8888888888888888,
              "#fdca26"
             ],
             [
              1,
              "#f0f921"
             ]
            ],
            "type": "histogram2d"
           }
          ],
          "histogram2dcontour": [
           {
            "colorbar": {
             "outlinewidth": 0,
             "ticks": ""
            },
            "colorscale": [
             [
              0,
              "#0d0887"
             ],
             [
              0.1111111111111111,
              "#46039f"
             ],
             [
              0.2222222222222222,
              "#7201a8"
             ],
             [
              0.3333333333333333,
              "#9c179e"
             ],
             [
              0.4444444444444444,
              "#bd3786"
             ],
             [
              0.5555555555555556,
              "#d8576b"
             ],
             [
              0.6666666666666666,
              "#ed7953"
             ],
             [
              0.7777777777777778,
              "#fb9f3a"
             ],
             [
              0.8888888888888888,
              "#fdca26"
             ],
             [
              1,
              "#f0f921"
             ]
            ],
            "type": "histogram2dcontour"
           }
          ],
          "mesh3d": [
           {
            "colorbar": {
             "outlinewidth": 0,
             "ticks": ""
            },
            "type": "mesh3d"
           }
          ],
          "parcoords": [
           {
            "line": {
             "colorbar": {
              "outlinewidth": 0,
              "ticks": ""
             }
            },
            "type": "parcoords"
           }
          ],
          "pie": [
           {
            "automargin": true,
            "type": "pie"
           }
          ],
          "scatter": [
           {
            "fillpattern": {
             "fillmode": "overlay",
             "size": 10,
             "solidity": 0.2
            },
            "type": "scatter"
           }
          ],
          "scatter3d": [
           {
            "line": {
             "colorbar": {
              "outlinewidth": 0,
              "ticks": ""
             }
            },
            "marker": {
             "colorbar": {
              "outlinewidth": 0,
              "ticks": ""
             }
            },
            "type": "scatter3d"
           }
          ],
          "scattercarpet": [
           {
            "marker": {
             "colorbar": {
              "outlinewidth": 0,
              "ticks": ""
             }
            },
            "type": "scattercarpet"
           }
          ],
          "scattergeo": [
           {
            "marker": {
             "colorbar": {
              "outlinewidth": 0,
              "ticks": ""
             }
            },
            "type": "scattergeo"
           }
          ],
          "scattergl": [
           {
            "marker": {
             "colorbar": {
              "outlinewidth": 0,
              "ticks": ""
             }
            },
            "type": "scattergl"
           }
          ],
          "scattermapbox": [
           {
            "marker": {
             "colorbar": {
              "outlinewidth": 0,
              "ticks": ""
             }
            },
            "type": "scattermapbox"
           }
          ],
          "scatterpolar": [
           {
            "marker": {
             "colorbar": {
              "outlinewidth": 0,
              "ticks": ""
             }
            },
            "type": "scatterpolar"
           }
          ],
          "scatterpolargl": [
           {
            "marker": {
             "colorbar": {
              "outlinewidth": 0,
              "ticks": ""
             }
            },
            "type": "scatterpolargl"
           }
          ],
          "scatterternary": [
           {
            "marker": {
             "colorbar": {
              "outlinewidth": 0,
              "ticks": ""
             }
            },
            "type": "scatterternary"
           }
          ],
          "surface": [
           {
            "colorbar": {
             "outlinewidth": 0,
             "ticks": ""
            },
            "colorscale": [
             [
              0,
              "#0d0887"
             ],
             [
              0.1111111111111111,
              "#46039f"
             ],
             [
              0.2222222222222222,
              "#7201a8"
             ],
             [
              0.3333333333333333,
              "#9c179e"
             ],
             [
              0.4444444444444444,
              "#bd3786"
             ],
             [
              0.5555555555555556,
              "#d8576b"
             ],
             [
              0.6666666666666666,
              "#ed7953"
             ],
             [
              0.7777777777777778,
              "#fb9f3a"
             ],
             [
              0.8888888888888888,
              "#fdca26"
             ],
             [
              1,
              "#f0f921"
             ]
            ],
            "type": "surface"
           }
          ],
          "table": [
           {
            "cells": {
             "fill": {
              "color": "#EBF0F8"
             },
             "line": {
              "color": "white"
             }
            },
            "header": {
             "fill": {
              "color": "#C8D4E3"
             },
             "line": {
              "color": "white"
             }
            },
            "type": "table"
           }
          ]
         },
         "layout": {
          "annotationdefaults": {
           "arrowcolor": "#2a3f5f",
           "arrowhead": 0,
           "arrowwidth": 1
          },
          "autotypenumbers": "strict",
          "coloraxis": {
           "colorbar": {
            "outlinewidth": 0,
            "ticks": ""
           }
          },
          "colorscale": {
           "diverging": [
            [
             0,
             "#8e0152"
            ],
            [
             0.1,
             "#c51b7d"
            ],
            [
             0.2,
             "#de77ae"
            ],
            [
             0.3,
             "#f1b6da"
            ],
            [
             0.4,
             "#fde0ef"
            ],
            [
             0.5,
             "#f7f7f7"
            ],
            [
             0.6,
             "#e6f5d0"
            ],
            [
             0.7,
             "#b8e186"
            ],
            [
             0.8,
             "#7fbc41"
            ],
            [
             0.9,
             "#4d9221"
            ],
            [
             1,
             "#276419"
            ]
           ],
           "sequential": [
            [
             0,
             "#0d0887"
            ],
            [
             0.1111111111111111,
             "#46039f"
            ],
            [
             0.2222222222222222,
             "#7201a8"
            ],
            [
             0.3333333333333333,
             "#9c179e"
            ],
            [
             0.4444444444444444,
             "#bd3786"
            ],
            [
             0.5555555555555556,
             "#d8576b"
            ],
            [
             0.6666666666666666,
             "#ed7953"
            ],
            [
             0.7777777777777778,
             "#fb9f3a"
            ],
            [
             0.8888888888888888,
             "#fdca26"
            ],
            [
             1,
             "#f0f921"
            ]
           ],
           "sequentialminus": [
            [
             0,
             "#0d0887"
            ],
            [
             0.1111111111111111,
             "#46039f"
            ],
            [
             0.2222222222222222,
             "#7201a8"
            ],
            [
             0.3333333333333333,
             "#9c179e"
            ],
            [
             0.4444444444444444,
             "#bd3786"
            ],
            [
             0.5555555555555556,
             "#d8576b"
            ],
            [
             0.6666666666666666,
             "#ed7953"
            ],
            [
             0.7777777777777778,
             "#fb9f3a"
            ],
            [
             0.8888888888888888,
             "#fdca26"
            ],
            [
             1,
             "#f0f921"
            ]
           ]
          },
          "colorway": [
           "#636efa",
           "#EF553B",
           "#00cc96",
           "#ab63fa",
           "#FFA15A",
           "#19d3f3",
           "#FF6692",
           "#B6E880",
           "#FF97FF",
           "#FECB52"
          ],
          "font": {
           "color": "#2a3f5f"
          },
          "geo": {
           "bgcolor": "white",
           "lakecolor": "white",
           "landcolor": "#E5ECF6",
           "showlakes": true,
           "showland": true,
           "subunitcolor": "white"
          },
          "hoverlabel": {
           "align": "left"
          },
          "hovermode": "closest",
          "mapbox": {
           "style": "light"
          },
          "paper_bgcolor": "white",
          "plot_bgcolor": "#E5ECF6",
          "polar": {
           "angularaxis": {
            "gridcolor": "white",
            "linecolor": "white",
            "ticks": ""
           },
           "bgcolor": "#E5ECF6",
           "radialaxis": {
            "gridcolor": "white",
            "linecolor": "white",
            "ticks": ""
           }
          },
          "scene": {
           "xaxis": {
            "backgroundcolor": "#E5ECF6",
            "gridcolor": "white",
            "gridwidth": 2,
            "linecolor": "white",
            "showbackground": true,
            "ticks": "",
            "zerolinecolor": "white"
           },
           "yaxis": {
            "backgroundcolor": "#E5ECF6",
            "gridcolor": "white",
            "gridwidth": 2,
            "linecolor": "white",
            "showbackground": true,
            "ticks": "",
            "zerolinecolor": "white"
           },
           "zaxis": {
            "backgroundcolor": "#E5ECF6",
            "gridcolor": "white",
            "gridwidth": 2,
            "linecolor": "white",
            "showbackground": true,
            "ticks": "",
            "zerolinecolor": "white"
           }
          },
          "shapedefaults": {
           "line": {
            "color": "#2a3f5f"
           }
          },
          "ternary": {
           "aaxis": {
            "gridcolor": "white",
            "linecolor": "white",
            "ticks": ""
           },
           "baxis": {
            "gridcolor": "white",
            "linecolor": "white",
            "ticks": ""
           },
           "bgcolor": "#E5ECF6",
           "caxis": {
            "gridcolor": "white",
            "linecolor": "white",
            "ticks": ""
           }
          },
          "title": {
           "x": 0.05
          },
          "xaxis": {
           "automargin": true,
           "gridcolor": "white",
           "linecolor": "white",
           "ticks": "",
           "title": {
            "standoff": 15
           },
           "zerolinecolor": "white",
           "zerolinewidth": 2
          },
          "yaxis": {
           "automargin": true,
           "gridcolor": "white",
           "linecolor": "white",
           "ticks": "",
           "title": {
            "standoff": 15
           },
           "zerolinecolor": "white",
           "zerolinewidth": 2
          }
         }
        },
        "xaxis": {
         "anchor": "y",
         "domain": [
          0,
          1
         ],
         "title": {
          "text": "x"
         },
         "type": "log"
        },
        "yaxis": {
         "anchor": "x",
         "domain": [
          0,
          1
         ],
         "title": {
          "text": "y"
         },
         "type": "log"
        }
       }
      }
     },
     "metadata": {},
     "output_type": "display_data"
    }
   ],
   "source": [
    "px.scatter(x=covid_df['1 Test every X ppl'], y = covid_df['1 Case every X ppl'],log_y= True,log_x=True)"
   ]
  },
  {
   "cell_type": "code",
   "execution_count": 175,
   "metadata": {},
   "outputs": [
    {
     "data": {
      "text/html": [
       "<div>\n",
       "<style scoped>\n",
       "    .dataframe tbody tr th:only-of-type {\n",
       "        vertical-align: middle;\n",
       "    }\n",
       "\n",
       "    .dataframe tbody tr th {\n",
       "        vertical-align: top;\n",
       "    }\n",
       "\n",
       "    .dataframe thead th {\n",
       "        text-align: right;\n",
       "    }\n",
       "</style>\n",
       "<table border=\"1\" class=\"dataframe\">\n",
       "  <thead>\n",
       "    <tr style=\"text-align: right;\">\n",
       "      <th></th>\n",
       "      <th>1 Test every X ppl</th>\n",
       "      <th>1 Case every X ppl</th>\n",
       "    </tr>\n",
       "  </thead>\n",
       "  <tbody>\n",
       "    <tr>\n",
       "      <th>1 Test every X ppl</th>\n",
       "      <td>1.000000</td>\n",
       "      <td>0.782104</td>\n",
       "    </tr>\n",
       "    <tr>\n",
       "      <th>1 Case every X ppl</th>\n",
       "      <td>0.782104</td>\n",
       "      <td>1.000000</td>\n",
       "    </tr>\n",
       "  </tbody>\n",
       "</table>\n",
       "</div>"
      ],
      "text/plain": [
       "                    1 Test every X ppl  1 Case every X ppl\n",
       "1 Test every X ppl            1.000000            0.782104\n",
       "1 Case every X ppl            0.782104            1.000000"
      ]
     },
     "execution_count": 175,
     "metadata": {},
     "output_type": "execute_result"
    }
   ],
   "source": [
    "np.log(covid_df[['1 Test every X ppl','1 Case every X ppl']]+1).corr()"
   ]
  },
  {
   "attachments": {},
   "cell_type": "markdown",
   "metadata": {},
   "source": [
    "với biểu đồ và độ tương quan trên, ta thấy được phần nào đó mốt liên hệ giữa số người được test và số người mắc bệnh được ghi nhận, với độ tương quan (log) khá cao, nên có thể khẳng định là 2 chỉ số này có mối liên hệ rất đáng phải quan tâm"
   ]
  },
  {
   "cell_type": "markdown",
   "metadata": {},
   "source": []
  }
 ],
 "metadata": {
  "kernelspec": {
   "display_name": "Python 3 (ipykernel)",
   "language": "python",
   "name": "python3"
  },
  "language_info": {
   "codemirror_mode": {
    "name": "ipython",
    "version": 3
   },
   "file_extension": ".py",
   "mimetype": "text/x-python",
   "name": "python",
   "nbconvert_exporter": "python",
   "pygments_lexer": "ipython3",
   "version": "3.9.12"
  }
 },
 "nbformat": 4,
 "nbformat_minor": 4
}
