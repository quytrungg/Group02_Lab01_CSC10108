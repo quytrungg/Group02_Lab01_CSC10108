{
 "cells": [
  {
   "attachments": {},
   "cell_type": "markdown",
   "metadata": {},
   "source": [
    "# DATA ANALYSIS\n",
    "\n",
    "## 1. Ý nghĩa của thuộc tính:\n",
    "- **Country**: Tên quốc gia\n",
    "- Total Cases: Tổng số ca nhiễm\n",
    "- New Cases: Số ca nhiễm mới\n",
    "- Total Deaths: Tổng số ca tử vong\n",
    "- New Deaths: Số ca tử vong mới\n",
    "- Total Recovered: Tổng số ca hồi phục\n",
    "- New Recovered: Số ca hồi phục mới\n",
    "- Active Cases: Tổng số ca đang điều trị\n",
    "- Serious, Critical: Số ca nghiêm trọng, nguy kịch\n",
    "- Tot Cases/1M pop: Số ca nhiễm trên 1 triệu dân\n",
    "- Deaths/1M pop: Số ca tử vong trên 1 triệu dân\n",
    "- Total tests: Tổng số lần test\n",
    "- Tests/1M pop: Số lần test trên 1 triệu dân\n",
    "- Population: Dân số\n",
    "- Continent: Châu lục\n",
    "- 1 Case every X ppl: 1 ca nhiễm trên X dân\n",
    "- 1 Death every X ppl: 1 ca tử vong trên X dân\n",
    "- 1 Test every X ppl: 1 lần test trên X dân\n",
    "- New Cases/1M pop: Số ca nhiễm mới trên 1 triệu dân\n",
    "- New Deaths/1M pop: Số ca tử vong mới trên 1 triệu dân\n",
    "- Active Cases/1M pop: Số ca đang điều trị trên 1 triệu dân\n",
    "\n",
    "## 2. Phân tích các mối quan hệ nhờ trực quan"
   ]
  },
  {
   "cell_type": "code",
   "execution_count": 1,
   "metadata": {
    "tags": []
   },
   "outputs": [],
   "source": [
    "# Import thư viện: \n",
    "\n",
    "import pandas as pd\n",
    "import numpy as np\n",
    "import matplotlib.pyplot as plt\n",
    "import geopandas\n",
    "from matplotlib import colors\n",
    "import pandas\n",
    "import plotly.express as px"
   ]
  },
  {
   "cell_type": "code",
   "execution_count": 2,
   "metadata": {},
   "outputs": [
    {
     "data": {
      "text/html": [
       "<div>\n",
       "<style scoped>\n",
       "    .dataframe tbody tr th:only-of-type {\n",
       "        vertical-align: middle;\n",
       "    }\n",
       "\n",
       "    .dataframe tbody tr th {\n",
       "        vertical-align: top;\n",
       "    }\n",
       "\n",
       "    .dataframe thead th {\n",
       "        text-align: right;\n",
       "    }\n",
       "</style>\n",
       "<table border=\"1\" class=\"dataframe\">\n",
       "  <thead>\n",
       "    <tr style=\"text-align: right;\">\n",
       "      <th></th>\n",
       "      <th>Country</th>\n",
       "      <th>Total Cases</th>\n",
       "      <th>New Cases</th>\n",
       "      <th>Total Deaths</th>\n",
       "      <th>New Deaths</th>\n",
       "      <th>Total Recovered</th>\n",
       "      <th>New Recovered</th>\n",
       "      <th>Active Cases</th>\n",
       "      <th>Serious, Critical</th>\n",
       "      <th>Tot Cases/1M pop</th>\n",
       "      <th>...</th>\n",
       "      <th>Total tests</th>\n",
       "      <th>Tests/1M pop</th>\n",
       "      <th>Population</th>\n",
       "      <th>Continent</th>\n",
       "      <th>1 Case every X ppl</th>\n",
       "      <th>1 Death every X ppl</th>\n",
       "      <th>1 Test every X ppl</th>\n",
       "      <th>New Cases/1M pop</th>\n",
       "      <th>New Deaths/1M pop</th>\n",
       "      <th>Active Cases/1M pop</th>\n",
       "    </tr>\n",
       "  </thead>\n",
       "  <tbody>\n",
       "    <tr>\n",
       "      <th>0</th>\n",
       "      <td>USA</td>\n",
       "      <td>105396817.0</td>\n",
       "      <td>0.0</td>\n",
       "      <td>1146740.0</td>\n",
       "      <td>0.0</td>\n",
       "      <td>102864696.0</td>\n",
       "      <td>0.0</td>\n",
       "      <td>1385381.0</td>\n",
       "      <td>2726.0</td>\n",
       "      <td>314800.0</td>\n",
       "      <td>...</td>\n",
       "      <td>1.167686e+09</td>\n",
       "      <td>3487657.0</td>\n",
       "      <td>3.348053e+08</td>\n",
       "      <td>North America</td>\n",
       "      <td>3.0</td>\n",
       "      <td>292.0</td>\n",
       "      <td>0.0</td>\n",
       "      <td>0.0</td>\n",
       "      <td>0.0</td>\n",
       "      <td>4138.0</td>\n",
       "    </tr>\n",
       "    <tr>\n",
       "      <th>1</th>\n",
       "      <td>India</td>\n",
       "      <td>44688101.0</td>\n",
       "      <td>0.0</td>\n",
       "      <td>530775.0</td>\n",
       "      <td>0.0</td>\n",
       "      <td>44154425.0</td>\n",
       "      <td>0.0</td>\n",
       "      <td>2901.0</td>\n",
       "      <td>0.0</td>\n",
       "      <td>31770.0</td>\n",
       "      <td>...</td>\n",
       "      <td>9.191891e+08</td>\n",
       "      <td>653468.0</td>\n",
       "      <td>1.406632e+09</td>\n",
       "      <td>Asia</td>\n",
       "      <td>31.0</td>\n",
       "      <td>2650.0</td>\n",
       "      <td>2.0</td>\n",
       "      <td>0.0</td>\n",
       "      <td>0.0</td>\n",
       "      <td>2.0</td>\n",
       "    </tr>\n",
       "    <tr>\n",
       "      <th>2</th>\n",
       "      <td>France</td>\n",
       "      <td>39638159.0</td>\n",
       "      <td>0.0</td>\n",
       "      <td>165030.0</td>\n",
       "      <td>0.0</td>\n",
       "      <td>39400459.0</td>\n",
       "      <td>706.0</td>\n",
       "      <td>72670.0</td>\n",
       "      <td>869.0</td>\n",
       "      <td>604383.0</td>\n",
       "      <td>...</td>\n",
       "      <td>2.714902e+08</td>\n",
       "      <td>4139547.0</td>\n",
       "      <td>6.558452e+07</td>\n",
       "      <td>Europe</td>\n",
       "      <td>2.0</td>\n",
       "      <td>397.0</td>\n",
       "      <td>0.0</td>\n",
       "      <td>0.0</td>\n",
       "      <td>0.0</td>\n",
       "      <td>1108.0</td>\n",
       "    </tr>\n",
       "    <tr>\n",
       "      <th>3</th>\n",
       "      <td>Germany</td>\n",
       "      <td>38210850.0</td>\n",
       "      <td>0.0</td>\n",
       "      <td>168397.0</td>\n",
       "      <td>0.0</td>\n",
       "      <td>37767300.0</td>\n",
       "      <td>17500.0</td>\n",
       "      <td>275153.0</td>\n",
       "      <td>0.0</td>\n",
       "      <td>455522.0</td>\n",
       "      <td>...</td>\n",
       "      <td>1.223324e+08</td>\n",
       "      <td>1458359.0</td>\n",
       "      <td>8.388360e+07</td>\n",
       "      <td>Europe</td>\n",
       "      <td>2.0</td>\n",
       "      <td>498.0</td>\n",
       "      <td>1.0</td>\n",
       "      <td>0.0</td>\n",
       "      <td>0.0</td>\n",
       "      <td>3280.0</td>\n",
       "    </tr>\n",
       "    <tr>\n",
       "      <th>4</th>\n",
       "      <td>Brazil</td>\n",
       "      <td>37076053.0</td>\n",
       "      <td>0.0</td>\n",
       "      <td>699276.0</td>\n",
       "      <td>0.0</td>\n",
       "      <td>36249161.0</td>\n",
       "      <td>0.0</td>\n",
       "      <td>127616.0</td>\n",
       "      <td>0.0</td>\n",
       "      <td>172164.0</td>\n",
       "      <td>...</td>\n",
       "      <td>6.377617e+07</td>\n",
       "      <td>296146.0</td>\n",
       "      <td>2.153536e+08</td>\n",
       "      <td>South America</td>\n",
       "      <td>6.0</td>\n",
       "      <td>308.0</td>\n",
       "      <td>3.0</td>\n",
       "      <td>0.0</td>\n",
       "      <td>0.0</td>\n",
       "      <td>593.0</td>\n",
       "    </tr>\n",
       "    <tr>\n",
       "      <th>...</th>\n",
       "      <td>...</td>\n",
       "      <td>...</td>\n",
       "      <td>...</td>\n",
       "      <td>...</td>\n",
       "      <td>...</td>\n",
       "      <td>...</td>\n",
       "      <td>...</td>\n",
       "      <td>...</td>\n",
       "      <td>...</td>\n",
       "      <td>...</td>\n",
       "      <td>...</td>\n",
       "      <td>...</td>\n",
       "      <td>...</td>\n",
       "      <td>...</td>\n",
       "      <td>...</td>\n",
       "      <td>...</td>\n",
       "      <td>...</td>\n",
       "      <td>...</td>\n",
       "      <td>...</td>\n",
       "      <td>...</td>\n",
       "      <td>...</td>\n",
       "    </tr>\n",
       "    <tr>\n",
       "      <th>226</th>\n",
       "      <td>Vatican City</td>\n",
       "      <td>29.0</td>\n",
       "      <td>0.0</td>\n",
       "      <td>0.0</td>\n",
       "      <td>0.0</td>\n",
       "      <td>29.0</td>\n",
       "      <td>0.0</td>\n",
       "      <td>0.0</td>\n",
       "      <td>0.0</td>\n",
       "      <td>36295.0</td>\n",
       "      <td>...</td>\n",
       "      <td>0.000000e+00</td>\n",
       "      <td>0.0</td>\n",
       "      <td>7.990000e+02</td>\n",
       "      <td>Europe</td>\n",
       "      <td>28.0</td>\n",
       "      <td>0.0</td>\n",
       "      <td>0.0</td>\n",
       "      <td>0.0</td>\n",
       "      <td>0.0</td>\n",
       "      <td>0.0</td>\n",
       "    </tr>\n",
       "    <tr>\n",
       "      <th>227</th>\n",
       "      <td>Western Sahara</td>\n",
       "      <td>10.0</td>\n",
       "      <td>0.0</td>\n",
       "      <td>1.0</td>\n",
       "      <td>0.0</td>\n",
       "      <td>9.0</td>\n",
       "      <td>0.0</td>\n",
       "      <td>0.0</td>\n",
       "      <td>0.0</td>\n",
       "      <td>16.0</td>\n",
       "      <td>...</td>\n",
       "      <td>0.000000e+00</td>\n",
       "      <td>0.0</td>\n",
       "      <td>6.261610e+05</td>\n",
       "      <td>Africa</td>\n",
       "      <td>62616.0</td>\n",
       "      <td>626161.0</td>\n",
       "      <td>0.0</td>\n",
       "      <td>0.0</td>\n",
       "      <td>0.0</td>\n",
       "      <td>0.0</td>\n",
       "    </tr>\n",
       "    <tr>\n",
       "      <th>228</th>\n",
       "      <td>MS Zaandam</td>\n",
       "      <td>9.0</td>\n",
       "      <td>0.0</td>\n",
       "      <td>2.0</td>\n",
       "      <td>0.0</td>\n",
       "      <td>7.0</td>\n",
       "      <td>0.0</td>\n",
       "      <td>0.0</td>\n",
       "      <td>0.0</td>\n",
       "      <td>0.0</td>\n",
       "      <td>...</td>\n",
       "      <td>0.000000e+00</td>\n",
       "      <td>0.0</td>\n",
       "      <td>0.000000e+00</td>\n",
       "      <td>Unknown</td>\n",
       "      <td>0.0</td>\n",
       "      <td>0.0</td>\n",
       "      <td>0.0</td>\n",
       "      <td>0.0</td>\n",
       "      <td>0.0</td>\n",
       "      <td>0.0</td>\n",
       "    </tr>\n",
       "    <tr>\n",
       "      <th>229</th>\n",
       "      <td>Tokelau</td>\n",
       "      <td>5.0</td>\n",
       "      <td>0.0</td>\n",
       "      <td>0.0</td>\n",
       "      <td>0.0</td>\n",
       "      <td>0.0</td>\n",
       "      <td>0.0</td>\n",
       "      <td>5.0</td>\n",
       "      <td>0.0</td>\n",
       "      <td>3628.0</td>\n",
       "      <td>...</td>\n",
       "      <td>0.000000e+00</td>\n",
       "      <td>0.0</td>\n",
       "      <td>1.378000e+03</td>\n",
       "      <td>Australia/Oceania</td>\n",
       "      <td>276.0</td>\n",
       "      <td>0.0</td>\n",
       "      <td>0.0</td>\n",
       "      <td>0.0</td>\n",
       "      <td>0.0</td>\n",
       "      <td>3628.0</td>\n",
       "    </tr>\n",
       "    <tr>\n",
       "      <th>230</th>\n",
       "      <td>China</td>\n",
       "      <td>503302.0</td>\n",
       "      <td>0.0</td>\n",
       "      <td>5272.0</td>\n",
       "      <td>0.0</td>\n",
       "      <td>379053.0</td>\n",
       "      <td>0.0</td>\n",
       "      <td>118977.0</td>\n",
       "      <td>0.0</td>\n",
       "      <td>347.0</td>\n",
       "      <td>...</td>\n",
       "      <td>1.600000e+08</td>\n",
       "      <td>110461.0</td>\n",
       "      <td>1.448471e+09</td>\n",
       "      <td>Asia</td>\n",
       "      <td>2878.0</td>\n",
       "      <td>274748.0</td>\n",
       "      <td>9.0</td>\n",
       "      <td>0.0</td>\n",
       "      <td>0.0</td>\n",
       "      <td>82.0</td>\n",
       "    </tr>\n",
       "  </tbody>\n",
       "</table>\n",
       "<p>231 rows × 21 columns</p>\n",
       "</div>"
      ],
      "text/plain": [
       "            Country  Total Cases  New Cases  Total Deaths  New Deaths  \\\n",
       "0               USA  105396817.0        0.0     1146740.0         0.0   \n",
       "1             India   44688101.0        0.0      530775.0         0.0   \n",
       "2            France   39638159.0        0.0      165030.0         0.0   \n",
       "3           Germany   38210850.0        0.0      168397.0         0.0   \n",
       "4            Brazil   37076053.0        0.0      699276.0         0.0   \n",
       "..              ...          ...        ...           ...         ...   \n",
       "226    Vatican City         29.0        0.0           0.0         0.0   \n",
       "227  Western Sahara         10.0        0.0           1.0         0.0   \n",
       "228      MS Zaandam          9.0        0.0           2.0         0.0   \n",
       "229         Tokelau          5.0        0.0           0.0         0.0   \n",
       "230           China     503302.0        0.0        5272.0         0.0   \n",
       "\n",
       "     Total Recovered  New Recovered  Active Cases  Serious, Critical  \\\n",
       "0        102864696.0            0.0     1385381.0             2726.0   \n",
       "1         44154425.0            0.0        2901.0                0.0   \n",
       "2         39400459.0          706.0       72670.0              869.0   \n",
       "3         37767300.0        17500.0      275153.0                0.0   \n",
       "4         36249161.0            0.0      127616.0                0.0   \n",
       "..               ...            ...           ...                ...   \n",
       "226             29.0            0.0           0.0                0.0   \n",
       "227              9.0            0.0           0.0                0.0   \n",
       "228              7.0            0.0           0.0                0.0   \n",
       "229              0.0            0.0           5.0                0.0   \n",
       "230         379053.0            0.0      118977.0                0.0   \n",
       "\n",
       "     Tot Cases/1M pop  ...   Total tests  Tests/1M pop    Population  \\\n",
       "0            314800.0  ...  1.167686e+09     3487657.0  3.348053e+08   \n",
       "1             31770.0  ...  9.191891e+08      653468.0  1.406632e+09   \n",
       "2            604383.0  ...  2.714902e+08     4139547.0  6.558452e+07   \n",
       "3            455522.0  ...  1.223324e+08     1458359.0  8.388360e+07   \n",
       "4            172164.0  ...  6.377617e+07      296146.0  2.153536e+08   \n",
       "..                ...  ...           ...           ...           ...   \n",
       "226           36295.0  ...  0.000000e+00           0.0  7.990000e+02   \n",
       "227              16.0  ...  0.000000e+00           0.0  6.261610e+05   \n",
       "228               0.0  ...  0.000000e+00           0.0  0.000000e+00   \n",
       "229            3628.0  ...  0.000000e+00           0.0  1.378000e+03   \n",
       "230             347.0  ...  1.600000e+08      110461.0  1.448471e+09   \n",
       "\n",
       "             Continent 1 Case every X ppl  1 Death every X ppl  \\\n",
       "0        North America                3.0                292.0   \n",
       "1                 Asia               31.0               2650.0   \n",
       "2               Europe                2.0                397.0   \n",
       "3               Europe                2.0                498.0   \n",
       "4        South America                6.0                308.0   \n",
       "..                 ...                ...                  ...   \n",
       "226             Europe               28.0                  0.0   \n",
       "227             Africa            62616.0             626161.0   \n",
       "228            Unknown                0.0                  0.0   \n",
       "229  Australia/Oceania              276.0                  0.0   \n",
       "230               Asia             2878.0             274748.0   \n",
       "\n",
       "     1 Test every X ppl  New Cases/1M pop  New Deaths/1M pop  \\\n",
       "0                   0.0               0.0                0.0   \n",
       "1                   2.0               0.0                0.0   \n",
       "2                   0.0               0.0                0.0   \n",
       "3                   1.0               0.0                0.0   \n",
       "4                   3.0               0.0                0.0   \n",
       "..                  ...               ...                ...   \n",
       "226                 0.0               0.0                0.0   \n",
       "227                 0.0               0.0                0.0   \n",
       "228                 0.0               0.0                0.0   \n",
       "229                 0.0               0.0                0.0   \n",
       "230                 9.0               0.0                0.0   \n",
       "\n",
       "     Active Cases/1M pop  \n",
       "0                 4138.0  \n",
       "1                    2.0  \n",
       "2                 1108.0  \n",
       "3                 3280.0  \n",
       "4                  593.0  \n",
       "..                   ...  \n",
       "226                  0.0  \n",
       "227                  0.0  \n",
       "228                  0.0  \n",
       "229               3628.0  \n",
       "230                 82.0  \n",
       "\n",
       "[231 rows x 21 columns]"
      ]
     },
     "execution_count": 2,
     "metadata": {},
     "output_type": "execute_result"
    }
   ],
   "source": [
    "# Đọc dữ liệu:\n",
    "covid_df = pd.read_csv('../data/modified/Modified_March_06_2023_corona_data.csv')\n",
    "covid_df\n"
   ]
  },
  {
   "attachments": {},
   "cell_type": "markdown",
   "metadata": {},
   "source": [
    "### 2.1 Biểu đồ: "
   ]
  },
  {
   "cell_type": "code",
   "execution_count": 3,
   "metadata": {},
   "outputs": [],
   "source": [
    "# Lấy dữ liệu về các đồ thị quốc gia\n",
    "df = geopandas.read_file(geopandas.datasets.get_path(\"naturalearth_lowres\"))\n"
   ]
  },
  {
   "cell_type": "code",
   "execution_count": 4,
   "metadata": {},
   "outputs": [],
   "source": [
    "#đổi tên cột cũng như đổi đổi tên các quốc qua cho đúng với data từ Geopandas\n",
    "df = df.rename(columns={\"name\":\"Country\"})\n",
    "covid_df =  covid_df.replace(['USA','UK','Bosnia and Herzegovina',\n",
    "                              'S. Korea','Western Sahara','South Sudan',\n",
    "                              'Dominican Republic','Solomon Islands',\n",
    "                              'Equatorial Guinea','Falkland Islands',\n",
    "                              'Eswatini','DPRK','DRC',\n",
    "                              'UAE','CAR','Ivory Coast'],\n",
    "                              \n",
    "                ['United States of America','United Kingdom','Bosnia and Herz.',\n",
    "                   'South Korea','W. Sahara', 'S. Sudan',\n",
    "                   'Dominican Rep.', 'Solomon Is.',\n",
    "                   'Eq. Guinea','Falkland Is.', \n",
    "                   'eSwatini', 'North Korea','Dem. Rep. Congo',\n",
    "                   'United Arab Emirates','Central African Rep.', \"Côte d'Ivoire\"])"
   ]
  },
  {
   "cell_type": "code",
   "execution_count": 12,
   "metadata": {},
   "outputs": [],
   "source": [
    "#Gộp dữ liệu 2 bảng\n",
    "data = geopandas.GeoDataFrame(\n",
    "    covid_df.set_index('Country').join(\n",
    "        df[['Country','geometry']].set_index('Country'),\n",
    "        lsuffix='_caller', \n",
    "        rsuffix='_other',)\n",
    "    )"
   ]
  },
  {
   "cell_type": "code",
   "execution_count": 13,
   "metadata": {},
   "outputs": [],
   "source": [
    "def MapPlot(Col, Norm = None,figsize =(30,18),fig = None, \n",
    "            ax = None,data=data,cmap ='cool',vcenter = None,\n",
    "            fontdict={'fontsize': '25', 'fontweight': '3'} \n",
    "            ):\n",
    "    col_plot = Col\n",
    "    if fig == None and ax == None:\n",
    "        fig, ax = plt.subplots(1, figsize=figsize)\n",
    "    ax.axis('off')\n",
    "    if type(Col) == type(\"\"):\n",
    "        col_plot = data[Col]\n",
    "        ax.set_title(Col, fontdict=fontdict)\n",
    "\n",
    "    if vcenter != None:\n",
    "        colorNorm = colors.CenteredNorm(vcenter=vcenter)\n",
    "    else:\n",
    "        if Norm == None:\n",
    "            vmin =  col_plot.min()\n",
    "            vmax =  col_plot.max()\n",
    "        else:\n",
    "            vmin =  Norm(col_plot.min())\n",
    "            vmax =  Norm(col_plot.max())\n",
    "        colorNorm = plt.Normalize(vmin=vmin, vmax=vmax)\n",
    "\n",
    "    if Norm == None:\n",
    "        data.plot(col_plot,ax = ax,linewidth = 1, cmap = cmap , norm = colorNorm,edgecolor='black')\n",
    "    else:\n",
    "        data.plot(Norm(col_plot),ax = ax,linewidth = 1, cmap = cmap,edgecolor='black')\n",
    "    ax.annotate('', xy=(0.1, .08), xycoords='figure fraction', horizontalalignment='left', \n",
    "                verticalalignment='bottom', fontsize=10)\n",
    "    \n",
    "    sm = plt.cm.ScalarMappable(norm=colorNorm, cmap=cmap)\n",
    "    sm._A = []\n",
    "    # Add the colorbar to the figure\n",
    "    cbaxes = ax.inset_axes([0.01, 0.02, 0.01, 1])\n",
    "    cbar = fig.colorbar(sm, cax=cbaxes)"
   ]
  },
  {
   "cell_type": "code",
   "execution_count": 14,
   "metadata": {},
   "outputs": [
    {
     "data": {
      "text/plain": [
       "Text(0.5, 1.0, '1 lần test với mỗi 10ˣ dân số')"
      ]
     },
     "execution_count": 14,
     "metadata": {},
     "output_type": "execute_result"
    },
    {
     "data": {
      "image/png": "[encoded data removed]",
      "text/plain": [
       "<Figure size 2160x1008 with 2 Axes>"
      ]
     },
     "metadata": {
      "needs_background": "light"
     },
     "output_type": "display_data"
    }
   ],
   "source": [
    "fig, (ax1,ax2) = plt.subplots(2, figsize=(30, 14))\n",
    "\n",
    "MapPlot('CasePerPPL', \n",
    "        data = data.assign(CasePerPPL = lambda x: x['1 Case every X ppl']+1),\n",
    "        cmap = 'GnBu',\n",
    "        ax=ax1,\n",
    "        fig=fig, \n",
    "        Norm = np.log10)\n",
    "ax1.set_title('1 một ca bệnh với mỗi 10ˣ dân số', fontdict={'fontsize': '25', 'fontweight': '3'})\n",
    "\n",
    "MapPlot('CasePerPPL', \n",
    "        data = data.assign(CasePerPPL = lambda x: x['1 Test every X ppl']+1), \n",
    "        cmap = 'GnBu',\n",
    "        ax=ax2,\n",
    "        fig=fig, \n",
    "        Norm = np.log10)\n",
    "ax2.set_title('1 lần test với mỗi 10ˣ dân số', fontdict={'fontsize': '25', 'fontweight': '3'})"
   ]
  },
  {
   "attachments": {},
   "cell_type": "markdown",
   "metadata": {},
   "source": [
    "Nhận xét biểu đồ:\n",
    "- Nhìn sơ, ta có thể thấy được có thể thấy được tỉ lệ mắc bệnh có vẻ được phân bố theo một cách nào đó khi mà các nước có tỉ lệ nhiễm thấp lại ở gần nhau (Lục địa châu Phi) và phần nhỏ phía Tây Châu Á, nhưng đa phần các khu vực này có nhiệt độ và độ ẩm không thích hợp với Covid nên tỉ lệ bị nhiễm sẽ thấp hơn với phần còn lại của thế giới\n",
    "- Tuy nhiên khi ta xem xét thêm về điều kiện kiểm tra bệnh, thì tại các khu vực này cũng có điều kiện kiểm tra thấp nhất trên toàn thế giới, vậy liệu điều này có phải là lí do giải thích cho việc khu vực này ghi nhận ít ca bênh hơn khu vực khác ?\n"
   ]
  },
  {
   "cell_type": "code",
   "execution_count": 30,
   "metadata": {},
   "outputs": [
    {
     "data": {
      "application/vnd.plotly.v1+json": {
       "config": {
        "plotlyServerURL": "https://plot.ly"
       },
       "data": [
        {
         "hovertemplate": "x=%{x}<br>y=%{y}<extra></extra>",
         "legendgroup": "",
         "marker": {
          "color": "#636efa",
          "symbol": "circle"
         },
         "mode": "markers",
         "name": "",
         "orientation": "v",
         "showlegend": false,
         "type": "scatter",
         "x": [
          0,
          2,
          0,
          1,
          3,
          1,
          3,
          0,
          0,
          1,
          1,
          0,
          1,
          0,
          1,
          1,
          1,
          2,
          7,
          2,
          1,
          1,
          0,
          0,
          0,
          1,
          0,
          0,
          0,
          0,
          4,
          0,
          0,
          1,
          1,
          0,
          3,
          2,
          1,
          0,
          0,
          1,
          1,
          2,
          0,
          1,
          1,
          11,
          1,
          0,
          1,
          0,
          8,
          1,
          0,
          2,
          1,
          0,
          1,
          3,
          1,
          3,
          1,
          1,
          4,
          2,
          1,
          6,
          0,
          1,
          1,
          1,
          5,
          1,
          0,
          1,
          1,
          3,
          0,
          3,
          1,
          3,
          0,
          5,
          2,
          0,
          1,
          9,
          29,
          3,
          22,
          1,
          1,
          6,
          1,
          2,
          0,
          1,
          5,
          14,
          1,
          1,
          0,
          0,
          1,
          196,
          38,
          6,
          25,
          24,
          0,
          6,
          34,
          0,
          4,
          0,
          3,
          2,
          0,
          13,
          2,
          16,
          3,
          6,
          2,
          16,
          0,
          0,
          23,
          0,
          0,
          112,
          15,
          32,
          17,
          2,
          3,
          0,
          1,
          1,
          1,
          1,
          55,
          82,
          5,
          1,
          0,
          132,
          37,
          0,
          1,
          0,
          37,
          0,
          1,
          0,
          2,
          4,
          11,
          21,
          1,
          2,
          5,
          0,
          88,
          27,
          0,
          1,
          21,
          42,
          17,
          0,
          2,
          0,
          5,
          89,
          0,
          0,
          1,
          0,
          0,
          28,
          0,
          4,
          0,
          1,
          1,
          0,
          3,
          0,
          62,
          16,
          0,
          13,
          0,
          95,
          1,
          1,
          155,
          102,
          1,
          5,
          0,
          14,
          38,
          32,
          91,
          0,
          1,
          0,
          0,
          8,
          0,
          0,
          1,
          0,
          0,
          85,
          0,
          1,
          0,
          0,
          0,
          0,
          0,
          0,
          0,
          0,
          0,
          0,
          9
         ],
         "xaxis": "x",
         "y": [
          3,
          31,
          2,
          2,
          6,
          4,
          2,
          2,
          3,
          7,
          5,
          3,
          9,
          2,
          2,
          5,
          2,
          11,
          18,
          41,
          6,
          8,
          2,
          2,
          2,
          8,
          4,
          7,
          2,
          5,
          15,
          2,
          2,
          8,
          8,
          2,
          28,
          15,
          6,
          2,
          3,
          4,
          3,
          17,
          3,
          2,
          4,
          82,
          3,
          2,
          6,
          3,
          146,
          4,
          4,
          14,
          2,
          2,
          5,
          30,
          3,
          15,
          5,
          4,
          10,
          10,
          10,
          17,
          10,
          3,
          4,
          3,
          30,
          9,
          2,
          43,
          12,
          9,
          3,
          32,
          7,
          17,
          2,
          87,
          9,
          2,
          7,
          53,
          206,
          14,
          242,
          6,
          2,
          22,
          7,
          8,
          13,
          6,
          57,
          164,
          9,
          7,
          2,
          2,
          2,
          167,
          813,
          58,
          137,
          142,
          2,
          34,
          195,
          2,
          33,
          2,
          32,
          7,
          3,
          189,
          15,
          284,
          19,
          124,
          102,
          224,
          4,
          3,
          333,
          2,
          3,
          995,
          199,
          228,
          314,
          7,
          4,
          4,
          16,
          11,
          6,
          13,
          430,
          721,
          77,
          9,
          13,
          337,
          235,
          2,
          48,
          2,
          199,
          4,
          2,
          1477,
          7,
          31,
          220,
          362,
          2,
          11,
          63,
          1,
          342,
          650,
          2,
          6,
          457,
          616,
          228,
          29,
          5,
          1,
          58,
          1002,
          2,
          2,
          6,
          3,
          367,
          633,
          560,
          87,
          6,
          12,
          2,
          5,
          65,
          4,
          326,
          203,
          3,
          27,
          5,
          2608,
          2,
          4,
          359,
          2626,
          12,
          11,
          101,
          230,
          656,
          1070,
          2268,
          4,
          2,
          8,
          6,
          36,
          3,
          2,
          2,
          25,
          4,
          190,
          2,
          3,
          4,
          3,
          2,
          4,
          2,
          0,
          28,
          62616,
          0,
          276,
          2878
         ],
         "yaxis": "y"
        },
        {
         "hovertemplate": "<b>LOWESS trendline</b><br><br>x=%{x}<br>y=%{y} <b>(trend)</b><extra></extra>",
         "legendgroup": "",
         "marker": {
          "color": "#636efa",
          "symbol": "circle"
         },
         "mode": "lines",
         "name": "",
         "showlegend": false,
         "type": "scatter",
         "x": [
          0,
          0,
          0,
          0,
          0,
          0,
          0,
          0,
          0,
          0,
          0,
          0,
          0,
          0,
          0,
          0,
          0,
          0,
          0,
          0,
          0,
          0,
          0,
          0,
          0,
          0,
          0,
          0,
          0,
          0,
          0,
          0,
          0,
          0,
          0,
          0,
          0,
          0,
          0,
          0,
          0,
          0,
          0,
          0,
          0,
          0,
          0,
          0,
          0,
          0,
          0,
          0,
          0,
          0,
          0,
          0,
          0,
          0,
          0,
          0,
          0,
          0,
          0,
          0,
          0,
          0,
          0,
          0,
          0,
          0,
          0,
          0,
          0,
          0,
          0,
          0,
          0,
          0,
          1,
          1,
          1,
          1,
          1,
          1,
          1,
          1,
          1,
          1,
          1,
          1,
          1,
          1,
          1,
          1,
          1,
          1,
          1,
          1,
          1,
          1,
          1,
          1,
          1,
          1,
          1,
          1,
          1,
          1,
          1,
          1,
          1,
          1,
          1,
          1,
          1,
          1,
          1,
          1,
          1,
          1,
          1,
          1,
          1,
          1,
          1,
          1,
          1,
          1,
          1,
          1,
          1,
          1,
          1,
          1,
          1,
          1,
          1,
          1,
          2,
          2,
          2,
          2,
          2,
          2,
          2,
          2,
          2,
          2,
          2,
          2,
          2,
          2,
          2,
          2,
          3,
          3,
          3,
          3,
          3,
          3,
          3,
          3,
          3,
          3,
          3,
          3,
          3,
          4,
          4,
          4,
          4,
          4,
          5,
          5,
          5,
          5,
          5,
          5,
          5,
          6,
          6,
          6,
          6,
          6,
          7,
          8,
          8,
          9,
          9,
          11,
          11,
          13,
          13,
          14,
          14,
          15,
          16,
          16,
          16,
          17,
          17,
          21,
          21,
          22,
          23,
          24,
          25,
          27,
          28,
          29,
          32,
          32,
          34,
          37,
          37,
          38,
          38,
          42,
          55,
          62,
          82,
          85,
          88,
          89,
          91,
          95,
          102,
          112,
          132,
          155,
          196
         ],
         "xaxis": "x",
         "y": [
          441.73000284897853,
          441.73000284897853,
          441.73000284897853,
          441.73000284897853,
          441.73000284897853,
          441.73000284897853,
          441.73000284897853,
          441.73000284897853,
          441.73000284897853,
          441.73000284897853,
          441.73000284897853,
          441.73000284897853,
          441.73000284897853,
          441.73000284897853,
          441.73000284897853,
          441.73000284897853,
          441.73000284897853,
          441.73000284897853,
          441.73000284897853,
          441.73000284897853,
          441.73000284897853,
          441.73000284897853,
          441.73000284897853,
          441.73000284897853,
          441.73000284897853,
          441.73000284897853,
          441.73000284897853,
          441.73000284897853,
          441.73000284897853,
          441.73000284897853,
          441.73000284897853,
          441.73000284897853,
          441.73000284897853,
          441.73000284897853,
          441.73000284897853,
          441.73000284897853,
          441.73000284897853,
          441.73000284897853,
          441.73000284897853,
          441.73000284897853,
          441.73000284897853,
          441.73000284897853,
          441.73000284897853,
          441.73000284897853,
          441.73000284897853,
          441.73000284897853,
          441.73000284897853,
          441.73000284897853,
          441.73000284897853,
          441.73000284897853,
          441.73000284897853,
          441.73000284897853,
          441.73000284897853,
          441.73000284897853,
          441.73000284897853,
          441.73000284897853,
          441.73000284897853,
          441.73000284897853,
          441.73000284897853,
          441.73000284897853,
          441.73000284897853,
          441.73000284897853,
          441.73000284897853,
          441.73000284897853,
          441.73000284897853,
          441.73000284897853,
          441.73000284897853,
          441.73000284897853,
          441.73000284897853,
          441.73000284897853,
          441.73000284897853,
          441.73000284897853,
          441.73000284897853,
          441.73000284897853,
          441.73000284897853,
          441.73000284897853,
          441.73000284897853,
          441.73000284897853,
          6.957153897562975,
          6.957153897562975,
          6.957153897562975,
          6.957153897562975,
          6.957153897562975,
          6.957153897562975,
          6.957153897562975,
          6.957153897562975,
          6.957153897562975,
          6.957153897562975,
          6.957153897562975,
          6.957153897562975,
          6.957153897562975,
          6.957153897562975,
          6.957153897562975,
          6.957153897562975,
          6.957153897562975,
          6.957153897562975,
          6.957153897562975,
          6.957153897562975,
          6.957153897562975,
          6.957153897562975,
          6.957153897562975,
          6.957153897562975,
          6.957153897562975,
          6.957153897562975,
          6.957153897562975,
          6.957153897562975,
          6.957153897562975,
          6.957153897562975,
          6.957153897562975,
          6.957153897562975,
          6.957153897562975,
          6.957153897562975,
          6.957153897562975,
          6.957153897562975,
          6.957153897562975,
          6.957153897562975,
          6.957153897562975,
          6.957153897562975,
          6.957153897562975,
          6.957153897562975,
          6.957153897562975,
          6.957153897562975,
          6.957153897562975,
          6.957153897562975,
          6.957153897562975,
          6.957153897562975,
          6.957153897562975,
          6.957153897562975,
          6.957153897562975,
          6.957153897562975,
          6.957153897562975,
          6.957153897562975,
          6.957153897562975,
          6.957153897562975,
          6.957153897562975,
          6.957153897562975,
          6.957153897562975,
          6.957153897562975,
          15.577807835656724,
          15.577807835656724,
          15.577807835656724,
          15.577807835656724,
          15.577807835656724,
          15.577807835656724,
          15.577807835656724,
          15.577807835656724,
          15.577807835656724,
          15.577807835656724,
          15.577807835656724,
          15.577807835656724,
          15.577807835656724,
          15.577807835656724,
          15.577807835656724,
          15.577807835656724,
          25.66926577004528,
          25.66926577004528,
          25.66926577004528,
          25.66926577004528,
          25.66926577004528,
          25.66926577004528,
          25.66926577004528,
          25.66926577004528,
          25.66926577004528,
          25.66926577004528,
          25.66926577004528,
          25.66926577004528,
          25.66926577004528,
          35.57517034755216,
          35.57517034755216,
          35.57517034755216,
          35.57517034755216,
          35.57517034755216,
          44.11904920760199,
          44.11904920760199,
          44.11904920760199,
          44.11904920760199,
          44.11904920760199,
          44.11904920760199,
          44.11904920760199,
          53.48839038028576,
          53.48839038028576,
          53.48839038028576,
          53.48839038028576,
          53.48839038028576,
          67.36994210609191,
          82.9918396755154,
          82.9918396755154,
          101.92320084517047,
          101.92320084517047,
          140.01514792838725,
          140.01514792838725,
          174.193170141086,
          174.193170141086,
          186.10407882449323,
          186.10407882449323,
          196.33890068407607,
          205.34588723684084,
          205.34588723684084,
          205.34588723684084,
          213.1246310783044,
          213.1246310783044,
          227.80270566901467,
          227.80270566901467,
          229.7345130553945,
          232.75261266974084,
          236.80468795224442,
          241.55901769644123,
          252.04585891856323,
          257.415119671597,
          262.7732215514461,
          279.05951834557703,
          279.05951834557703,
          289.86526611287377,
          305.5632528169815,
          305.5632528169815,
          310.6745616023239,
          310.6745616023239,
          331.15529954379775,
          481.3978983042607,
          556.624997108634,
          741.4833784906887,
          768.7600647713932,
          796.1534689208225,
          805.3136528792754,
          823.6782851281569,
          860.5586704905777,
          926.3658678217702,
          1019.7442074030362,
          1206.000576478018,
          1418.9099166326664,
          1795.6507962951794
         ],
         "yaxis": "y"
        }
       ],
       "layout": {
        "legend": {
         "tracegroupgap": 0
        },
        "margin": {
         "t": 60
        },
        "template": {
         "data": {
          "bar": [
           {
            "error_x": {
             "color": "#2a3f5f"
            },
            "error_y": {
             "color": "#2a3f5f"
            },
            "marker": {
             "line": {
              "color": "#E5ECF6",
              "width": 0.5
             },
             "pattern": {
              "fillmode": "overlay",
              "size": 10,
              "solidity": 0.2
             }
            },
            "type": "bar"
           }
          ],
          "barpolar": [
           {
            "marker": {
             "line": {
              "color": "#E5ECF6",
              "width": 0.5
             },
             "pattern": {
              "fillmode": "overlay",
              "size": 10,
              "solidity": 0.2
             }
            },
            "type": "barpolar"
           }
          ],
          "carpet": [
           {
            "aaxis": {
             "endlinecolor": "#2a3f5f",
             "gridcolor": "white",
             "linecolor": "white",
             "minorgridcolor": "white",
             "startlinecolor": "#2a3f5f"
            },
            "baxis": {
             "endlinecolor": "#2a3f5f",
             "gridcolor": "white",
             "linecolor": "white",
             "minorgridcolor": "white",
             "startlinecolor": "#2a3f5f"
            },
            "type": "carpet"
           }
          ],
          "choropleth": [
           {
            "colorbar": {
             "outlinewidth": 0,
             "ticks": ""
            },
            "type": "choropleth"
           }
          ],
          "contour": [
           {
            "colorbar": {
             "outlinewidth": 0,
             "ticks": ""
            },
            "colorscale": [
             [
              0,
              "#0d0887"
             ],
             [
              0.1111111111111111,
              "#46039f"
             ],
             [
              0.2222222222222222,
              "#7201a8"
             ],
             [
              0.3333333333333333,
              "#9c179e"
             ],
             [
              0.4444444444444444,
              "#bd3786"
             ],
             [
              0.5555555555555556,
              "#d8576b"
             ],
             [
              0.6666666666666666,
              "#ed7953"
             ],
             [
              0.7777777777777778,
              "#fb9f3a"
             ],
             [
              0.8888888888888888,
              "#fdca26"
             ],
             [
              1,
              "#f0f921"
             ]
            ],
            "type": "contour"
           }
          ],
          "contourcarpet": [
           {
            "colorbar": {
             "outlinewidth": 0,
             "ticks": ""
            },
            "type": "contourcarpet"
           }
          ],
          "heatmap": [
           {
            "colorbar": {
             "outlinewidth": 0,
             "ticks": ""
            },
            "colorscale": [
             [
              0,
              "#0d0887"
             ],
             [
              0.1111111111111111,
              "#46039f"
             ],
             [
              0.2222222222222222,
              "#7201a8"
             ],
             [
              0.3333333333333333,
              "#9c179e"
             ],
             [
              0.4444444444444444,
              "#bd3786"
             ],
             [
              0.5555555555555556,
              "#d8576b"
             ],
             [
              0.6666666666666666,
              "#ed7953"
             ],
             [
              0.7777777777777778,
              "#fb9f3a"
             ],
             [
              0.8888888888888888,
              "#fdca26"
             ],
             [
              1,
              "#f0f921"
             ]
            ],
            "type": "heatmap"
           }
          ],
          "heatmapgl": [
           {
            "colorbar": {
             "outlinewidth": 0,
             "ticks": ""
            },
            "colorscale": [
             [
              0,
              "#0d0887"
             ],
             [
              0.1111111111111111,
              "#46039f"
             ],
             [
              0.2222222222222222,
              "#7201a8"
             ],
             [
              0.3333333333333333,
              "#9c179e"
             ],
             [
              0.4444444444444444,
              "#bd3786"
             ],
             [
              0.5555555555555556,
              "#d8576b"
             ],
             [
              0.6666666666666666,
              "#ed7953"
             ],
             [
              0.7777777777777778,
              "#fb9f3a"
             ],
             [
              0.8888888888888888,
              "#fdca26"
             ],
             [
              1,
              "#f0f921"
             ]
            ],
            "type": "heatmapgl"
           }
          ],
          "histogram": [
           {
            "marker": {
             "pattern": {
              "fillmode": "overlay",
              "size": 10,
              "solidity": 0.2
             }
            },
            "type": "histogram"
           }
          ],
          "histogram2d": [
           {
            "colorbar": {
             "outlinewidth": 0,
             "ticks": ""
            },
            "colorscale": [
             [
              0,
              "#0d0887"
             ],
             [
              0.1111111111111111,
              "#46039f"
             ],
             [
              0.2222222222222222,
              "#7201a8"
             ],
             [
              0.3333333333333333,
              "#9c179e"
             ],
             [
              0.4444444444444444,
              "#bd3786"
             ],
             [
              0.5555555555555556,
              "#d8576b"
             ],
             [
              0.6666666666666666,
              "#ed7953"
             ],
             [
              0.7777777777777778,
              "#fb9f3a"
             ],
             [
              0.8888888888888888,
              "#fdca26"
             ],
             [
              1,
              "#f0f921"
             ]
            ],
            "type": "histogram2d"
           }
          ],
          "histogram2dcontour": [
           {
            "colorbar": {
             "outlinewidth": 0,
             "ticks": ""
            },
            "colorscale": [
             [
              0,
              "#0d0887"
             ],
             [
              0.1111111111111111,
              "#46039f"
             ],
             [
              0.2222222222222222,
              "#7201a8"
             ],
             [
              0.3333333333333333,
              "#9c179e"
             ],
             [
              0.4444444444444444,
              "#bd3786"
             ],
             [
              0.5555555555555556,
              "#d8576b"
             ],
             [
              0.6666666666666666,
              "#ed7953"
             ],
             [
              0.7777777777777778,
              "#fb9f3a"
             ],
             [
              0.8888888888888888,
              "#fdca26"
             ],
             [
              1,
              "#f0f921"
             ]
            ],
            "type": "histogram2dcontour"
           }
          ],
          "mesh3d": [
           {
            "colorbar": {
             "outlinewidth": 0,
             "ticks": ""
            },
            "type": "mesh3d"
           }
          ],
          "parcoords": [
           {
            "line": {
             "colorbar": {
              "outlinewidth": 0,
              "ticks": ""
             }
            },
            "type": "parcoords"
           }
          ],
          "pie": [
           {
            "automargin": true,
            "type": "pie"
           }
          ],
          "scatter": [
           {
            "fillpattern": {
             "fillmode": "overlay",
             "size": 10,
             "solidity": 0.2
            },
            "type": "scatter"
           }
          ],
          "scatter3d": [
           {
            "line": {
             "colorbar": {
              "outlinewidth": 0,
              "ticks": ""
             }
            },
            "marker": {
             "colorbar": {
              "outlinewidth": 0,
              "ticks": ""
             }
            },
            "type": "scatter3d"
           }
          ],
          "scattercarpet": [
           {
            "marker": {
             "colorbar": {
              "outlinewidth": 0,
              "ticks": ""
             }
            },
            "type": "scattercarpet"
           }
          ],
          "scattergeo": [
           {
            "marker": {
             "colorbar": {
              "outlinewidth": 0,
              "ticks": ""
             }
            },
            "type": "scattergeo"
           }
          ],
          "scattergl": [
           {
            "marker": {
             "colorbar": {
              "outlinewidth": 0,
              "ticks": ""
             }
            },
            "type": "scattergl"
           }
          ],
          "scattermapbox": [
           {
            "marker": {
             "colorbar": {
              "outlinewidth": 0,
              "ticks": ""
             }
            },
            "type": "scattermapbox"
           }
          ],
          "scatterpolar": [
           {
            "marker": {
             "colorbar": {
              "outlinewidth": 0,
              "ticks": ""
             }
            },
            "type": "scatterpolar"
           }
          ],
          "scatterpolargl": [
           {
            "marker": {
             "colorbar": {
              "outlinewidth": 0,
              "ticks": ""
             }
            },
            "type": "scatterpolargl"
           }
          ],
          "scatterternary": [
           {
            "marker": {
             "colorbar": {
              "outlinewidth": 0,
              "ticks": ""
             }
            },
            "type": "scatterternary"
           }
          ],
          "surface": [
           {
            "colorbar": {
             "outlinewidth": 0,
             "ticks": ""
            },
            "colorscale": [
             [
              0,
              "#0d0887"
             ],
             [
              0.1111111111111111,
              "#46039f"
             ],
             [
              0.2222222222222222,
              "#7201a8"
             ],
             [
              0.3333333333333333,
              "#9c179e"
             ],
             [
              0.4444444444444444,
              "#bd3786"
             ],
             [
              0.5555555555555556,
              "#d8576b"
             ],
             [
              0.6666666666666666,
              "#ed7953"
             ],
             [
              0.7777777777777778,
              "#fb9f3a"
             ],
             [
              0.8888888888888888,
              "#fdca26"
             ],
             [
              1,
              "#f0f921"
             ]
            ],
            "type": "surface"
           }
          ],
          "table": [
           {
            "cells": {
             "fill": {
              "color": "#EBF0F8"
             },
             "line": {
              "color": "white"
             }
            },
            "header": {
             "fill": {
              "color": "#C8D4E3"
             },
             "line": {
              "color": "white"
             }
            },
            "type": "table"
           }
          ]
         },
         "layout": {
          "annotationdefaults": {
           "arrowcolor": "#2a3f5f",
           "arrowhead": 0,
           "arrowwidth": 1
          },
          "autotypenumbers": "strict",
          "coloraxis": {
           "colorbar": {
            "outlinewidth": 0,
            "ticks": ""
           }
          },
          "colorscale": {
           "diverging": [
            [
             0,
             "#8e0152"
            ],
            [
             0.1,
             "#c51b7d"
            ],
            [
             0.2,
             "#de77ae"
            ],
            [
             0.3,
             "#f1b6da"
            ],
            [
             0.4,
             "#fde0ef"
            ],
            [
             0.5,
             "#f7f7f7"
            ],
            [
             0.6,
             "#e6f5d0"
            ],
            [
             0.7,
             "#b8e186"
            ],
            [
             0.8,
             "#7fbc41"
            ],
            [
             0.9,
             "#4d9221"
            ],
            [
             1,
             "#276419"
            ]
           ],
           "sequential": [
            [
             0,
             "#0d0887"
            ],
            [
             0.1111111111111111,
             "#46039f"
            ],
            [
             0.2222222222222222,
             "#7201a8"
            ],
            [
             0.3333333333333333,
             "#9c179e"
            ],
            [
             0.4444444444444444,
             "#bd3786"
            ],
            [
             0.5555555555555556,
             "#d8576b"
            ],
            [
             0.6666666666666666,
             "#ed7953"
            ],
            [
             0.7777777777777778,
             "#fb9f3a"
            ],
            [
             0.8888888888888888,
             "#fdca26"
            ],
            [
             1,
             "#f0f921"
            ]
           ],
           "sequentialminus": [
            [
             0,
             "#0d0887"
            ],
            [
             0.1111111111111111,
             "#46039f"
            ],
            [
             0.2222222222222222,
             "#7201a8"
            ],
            [
             0.3333333333333333,
             "#9c179e"
            ],
            [
             0.4444444444444444,
             "#bd3786"
            ],
            [
             0.5555555555555556,
             "#d8576b"
            ],
            [
             0.6666666666666666,
             "#ed7953"
            ],
            [
             0.7777777777777778,
             "#fb9f3a"
            ],
            [
             0.8888888888888888,
             "#fdca26"
            ],
            [
             1,
             "#f0f921"
            ]
           ]
          },
          "colorway": [
           "#636efa",
           "#EF553B",
           "#00cc96",
           "#ab63fa",
           "#FFA15A",
           "#19d3f3",
           "#FF6692",
           "#B6E880",
           "#FF97FF",
           "#FECB52"
          ],
          "font": {
           "color": "#2a3f5f"
          },
          "geo": {
           "bgcolor": "white",
           "lakecolor": "white",
           "landcolor": "#E5ECF6",
           "showlakes": true,
           "showland": true,
           "subunitcolor": "white"
          },
          "hoverlabel": {
           "align": "left"
          },
          "hovermode": "closest",
          "mapbox": {
           "style": "light"
          },
          "paper_bgcolor": "white",
          "plot_bgcolor": "#E5ECF6",
          "polar": {
           "angularaxis": {
            "gridcolor": "white",
            "linecolor": "white",
            "ticks": ""
           },
           "bgcolor": "#E5ECF6",
           "radialaxis": {
            "gridcolor": "white",
            "linecolor": "white",
            "ticks": ""
           }
          },
          "scene": {
           "xaxis": {
            "backgroundcolor": "#E5ECF6",
            "gridcolor": "white",
            "gridwidth": 2,
            "linecolor": "white",
            "showbackground": true,
            "ticks": "",
            "zerolinecolor": "white"
           },
           "yaxis": {
            "backgroundcolor": "#E5ECF6",
            "gridcolor": "white",
            "gridwidth": 2,
            "linecolor": "white",
            "showbackground": true,
            "ticks": "",
            "zerolinecolor": "white"
           },
           "zaxis": {
            "backgroundcolor": "#E5ECF6",
            "gridcolor": "white",
            "gridwidth": 2,
            "linecolor": "white",
            "showbackground": true,
            "ticks": "",
            "zerolinecolor": "white"
           }
          },
          "shapedefaults": {
           "line": {
            "color": "#2a3f5f"
           }
          },
          "ternary": {
           "aaxis": {
            "gridcolor": "white",
            "linecolor": "white",
            "ticks": ""
           },
           "baxis": {
            "gridcolor": "white",
            "linecolor": "white",
            "ticks": ""
           },
           "bgcolor": "#E5ECF6",
           "caxis": {
            "gridcolor": "white",
            "linecolor": "white",
            "ticks": ""
           }
          },
          "title": {
           "x": 0.05
          },
          "xaxis": {
           "automargin": true,
           "gridcolor": "white",
           "linecolor": "white",
           "ticks": "",
           "title": {
            "standoff": 15
           },
           "zerolinecolor": "white",
           "zerolinewidth": 2
          },
          "yaxis": {
           "automargin": true,
           "gridcolor": "white",
           "linecolor": "white",
           "ticks": "",
           "title": {
            "standoff": 15
           },
           "zerolinecolor": "white",
           "zerolinewidth": 2
          }
         }
        },
        "xaxis": {
         "anchor": "y",
         "domain": [
          0,
          1
         ],
         "title": {
          "text": "x"
         },
         "type": "log"
        },
        "yaxis": {
         "anchor": "x",
         "domain": [
          0,
          1
         ],
         "title": {
          "text": "y"
         },
         "type": "log"
        }
       }
      }
     },
     "metadata": {},
     "output_type": "display_data"
    }
   ],
   "source": [
    "px.scatter(\n",
    "            x=covid_df['1 Test every X ppl'],\n",
    "            y = covid_df['1 Case every X ppl'],\n",
    "            log_y= True,log_x=True,\n",
    "            trendline=\"lowess\"\n",
    "        )"
   ]
  },
  {
   "cell_type": "code",
   "execution_count": 16,
   "metadata": {},
   "outputs": [
    {
     "data": {
      "text/html": [
       "<div>\n",
       "<style scoped>\n",
       "    .dataframe tbody tr th:only-of-type {\n",
       "        vertical-align: middle;\n",
       "    }\n",
       "\n",
       "    .dataframe tbody tr th {\n",
       "        vertical-align: top;\n",
       "    }\n",
       "\n",
       "    .dataframe thead th {\n",
       "        text-align: right;\n",
       "    }\n",
       "</style>\n",
       "<table border=\"1\" class=\"dataframe\">\n",
       "  <thead>\n",
       "    <tr style=\"text-align: right;\">\n",
       "      <th></th>\n",
       "      <th>1 Test every X ppl</th>\n",
       "      <th>1 Case every X ppl</th>\n",
       "    </tr>\n",
       "  </thead>\n",
       "  <tbody>\n",
       "    <tr>\n",
       "      <th>1 Test every X ppl</th>\n",
       "      <td>1.000000</td>\n",
       "      <td>0.782104</td>\n",
       "    </tr>\n",
       "    <tr>\n",
       "      <th>1 Case every X ppl</th>\n",
       "      <td>0.782104</td>\n",
       "      <td>1.000000</td>\n",
       "    </tr>\n",
       "  </tbody>\n",
       "</table>\n",
       "</div>"
      ],
      "text/plain": [
       "                    1 Test every X ppl  1 Case every X ppl\n",
       "1 Test every X ppl            1.000000            0.782104\n",
       "1 Case every X ppl            0.782104            1.000000"
      ]
     },
     "execution_count": 16,
     "metadata": {},
     "output_type": "execute_result"
    }
   ],
   "source": [
    "np.log(covid_df[['1 Test every X ppl','1 Case every X ppl']]+1).corr()"
   ]
  },
  {
   "attachments": {},
   "cell_type": "markdown",
   "metadata": {},
   "source": [
    "với biểu đồ và độ tương quan trên, ta thấy được phần nào đó mốt liên hệ giữa số người được test và số người mắc bệnh được ghi nhận, với độ tương quan (log) khá cao, nên có thể khẳng định là 2 chỉ số này có mối liên hệ rất đáng phải quan tâm"
   ]
  },
  {
   "attachments": {},
   "cell_type": "markdown",
   "metadata": {},
   "source": [
    "### Phần report"
   ]
  },
  {
   "attachments": {},
   "cell_type": "markdown",
   "metadata": {},
   "source": [
    "- Mối quan hệ giữa 2 trường dữ liệu `1 Test every X ppl` và `1 Case every X ppl`\n",
    "    - Thư viện bổ sung: \n",
    "        - geopandas: giúp đỡ cho việc biểu diễn dữ liệu trên choropleth map\n",
    "\n",
    "Các mối quan hệ:\n",
    "\n",
    "1. Tỉ lệ người mắc Covid và tỉ lệ người được xét nghiệm Covid có sự phân bố theo vị trí địa lý của quốc gia trên thế giới không?\n",
    "    - **Trường dữ liệu được trực quan:** `1 Test every X ppl` , `1 Case every X ppl`\n",
    "    - **Biểu đồ sử dụng:** Choropleth map\n",
    "    - **Tính phù hợp của biểu đồ:** Biểu đồ choropleth map cho phép chúng ta có thể nhìn thấy được thực tế tình trạng trên hình ảnh của toàn bộ thế giới, tuy rằng dữ liệu được trực quan lên sẽ không được hoàn toàn đầy đủ và chính xác như các biểu đồ số liệu khác, nhưng nó sẽ cho chúng ta một cái nhìn dễ dàng hơn trong việc so sánh sự ảnh hưởng của vị trí địa lý, điều này thì rất là khó để thể hiện trên các biểu đồ thông thường, và do thế chúng ra có thể nhận xét rõ hơn trên từng khu vực ta muốn, thay vì chỉ là từng quốc gia hay lục địa cụ thể\n",
    "    - **Mục đích câu hỏi:** Kiểm tra xem sự lây lan của dịch Covid có khác nhau khi nhận xét tổng quan trên toàn bộ thế giới hay không, cũng như là tình trạng kiểm tra sức khỏe y tế của các khu vực\n",
    "    - **Giải thích cách làm/thuật toán:** \n",
    "        - Đọc dữ liệu của tình trạng covid bằng thư viện pandas\n",
    "        - Đọc dữ liệu vị trí địa lý của các quốc gia bằng data có sẵn của thư viện geopandas\n",
    "        - Sửa lại tên của cột `name` của dữ liệu địa lý thành `Country` để tiện cho việc join bảng ở bước sau\n",
    "        - Sửa lại tên của các quốc gia không khớp nhau giữa 2 dữ liệu covid và địa lý (ta sẽ kiểm tra thủ công ở bước này)\n",
    "        - Tạo bảng data mới chứa dữ liệu của Covid cũng như vị trí quốc gia (kiểu dữ liệu geopandas)\n",
    "        - Viết hàm tinh chỉnh để có thể vẽ lên Choropleth map bằng heatmap (để tiện cho sau này nên hàm này sẽ hơi dài)\n",
    "        - Vẽ 2 biểu đồ với 2 cột dữ liệu `1 Test every X ppl` , `1 Case every X ppl`, và scale theo log (do thế ta sẽ fix dữ liệu để tránh trường hợp số 0) để có cái nhìn dễ hơn\n",
    "\n",
    "        ![](./img_viz/make_data.PNG)\n",
    "        ![](./img_viz/make_geomap.PNG)\n",
    "        ![](./img_viz/plot_geomap.PNG)\n",
    "    \n",
    "    - **Kết quả:**\n",
    "    \n",
    "        ![](./img_viz/geomap.png)\n",
    "\n",
    "    - **Nhận xét biểu đồ:**\n",
    "        - Ta có thể thấy được có thể thấy được tỉ lệ mắc bệnh có vẻ được phân bố theo một cách nào đó khi mà các nước có tỉ lệ nhiễm thấp lại ở gần nhau (Lục địa châu Phi) và phần nhỏ Châu Á, đa phần các khu vực này có nhiệt độ và độ ẩm không thích hợp với Covid nên tỉ lệ bị nhiễm sẽ thấp hơn với phần còn lại của thế giới\n",
    "        - Xem xét thêm về điều kiện kiểm tra bệnh, thì tại các khu vực này cũng có điều kiện kiểm tra thấp nhất trên toàn thế giới, vậy liệu điều này có phải là lí do giải thích cho việc khu vực này ghi nhận ít ca bênh hơn khu vực khác ?\n",
    "\n",
    "------\n",
    "\n",
    "2. Việc tỉ lệ kiểm tra y tế có ảnh hưởng đến số ca bênh được ghi nhận trên hệ thống hay không\n",
    "    - **Trường dữ liệu được trực quan:** `1 Test every X ppl` , `1 Case every X ppl`\n",
    "    - **Biểu đồ sử dụng:** Scatter chart.\n",
    "    - **Tính phù hợp của biểu đồ:** Việc xem xét mối tương quan giữa 2 trường dữ liệu thì biểu đồ scatter vẫn cho ta một cái nhìn dễ nhất, khi mà tất cả điểm dữ liệu được trực quan trên một biểu đồ 1 cách rõ ràng, từ đó ta cũng có thể xem được phân bố của các dữ liệu này như thế nào\n",
    "    - **Giải thích cách làm/thuật toán:**\n",
    "        - Dùng thư viện plotpy để thể hiện biểu đồ này, và ta scale 2 trục theo log\n",
    "        - Ta cũng bổ sung thêm một đường trendline (không phải linear), để có xem xét về mối tương quan giũa 2 biến\n",
    "\n",
    "        ![](./img_viz/plot_scatter.PNG)\n",
    "\n",
    "    - **Kết quả:**\n",
    "\n",
    "        ![](./img_viz/scatterplot.png)\n",
    "\n",
    "    - **Nhận xét biểu đồ:**\n",
    "        - Tại mỗi mức chỉ số `1 Test every X ppl` thì ra thấy chỉ số `1 Case every X ppl` được phan bố hầu như trong một khoản xác định và có xu hướng hơi tăng dần\n",
    "        - Từ biểu đồ này ta cũng thấy được rằng việc kiểm tra cũng phần nào ảnh ghi nhận ca nhiễm bênh trên thế giới, nên đây cũng là điều đáng phải quan tâm để có thể ghi nhận ca bệnh tốt nhất có thể\n",
    "    \n",
    "    "
   ]
  },
  {
   "cell_type": "code",
   "execution_count": null,
   "metadata": {},
   "outputs": [],
   "source": []
  },
  {
   "cell_type": "markdown",
   "metadata": {},
   "source": []
  }
 ],
 "metadata": {
  "kernelspec": {
   "display_name": "Python 3 (ipykernel)",
   "language": "python",
   "name": "python3"
  },
  "language_info": {
   "codemirror_mode": {
    "name": "ipython",
    "version": 3
   },
   "file_extension": ".py",
   "mimetype": "text/x-python",
   "name": "python",
   "nbconvert_exporter": "python",
   "pygments_lexer": "ipython3",
   "version": "3.9.12"
  }
 },
 "nbformat": 4,
 "nbformat_minor": 4
}
