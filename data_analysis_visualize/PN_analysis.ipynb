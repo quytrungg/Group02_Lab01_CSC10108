{
 "cells": [
  {
   "cell_type": "markdown",
   "metadata": {},
   "source": [
    "# DATA ANALYSIS\n",
    "\n",
    "## 1. Ý nghĩa của thuộc tính:\n",
    "- **Country**: Tên quốc gia\n",
    "- Total Cases: Tổng số ca nhiễm\n",
    "- New Cases: Số ca nhiễm mới\n",
    "- Total Deaths: Tổng số ca tử vong\n",
    "- New Deaths: Số ca tử vong mới\n",
    "- Total Recovered: Tổng số ca hồi phục\n",
    "- New Recovered: Số ca hồi phục mới\n",
    "- Active Cases: Tổng số ca đang điều trị\n",
    "- Serious, Critical: Số ca nghiêm trọng, nguy kịch\n",
    "- Tot Cases/1M pop: Số ca nhiễm trên 1 triệu dân\n",
    "- Deaths/1M pop: Số ca tử vong trên 1 triệu dân\n",
    "- Total tests: Tổng số lần test\n",
    "- Tests/1M pop: Số lần test trên 1 triệu dân\n",
    "- Population: Dân số\n",
    "- Continent: Châu lục\n",
    "- 1 Case every X ppl: 1 ca nhiễm trên X dân\n",
    "- 1 Death every X ppl: 1 ca tử vong trên X dân\n",
    "- 1 Test every X ppl: 1 lần test trên X dân\n",
    "- New Cases/1M pop: Số ca nhiễm mới trên 1 triệu dân\n",
    "- New Deaths/1M pop: Số ca tử vong mới trên 1 triệu dân\n",
    "- Active Cases/1M pop: Số ca đang điều trị trên 1 triệu dân\n",
    "\n",
    "## 2. Phân tích các mối quan hệ nhờ trực quan"
   ]
  },
  {
   "cell_type": "code",
   "execution_count": 50,
   "metadata": {
    "tags": []
   },
   "outputs": [],
   "source": [
    "# Import thư viện: \n",
    "\n",
    "import pandas as pd\n",
    "import matplotlib.pyplot as plt\n",
    "import seaborn as sns\n",
    "import plotly.graph_objs as go\n",
    "import plotly.express as px\n",
    "from plotly.subplots import make_subplots"
   ]
  },
  {
   "cell_type": "code",
   "execution_count": 51,
   "metadata": {},
   "outputs": [
    {
     "data": {
      "text/html": [
       "<div>\n",
       "<style scoped>\n",
       "    .dataframe tbody tr th:only-of-type {\n",
       "        vertical-align: middle;\n",
       "    }\n",
       "\n",
       "    .dataframe tbody tr th {\n",
       "        vertical-align: top;\n",
       "    }\n",
       "\n",
       "    .dataframe thead th {\n",
       "        text-align: right;\n",
       "    }\n",
       "</style>\n",
       "<table border=\"1\" class=\"dataframe\">\n",
       "  <thead>\n",
       "    <tr style=\"text-align: right;\">\n",
       "      <th></th>\n",
       "      <th>Country</th>\n",
       "      <th>Total Cases</th>\n",
       "      <th>New Cases</th>\n",
       "      <th>Total Deaths</th>\n",
       "      <th>New Deaths</th>\n",
       "      <th>Total Recovered</th>\n",
       "      <th>New Recovered</th>\n",
       "      <th>Active Cases</th>\n",
       "      <th>Serious, Critical</th>\n",
       "      <th>Tot Cases/1M pop</th>\n",
       "      <th>...</th>\n",
       "      <th>Total tests</th>\n",
       "      <th>Tests/1M pop</th>\n",
       "      <th>Population</th>\n",
       "      <th>Continent</th>\n",
       "      <th>1 Case every X ppl</th>\n",
       "      <th>1 Death every X ppl</th>\n",
       "      <th>1 Test every X ppl</th>\n",
       "      <th>New Cases/1M pop</th>\n",
       "      <th>New Deaths/1M pop</th>\n",
       "      <th>Active Cases/1M pop</th>\n",
       "    </tr>\n",
       "  </thead>\n",
       "  <tbody>\n",
       "    <tr>\n",
       "      <th>0</th>\n",
       "      <td>USA</td>\n",
       "      <td>105396817.0</td>\n",
       "      <td>0.0</td>\n",
       "      <td>1146740.0</td>\n",
       "      <td>0.0</td>\n",
       "      <td>102864696.0</td>\n",
       "      <td>0.0</td>\n",
       "      <td>1385381.0</td>\n",
       "      <td>2726.0</td>\n",
       "      <td>314800.0</td>\n",
       "      <td>...</td>\n",
       "      <td>1.167686e+09</td>\n",
       "      <td>3487657.0</td>\n",
       "      <td>3.348053e+08</td>\n",
       "      <td>North America</td>\n",
       "      <td>3.0</td>\n",
       "      <td>292.0</td>\n",
       "      <td>0.0</td>\n",
       "      <td>0.0</td>\n",
       "      <td>0.0</td>\n",
       "      <td>4138.0</td>\n",
       "    </tr>\n",
       "    <tr>\n",
       "      <th>1</th>\n",
       "      <td>India</td>\n",
       "      <td>44688101.0</td>\n",
       "      <td>0.0</td>\n",
       "      <td>530775.0</td>\n",
       "      <td>0.0</td>\n",
       "      <td>44154425.0</td>\n",
       "      <td>0.0</td>\n",
       "      <td>2901.0</td>\n",
       "      <td>0.0</td>\n",
       "      <td>31770.0</td>\n",
       "      <td>...</td>\n",
       "      <td>9.191891e+08</td>\n",
       "      <td>653468.0</td>\n",
       "      <td>1.406632e+09</td>\n",
       "      <td>Asia</td>\n",
       "      <td>31.0</td>\n",
       "      <td>2650.0</td>\n",
       "      <td>2.0</td>\n",
       "      <td>0.0</td>\n",
       "      <td>0.0</td>\n",
       "      <td>2.0</td>\n",
       "    </tr>\n",
       "    <tr>\n",
       "      <th>2</th>\n",
       "      <td>France</td>\n",
       "      <td>39638159.0</td>\n",
       "      <td>0.0</td>\n",
       "      <td>165030.0</td>\n",
       "      <td>0.0</td>\n",
       "      <td>39400459.0</td>\n",
       "      <td>706.0</td>\n",
       "      <td>72670.0</td>\n",
       "      <td>869.0</td>\n",
       "      <td>604383.0</td>\n",
       "      <td>...</td>\n",
       "      <td>2.714902e+08</td>\n",
       "      <td>4139547.0</td>\n",
       "      <td>6.558452e+07</td>\n",
       "      <td>Europe</td>\n",
       "      <td>2.0</td>\n",
       "      <td>397.0</td>\n",
       "      <td>0.0</td>\n",
       "      <td>0.0</td>\n",
       "      <td>0.0</td>\n",
       "      <td>1108.0</td>\n",
       "    </tr>\n",
       "    <tr>\n",
       "      <th>3</th>\n",
       "      <td>Germany</td>\n",
       "      <td>38210850.0</td>\n",
       "      <td>0.0</td>\n",
       "      <td>168397.0</td>\n",
       "      <td>0.0</td>\n",
       "      <td>37767300.0</td>\n",
       "      <td>17500.0</td>\n",
       "      <td>275153.0</td>\n",
       "      <td>0.0</td>\n",
       "      <td>455522.0</td>\n",
       "      <td>...</td>\n",
       "      <td>1.223324e+08</td>\n",
       "      <td>1458359.0</td>\n",
       "      <td>8.388360e+07</td>\n",
       "      <td>Europe</td>\n",
       "      <td>2.0</td>\n",
       "      <td>498.0</td>\n",
       "      <td>1.0</td>\n",
       "      <td>0.0</td>\n",
       "      <td>0.0</td>\n",
       "      <td>3280.0</td>\n",
       "    </tr>\n",
       "    <tr>\n",
       "      <th>4</th>\n",
       "      <td>Brazil</td>\n",
       "      <td>37076053.0</td>\n",
       "      <td>0.0</td>\n",
       "      <td>699276.0</td>\n",
       "      <td>0.0</td>\n",
       "      <td>36249161.0</td>\n",
       "      <td>0.0</td>\n",
       "      <td>127616.0</td>\n",
       "      <td>0.0</td>\n",
       "      <td>172164.0</td>\n",
       "      <td>...</td>\n",
       "      <td>6.377617e+07</td>\n",
       "      <td>296146.0</td>\n",
       "      <td>2.153536e+08</td>\n",
       "      <td>South America</td>\n",
       "      <td>6.0</td>\n",
       "      <td>308.0</td>\n",
       "      <td>3.0</td>\n",
       "      <td>0.0</td>\n",
       "      <td>0.0</td>\n",
       "      <td>593.0</td>\n",
       "    </tr>\n",
       "  </tbody>\n",
       "</table>\n",
       "<p>5 rows × 21 columns</p>\n",
       "</div>"
      ],
      "text/plain": [
       "   Country  Total Cases  New Cases  Total Deaths  New Deaths  Total Recovered  \\\n",
       "0      USA  105396817.0        0.0     1146740.0         0.0      102864696.0   \n",
       "1    India   44688101.0        0.0      530775.0         0.0       44154425.0   \n",
       "2   France   39638159.0        0.0      165030.0         0.0       39400459.0   \n",
       "3  Germany   38210850.0        0.0      168397.0         0.0       37767300.0   \n",
       "4   Brazil   37076053.0        0.0      699276.0         0.0       36249161.0   \n",
       "\n",
       "   New Recovered  Active Cases  Serious, Critical  Tot Cases/1M pop  ...  \\\n",
       "0            0.0     1385381.0             2726.0          314800.0  ...   \n",
       "1            0.0        2901.0                0.0           31770.0  ...   \n",
       "2          706.0       72670.0              869.0          604383.0  ...   \n",
       "3        17500.0      275153.0                0.0          455522.0  ...   \n",
       "4            0.0      127616.0                0.0          172164.0  ...   \n",
       "\n",
       "    Total tests  Tests/1M pop    Population      Continent 1 Case every X ppl  \\\n",
       "0  1.167686e+09     3487657.0  3.348053e+08  North America                3.0   \n",
       "1  9.191891e+08      653468.0  1.406632e+09           Asia               31.0   \n",
       "2  2.714902e+08     4139547.0  6.558452e+07         Europe                2.0   \n",
       "3  1.223324e+08     1458359.0  8.388360e+07         Europe                2.0   \n",
       "4  6.377617e+07      296146.0  2.153536e+08  South America                6.0   \n",
       "\n",
       "   1 Death every X ppl  1 Test every X ppl  New Cases/1M pop  \\\n",
       "0                292.0                 0.0               0.0   \n",
       "1               2650.0                 2.0               0.0   \n",
       "2                397.0                 0.0               0.0   \n",
       "3                498.0                 1.0               0.0   \n",
       "4                308.0                 3.0               0.0   \n",
       "\n",
       "   New Deaths/1M pop  Active Cases/1M pop  \n",
       "0                0.0               4138.0  \n",
       "1                0.0                  2.0  \n",
       "2                0.0               1108.0  \n",
       "3                0.0               3280.0  \n",
       "4                0.0                593.0  \n",
       "\n",
       "[5 rows x 21 columns]"
      ]
     },
     "execution_count": 51,
     "metadata": {},
     "output_type": "execute_result"
    }
   ],
   "source": [
    "# Đọc dữ liệu:\n",
    "covid_df = pd.read_csv('../data/modified/Modified_March_06_2023_corona_data.csv')\n",
    "covid_df.head(5)"
   ]
  },
  {
   "attachments": {},
   "cell_type": "markdown",
   "metadata": {},
   "source": [
    "### 2.1 Biểu đồ: \n",
    "\n",
    "#### 1. Mối quan hệ xoay quanh trường dữ liệu `New Cases` (số ca nhiễm mới): \n",
    "\n",
    "#### 1.1 Các quốc gia có số ca mắc covid cao nhất:\n",
    "- **Trường dữ liệu được trực quan**:  `New Cases`\n",
    "- **Biểu đồ sử dụng**: Bar chart.\n",
    "- **Tính phù hợp của biểu đồ**: Để dễ dàng so sánh top 10 quốc gia có ca mắc covid mới, bar chart là một biểu đồ phù hợp vì việc so sánh được thể hiện rõ ở chiều cao các cột tương ứng với các quốc gia (các giá trị rời rạc). \n",
    "- **Mục đích của câu hỏi:** Để kiểm tra tình trạng kiểm soát dịch của các quốc gia trên thế giới, nhóm lọc ra 10 quốc gia có số ca nhiễm covid mới ở thời điểm hiện tại rồi từ đó xem xét các mối quan hệ xung quanh nó."
   ]
  },
  {
   "cell_type": "code",
   "execution_count": 52,
   "metadata": {},
   "outputs": [
    {
     "data": {
      "application/vnd.plotly.v1+json": {
       "config": {
        "plotlyServerURL": "https://plot.ly"
       },
       "data": [
        {
         "type": "bar",
         "x": [
          "Russia",
          "Taiwan",
          "Romania",
          "S. Korea",
          "Japan",
          "New Zealand",
          "Mexico",
          "Iran",
          "Poland",
          "Croatia"
         ],
         "y": [
          11163,
          7080,
          5704,
          4300,
          4263,
          1634,
          525,
          511,
          450,
          334
         ]
        }
       ],
       "layout": {
        "template": {
         "data": {
          "bar": [
           {
            "error_x": {
             "color": "#2a3f5f"
            },
            "error_y": {
             "color": "#2a3f5f"
            },
            "marker": {
             "line": {
              "color": "#E5ECF6",
              "width": 0.5
             },
             "pattern": {
              "fillmode": "overlay",
              "size": 10,
              "solidity": 0.2
             }
            },
            "type": "bar"
           }
          ],
          "barpolar": [
           {
            "marker": {
             "line": {
              "color": "#E5ECF6",
              "width": 0.5
             },
             "pattern": {
              "fillmode": "overlay",
              "size": 10,
              "solidity": 0.2
             }
            },
            "type": "barpolar"
           }
          ],
          "carpet": [
           {
            "aaxis": {
             "endlinecolor": "#2a3f5f",
             "gridcolor": "white",
             "linecolor": "white",
             "minorgridcolor": "white",
             "startlinecolor": "#2a3f5f"
            },
            "baxis": {
             "endlinecolor": "#2a3f5f",
             "gridcolor": "white",
             "linecolor": "white",
             "minorgridcolor": "white",
             "startlinecolor": "#2a3f5f"
            },
            "type": "carpet"
           }
          ],
          "choropleth": [
           {
            "colorbar": {
             "outlinewidth": 0,
             "ticks": ""
            },
            "type": "choropleth"
           }
          ],
          "contour": [
           {
            "colorbar": {
             "outlinewidth": 0,
             "ticks": ""
            },
            "colorscale": [
             [
              0,
              "#0d0887"
             ],
             [
              0.1111111111111111,
              "#46039f"
             ],
             [
              0.2222222222222222,
              "#7201a8"
             ],
             [
              0.3333333333333333,
              "#9c179e"
             ],
             [
              0.4444444444444444,
              "#bd3786"
             ],
             [
              0.5555555555555556,
              "#d8576b"
             ],
             [
              0.6666666666666666,
              "#ed7953"
             ],
             [
              0.7777777777777778,
              "#fb9f3a"
             ],
             [
              0.8888888888888888,
              "#fdca26"
             ],
             [
              1,
              "#f0f921"
             ]
            ],
            "type": "contour"
           }
          ],
          "contourcarpet": [
           {
            "colorbar": {
             "outlinewidth": 0,
             "ticks": ""
            },
            "type": "contourcarpet"
           }
          ],
          "heatmap": [
           {
            "colorbar": {
             "outlinewidth": 0,
             "ticks": ""
            },
            "colorscale": [
             [
              0,
              "#0d0887"
             ],
             [
              0.1111111111111111,
              "#46039f"
             ],
             [
              0.2222222222222222,
              "#7201a8"
             ],
             [
              0.3333333333333333,
              "#9c179e"
             ],
             [
              0.4444444444444444,
              "#bd3786"
             ],
             [
              0.5555555555555556,
              "#d8576b"
             ],
             [
              0.6666666666666666,
              "#ed7953"
             ],
             [
              0.7777777777777778,
              "#fb9f3a"
             ],
             [
              0.8888888888888888,
              "#fdca26"
             ],
             [
              1,
              "#f0f921"
             ]
            ],
            "type": "heatmap"
           }
          ],
          "heatmapgl": [
           {
            "colorbar": {
             "outlinewidth": 0,
             "ticks": ""
            },
            "colorscale": [
             [
              0,
              "#0d0887"
             ],
             [
              0.1111111111111111,
              "#46039f"
             ],
             [
              0.2222222222222222,
              "#7201a8"
             ],
             [
              0.3333333333333333,
              "#9c179e"
             ],
             [
              0.4444444444444444,
              "#bd3786"
             ],
             [
              0.5555555555555556,
              "#d8576b"
             ],
             [
              0.6666666666666666,
              "#ed7953"
             ],
             [
              0.7777777777777778,
              "#fb9f3a"
             ],
             [
              0.8888888888888888,
              "#fdca26"
             ],
             [
              1,
              "#f0f921"
             ]
            ],
            "type": "heatmapgl"
           }
          ],
          "histogram": [
           {
            "marker": {
             "pattern": {
              "fillmode": "overlay",
              "size": 10,
              "solidity": 0.2
             }
            },
            "type": "histogram"
           }
          ],
          "histogram2d": [
           {
            "colorbar": {
             "outlinewidth": 0,
             "ticks": ""
            },
            "colorscale": [
             [
              0,
              "#0d0887"
             ],
             [
              0.1111111111111111,
              "#46039f"
             ],
             [
              0.2222222222222222,
              "#7201a8"
             ],
             [
              0.3333333333333333,
              "#9c179e"
             ],
             [
              0.4444444444444444,
              "#bd3786"
             ],
             [
              0.5555555555555556,
              "#d8576b"
             ],
             [
              0.6666666666666666,
              "#ed7953"
             ],
             [
              0.7777777777777778,
              "#fb9f3a"
             ],
             [
              0.8888888888888888,
              "#fdca26"
             ],
             [
              1,
              "#f0f921"
             ]
            ],
            "type": "histogram2d"
           }
          ],
          "histogram2dcontour": [
           {
            "colorbar": {
             "outlinewidth": 0,
             "ticks": ""
            },
            "colorscale": [
             [
              0,
              "#0d0887"
             ],
             [
              0.1111111111111111,
              "#46039f"
             ],
             [
              0.2222222222222222,
              "#7201a8"
             ],
             [
              0.3333333333333333,
              "#9c179e"
             ],
             [
              0.4444444444444444,
              "#bd3786"
             ],
             [
              0.5555555555555556,
              "#d8576b"
             ],
             [
              0.6666666666666666,
              "#ed7953"
             ],
             [
              0.7777777777777778,
              "#fb9f3a"
             ],
             [
              0.8888888888888888,
              "#fdca26"
             ],
             [
              1,
              "#f0f921"
             ]
            ],
            "type": "histogram2dcontour"
           }
          ],
          "mesh3d": [
           {
            "colorbar": {
             "outlinewidth": 0,
             "ticks": ""
            },
            "type": "mesh3d"
           }
          ],
          "parcoords": [
           {
            "line": {
             "colorbar": {
              "outlinewidth": 0,
              "ticks": ""
             }
            },
            "type": "parcoords"
           }
          ],
          "pie": [
           {
            "automargin": true,
            "type": "pie"
           }
          ],
          "scatter": [
           {
            "fillpattern": {
             "fillmode": "overlay",
             "size": 10,
             "solidity": 0.2
            },
            "type": "scatter"
           }
          ],
          "scatter3d": [
           {
            "line": {
             "colorbar": {
              "outlinewidth": 0,
              "ticks": ""
             }
            },
            "marker": {
             "colorbar": {
              "outlinewidth": 0,
              "ticks": ""
             }
            },
            "type": "scatter3d"
           }
          ],
          "scattercarpet": [
           {
            "marker": {
             "colorbar": {
              "outlinewidth": 0,
              "ticks": ""
             }
            },
            "type": "scattercarpet"
           }
          ],
          "scattergeo": [
           {
            "marker": {
             "colorbar": {
              "outlinewidth": 0,
              "ticks": ""
             }
            },
            "type": "scattergeo"
           }
          ],
          "scattergl": [
           {
            "marker": {
             "colorbar": {
              "outlinewidth": 0,
              "ticks": ""
             }
            },
            "type": "scattergl"
           }
          ],
          "scattermapbox": [
           {
            "marker": {
             "colorbar": {
              "outlinewidth": 0,
              "ticks": ""
             }
            },
            "type": "scattermapbox"
           }
          ],
          "scatterpolar": [
           {
            "marker": {
             "colorbar": {
              "outlinewidth": 0,
              "ticks": ""
             }
            },
            "type": "scatterpolar"
           }
          ],
          "scatterpolargl": [
           {
            "marker": {
             "colorbar": {
              "outlinewidth": 0,
              "ticks": ""
             }
            },
            "type": "scatterpolargl"
           }
          ],
          "scatterternary": [
           {
            "marker": {
             "colorbar": {
              "outlinewidth": 0,
              "ticks": ""
             }
            },
            "type": "scatterternary"
           }
          ],
          "surface": [
           {
            "colorbar": {
             "outlinewidth": 0,
             "ticks": ""
            },
            "colorscale": [
             [
              0,
              "#0d0887"
             ],
             [
              0.1111111111111111,
              "#46039f"
             ],
             [
              0.2222222222222222,
              "#7201a8"
             ],
             [
              0.3333333333333333,
              "#9c179e"
             ],
             [
              0.4444444444444444,
              "#bd3786"
             ],
             [
              0.5555555555555556,
              "#d8576b"
             ],
             [
              0.6666666666666666,
              "#ed7953"
             ],
             [
              0.7777777777777778,
              "#fb9f3a"
             ],
             [
              0.8888888888888888,
              "#fdca26"
             ],
             [
              1,
              "#f0f921"
             ]
            ],
            "type": "surface"
           }
          ],
          "table": [
           {
            "cells": {
             "fill": {
              "color": "#EBF0F8"
             },
             "line": {
              "color": "white"
             }
            },
            "header": {
             "fill": {
              "color": "#C8D4E3"
             },
             "line": {
              "color": "white"
             }
            },
            "type": "table"
           }
          ]
         },
         "layout": {
          "annotationdefaults": {
           "arrowcolor": "#2a3f5f",
           "arrowhead": 0,
           "arrowwidth": 1
          },
          "autotypenumbers": "strict",
          "coloraxis": {
           "colorbar": {
            "outlinewidth": 0,
            "ticks": ""
           }
          },
          "colorscale": {
           "diverging": [
            [
             0,
             "#8e0152"
            ],
            [
             0.1,
             "#c51b7d"
            ],
            [
             0.2,
             "#de77ae"
            ],
            [
             0.3,
             "#f1b6da"
            ],
            [
             0.4,
             "#fde0ef"
            ],
            [
             0.5,
             "#f7f7f7"
            ],
            [
             0.6,
             "#e6f5d0"
            ],
            [
             0.7,
             "#b8e186"
            ],
            [
             0.8,
             "#7fbc41"
            ],
            [
             0.9,
             "#4d9221"
            ],
            [
             1,
             "#276419"
            ]
           ],
           "sequential": [
            [
             0,
             "#0d0887"
            ],
            [
             0.1111111111111111,
             "#46039f"
            ],
            [
             0.2222222222222222,
             "#7201a8"
            ],
            [
             0.3333333333333333,
             "#9c179e"
            ],
            [
             0.4444444444444444,
             "#bd3786"
            ],
            [
             0.5555555555555556,
             "#d8576b"
            ],
            [
             0.6666666666666666,
             "#ed7953"
            ],
            [
             0.7777777777777778,
             "#fb9f3a"
            ],
            [
             0.8888888888888888,
             "#fdca26"
            ],
            [
             1,
             "#f0f921"
            ]
           ],
           "sequentialminus": [
            [
             0,
             "#0d0887"
            ],
            [
             0.1111111111111111,
             "#46039f"
            ],
            [
             0.2222222222222222,
             "#7201a8"
            ],
            [
             0.3333333333333333,
             "#9c179e"
            ],
            [
             0.4444444444444444,
             "#bd3786"
            ],
            [
             0.5555555555555556,
             "#d8576b"
            ],
            [
             0.6666666666666666,
             "#ed7953"
            ],
            [
             0.7777777777777778,
             "#fb9f3a"
            ],
            [
             0.8888888888888888,
             "#fdca26"
            ],
            [
             1,
             "#f0f921"
            ]
           ]
          },
          "colorway": [
           "#636efa",
           "#EF553B",
           "#00cc96",
           "#ab63fa",
           "#FFA15A",
           "#19d3f3",
           "#FF6692",
           "#B6E880",
           "#FF97FF",
           "#FECB52"
          ],
          "font": {
           "color": "#2a3f5f"
          },
          "geo": {
           "bgcolor": "white",
           "lakecolor": "white",
           "landcolor": "#E5ECF6",
           "showlakes": true,
           "showland": true,
           "subunitcolor": "white"
          },
          "hoverlabel": {
           "align": "left"
          },
          "hovermode": "closest",
          "mapbox": {
           "style": "light"
          },
          "paper_bgcolor": "white",
          "plot_bgcolor": "#E5ECF6",
          "polar": {
           "angularaxis": {
            "gridcolor": "white",
            "linecolor": "white",
            "ticks": ""
           },
           "bgcolor": "#E5ECF6",
           "radialaxis": {
            "gridcolor": "white",
            "linecolor": "white",
            "ticks": ""
           }
          },
          "scene": {
           "xaxis": {
            "backgroundcolor": "#E5ECF6",
            "gridcolor": "white",
            "gridwidth": 2,
            "linecolor": "white",
            "showbackground": true,
            "ticks": "",
            "zerolinecolor": "white"
           },
           "yaxis": {
            "backgroundcolor": "#E5ECF6",
            "gridcolor": "white",
            "gridwidth": 2,
            "linecolor": "white",
            "showbackground": true,
            "ticks": "",
            "zerolinecolor": "white"
           },
           "zaxis": {
            "backgroundcolor": "#E5ECF6",
            "gridcolor": "white",
            "gridwidth": 2,
            "linecolor": "white",
            "showbackground": true,
            "ticks": "",
            "zerolinecolor": "white"
           }
          },
          "shapedefaults": {
           "line": {
            "color": "#2a3f5f"
           }
          },
          "ternary": {
           "aaxis": {
            "gridcolor": "white",
            "linecolor": "white",
            "ticks": ""
           },
           "baxis": {
            "gridcolor": "white",
            "linecolor": "white",
            "ticks": ""
           },
           "bgcolor": "#E5ECF6",
           "caxis": {
            "gridcolor": "white",
            "linecolor": "white",
            "ticks": ""
           }
          },
          "title": {
           "x": 0.05
          },
          "xaxis": {
           "automargin": true,
           "gridcolor": "white",
           "linecolor": "white",
           "ticks": "",
           "title": {
            "standoff": 15
           },
           "zerolinecolor": "white",
           "zerolinewidth": 2
          },
          "yaxis": {
           "automargin": true,
           "gridcolor": "white",
           "linecolor": "white",
           "ticks": "",
           "title": {
            "standoff": 15
           },
           "zerolinecolor": "white",
           "zerolinewidth": 2
          }
         }
        },
        "title": {
         "text": "Top 10 quốc gia có ca mắc covid mới cao nhất"
        },
        "xaxis": {
         "title": {
          "text": "Quốc gia"
         }
        },
        "yaxis": {
         "title": {
          "text": "Số lượng"
         }
        }
       }
      }
     },
     "metadata": {},
     "output_type": "display_data"
    }
   ],
   "source": [
    "df_top = covid_df[['Country', 'New Cases']]\n",
    "df_top = df_top.sort_values(by='New Cases', ascending=False).head(10)\n",
    "\n",
    "fig = go.Figure()\n",
    "fig.add_trace(go.Bar(x=df_top['Country'], y=df_top['New Cases']))\n",
    "fig.update_layout(title='Top 10 quốc gia có ca mắc covid mới cao nhất', xaxis_title='Quốc gia', yaxis_title='Số lượng')\n",
    "fig.show()"
   ]
  },
  {
   "attachments": {},
   "cell_type": "markdown",
   "metadata": {},
   "source": [
    "- **Nhận xét biểu đồ**: \n",
    "  - Nga là quốc gia có số lượng ca mắc covid mới nhiều nhất trong ngày 06/03/2023. Điều này có thể được giải thích là do tỷ lệ tiêm phòng vắc xin của công chúng Nga đang giảm dần và việc đó đã trở nên không còn bắt buộc, quảng bá với các chủng virus mới, các lệnh bắt buộc mang khẩu trang tại nơi đông người bị gỡ bỏ. Hậu quả là số ca mắc tăng do miễn dịch cộng đồng không hiệu quả.\n",
    "  - Hầu hết các quốc gia có số ca nhiễm mới thuộc top đầu đều là các nước thuộc châu Á và châu Âu.\n",
    "  \n",
    "- **Quan hệ với các trường dữ liệu khác**: Nhìn tổng quan biểu đồ, số ca nhiễm của các quốc gia khác không cao như Nga, phải chăng điều này có lẽ là do Nga có dân số đông hơn các quốc gia còn lại nên số ca nhiễm cũng từ đó mà cao vượt trội hơn hẳn? Từ đó, nhóm có một câu hỏi đặt ra là:\n",
    "\n",
    "#### 1.2 Liệu dân số có ảnh hưởng đến việc tăng các ca nhiễm mới?\n",
    "- **Trường dữ liệu được trực quan**: `New Cases`, `Population`.\n",
    "- **Biểu đồ sử dụng**: Scatter.\n",
    "- **Tính phù hợp của biểu đồ**: Scatter là biểu đồ thông dụng nhất khi quan sát mối quan hệ của hai biến, đặc biệt là xem xét sự tương quan giữa hai biến đó. Với lý do như vậy nên sử dụng scatter plot cho câu hỏi xem xét liệu 2 biến `New Cases` và `Population` có sự tương quan với nhau hay không là phù hợp.\n",
    "- **Mục đích của câu hỏi:** Nhằm xem xét sự tương quan giữa số dân với mức nhiễm hiện tại của một quốc gia. Nếu một quốc gia đông dân thì số ca nhiễm cũng tăng lên nhiều theo dân số, ngược lại nếu một quốc gia ít dân thì số ca nhiễm cũng thấp theo."
   ]
  },
  {
   "cell_type": "code",
   "execution_count": 53,
   "metadata": {},
   "outputs": [
    {
     "data": {
      "application/vnd.plotly.v1+json": {
       "config": {
        "plotlyServerURL": "https://plot.ly"
       },
       "data": [
        {
         "hovertemplate": "Population (log scale)=%{x}<br>New Cases (log scale)=%{y}<extra></extra>",
         "legendgroup": "",
         "marker": {
          "color": "#636efa",
          "symbol": "circle"
         },
         "mode": "markers",
         "name": "",
         "orientation": "v",
         "showlegend": false,
         "type": "scatter",
         "x": [
          334805269,
          1406631776,
          65584518,
          83883596,
          215353593,
          125584838,
          51329899,
          60262770,
          68497907,
          145805947,
          85561976,
          46719142,
          98953541,
          26068792,
          23888595,
          46010234,
          17211447,
          86022837,
          131562772,
          279134505,
          37739785,
          51512762,
          9066710.000000002,
          10316637.000000002,
          10140570.000000002,
          43192122,
          19250195,
          33181072,
          9326000.000000002,
          25990679,
          70078203,
          11668278.000000002,
          10736784.000000002,
          38388419,
          33684208,
          8773637.000000002,
          112508994,
          60756135,
          19031335,
          5834950.000000001,
          7604299.000000001,
          10218971.000000002,
          8653016.000000002,
          42164965,
          5943546.000000001,
          4898203.000000001,
          9606259.000000002,
          167885689,
          5460193.000000001,
          3968738.000000001,
          10300869.000000002,
          5020199.000000001,
          229488994,
          5511370.000000001,
          5554960.000000001,
          19205043,
          2078034.000000001,
          2661708.000000001,
          6844597.000000001,
          37772756,
          4059286.000000001,
          18584039,
          6684849.000000001,
          5182354.000000001,
          11992656.000000002,
          12046656.000000002,
          11305652.000000002,
          18113361,
          10081785.000000002,
          3496016.000000001,
          4446964.000000001,
          3378078.000000001,
          30225582,
          9432800.000000002,
          1848837.000000001,
          35844909,
          10300205.000000002,
          7305843.000000001,
          1783983.000000001,
          21575842,
          4380326.000000001,
          11056370.000000002,
          1223387.000000001,
          55227143,
          5345541.000000001,
          1321910.000000001,
          4013171.000000001,
          29266991,
          106156692,
          7040745.000000001,
          120812698,
          2979915.000000001,
          908061.000000001,
          10221247.000000002,
          2971966.000000001,
          3249317.000000001,
          5323993.000000001,
          2081304.000000001,
          19470234,
          56215221,
          2866374.000000001,
          2441162.000000001,
          642371.000000001,
          627950.000000001,
          445431.000000001,
          45350148,
          216746934,
          15331428.000000002,
          34382084,
          33089461,
          374087.000000001,
          7481023.000000001,
          40754388,
          345393.000000001,
          6728271.000000001,
          399794.000000001,
          6550389.000000001,
          1406585.000000001,
          540985.000000001,
          32395450,
          2633874.000000001,
          48432863,
          2985094.000000001,
          17168639,
          13600464.000000002,
          27911548,
          444033.000000001,
          288023.000000001,
          35027343,
          176463.000000001,
          314169.000000001,
          95240792,
          17653671,
          20180839,
          27742298,
          596831.000000001,
          290915.000000001,
          284164.000000001,
          1184817.000000001,
          794045.000000001,
          412190.000000001,
          909466.000000001,
          29178077,
          45992020,
          4901981.000000001,
          567678.000000001,
          787941.000000001,
          19364809,
          12624840.000000002,
          99426.000000001,
          2331533.000000001,
          77463.000000001,
          9292169.000000002,
          165529.000000001,
          107609.000000001,
          63298550,
          286259.000000001,
          1274727.000000001,
          8680837.000000002,
          13865691.000000002,
          85732.000000001,
          400516.000000001,
          2175699.000000001,
          49233.000000001,
          11680283.000000002,
          21473764,
          67277.000000001,
          185113.000000001,
          12784726.000000002,
          16841795,
          5797805.000000001,
          721159.000000001,
          117489.000000001,
          34085.000000001,
          1369429.000000001,
          22102838,
          38387.000000001,
          33704.000000001,
          113475.000000001,
          61939.000000001,
          6779100.000000001,
          11618511.000000002,
          9957464.000000002,
          1496662.000000001,
          107749.000000001,
          202239.000000001,
          39783.000000001,
          72344.000000001,
          1016097.000000001,
          60057.000000001,
          5016678.000000001,
          2558482.000000001,
          39730.000000001,
          321832.000000001,
          56973.000000001,
          31154867,
          26647.000000001,
          43966.000000001,
          3662244.000000001,
          26083660,
          111551.000000001,
          99509.000000001,
          907419.000000001,
          2063367.000000001,
          5305117.000000001,
          8306436.000000001,
          17413580,
          30596.000000001,
          17571.000000001,
          53871.000000001,
          39741.000000001,
          227679.000000001,
          18233.000000001,
          9945.000000001,
          10903.000000001,
          123419.000000001,
          15230.000000001,
          667490.000000001,
          5759.000000001,
          10982.000000001,
          12066.000000001,
          6115.000000001,
          3539.000000001,
          4965.000000001,
          1622.000000001,
          1e-9,
          799.000000001,
          626161.000000001,
          1e-9,
          1378.000000001,
          1448471400
         ],
         "xaxis": "x",
         "y": [
          1e-9,
          1e-9,
          1e-9,
          1e-9,
          1e-9,
          4263.000000001,
          4300.000000001,
          1e-9,
          1e-9,
          11163.000000001,
          1e-9,
          1e-9,
          1e-9,
          1e-9,
          7080.000000001,
          1e-9,
          1e-9,
          511.000000001,
          525.000000001,
          144.000000001,
          450.000000001,
          1e-9,
          1e-9,
          1e-9,
          1e-9,
          1e-9,
          1e-9,
          1e-9,
          1e-9,
          1e-9,
          147.000000001,
          1e-9,
          119.000000001,
          1e-9,
          1e-9,
          1e-9,
          117.000000001,
          1e-9,
          5704.000000001,
          45.000000001,
          1e-9,
          1e-9,
          1e-9,
          1e-9,
          1e-9,
          1634.000000001,
          1e-9,
          1e-9,
          21.000000001,
          1e-9,
          1e-9,
          1e-9,
          50.000000001,
          1e-9,
          1e-9,
          1e-9,
          89.000000001,
          41.000000001,
          1e-9,
          1e-9,
          334.000000001,
          1e-9,
          1e-9,
          1e-9,
          1e-9,
          1e-9,
          1e-9,
          1e-9,
          145.000000001,
          1e-9,
          1e-9,
          1e-9,
          1e-9,
          1e-9,
          13.000000001,
          98.000000001,
          9.000000001,
          1e-9,
          1e-9,
          1e-9,
          1e-9,
          1e-9,
          1e-9,
          1e-9,
          1e-9,
          1e-9,
          1e-9,
          1e-9,
          1e-9,
          13.000000001,
          1e-9,
          124.000000001,
          1e-9,
          1e-9,
          1e-9,
          1e-9,
          1e-9,
          1e-9,
          1e-9,
          1e-9,
          1e-9,
          1e-9,
          1e-9,
          1e-9,
          1e-9,
          1e-9,
          1e-9,
          1e-9,
          1e-9,
          1e-9,
          1e-9,
          1e-9,
          12.000000001,
          1e-9,
          1e-9,
          1e-9,
          1e-9,
          1e-9,
          1e-9,
          1e-9,
          1e-9,
          1e-9,
          1e-9,
          1e-9,
          1e-9,
          1e-9,
          1e-9,
          1e-9,
          1e-9,
          1e-9,
          1e-9,
          1e-9,
          1e-9,
          1e-9,
          1e-9,
          1e-9,
          1e-9,
          1e-9,
          1e-9,
          1e-9,
          1e-9,
          1e-9,
          1e-9,
          1e-9,
          1e-9,
          1e-9,
          1e-9,
          1e-9,
          1e-9,
          1e-9,
          1e-9,
          1e-9,
          1e-9,
          1e-9,
          1e-9,
          1e-9,
          1e-9,
          1e-9,
          1e-9,
          1e-9,
          1e-9,
          1e-9,
          1e-9,
          1e-9,
          1e-9,
          1e-9,
          1e-9,
          1e-9,
          1e-9,
          1e-9,
          1e-9,
          1e-9,
          1e-9,
          1e-9,
          1e-9,
          1e-9,
          1e-9,
          1e-9,
          1e-9,
          1e-9,
          1e-9,
          1e-9,
          1e-9,
          1e-9,
          1e-9,
          1e-9,
          1e-9,
          1e-9,
          1e-9,
          1e-9,
          1e-9,
          1e-9,
          1e-9,
          1e-9,
          1e-9,
          1e-9,
          1e-9,
          1e-9,
          1e-9,
          1e-9,
          1e-9,
          1e-9,
          1e-9,
          1e-9,
          1e-9,
          1e-9,
          1e-9,
          1e-9,
          1e-9,
          1e-9,
          1e-9,
          1e-9,
          1e-9,
          1e-9,
          1e-9,
          1e-9,
          1e-9,
          1e-9,
          1e-9,
          1e-9,
          1e-9,
          1e-9,
          1e-9,
          1e-9,
          1e-9,
          1e-9,
          1e-9,
          1e-9,
          1e-9,
          1e-9,
          1e-9
         ],
         "yaxis": "y"
        },
        {
         "hovertemplate": "<b>OLS trendline</b><br>New Cases = 3.66312e-07 * Population + 148.228<br>R<sup>2</sup>=0.002435<br><br>Population (log scale)=%{x}<br>New Cases (log scale)=%{y} <b>(trend)</b><extra></extra>",
         "legendgroup": "",
         "marker": {
          "color": "#636efa",
          "symbol": "circle"
         },
         "mode": "lines",
         "name": "",
         "showlegend": false,
         "type": "scatter",
         "x": [
          1e-9,
          1e-9,
          799.000000001,
          1378.000000001,
          1622.000000001,
          3539.000000001,
          4965.000000001,
          5759.000000001,
          6115.000000001,
          9945.000000001,
          10903.000000001,
          10982.000000001,
          12066.000000001,
          15230.000000001,
          17571.000000001,
          18233.000000001,
          26647.000000001,
          30596.000000001,
          33704.000000001,
          34085.000000001,
          38387.000000001,
          39730.000000001,
          39741.000000001,
          39783.000000001,
          43966.000000001,
          49233.000000001,
          53871.000000001,
          56973.000000001,
          60057.000000001,
          61939.000000001,
          67277.000000001,
          72344.000000001,
          77463.000000001,
          85732.000000001,
          99426.000000001,
          99509.000000001,
          107609.000000001,
          107749.000000001,
          111551.000000001,
          113475.000000001,
          117489.000000001,
          123419.000000001,
          165529.000000001,
          176463.000000001,
          185113.000000001,
          202239.000000001,
          227679.000000001,
          284164.000000001,
          286259.000000001,
          288023.000000001,
          290915.000000001,
          314169.000000001,
          321832.000000001,
          345393.000000001,
          374087.000000001,
          399794.000000001,
          400516.000000001,
          412190.000000001,
          444033.000000001,
          445431.000000001,
          540985.000000001,
          567678.000000001,
          596831.000000001,
          626161.000000001,
          627950.000000001,
          642371.000000001,
          667490.000000001,
          721159.000000001,
          787941.000000001,
          794045.000000001,
          907419.000000001,
          908061.000000001,
          909466.000000001,
          1016097.000000001,
          1184817.000000001,
          1223387.000000001,
          1274727.000000001,
          1321910.000000001,
          1369429.000000001,
          1406585.000000001,
          1496662.000000001,
          1783983.000000001,
          1848837.000000001,
          2063367.000000001,
          2078034.000000001,
          2081304.000000001,
          2175699.000000001,
          2331533.000000001,
          2441162.000000001,
          2558482.000000001,
          2633874.000000001,
          2661708.000000001,
          2866374.000000001,
          2971966.000000001,
          2979915.000000001,
          2985094.000000001,
          3249317.000000001,
          3378078.000000001,
          3496016.000000001,
          3662244.000000001,
          3968738.000000001,
          4013171.000000001,
          4059286.000000001,
          4380326.000000001,
          4446964.000000001,
          4898203.000000001,
          4901981.000000001,
          5016678.000000001,
          5020199.000000001,
          5182354.000000001,
          5305117.000000001,
          5323993.000000001,
          5345541.000000001,
          5460193.000000001,
          5511370.000000001,
          5554960.000000001,
          5797805.000000001,
          5834950.000000001,
          5943546.000000001,
          6550389.000000001,
          6684849.000000001,
          6728271.000000001,
          6779100.000000001,
          6844597.000000001,
          7040745.000000001,
          7305843.000000001,
          7481023.000000001,
          7604299.000000001,
          8306436.000000001,
          8653016.000000002,
          8680837.000000002,
          8773637.000000002,
          9066710.000000002,
          9292169.000000002,
          9326000.000000002,
          9432800.000000002,
          9606259.000000002,
          9957464.000000002,
          10081785.000000002,
          10140570.000000002,
          10218971.000000002,
          10221247.000000002,
          10300205.000000002,
          10300869.000000002,
          10316637.000000002,
          10736784.000000002,
          11056370.000000002,
          11305652.000000002,
          11618511.000000002,
          11668278.000000002,
          11680283.000000002,
          11992656.000000002,
          12046656.000000002,
          12624840.000000002,
          12784726.000000002,
          13600464.000000002,
          13865691.000000002,
          15331428.000000002,
          16841795,
          17168639,
          17211447,
          17413580,
          17653671,
          18113361,
          18584039,
          19031335,
          19205043,
          19250195,
          19364809,
          19470234,
          20180839,
          21473764,
          21575842,
          22102838,
          23888595,
          25990679,
          26068792,
          26083660,
          27742298,
          27911548,
          29178077,
          29266991,
          30225582,
          31154867,
          32395450,
          33089461,
          33181072,
          33684208,
          34382084,
          35027343,
          35844909,
          37739785,
          37772756,
          38388419,
          40754388,
          42164965,
          43192122,
          45350148,
          45992020,
          46010234,
          46719142,
          48432863,
          51329899,
          51512762,
          55227143,
          56215221,
          60262770,
          60756135,
          63298550,
          65584518,
          68497907,
          70078203,
          83883596,
          85561976,
          86022837,
          95240792,
          98953541,
          106156692,
          112508994,
          120812698,
          125584838,
          131562772,
          145805947,
          167885689,
          215353593,
          216746934,
          229488994,
          279134505,
          334805269,
          1406631776,
          1448471400
         ],
         "xaxis": "x",
         "y": [
          148.22802197635974,
          148.22802197635974,
          148.2283146598334,
          148.22852675461593,
          148.2286161348006,
          148.22931835535002,
          148.22984071659334,
          148.23013156850584,
          148.23026197566054,
          148.23166495151042,
          148.23201587862903,
          148.2320448172954,
          148.23244189975526,
          148.23360091165839,
          148.23445844859432,
          148.23470094729214,
          148.2377830984151,
          148.23922966542065,
          148.24036816383878,
          148.24050772879932,
          148.24208360402287,
          148.24257556135092,
          148.24257959078545,
          148.2425949758992,
          148.24412725996712,
          148.2460566264949,
          148.24775558262854,
          148.24889188317326,
          148.25002159009782,
          148.2507109897191,
          148.25266636441538,
          148.25452246849667,
          148.25639762081406,
          148.25942665666335,
          148.26444293637311,
          148.2644733402884,
          148.2674404693704,
          148.26749175308294,
          148.26888447219034,
          148.26958925692537,
          148.271059634226,
          148.27323186576382,
          148.28865727386798,
          148.29266253181646,
          148.29583113262626,
          148.30210459591746,
          148.31142357910838,
          148.33211472555251,
          148.33288214967928,
          148.33352832445715,
          148.3345876994331,
          148.34310592408409,
          148.34591297472056,
          148.3545436572269,
          148.3650546204219,
          148.37447140897885,
          148.3747358864106,
          148.37901221541102,
          148.39067669582565,
          148.3911888003265,
          148.4261913993762,
          148.43596937179424,
          148.44664847230388,
          148.45739241007863,
          148.4580477426623,
          148.46333033136497,
          148.4725317283293,
          148.49219133952715,
          148.5166544030278,
          148.51889037289402,
          148.5604206559242,
          148.56065582837735,
          148.5611704970638,
          148.60023073671124,
          148.66203493655289,
          148.67616359935454,
          148.69497006936325,
          148.7122537794221,
          148.72966057039102,
          148.74327126769612,
          148.77626757464927,
          148.88151677155955,
          148.9052735850762,
          148.9838585482817,
          148.98923124979353,
          148.99042909079333,
          149.02500713396574,
          149.08209103438136,
          149.1222494781014,
          149.1652252292004,
          149.1928422410215,
          149.20303817569666,
          149.2780098350423,
          149.31668947628032,
          149.31960129221525,
          149.32149842326658,
          149.4182865402341,
          149.46545326958338,
          149.50865540164196,
          149.56954675140062,
          149.6818192527417,
          149.69809560416158,
          149.7149880927563,
          149.8325889718291,
          149.85699928636825,
          150.02229365178047,
          150.02367757939427,
          150.06569249350784,
          150.06698227887793,
          150.1263816389142,
          150.1713512274939,
          150.17826573719168,
          150.1861590331743,
          150.22815746323738,
          150.24690422435222,
          150.26287177456024,
          150.35182886862466,
          150.3654355364952,
          150.4052155796792,
          150.6275095936936,
          150.67676393645502,
          150.692669946208,
          150.711289230666,
          150.73528158294806,
          150.80713299469852,
          150.90424163486935,
          150.968412211732,
          151.01356971848685,
          151.27077109037054,
          151.39772758385752,
          151.40791875647363,
          151.4419125316355,
          151.54926875650622,
          151.63185714609904,
          151.64424985523158,
          151.6833720016463,
          151.74691215515705,
          151.8755628427186,
          151.92110314575626,
          151.94263681033482,
          151.97135605566308,
          151.9721897823039,
          152.00111306354557,
          152.00135629486786,
          152.00713230614753,
          152.16103729163157,
          152.27810555271856,
          152.36942059862258,
          152.48402467732257,
          152.5022549381898,
          152.50665251653913,
          152.62107856749418,
          152.64085942804093,
          152.8526552997885,
          152.91122349736958,
          153.2100383051602,
          153.307194199609,
          153.84411159211317,
          154.39737749954702,
          154.51710445481638,
          154.5327855488587,
          154.60682933931977,
          154.6947776094963,
          154.86316767958405,
          155.03558278848087,
          155.19943278476094,
          155.26306415001753,
          155.2796038799325,
          155.32158839013076,
          155.360206857226,
          155.6205101610932,
          156.09412440410097,
          156.13151682415452,
          156.32456190535268,
          156.97870653845266,
          157.7487256210744,
          157.77733936847977,
          157.7827856987503,
          158.39036508718652,
          158.45236343251133,
          158.91630849783405,
          158.948878783661,
          159.3000223927791,
          159.64043085561607,
          160.0948715837583,
          160.34909630244195,
          160.38265453235954,
          160.5669594036939,
          160.82259991915555,
          161.0589661838878,
          161.35845061043912,
          162.05256686802065,
          162.06464454863337,
          162.29016943653707,
          163.15685282259182,
          163.6735644323597,
          164.04982460600095,
          164.8403359275247,
          165.075461492726,
          165.08213350372597,
          165.3418151757349,
          165.96957214086552,
          167.0307918652163,
          167.09777681896003,
          168.4584000148588,
          168.82034507277214,
          170.30301178249763,
          170.4837374170097,
          171.41505513121322,
          172.25243317236794,
          173.3196432006543,
          173.89852495618396,
          178.95560928444712,
          179.57042040897437,
          179.7392394306862,
          183.1158891044141,
          184.47591447874964,
          187.11451680149506,
          189.4414427276599,
          192.48319107665193,
          194.23128433312627,
          196.4210746814917,
          201.63852391145636,
          209.726603493131,
          227.11467737222304,
          227.6250752243542,
          232.29264766765868,
          250.47840562809608,
          270.87128746542135,
          663.4944479337069,
          678.8208140017227
         ],
         "yaxis": "y"
        }
       ],
       "layout": {
        "legend": {
         "tracegroupgap": 0
        },
        "template": {
         "data": {
          "bar": [
           {
            "error_x": {
             "color": "#2a3f5f"
            },
            "error_y": {
             "color": "#2a3f5f"
            },
            "marker": {
             "line": {
              "color": "#E5ECF6",
              "width": 0.5
             },
             "pattern": {
              "fillmode": "overlay",
              "size": 10,
              "solidity": 0.2
             }
            },
            "type": "bar"
           }
          ],
          "barpolar": [
           {
            "marker": {
             "line": {
              "color": "#E5ECF6",
              "width": 0.5
             },
             "pattern": {
              "fillmode": "overlay",
              "size": 10,
              "solidity": 0.2
             }
            },
            "type": "barpolar"
           }
          ],
          "carpet": [
           {
            "aaxis": {
             "endlinecolor": "#2a3f5f",
             "gridcolor": "white",
             "linecolor": "white",
             "minorgridcolor": "white",
             "startlinecolor": "#2a3f5f"
            },
            "baxis": {
             "endlinecolor": "#2a3f5f",
             "gridcolor": "white",
             "linecolor": "white",
             "minorgridcolor": "white",
             "startlinecolor": "#2a3f5f"
            },
            "type": "carpet"
           }
          ],
          "choropleth": [
           {
            "colorbar": {
             "outlinewidth": 0,
             "ticks": ""
            },
            "type": "choropleth"
           }
          ],
          "contour": [
           {
            "colorbar": {
             "outlinewidth": 0,
             "ticks": ""
            },
            "colorscale": [
             [
              0,
              "#0d0887"
             ],
             [
              0.1111111111111111,
              "#46039f"
             ],
             [
              0.2222222222222222,
              "#7201a8"
             ],
             [
              0.3333333333333333,
              "#9c179e"
             ],
             [
              0.4444444444444444,
              "#bd3786"
             ],
             [
              0.5555555555555556,
              "#d8576b"
             ],
             [
              0.6666666666666666,
              "#ed7953"
             ],
             [
              0.7777777777777778,
              "#fb9f3a"
             ],
             [
              0.8888888888888888,
              "#fdca26"
             ],
             [
              1,
              "#f0f921"
             ]
            ],
            "type": "contour"
           }
          ],
          "contourcarpet": [
           {
            "colorbar": {
             "outlinewidth": 0,
             "ticks": ""
            },
            "type": "contourcarpet"
           }
          ],
          "heatmap": [
           {
            "colorbar": {
             "outlinewidth": 0,
             "ticks": ""
            },
            "colorscale": [
             [
              0,
              "#0d0887"
             ],
             [
              0.1111111111111111,
              "#46039f"
             ],
             [
              0.2222222222222222,
              "#7201a8"
             ],
             [
              0.3333333333333333,
              "#9c179e"
             ],
             [
              0.4444444444444444,
              "#bd3786"
             ],
             [
              0.5555555555555556,
              "#d8576b"
             ],
             [
              0.6666666666666666,
              "#ed7953"
             ],
             [
              0.7777777777777778,
              "#fb9f3a"
             ],
             [
              0.8888888888888888,
              "#fdca26"
             ],
             [
              1,
              "#f0f921"
             ]
            ],
            "type": "heatmap"
           }
          ],
          "heatmapgl": [
           {
            "colorbar": {
             "outlinewidth": 0,
             "ticks": ""
            },
            "colorscale": [
             [
              0,
              "#0d0887"
             ],
             [
              0.1111111111111111,
              "#46039f"
             ],
             [
              0.2222222222222222,
              "#7201a8"
             ],
             [
              0.3333333333333333,
              "#9c179e"
             ],
             [
              0.4444444444444444,
              "#bd3786"
             ],
             [
              0.5555555555555556,
              "#d8576b"
             ],
             [
              0.6666666666666666,
              "#ed7953"
             ],
             [
              0.7777777777777778,
              "#fb9f3a"
             ],
             [
              0.8888888888888888,
              "#fdca26"
             ],
             [
              1,
              "#f0f921"
             ]
            ],
            "type": "heatmapgl"
           }
          ],
          "histogram": [
           {
            "marker": {
             "pattern": {
              "fillmode": "overlay",
              "size": 10,
              "solidity": 0.2
             }
            },
            "type": "histogram"
           }
          ],
          "histogram2d": [
           {
            "colorbar": {
             "outlinewidth": 0,
             "ticks": ""
            },
            "colorscale": [
             [
              0,
              "#0d0887"
             ],
             [
              0.1111111111111111,
              "#46039f"
             ],
             [
              0.2222222222222222,
              "#7201a8"
             ],
             [
              0.3333333333333333,
              "#9c179e"
             ],
             [
              0.4444444444444444,
              "#bd3786"
             ],
             [
              0.5555555555555556,
              "#d8576b"
             ],
             [
              0.6666666666666666,
              "#ed7953"
             ],
             [
              0.7777777777777778,
              "#fb9f3a"
             ],
             [
              0.8888888888888888,
              "#fdca26"
             ],
             [
              1,
              "#f0f921"
             ]
            ],
            "type": "histogram2d"
           }
          ],
          "histogram2dcontour": [
           {
            "colorbar": {
             "outlinewidth": 0,
             "ticks": ""
            },
            "colorscale": [
             [
              0,
              "#0d0887"
             ],
             [
              0.1111111111111111,
              "#46039f"
             ],
             [
              0.2222222222222222,
              "#7201a8"
             ],
             [
              0.3333333333333333,
              "#9c179e"
             ],
             [
              0.4444444444444444,
              "#bd3786"
             ],
             [
              0.5555555555555556,
              "#d8576b"
             ],
             [
              0.6666666666666666,
              "#ed7953"
             ],
             [
              0.7777777777777778,
              "#fb9f3a"
             ],
             [
              0.8888888888888888,
              "#fdca26"
             ],
             [
              1,
              "#f0f921"
             ]
            ],
            "type": "histogram2dcontour"
           }
          ],
          "mesh3d": [
           {
            "colorbar": {
             "outlinewidth": 0,
             "ticks": ""
            },
            "type": "mesh3d"
           }
          ],
          "parcoords": [
           {
            "line": {
             "colorbar": {
              "outlinewidth": 0,
              "ticks": ""
             }
            },
            "type": "parcoords"
           }
          ],
          "pie": [
           {
            "automargin": true,
            "type": "pie"
           }
          ],
          "scatter": [
           {
            "fillpattern": {
             "fillmode": "overlay",
             "size": 10,
             "solidity": 0.2
            },
            "type": "scatter"
           }
          ],
          "scatter3d": [
           {
            "line": {
             "colorbar": {
              "outlinewidth": 0,
              "ticks": ""
             }
            },
            "marker": {
             "colorbar": {
              "outlinewidth": 0,
              "ticks": ""
             }
            },
            "type": "scatter3d"
           }
          ],
          "scattercarpet": [
           {
            "marker": {
             "colorbar": {
              "outlinewidth": 0,
              "ticks": ""
             }
            },
            "type": "scattercarpet"
           }
          ],
          "scattergeo": [
           {
            "marker": {
             "colorbar": {
              "outlinewidth": 0,
              "ticks": ""
             }
            },
            "type": "scattergeo"
           }
          ],
          "scattergl": [
           {
            "marker": {
             "colorbar": {
              "outlinewidth": 0,
              "ticks": ""
             }
            },
            "type": "scattergl"
           }
          ],
          "scattermapbox": [
           {
            "marker": {
             "colorbar": {
              "outlinewidth": 0,
              "ticks": ""
             }
            },
            "type": "scattermapbox"
           }
          ],
          "scatterpolar": [
           {
            "marker": {
             "colorbar": {
              "outlinewidth": 0,
              "ticks": ""
             }
            },
            "type": "scatterpolar"
           }
          ],
          "scatterpolargl": [
           {
            "marker": {
             "colorbar": {
              "outlinewidth": 0,
              "ticks": ""
             }
            },
            "type": "scatterpolargl"
           }
          ],
          "scatterternary": [
           {
            "marker": {
             "colorbar": {
              "outlinewidth": 0,
              "ticks": ""
             }
            },
            "type": "scatterternary"
           }
          ],
          "surface": [
           {
            "colorbar": {
             "outlinewidth": 0,
             "ticks": ""
            },
            "colorscale": [
             [
              0,
              "#0d0887"
             ],
             [
              0.1111111111111111,
              "#46039f"
             ],
             [
              0.2222222222222222,
              "#7201a8"
             ],
             [
              0.3333333333333333,
              "#9c179e"
             ],
             [
              0.4444444444444444,
              "#bd3786"
             ],
             [
              0.5555555555555556,
              "#d8576b"
             ],
             [
              0.6666666666666666,
              "#ed7953"
             ],
             [
              0.7777777777777778,
              "#fb9f3a"
             ],
             [
              0.8888888888888888,
              "#fdca26"
             ],
             [
              1,
              "#f0f921"
             ]
            ],
            "type": "surface"
           }
          ],
          "table": [
           {
            "cells": {
             "fill": {
              "color": "#EBF0F8"
             },
             "line": {
              "color": "white"
             }
            },
            "header": {
             "fill": {
              "color": "#C8D4E3"
             },
             "line": {
              "color": "white"
             }
            },
            "type": "table"
           }
          ]
         },
         "layout": {
          "annotationdefaults": {
           "arrowcolor": "#2a3f5f",
           "arrowhead": 0,
           "arrowwidth": 1
          },
          "autotypenumbers": "strict",
          "coloraxis": {
           "colorbar": {
            "outlinewidth": 0,
            "ticks": ""
           }
          },
          "colorscale": {
           "diverging": [
            [
             0,
             "#8e0152"
            ],
            [
             0.1,
             "#c51b7d"
            ],
            [
             0.2,
             "#de77ae"
            ],
            [
             0.3,
             "#f1b6da"
            ],
            [
             0.4,
             "#fde0ef"
            ],
            [
             0.5,
             "#f7f7f7"
            ],
            [
             0.6,
             "#e6f5d0"
            ],
            [
             0.7,
             "#b8e186"
            ],
            [
             0.8,
             "#7fbc41"
            ],
            [
             0.9,
             "#4d9221"
            ],
            [
             1,
             "#276419"
            ]
           ],
           "sequential": [
            [
             0,
             "#0d0887"
            ],
            [
             0.1111111111111111,
             "#46039f"
            ],
            [
             0.2222222222222222,
             "#7201a8"
            ],
            [
             0.3333333333333333,
             "#9c179e"
            ],
            [
             0.4444444444444444,
             "#bd3786"
            ],
            [
             0.5555555555555556,
             "#d8576b"
            ],
            [
             0.6666666666666666,
             "#ed7953"
            ],
            [
             0.7777777777777778,
             "#fb9f3a"
            ],
            [
             0.8888888888888888,
             "#fdca26"
            ],
            [
             1,
             "#f0f921"
            ]
           ],
           "sequentialminus": [
            [
             0,
             "#0d0887"
            ],
            [
             0.1111111111111111,
             "#46039f"
            ],
            [
             0.2222222222222222,
             "#7201a8"
            ],
            [
             0.3333333333333333,
             "#9c179e"
            ],
            [
             0.4444444444444444,
             "#bd3786"
            ],
            [
             0.5555555555555556,
             "#d8576b"
            ],
            [
             0.6666666666666666,
             "#ed7953"
            ],
            [
             0.7777777777777778,
             "#fb9f3a"
            ],
            [
             0.8888888888888888,
             "#fdca26"
            ],
            [
             1,
             "#f0f921"
            ]
           ]
          },
          "colorway": [
           "#636efa",
           "#EF553B",
           "#00cc96",
           "#ab63fa",
           "#FFA15A",
           "#19d3f3",
           "#FF6692",
           "#B6E880",
           "#FF97FF",
           "#FECB52"
          ],
          "font": {
           "color": "#2a3f5f"
          },
          "geo": {
           "bgcolor": "white",
           "lakecolor": "white",
           "landcolor": "#E5ECF6",
           "showlakes": true,
           "showland": true,
           "subunitcolor": "white"
          },
          "hoverlabel": {
           "align": "left"
          },
          "hovermode": "closest",
          "mapbox": {
           "style": "light"
          },
          "paper_bgcolor": "white",
          "plot_bgcolor": "#E5ECF6",
          "polar": {
           "angularaxis": {
            "gridcolor": "white",
            "linecolor": "white",
            "ticks": ""
           },
           "bgcolor": "#E5ECF6",
           "radialaxis": {
            "gridcolor": "white",
            "linecolor": "white",
            "ticks": ""
           }
          },
          "scene": {
           "xaxis": {
            "backgroundcolor": "#E5ECF6",
            "gridcolor": "white",
            "gridwidth": 2,
            "linecolor": "white",
            "showbackground": true,
            "ticks": "",
            "zerolinecolor": "white"
           },
           "yaxis": {
            "backgroundcolor": "#E5ECF6",
            "gridcolor": "white",
            "gridwidth": 2,
            "linecolor": "white",
            "showbackground": true,
            "ticks": "",
            "zerolinecolor": "white"
           },
           "zaxis": {
            "backgroundcolor": "#E5ECF6",
            "gridcolor": "white",
            "gridwidth": 2,
            "linecolor": "white",
            "showbackground": true,
            "ticks": "",
            "zerolinecolor": "white"
           }
          },
          "shapedefaults": {
           "line": {
            "color": "#2a3f5f"
           }
          },
          "ternary": {
           "aaxis": {
            "gridcolor": "white",
            "linecolor": "white",
            "ticks": ""
           },
           "baxis": {
            "gridcolor": "white",
            "linecolor": "white",
            "ticks": ""
           },
           "bgcolor": "#E5ECF6",
           "caxis": {
            "gridcolor": "white",
            "linecolor": "white",
            "ticks": ""
           }
          },
          "title": {
           "x": 0.05
          },
          "xaxis": {
           "automargin": true,
           "gridcolor": "white",
           "linecolor": "white",
           "ticks": "",
           "title": {
            "standoff": 15
           },
           "zerolinecolor": "white",
           "zerolinewidth": 2
          },
          "yaxis": {
           "automargin": true,
           "gridcolor": "white",
           "linecolor": "white",
           "ticks": "",
           "title": {
            "standoff": 15
           },
           "zerolinecolor": "white",
           "zerolinewidth": 2
          }
         }
        },
        "title": {
         "text": "Relationship between Population and New Cases"
        },
        "xaxis": {
         "anchor": "y",
         "domain": [
          0,
          1
         ],
         "title": {
          "text": "Population (log scale)"
         },
         "type": "log"
        },
        "yaxis": {
         "anchor": "x",
         "domain": [
          0,
          1
         ],
         "title": {
          "text": "New Cases (log scale)"
         },
         "type": "log"
        }
       }
      }
     },
     "metadata": {},
     "output_type": "display_data"
    }
   ],
   "source": [
    "epsilon = 1e-9\n",
    "covid_df['Population'] = covid_df['Population'] + epsilon\n",
    "covid_df['New Cases'] = covid_df['New Cases'] + epsilon\n",
    "\n",
    "fig = px.scatter(data_frame=covid_df, x='Population', y='New Cases', \n",
    "                 log_x=True, log_y=True, \n",
    "                 labels={'Population': 'Population (log scale)', \n",
    "                         'New Cases': 'New Cases (log scale)'},\n",
    "                 title='Relationship between Population and New Cases', trendline='ols')\n",
    "\n",
    "fig.show()"
   ]
  },
  {
   "attachments": {},
   "cell_type": "markdown",
   "metadata": {},
   "source": [
    "- **Nhận xét biểu đồ**: \n",
    "  - Dựa vào biểu đồ với trendline (đường xu hướng), ta có một phương trình hồi quy là: $$New \\ Cases = 3.66312*10^{-7} * Population + 148.228$$ và hệ số xác định của nó là: $$R^2 = 0.002435$$. Điều này cho ta biết thì với mỗi đơn vị tăng dân số, số ca mắc mới tăng khoảng $3.66312*10^{-7}$ đơn vị và giá trị cố định ban đầu của ca mắc mới là 148228. Với $R^2 = 0.002435$ cho ta biết chỉ khoảng 0.24% là sự biến thiên của số ca mắc mới có thể được giải thích bởi sự biến đổi của dân số. Như vậy, ta có thể khẳng định được rằng dân số phông phải là một yếu tố quyết định trong việc giải thích sự biến động của ca mắc mới. \n",
    "  - Có lẽ vì một số nước đông dân đã áp dụng tốt các quy định về phòng chống dịch covid hoặc miễn dịch cộng đồng cao làm cho số ca mắc mới giảm. "
   ]
  },
  {
   "attachments": {},
   "cell_type": "markdown",
   "metadata": {},
   "source": [
    "#### 1.3 Sự tác động của dịch bệnh qua mối quan hệ của 3 biến `Total Cases, New Cases, New Recovered`:\n",
    "- **Trường dữ liệu được trực quan**: `New Cases, Total Cases, New Recovered`.\n",
    "- **Biểu đồ sử dụng**: Bubble scatter chart.\n",
    "- **Tính phù hợp của biểu đồ**: Bubble scatter chart cho phép vừa biểu thị mối quan hệ giữa hai biến `New Cases`, `New Recoverd` cũng vừa có thể cho phép biến thứ ba là `Total Cases` tham gia vào quá trình trực quan (thể hiện dưới dạng kích thước điểm dữ liệu) mà không cần sử dụng một biểu đồ 3D để làm việc đó.\n",
    "- **Mục đích của câu hỏi:** Nhằm thể hiện mức độ phòng chống dịch bệnh của các quốc gia và khả năng chữa trị của các quốc gia đó với dịch bệnh Covid như thế nào. "
   ]
  },
  {
   "cell_type": "code",
   "execution_count": 54,
   "metadata": {},
   "outputs": [
    {
     "data": {
      "application/vnd.plotly.v1+json": {
       "config": {
        "plotlyServerURL": "https://plot.ly"
       },
       "data": [
        {
         "hovertemplate": "<b>%{hovertext}</b><br><br>Continent=North America<br>New Cases=%{x}<br>New Recovered=%{y}<br>Total Cases=%{marker.size}<extra></extra>",
         "hovertext": [
          "USA",
          "Mexico",
          "Canada",
          "Guatemala",
          "Costa Rica",
          "Cuba",
          "Panama",
          "Dominican Republic",
          "Honduras",
          "Martinique",
          "Guadeloupe",
          "El Salvador",
          "Trinidad and Tobago",
          "Jamaica",
          "Barbados",
          "Belize",
          "Curaçao",
          "Aruba",
          "Bahamas",
          "Haiti",
          "Cayman Islands",
          "Saint Lucia",
          "Grenada",
          "Bermuda",
          "Nicaragua",
          "Dominica",
          "Saint Martin",
          "Greenland",
          "Caribbean Netherlands",
          "Sint Maarten",
          "St. Vincent Grenadines",
          "Antigua and Barbuda",
          "British Virgin Islands",
          "Saint Kitts and Nevis",
          "Turks and Caicos",
          "St. Barth",
          "Anguilla",
          "Saint Pierre Miquelon",
          "Montserrat"
         ],
         "legendgroup": "North America",
         "marker": {
          "color": "#636efa",
          "size": [
           105396817,
           7470653,
           4591149,
           1237564,
           1204164,
           1112625,
           1031273,
           660705,
           472219,
           229807,
           201852,
           201785,
           189296,
           154196,
           106645,
           70757,
           45986,
           44044,
           37491,
           34202,
           31472,
           30004,
           19680,
           18814,
           18491,
           15760,
           12257,
           11971,
           11676,
           11020,
           9589,
           9106,
           7305,
           6597,
           6551,
           5439,
           3904,
           3452,
           1403
          ],
          "sizemode": "area",
          "sizeref": 65873.010625,
          "symbol": "circle"
         },
         "mode": "markers",
         "name": "North America",
         "orientation": "v",
         "showlegend": true,
         "type": "scatter",
         "x": [
          1e-9,
          525.000000001,
          1e-9,
          1e-9,
          1e-9,
          1e-9,
          1e-9,
          1e-9,
          1e-9,
          1e-9,
          1e-9,
          1e-9,
          1e-9,
          1e-9,
          1e-9,
          1e-9,
          1e-9,
          1e-9,
          1e-9,
          1e-9,
          1e-9,
          1e-9,
          1e-9,
          1e-9,
          1e-9,
          1e-9,
          1e-9,
          1e-9,
          1e-9,
          1e-9,
          1e-9,
          1e-9,
          1e-9,
          1e-9,
          1e-9,
          1e-9,
          1e-9,
          1e-9,
          1e-9
         ],
         "xaxis": "x",
         "y": [
          0,
          2912,
          1530,
          0,
          0,
          0,
          0,
          0,
          0,
          0,
          0,
          0,
          0,
          0,
          0,
          0,
          0,
          0,
          0,
          0,
          0,
          0,
          0,
          0,
          0,
          0,
          0,
          0,
          0,
          0,
          0,
          0,
          0,
          0,
          0,
          0,
          0,
          0,
          0
         ],
         "yaxis": "y"
        },
        {
         "hovertemplate": "<b>%{hovertext}</b><br><br>Continent=Asia<br>New Cases=%{x}<br>New Recovered=%{y}<br>Total Cases=%{marker.size}<extra></extra>",
         "hovertext": [
          "India",
          "Japan",
          "S. Korea",
          "Turkey",
          "Vietnam",
          "Taiwan",
          "Iran",
          "Indonesia",
          "Malaysia",
          "Israel",
          "DPRK",
          "Thailand",
          "Philippines",
          "Hong Kong",
          "Iraq",
          "Singapore",
          "Bangladesh",
          "Georgia",
          "Jordan",
          "Pakistan",
          "Kazakhstan",
          "Lebanon",
          "UAE",
          "Mongolia",
          "Nepal",
          "Saudi Arabia",
          "Azerbaijan",
          "Bahrain",
          "Sri Lanka",
          "Kuwait",
          "Cyprus",
          "Myanmar",
          "Palestine",
          "Qatar",
          "Armenia",
          "Oman",
          "Brunei",
          "Uzbekistan",
          "Laos",
          "Afghanistan",
          "Kyrgyzstan",
          "Maldives",
          "Cambodia",
          "Bhutan",
          "Syria",
          "Timor-Leste",
          "Tajikistan",
          "Yemen",
          "Macao",
          "China"
         ],
         "legendgroup": "Asia",
         "marker": {
          "color": "#EF553B",
          "size": [
           44688101,
           33264491,
           30569215,
           17042722,
           11526966,
           10112117,
           7570743,
           6737303,
           5043790,
           4801511,
           4772813,
           4728182,
           4077109,
           2883700,
           2465545,
           2230570,
           2037829,
           1825598,
           1746997,
           1577214,
           1408124,
           1232517,
           1052664,
           1007897,
           1001149,
           829882,
           828730,
           709230,
           672034,
           663456,
           650685,
           633946,
           621008,
           494737,
           446819,
           399449,
           278698,
           251071,
           218020,
           209406,
           206673,
           185732,
           138719,
           62620,
           57467,
           23418,
           17786,
           11945,
           3514,
           503302
          ],
          "sizemode": "area",
          "sizeref": 65873.010625,
          "symbol": "circle"
         },
         "mode": "markers",
         "name": "Asia",
         "orientation": "v",
         "showlegend": true,
         "type": "scatter",
         "x": [
          1e-9,
          4263.000000001,
          4300.000000001,
          1e-9,
          1e-9,
          7080.000000001,
          511.000000001,
          144.000000001,
          1e-9,
          1e-9,
          1e-9,
          147.000000001,
          117.000000001,
          1e-9,
          1e-9,
          1e-9,
          1e-9,
          1e-9,
          1e-9,
          50.000000001,
          1e-9,
          1e-9,
          145.000000001,
          1e-9,
          1e-9,
          98.000000001,
          9.000000001,
          1e-9,
          1e-9,
          1e-9,
          1e-9,
          1e-9,
          1e-9,
          124.000000001,
          1e-9,
          1e-9,
          1e-9,
          1e-9,
          1e-9,
          12.000000001,
          1e-9,
          1e-9,
          1e-9,
          1e-9,
          1e-9,
          1e-9,
          1e-9,
          1e-9,
          1e-9,
          1e-9
         ],
         "xaxis": "x",
         "y": [
          0,
          1551,
          0,
          0,
          0,
          20441,
          92,
          218,
          0,
          0,
          0,
          0,
          103,
          0,
          0,
          0,
          0,
          0,
          0,
          0,
          0,
          0,
          65,
          0,
          1,
          65,
          3,
          0,
          0,
          0,
          0,
          0,
          0,
          205,
          0,
          0,
          0,
          0,
          0,
          17,
          0,
          0,
          0,
          0,
          0,
          0,
          0,
          0,
          0,
          0
         ],
         "yaxis": "y"
        },
        {
         "hovertemplate": "<b>%{hovertext}</b><br><br>Continent=Europe<br>New Cases=%{x}<br>New Recovered=%{y}<br>Total Cases=%{marker.size}<extra></extra>",
         "hovertext": [
          "France",
          "Germany",
          "Italy",
          "UK",
          "Russia",
          "Spain",
          "Netherlands",
          "Poland",
          "Austria",
          "Greece",
          "Portugal",
          "Ukraine",
          "Belgium",
          "Czechia",
          "Switzerland",
          "Romania",
          "Denmark",
          "Sweden",
          "Serbia",
          "Hungary",
          "Slovakia",
          "Ireland",
          "Norway",
          "Finland",
          "Slovenia",
          "Lithuania",
          "Bulgaria",
          "Croatia",
          "Belarus",
          "Latvia",
          "Estonia",
          "Moldova",
          "Bosnia and Herzegovina",
          "North Macedonia",
          "Albania",
          "Luxembourg",
          "Montenegro",
          "Iceland",
          "Malta",
          "Channel Islands",
          "Andorra",
          "Isle of Man",
          "Faeroe Islands",
          "San Marino",
          "Liechtenstein",
          "Gibraltar",
          "Monaco",
          "Vatican City"
         ],
         "legendgroup": "Europe",
         "marker": {
          "color": "#00cc96",
          "size": [
           39638159,
           38210850,
           25603510,
           24370154,
           22353291,
           13770429,
           8598182,
           6432765,
           5940935,
           5871458,
           5568084,
           5389439,
           4727795,
           4614143,
           4391007,
           3346046,
           3175554,
           2698535,
           2496295,
           2195926,
           1863419,
           1703850,
           1479259,
           1462976,
           1329966,
           1306368,
           1297062,
           1269326,
           994037,
           976162,
           615119,
           607450,
           401636,
           346852,
           334427,
           297757,
           288552,
           209093,
           117477,
           101382,
           47875,
           38008,
           34658,
           23583,
           21426,
           20433,
           16115,
           29
          ],
          "sizemode": "area",
          "sizeref": 65873.010625,
          "symbol": "circle"
         },
         "mode": "markers",
         "name": "Europe",
         "orientation": "v",
         "showlegend": true,
         "type": "scatter",
         "x": [
          1e-9,
          1e-9,
          1e-9,
          1e-9,
          11163.000000001,
          1e-9,
          1e-9,
          450.000000001,
          1e-9,
          1e-9,
          1e-9,
          1e-9,
          1e-9,
          119.000000001,
          1e-9,
          5704.000000001,
          45.000000001,
          1e-9,
          1e-9,
          1e-9,
          21.000000001,
          1e-9,
          1e-9,
          1e-9,
          89.000000001,
          41.000000001,
          1e-9,
          334.000000001,
          1e-9,
          13.000000001,
          1e-9,
          1e-9,
          1e-9,
          1e-9,
          1e-9,
          1e-9,
          1e-9,
          1e-9,
          1e-9,
          1e-9,
          1e-9,
          1e-9,
          1e-9,
          1e-9,
          1e-9,
          1e-9,
          1e-9,
          1e-9
         ],
         "xaxis": "x",
         "y": [
          706,
          17500,
          0,
          3964,
          9166,
          0,
          381,
          0,
          0,
          2619,
          0,
          0,
          792,
          1037,
          0,
          0,
          54,
          184,
          0,
          0,
          12,
          11,
          0,
          72,
          0,
          589,
          0,
          341,
          0,
          12,
          0,
          0,
          0,
          0,
          0,
          0,
          0,
          0,
          0,
          0,
          0,
          0,
          0,
          0,
          0,
          0,
          0,
          0
         ],
         "yaxis": "y"
        },
        {
         "hovertemplate": "<b>%{hovertext}</b><br><br>Continent=South America<br>New Cases=%{x}<br>New Recovered=%{y}<br>Total Cases=%{marker.size}<extra></extra>",
         "hovertext": [
          "Brazil",
          "Argentina",
          "Colombia",
          "Chile",
          "Peru",
          "Bolivia",
          "Ecuador",
          "Uruguay",
          "Paraguay",
          "Venezuela",
          "French Guiana",
          "Suriname",
          "Guyana",
          "Falkland Islands"
         ],
         "legendgroup": "South America",
         "marker": {
          "color": "#ab63fa",
          "size": [
           37076053,
           10044125,
           6360089,
           5180329,
           4486832,
           1193908,
           1057121,
           1034303,
           808401,
           552125,
           98041,
           82467,
           73075,
           1930
          ],
          "sizemode": "area",
          "sizeref": 65873.010625,
          "symbol": "circle"
         },
         "mode": "markers",
         "name": "South America",
         "orientation": "v",
         "showlegend": true,
         "type": "scatter",
         "x": [
          1e-9,
          1e-9,
          1e-9,
          1e-9,
          1e-9,
          1e-9,
          1e-9,
          1e-9,
          1e-9,
          1e-9,
          1e-9,
          1e-9,
          1e-9,
          1e-9
         ],
         "xaxis": "x",
         "y": [
          0,
          0,
          0,
          0,
          0,
          0,
          0,
          0,
          0,
          0,
          0,
          0,
          0,
          0
         ],
         "yaxis": "y"
        },
        {
         "hovertemplate": "<b>%{hovertext}</b><br><br>Continent=Australia/Oceania<br>New Cases=%{x}<br>New Recovered=%{y}<br>Total Cases=%{marker.size}<extra></extra>",
         "hovertext": [
          "Australia",
          "New Zealand",
          "New Caledonia",
          "French Polynesia",
          "Fiji",
          "Papua New Guinea",
          "Solomon Islands",
          "Micronesia",
          "Tonga",
          "Samoa",
          "Marshall Islands",
          "Vanuatu",
          "Cook Islands",
          "Palau",
          "Nauru",
          "Kiribati",
          "Wallis and Futuna",
          "Tuvalu",
          "Niue",
          "Tokelau"
         ],
         "legendgroup": "Australia/Oceania",
         "marker": {
          "color": "#FFA15A",
          "size": [
           11385534,
           2228291,
           79881,
           77957,
           68897,
           46809,
           24575,
           23948,
           16807,
           16607,
           15618,
           12014,
           7030,
           5989,
           5247,
           5013,
           3427,
           2805,
           791,
           5
          ],
          "sizemode": "area",
          "sizeref": 65873.010625,
          "symbol": "circle"
         },
         "mode": "markers",
         "name": "Australia/Oceania",
         "orientation": "v",
         "showlegend": true,
         "type": "scatter",
         "x": [
          1e-9,
          1634.000000001,
          1e-9,
          1e-9,
          1e-9,
          1e-9,
          1e-9,
          1e-9,
          1e-9,
          1e-9,
          1e-9,
          1e-9,
          1e-9,
          1e-9,
          1e-9,
          1e-9,
          1e-9,
          1e-9,
          1e-9,
          1e-9
         ],
         "xaxis": "x",
         "y": [
          0,
          1280,
          0,
          0,
          0,
          0,
          0,
          0,
          0,
          0,
          0,
          0,
          0,
          0,
          0,
          0,
          0,
          0,
          1,
          0
         ],
         "yaxis": "y"
        },
        {
         "hovertemplate": "<b>%{hovertext}</b><br><br>Continent=Africa<br>New Cases=%{x}<br>New Recovered=%{y}<br>Total Cases=%{marker.size}<extra></extra>",
         "hovertext": [
          "South Africa",
          "Morocco",
          "Tunisia",
          "Egypt",
          "Libya",
          "Ethiopia",
          "Réunion",
          "Zambia",
          "Kenya",
          "Botswana",
          "Algeria",
          "Nigeria",
          "Zimbabwe",
          "Mozambique",
          "Ghana",
          "Namibia",
          "Uganda",
          "Rwanda",
          "Cameroon",
          "Angola",
          "DRC",
          "Senegal",
          "Malawi",
          "Ivory Coast",
          "Eswatini",
          "Madagascar",
          "Sudan",
          "Mauritania",
          "Cabo Verde",
          "Burundi",
          "Seychelles",
          "Gabon",
          "Tanzania",
          "Mayotte",
          "Mauritius",
          "Togo",
          "Guinea",
          "Lesotho",
          "Mali",
          "Benin",
          "Somalia",
          "Congo",
          "Burkina Faso",
          "South Sudan",
          "Equatorial Guinea",
          "Djibouti",
          "CAR",
          "Gambia",
          "Eritrea",
          "Niger",
          "Comoros",
          "Guinea-Bissau",
          "Liberia",
          "Sierra Leone",
          "Chad",
          "Sao Tome and Principe",
          "Saint Helena",
          "Western Sahara"
         ],
         "legendgroup": "Africa",
         "marker": {
          "color": "#19d3f3",
          "size": [
           4064889,
           1272487,
           1150962,
           515698,
           507187,
           500050,
           486588,
           343135,
           342919,
           329727,
           271477,
           266598,
           264127,
           233098,
           171209,
           171156,
           170504,
           133180,
           124392,
           105277,
           95749,
           88921,
           88702,
           88240,
           74267,
           67889,
           63809,
           63668,
           63244,
           53631,
           50665,
           48981,
           42846,
           42004,
           41752,
           39394,
           38267,
           34790,
           33053,
           27990,
           27324,
           25375,
           22056,
           18368,
           17229,
           15690,
           15368,
           12586,
           10189,
           9931,
           9001,
           8960,
           8090,
           7760,
           7678,
           6281,
           2166,
           10
          ],
          "sizemode": "area",
          "sizeref": 65873.010625,
          "symbol": "circle"
         },
         "mode": "markers",
         "name": "Africa",
         "orientation": "v",
         "showlegend": true,
         "type": "scatter",
         "x": [
          1e-9,
          1e-9,
          1e-9,
          1e-9,
          13.000000001,
          1e-9,
          1e-9,
          1e-9,
          1e-9,
          1e-9,
          1e-9,
          1e-9,
          1e-9,
          1e-9,
          1e-9,
          1e-9,
          1e-9,
          1e-9,
          1e-9,
          1e-9,
          1e-9,
          1e-9,
          1e-9,
          1e-9,
          1e-9,
          1e-9,
          1e-9,
          1e-9,
          1e-9,
          1e-9,
          1e-9,
          1e-9,
          1e-9,
          1e-9,
          1e-9,
          1e-9,
          1e-9,
          1e-9,
          1e-9,
          1e-9,
          1e-9,
          1e-9,
          1e-9,
          1e-9,
          1e-9,
          1e-9,
          1e-9,
          1e-9,
          1e-9,
          1e-9,
          1e-9,
          1e-9,
          1e-9,
          1e-9,
          1e-9,
          1e-9,
          1e-9,
          1e-9
         ],
         "xaxis": "x",
         "y": [
          0,
          0,
          0,
          0,
          3,
          0,
          0,
          0,
          0,
          0,
          0,
          0,
          0,
          0,
          0,
          0,
          0,
          0,
          0,
          0,
          0,
          0,
          0,
          0,
          0,
          0,
          8,
          0,
          0,
          0,
          0,
          0,
          0,
          0,
          0,
          0,
          0,
          0,
          0,
          0,
          0,
          0,
          0,
          0,
          0,
          0,
          0,
          0,
          0,
          0,
          0,
          0,
          0,
          0,
          0,
          0,
          0,
          0
         ],
         "yaxis": "y"
        },
        {
         "hovertemplate": "<b>%{hovertext}</b><br><br>Continent=Unknown<br>New Cases=%{x}<br>New Recovered=%{y}<br>Total Cases=%{marker.size}<extra></extra>",
         "hovertext": [
          "Diamond Princess",
          "MS Zaandam"
         ],
         "legendgroup": "Unknown",
         "marker": {
          "color": "#FF6692",
          "size": [
           712,
           9
          ],
          "sizemode": "area",
          "sizeref": 65873.010625,
          "symbol": "circle"
         },
         "mode": "markers",
         "name": "Unknown",
         "orientation": "v",
         "showlegend": true,
         "type": "scatter",
         "x": [
          1e-9,
          1e-9
         ],
         "xaxis": "x",
         "y": [
          0,
          0
         ],
         "yaxis": "y"
        }
       ],
       "layout": {
        "legend": {
         "itemsizing": "constant",
         "title": {
          "text": "Continent"
         },
         "tracegroupgap": 0
        },
        "template": {
         "data": {
          "bar": [
           {
            "error_x": {
             "color": "#2a3f5f"
            },
            "error_y": {
             "color": "#2a3f5f"
            },
            "marker": {
             "line": {
              "color": "#E5ECF6",
              "width": 0.5
             },
             "pattern": {
              "fillmode": "overlay",
              "size": 10,
              "solidity": 0.2
             }
            },
            "type": "bar"
           }
          ],
          "barpolar": [
           {
            "marker": {
             "line": {
              "color": "#E5ECF6",
              "width": 0.5
             },
             "pattern": {
              "fillmode": "overlay",
              "size": 10,
              "solidity": 0.2
             }
            },
            "type": "barpolar"
           }
          ],
          "carpet": [
           {
            "aaxis": {
             "endlinecolor": "#2a3f5f",
             "gridcolor": "white",
             "linecolor": "white",
             "minorgridcolor": "white",
             "startlinecolor": "#2a3f5f"
            },
            "baxis": {
             "endlinecolor": "#2a3f5f",
             "gridcolor": "white",
             "linecolor": "white",
             "minorgridcolor": "white",
             "startlinecolor": "#2a3f5f"
            },
            "type": "carpet"
           }
          ],
          "choropleth": [
           {
            "colorbar": {
             "outlinewidth": 0,
             "ticks": ""
            },
            "type": "choropleth"
           }
          ],
          "contour": [
           {
            "colorbar": {
             "outlinewidth": 0,
             "ticks": ""
            },
            "colorscale": [
             [
              0,
              "#0d0887"
             ],
             [
              0.1111111111111111,
              "#46039f"
             ],
             [
              0.2222222222222222,
              "#7201a8"
             ],
             [
              0.3333333333333333,
              "#9c179e"
             ],
             [
              0.4444444444444444,
              "#bd3786"
             ],
             [
              0.5555555555555556,
              "#d8576b"
             ],
             [
              0.6666666666666666,
              "#ed7953"
             ],
             [
              0.7777777777777778,
              "#fb9f3a"
             ],
             [
              0.8888888888888888,
              "#fdca26"
             ],
             [
              1,
              "#f0f921"
             ]
            ],
            "type": "contour"
           }
          ],
          "contourcarpet": [
           {
            "colorbar": {
             "outlinewidth": 0,
             "ticks": ""
            },
            "type": "contourcarpet"
           }
          ],
          "heatmap": [
           {
            "colorbar": {
             "outlinewidth": 0,
             "ticks": ""
            },
            "colorscale": [
             [
              0,
              "#0d0887"
             ],
             [
              0.1111111111111111,
              "#46039f"
             ],
             [
              0.2222222222222222,
              "#7201a8"
             ],
             [
              0.3333333333333333,
              "#9c179e"
             ],
             [
              0.4444444444444444,
              "#bd3786"
             ],
             [
              0.5555555555555556,
              "#d8576b"
             ],
             [
              0.6666666666666666,
              "#ed7953"
             ],
             [
              0.7777777777777778,
              "#fb9f3a"
             ],
             [
              0.8888888888888888,
              "#fdca26"
             ],
             [
              1,
              "#f0f921"
             ]
            ],
            "type": "heatmap"
           }
          ],
          "heatmapgl": [
           {
            "colorbar": {
             "outlinewidth": 0,
             "ticks": ""
            },
            "colorscale": [
             [
              0,
              "#0d0887"
             ],
             [
              0.1111111111111111,
              "#46039f"
             ],
             [
              0.2222222222222222,
              "#7201a8"
             ],
             [
              0.3333333333333333,
              "#9c179e"
             ],
             [
              0.4444444444444444,
              "#bd3786"
             ],
             [
              0.5555555555555556,
              "#d8576b"
             ],
             [
              0.6666666666666666,
              "#ed7953"
             ],
             [
              0.7777777777777778,
              "#fb9f3a"
             ],
             [
              0.8888888888888888,
              "#fdca26"
             ],
             [
              1,
              "#f0f921"
             ]
            ],
            "type": "heatmapgl"
           }
          ],
          "histogram": [
           {
            "marker": {
             "pattern": {
              "fillmode": "overlay",
              "size": 10,
              "solidity": 0.2
             }
            },
            "type": "histogram"
           }
          ],
          "histogram2d": [
           {
            "colorbar": {
             "outlinewidth": 0,
             "ticks": ""
            },
            "colorscale": [
             [
              0,
              "#0d0887"
             ],
             [
              0.1111111111111111,
              "#46039f"
             ],
             [
              0.2222222222222222,
              "#7201a8"
             ],
             [
              0.3333333333333333,
              "#9c179e"
             ],
             [
              0.4444444444444444,
              "#bd3786"
             ],
             [
              0.5555555555555556,
              "#d8576b"
             ],
             [
              0.6666666666666666,
              "#ed7953"
             ],
             [
              0.7777777777777778,
              "#fb9f3a"
             ],
             [
              0.8888888888888888,
              "#fdca26"
             ],
             [
              1,
              "#f0f921"
             ]
            ],
            "type": "histogram2d"
           }
          ],
          "histogram2dcontour": [
           {
            "colorbar": {
             "outlinewidth": 0,
             "ticks": ""
            },
            "colorscale": [
             [
              0,
              "#0d0887"
             ],
             [
              0.1111111111111111,
              "#46039f"
             ],
             [
              0.2222222222222222,
              "#7201a8"
             ],
             [
              0.3333333333333333,
              "#9c179e"
             ],
             [
              0.4444444444444444,
              "#bd3786"
             ],
             [
              0.5555555555555556,
              "#d8576b"
             ],
             [
              0.6666666666666666,
              "#ed7953"
             ],
             [
              0.7777777777777778,
              "#fb9f3a"
             ],
             [
              0.8888888888888888,
              "#fdca26"
             ],
             [
              1,
              "#f0f921"
             ]
            ],
            "type": "histogram2dcontour"
           }
          ],
          "mesh3d": [
           {
            "colorbar": {
             "outlinewidth": 0,
             "ticks": ""
            },
            "type": "mesh3d"
           }
          ],
          "parcoords": [
           {
            "line": {
             "colorbar": {
              "outlinewidth": 0,
              "ticks": ""
             }
            },
            "type": "parcoords"
           }
          ],
          "pie": [
           {
            "automargin": true,
            "type": "pie"
           }
          ],
          "scatter": [
           {
            "fillpattern": {
             "fillmode": "overlay",
             "size": 10,
             "solidity": 0.2
            },
            "type": "scatter"
           }
          ],
          "scatter3d": [
           {
            "line": {
             "colorbar": {
              "outlinewidth": 0,
              "ticks": ""
             }
            },
            "marker": {
             "colorbar": {
              "outlinewidth": 0,
              "ticks": ""
             }
            },
            "type": "scatter3d"
           }
          ],
          "scattercarpet": [
           {
            "marker": {
             "colorbar": {
              "outlinewidth": 0,
              "ticks": ""
             }
            },
            "type": "scattercarpet"
           }
          ],
          "scattergeo": [
           {
            "marker": {
             "colorbar": {
              "outlinewidth": 0,
              "ticks": ""
             }
            },
            "type": "scattergeo"
           }
          ],
          "scattergl": [
           {
            "marker": {
             "colorbar": {
              "outlinewidth": 0,
              "ticks": ""
             }
            },
            "type": "scattergl"
           }
          ],
          "scattermapbox": [
           {
            "marker": {
             "colorbar": {
              "outlinewidth": 0,
              "ticks": ""
             }
            },
            "type": "scattermapbox"
           }
          ],
          "scatterpolar": [
           {
            "marker": {
             "colorbar": {
              "outlinewidth": 0,
              "ticks": ""
             }
            },
            "type": "scatterpolar"
           }
          ],
          "scatterpolargl": [
           {
            "marker": {
             "colorbar": {
              "outlinewidth": 0,
              "ticks": ""
             }
            },
            "type": "scatterpolargl"
           }
          ],
          "scatterternary": [
           {
            "marker": {
             "colorbar": {
              "outlinewidth": 0,
              "ticks": ""
             }
            },
            "type": "scatterternary"
           }
          ],
          "surface": [
           {
            "colorbar": {
             "outlinewidth": 0,
             "ticks": ""
            },
            "colorscale": [
             [
              0,
              "#0d0887"
             ],
             [
              0.1111111111111111,
              "#46039f"
             ],
             [
              0.2222222222222222,
              "#7201a8"
             ],
             [
              0.3333333333333333,
              "#9c179e"
             ],
             [
              0.4444444444444444,
              "#bd3786"
             ],
             [
              0.5555555555555556,
              "#d8576b"
             ],
             [
              0.6666666666666666,
              "#ed7953"
             ],
             [
              0.7777777777777778,
              "#fb9f3a"
             ],
             [
              0.8888888888888888,
              "#fdca26"
             ],
             [
              1,
              "#f0f921"
             ]
            ],
            "type": "surface"
           }
          ],
          "table": [
           {
            "cells": {
             "fill": {
              "color": "#EBF0F8"
             },
             "line": {
              "color": "white"
             }
            },
            "header": {
             "fill": {
              "color": "#C8D4E3"
             },
             "line": {
              "color": "white"
             }
            },
            "type": "table"
           }
          ]
         },
         "layout": {
          "annotationdefaults": {
           "arrowcolor": "#2a3f5f",
           "arrowhead": 0,
           "arrowwidth": 1
          },
          "autotypenumbers": "strict",
          "coloraxis": {
           "colorbar": {
            "outlinewidth": 0,
            "ticks": ""
           }
          },
          "colorscale": {
           "diverging": [
            [
             0,
             "#8e0152"
            ],
            [
             0.1,
             "#c51b7d"
            ],
            [
             0.2,
             "#de77ae"
            ],
            [
             0.3,
             "#f1b6da"
            ],
            [
             0.4,
             "#fde0ef"
            ],
            [
             0.5,
             "#f7f7f7"
            ],
            [
             0.6,
             "#e6f5d0"
            ],
            [
             0.7,
             "#b8e186"
            ],
            [
             0.8,
             "#7fbc41"
            ],
            [
             0.9,
             "#4d9221"
            ],
            [
             1,
             "#276419"
            ]
           ],
           "sequential": [
            [
             0,
             "#0d0887"
            ],
            [
             0.1111111111111111,
             "#46039f"
            ],
            [
             0.2222222222222222,
             "#7201a8"
            ],
            [
             0.3333333333333333,
             "#9c179e"
            ],
            [
             0.4444444444444444,
             "#bd3786"
            ],
            [
             0.5555555555555556,
             "#d8576b"
            ],
            [
             0.6666666666666666,
             "#ed7953"
            ],
            [
             0.7777777777777778,
             "#fb9f3a"
            ],
            [
             0.8888888888888888,
             "#fdca26"
            ],
            [
             1,
             "#f0f921"
            ]
           ],
           "sequentialminus": [
            [
             0,
             "#0d0887"
            ],
            [
             0.1111111111111111,
             "#46039f"
            ],
            [
             0.2222222222222222,
             "#7201a8"
            ],
            [
             0.3333333333333333,
             "#9c179e"
            ],
            [
             0.4444444444444444,
             "#bd3786"
            ],
            [
             0.5555555555555556,
             "#d8576b"
            ],
            [
             0.6666666666666666,
             "#ed7953"
            ],
            [
             0.7777777777777778,
             "#fb9f3a"
            ],
            [
             0.8888888888888888,
             "#fdca26"
            ],
            [
             1,
             "#f0f921"
            ]
           ]
          },
          "colorway": [
           "#636efa",
           "#EF553B",
           "#00cc96",
           "#ab63fa",
           "#FFA15A",
           "#19d3f3",
           "#FF6692",
           "#B6E880",
           "#FF97FF",
           "#FECB52"
          ],
          "font": {
           "color": "#2a3f5f"
          },
          "geo": {
           "bgcolor": "white",
           "lakecolor": "white",
           "landcolor": "#E5ECF6",
           "showlakes": true,
           "showland": true,
           "subunitcolor": "white"
          },
          "hoverlabel": {
           "align": "left"
          },
          "hovermode": "closest",
          "mapbox": {
           "style": "light"
          },
          "paper_bgcolor": "white",
          "plot_bgcolor": "#E5ECF6",
          "polar": {
           "angularaxis": {
            "gridcolor": "white",
            "linecolor": "white",
            "ticks": ""
           },
           "bgcolor": "#E5ECF6",
           "radialaxis": {
            "gridcolor": "white",
            "linecolor": "white",
            "ticks": ""
           }
          },
          "scene": {
           "xaxis": {
            "backgroundcolor": "#E5ECF6",
            "gridcolor": "white",
            "gridwidth": 2,
            "linecolor": "white",
            "showbackground": true,
            "ticks": "",
            "zerolinecolor": "white"
           },
           "yaxis": {
            "backgroundcolor": "#E5ECF6",
            "gridcolor": "white",
            "gridwidth": 2,
            "linecolor": "white",
            "showbackground": true,
            "ticks": "",
            "zerolinecolor": "white"
           },
           "zaxis": {
            "backgroundcolor": "#E5ECF6",
            "gridcolor": "white",
            "gridwidth": 2,
            "linecolor": "white",
            "showbackground": true,
            "ticks": "",
            "zerolinecolor": "white"
           }
          },
          "shapedefaults": {
           "line": {
            "color": "#2a3f5f"
           }
          },
          "ternary": {
           "aaxis": {
            "gridcolor": "white",
            "linecolor": "white",
            "ticks": ""
           },
           "baxis": {
            "gridcolor": "white",
            "linecolor": "white",
            "ticks": ""
           },
           "bgcolor": "#E5ECF6",
           "caxis": {
            "gridcolor": "white",
            "linecolor": "white",
            "ticks": ""
           }
          },
          "title": {
           "x": 0.05
          },
          "xaxis": {
           "automargin": true,
           "gridcolor": "white",
           "linecolor": "white",
           "ticks": "",
           "title": {
            "standoff": 15
           },
           "zerolinecolor": "white",
           "zerolinewidth": 2
          },
          "yaxis": {
           "automargin": true,
           "gridcolor": "white",
           "linecolor": "white",
           "ticks": "",
           "title": {
            "standoff": 15
           },
           "zerolinecolor": "white",
           "zerolinewidth": 2
          }
         }
        },
        "title": {
         "text": "Relationship between Total Cases, New Recovered and New Cases"
        },
        "xaxis": {
         "anchor": "y",
         "domain": [
          0,
          1
         ],
         "title": {
          "text": "New Cases"
         }
        },
        "yaxis": {
         "anchor": "x",
         "domain": [
          0,
          1
         ],
         "title": {
          "text": "New Recovered"
         }
        }
       }
      }
     },
     "metadata": {},
     "output_type": "display_data"
    }
   ],
   "source": [
    "fig = px.scatter(covid_df, x='New Cases', y='New Recovered', size='Total Cases', \n",
    "                 color='Continent', hover_name='Country',\n",
    "                 labels={'New Recovered': 'New Recovered', 'Total Cases': 'Total Cases'},\n",
    "                 title='Relationship between Total Cases, New Recovered and New Cases',\n",
    "                 size_max=40)\n",
    "    \n",
    "fig.show()"
   ]
  },
  {
   "attachments": {},
   "cell_type": "markdown",
   "metadata": {},
   "source": [
    "- **Nhận xét biểu đồ:**\n",
    "  - Qua biểu đồ, nhóm nhận thấy các quốc gia trước kia có tổng số người bị mắc covid lớn hiện nay đã kiểm soát được dịch bệnh tốt, số ca nhiễm mới ở quốc gia đó cũng dần ít đi nhiều. Đồng thời với số ca nhiễm bị ít đi, số ca phục hồi cũng tăng lên rất cao với điển hình là Đức, UK.\n",
    "  - Các quốc gia ở châu Âu, Bắc Mĩ đa số là kiểm soát tốt dịch bệnh, điều này chứng tỏ các nước đó có hệ thống y tế tốt, các dịch vụ và cơ sở y tế được cung cấp đầy đủ, không bị quá tải vì số ca nhiễm mới cũng ít. \n",
    "  - Ngoài các quốc gia trên thì các nước châu Á đa phần cũng kiểm soát dịch bệnh tốt, tuy nhiên còn Hàn Quốc, Nhật Bản, Đài Loan vẫn còn có ca mắc covid nhiều hơn so với các nước châu Á khác nhưng vẫn có tình trạng phục hồi tốt nên cũng không quá tải về y tế. Nga vẫn còn có số ca nhiễm cao hơn, như đã giải thích ở ý 1.1.\n",
    "  - Nhìn chung, các quốc gia trên thế giới kiểm soát tình hình dịch rất tốt và ổn định, số ca mắc mới giảm dần, số ca phục hồi tăng lên. \n",
    "- **Mối quan hệ nhân quả:** Mối quan hệ suy ra ở đây là nếu các biện pháp phòng chống dịch bệnh được hiệu quả thì số ca hồi phục có thể tăng lên khi số ca mắc bệnh giảm."
   ]
  }
 ],
 "metadata": {
  "kernelspec": {
   "display_name": "Python 3 (ipykernel)",
   "language": "python",
   "name": "python3"
  },
  "language_info": {
   "codemirror_mode": {
    "name": "ipython",
    "version": 3
   },
   "file_extension": ".py",
   "mimetype": "text/x-python",
   "name": "python",
   "nbconvert_exporter": "python",
   "pygments_lexer": "ipython3",
   "version": "3.10.6"
  }
 },
 "nbformat": 4,
 "nbformat_minor": 4
}
