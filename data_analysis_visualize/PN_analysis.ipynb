{
 "cells": [
  {
   "cell_type": "markdown",
   "metadata": {},
   "source": [
    "# DATA ANALYSIS\n",
    "\n",
    "## 1. Ý nghĩa của thuộc tính:\n",
    "- **Country**: Tên quốc gia\n",
    "- Total Cases: Tổng số ca nhiễm\n",
    "- New Cases: Số ca nhiễm mới\n",
    "- Total Deaths: Tổng số ca tử vong\n",
    "- New Deaths: Số ca tử vong mới\n",
    "- Total Recovered: Tổng số ca hồi phục\n",
    "- New Recovered: Số ca hồi phục mới\n",
    "- Active Cases: Tổng số ca đang điều trị\n",
    "- Serious, Critical: Số ca nghiêm trọng, nguy kịch\n",
    "- Tot Cases/1M pop: Số ca nhiễm trên 1 triệu dân\n",
    "- Deaths/1M pop: Số ca tử vong trên 1 triệu dân\n",
    "- Total tests: Tổng số lần test\n",
    "- Tests/1M pop: Số lần test trên 1 triệu dân\n",
    "- Population: Dân số\n",
    "- Continent: Châu lục\n",
    "- 1 Case every X ppl: 1 ca nhiễm trên X dân\n",
    "- 1 Death every X ppl: 1 ca tử vong trên X dân\n",
    "- 1 Test every X ppl: 1 lần test trên X dân\n",
    "- New Cases/1M pop: Số ca nhiễm mới trên 1 triệu dân\n",
    "- New Deaths/1M pop: Số ca tử vong mới trên 1 triệu dân\n",
    "- Active Cases/1M pop: Số ca đang điều trị trên 1 triệu dân\n",
    "\n",
    "## 2. Phân tích các mối quan hệ nhờ trực quan"
   ]
  },
  {
   "cell_type": "code",
   "execution_count": 19,
   "metadata": {
    "tags": []
   },
   "outputs": [],
   "source": [
    "# Import thư viện: \n",
    "\n",
    "import pandas as pd\n",
    "import matplotlib.pyplot as plt\n",
    "import seaborn as sns\n",
    "import plotly.graph_objs as go\n",
    "import plotly.express as px"
   ]
  },
  {
   "cell_type": "code",
   "execution_count": 20,
   "metadata": {},
   "outputs": [
    {
     "data": {
      "text/html": [
       "<div>\n",
       "<style scoped>\n",
       "    .dataframe tbody tr th:only-of-type {\n",
       "        vertical-align: middle;\n",
       "    }\n",
       "\n",
       "    .dataframe tbody tr th {\n",
       "        vertical-align: top;\n",
       "    }\n",
       "\n",
       "    .dataframe thead th {\n",
       "        text-align: right;\n",
       "    }\n",
       "</style>\n",
       "<table border=\"1\" class=\"dataframe\">\n",
       "  <thead>\n",
       "    <tr style=\"text-align: right;\">\n",
       "      <th></th>\n",
       "      <th>Country</th>\n",
       "      <th>Total Cases</th>\n",
       "      <th>New Cases</th>\n",
       "      <th>Total Deaths</th>\n",
       "      <th>New Deaths</th>\n",
       "      <th>Total Recovered</th>\n",
       "      <th>New Recovered</th>\n",
       "      <th>Active Cases</th>\n",
       "      <th>Serious, Critical</th>\n",
       "      <th>Tot Cases/1M pop</th>\n",
       "      <th>...</th>\n",
       "      <th>Total tests</th>\n",
       "      <th>Tests/1M pop</th>\n",
       "      <th>Population</th>\n",
       "      <th>Continent</th>\n",
       "      <th>1 Case every X ppl</th>\n",
       "      <th>1 Death every X ppl</th>\n",
       "      <th>1 Test every X ppl</th>\n",
       "      <th>New Cases/1M pop</th>\n",
       "      <th>New Deaths/1M pop</th>\n",
       "      <th>Active Cases/1M pop</th>\n",
       "    </tr>\n",
       "  </thead>\n",
       "  <tbody>\n",
       "    <tr>\n",
       "      <th>0</th>\n",
       "      <td>USA</td>\n",
       "      <td>105396817.0</td>\n",
       "      <td>0.0</td>\n",
       "      <td>1146740.0</td>\n",
       "      <td>0.0</td>\n",
       "      <td>102864696.0</td>\n",
       "      <td>0.0</td>\n",
       "      <td>1385381.0</td>\n",
       "      <td>2726.0</td>\n",
       "      <td>314800.0</td>\n",
       "      <td>...</td>\n",
       "      <td>1.167686e+09</td>\n",
       "      <td>3487657.0</td>\n",
       "      <td>3.348053e+08</td>\n",
       "      <td>North America</td>\n",
       "      <td>3.0</td>\n",
       "      <td>292.0</td>\n",
       "      <td>0.0</td>\n",
       "      <td>0.0</td>\n",
       "      <td>0.0</td>\n",
       "      <td>4138.0</td>\n",
       "    </tr>\n",
       "    <tr>\n",
       "      <th>1</th>\n",
       "      <td>India</td>\n",
       "      <td>44688101.0</td>\n",
       "      <td>0.0</td>\n",
       "      <td>530775.0</td>\n",
       "      <td>0.0</td>\n",
       "      <td>44154425.0</td>\n",
       "      <td>0.0</td>\n",
       "      <td>2901.0</td>\n",
       "      <td>0.0</td>\n",
       "      <td>31770.0</td>\n",
       "      <td>...</td>\n",
       "      <td>9.191891e+08</td>\n",
       "      <td>653468.0</td>\n",
       "      <td>1.406632e+09</td>\n",
       "      <td>Asia</td>\n",
       "      <td>31.0</td>\n",
       "      <td>2650.0</td>\n",
       "      <td>2.0</td>\n",
       "      <td>0.0</td>\n",
       "      <td>0.0</td>\n",
       "      <td>2.0</td>\n",
       "    </tr>\n",
       "    <tr>\n",
       "      <th>2</th>\n",
       "      <td>France</td>\n",
       "      <td>39638159.0</td>\n",
       "      <td>0.0</td>\n",
       "      <td>165030.0</td>\n",
       "      <td>0.0</td>\n",
       "      <td>39400459.0</td>\n",
       "      <td>706.0</td>\n",
       "      <td>72670.0</td>\n",
       "      <td>869.0</td>\n",
       "      <td>604383.0</td>\n",
       "      <td>...</td>\n",
       "      <td>2.714902e+08</td>\n",
       "      <td>4139547.0</td>\n",
       "      <td>6.558452e+07</td>\n",
       "      <td>Europe</td>\n",
       "      <td>2.0</td>\n",
       "      <td>397.0</td>\n",
       "      <td>0.0</td>\n",
       "      <td>0.0</td>\n",
       "      <td>0.0</td>\n",
       "      <td>1108.0</td>\n",
       "    </tr>\n",
       "    <tr>\n",
       "      <th>3</th>\n",
       "      <td>Germany</td>\n",
       "      <td>38210850.0</td>\n",
       "      <td>0.0</td>\n",
       "      <td>168397.0</td>\n",
       "      <td>0.0</td>\n",
       "      <td>37767300.0</td>\n",
       "      <td>17500.0</td>\n",
       "      <td>275153.0</td>\n",
       "      <td>0.0</td>\n",
       "      <td>455522.0</td>\n",
       "      <td>...</td>\n",
       "      <td>1.223324e+08</td>\n",
       "      <td>1458359.0</td>\n",
       "      <td>8.388360e+07</td>\n",
       "      <td>Europe</td>\n",
       "      <td>2.0</td>\n",
       "      <td>498.0</td>\n",
       "      <td>1.0</td>\n",
       "      <td>0.0</td>\n",
       "      <td>0.0</td>\n",
       "      <td>3280.0</td>\n",
       "    </tr>\n",
       "    <tr>\n",
       "      <th>4</th>\n",
       "      <td>Brazil</td>\n",
       "      <td>37076053.0</td>\n",
       "      <td>0.0</td>\n",
       "      <td>699276.0</td>\n",
       "      <td>0.0</td>\n",
       "      <td>36249161.0</td>\n",
       "      <td>0.0</td>\n",
       "      <td>127616.0</td>\n",
       "      <td>0.0</td>\n",
       "      <td>172164.0</td>\n",
       "      <td>...</td>\n",
       "      <td>6.377617e+07</td>\n",
       "      <td>296146.0</td>\n",
       "      <td>2.153536e+08</td>\n",
       "      <td>South America</td>\n",
       "      <td>6.0</td>\n",
       "      <td>308.0</td>\n",
       "      <td>3.0</td>\n",
       "      <td>0.0</td>\n",
       "      <td>0.0</td>\n",
       "      <td>593.0</td>\n",
       "    </tr>\n",
       "  </tbody>\n",
       "</table>\n",
       "<p>5 rows × 21 columns</p>\n",
       "</div>"
      ],
      "text/plain": [
       "   Country  Total Cases  New Cases  Total Deaths  New Deaths  Total Recovered  \\\n",
       "0      USA  105396817.0        0.0     1146740.0         0.0      102864696.0   \n",
       "1    India   44688101.0        0.0      530775.0         0.0       44154425.0   \n",
       "2   France   39638159.0        0.0      165030.0         0.0       39400459.0   \n",
       "3  Germany   38210850.0        0.0      168397.0         0.0       37767300.0   \n",
       "4   Brazil   37076053.0        0.0      699276.0         0.0       36249161.0   \n",
       "\n",
       "   New Recovered  Active Cases  Serious, Critical  Tot Cases/1M pop  ...  \\\n",
       "0            0.0     1385381.0             2726.0          314800.0  ...   \n",
       "1            0.0        2901.0                0.0           31770.0  ...   \n",
       "2          706.0       72670.0              869.0          604383.0  ...   \n",
       "3        17500.0      275153.0                0.0          455522.0  ...   \n",
       "4            0.0      127616.0                0.0          172164.0  ...   \n",
       "\n",
       "    Total tests  Tests/1M pop    Population      Continent 1 Case every X ppl  \\\n",
       "0  1.167686e+09     3487657.0  3.348053e+08  North America                3.0   \n",
       "1  9.191891e+08      653468.0  1.406632e+09           Asia               31.0   \n",
       "2  2.714902e+08     4139547.0  6.558452e+07         Europe                2.0   \n",
       "3  1.223324e+08     1458359.0  8.388360e+07         Europe                2.0   \n",
       "4  6.377617e+07      296146.0  2.153536e+08  South America                6.0   \n",
       "\n",
       "   1 Death every X ppl  1 Test every X ppl  New Cases/1M pop  \\\n",
       "0                292.0                 0.0               0.0   \n",
       "1               2650.0                 2.0               0.0   \n",
       "2                397.0                 0.0               0.0   \n",
       "3                498.0                 1.0               0.0   \n",
       "4                308.0                 3.0               0.0   \n",
       "\n",
       "   New Deaths/1M pop  Active Cases/1M pop  \n",
       "0                0.0               4138.0  \n",
       "1                0.0                  2.0  \n",
       "2                0.0               1108.0  \n",
       "3                0.0               3280.0  \n",
       "4                0.0                593.0  \n",
       "\n",
       "[5 rows x 21 columns]"
      ]
     },
     "execution_count": 20,
     "metadata": {},
     "output_type": "execute_result"
    }
   ],
   "source": [
    "# Đọc dữ liệu:\n",
    "covid_df = pd.read_csv('../data/modified/Modified_March_06_2023_corona_data.csv')\n",
    "covid_df.head(5)"
   ]
  },
  {
   "attachments": {},
   "cell_type": "markdown",
   "metadata": {},
   "source": [
    "### 2.1 Biểu đồ: \n",
    "\n",
    "#### 1. Mối quan hệ xoay quanh trường dữ liệu `New Cases` (số ca nhiễm mới): \n",
    "\n",
    "#### 1.1 Các quốc gia có số ca mắc covid cao nhất:\n",
    "- **Trường dữ liệu được trực quan**:  `New Cases`\n",
    "- **Biểu đồ sử dụng**: Bar chart.\n",
    "- **Tính phù hợp của biểu đồ**: Để dễ dàng so sánh top 10 quốc gia có ca mắc covid mới, bar chart là một biểu đồ phù hợp vì việc so sánh được thể hiện rõ ở chiều cao các cột tương ứng với các quốc gia (các giá trị rời rạc). \n",
    "- **Mục đích của câu hỏi:** Để kiểm tra tình trạng kiểm soát dịch của các quốc gia trên thế giới, nhóm lọc ra 10 quốc gia có số ca nhiễm covid mới ở thời điểm hiện tại rồi từ đó xem xét các mối quan hệ xung quanh nó."
   ]
  },
  {
   "cell_type": "code",
   "execution_count": 21,
   "metadata": {},
   "outputs": [
    {
     "data": {
      "application/vnd.plotly.v1+json": {
       "config": {
        "plotlyServerURL": "https://plot.ly"
       },
       "data": [
        {
         "type": "bar",
         "x": [
          "Russia",
          "Taiwan",
          "Romania",
          "S. Korea",
          "Japan",
          "New Zealand",
          "Mexico",
          "Iran",
          "Poland",
          "Croatia"
         ],
         "y": [
          11163,
          7080,
          5704,
          4300,
          4263,
          1634,
          525,
          511,
          450,
          334
         ]
        }
       ],
       "layout": {
        "template": {
         "data": {
          "bar": [
           {
            "error_x": {
             "color": "#2a3f5f"
            },
            "error_y": {
             "color": "#2a3f5f"
            },
            "marker": {
             "line": {
              "color": "#E5ECF6",
              "width": 0.5
             },
             "pattern": {
              "fillmode": "overlay",
              "size": 10,
              "solidity": 0.2
             }
            },
            "type": "bar"
           }
          ],
          "barpolar": [
           {
            "marker": {
             "line": {
              "color": "#E5ECF6",
              "width": 0.5
             },
             "pattern": {
              "fillmode": "overlay",
              "size": 10,
              "solidity": 0.2
             }
            },
            "type": "barpolar"
           }
          ],
          "carpet": [
           {
            "aaxis": {
             "endlinecolor": "#2a3f5f",
             "gridcolor": "white",
             "linecolor": "white",
             "minorgridcolor": "white",
             "startlinecolor": "#2a3f5f"
            },
            "baxis": {
             "endlinecolor": "#2a3f5f",
             "gridcolor": "white",
             "linecolor": "white",
             "minorgridcolor": "white",
             "startlinecolor": "#2a3f5f"
            },
            "type": "carpet"
           }
          ],
          "choropleth": [
           {
            "colorbar": {
             "outlinewidth": 0,
             "ticks": ""
            },
            "type": "choropleth"
           }
          ],
          "contour": [
           {
            "colorbar": {
             "outlinewidth": 0,
             "ticks": ""
            },
            "colorscale": [
             [
              0,
              "#0d0887"
             ],
             [
              0.1111111111111111,
              "#46039f"
             ],
             [
              0.2222222222222222,
              "#7201a8"
             ],
             [
              0.3333333333333333,
              "#9c179e"
             ],
             [
              0.4444444444444444,
              "#bd3786"
             ],
             [
              0.5555555555555556,
              "#d8576b"
             ],
             [
              0.6666666666666666,
              "#ed7953"
             ],
             [
              0.7777777777777778,
              "#fb9f3a"
             ],
             [
              0.8888888888888888,
              "#fdca26"
             ],
             [
              1,
              "#f0f921"
             ]
            ],
            "type": "contour"
           }
          ],
          "contourcarpet": [
           {
            "colorbar": {
             "outlinewidth": 0,
             "ticks": ""
            },
            "type": "contourcarpet"
           }
          ],
          "heatmap": [
           {
            "colorbar": {
             "outlinewidth": 0,
             "ticks": ""
            },
            "colorscale": [
             [
              0,
              "#0d0887"
             ],
             [
              0.1111111111111111,
              "#46039f"
             ],
             [
              0.2222222222222222,
              "#7201a8"
             ],
             [
              0.3333333333333333,
              "#9c179e"
             ],
             [
              0.4444444444444444,
              "#bd3786"
             ],
             [
              0.5555555555555556,
              "#d8576b"
             ],
             [
              0.6666666666666666,
              "#ed7953"
             ],
             [
              0.7777777777777778,
              "#fb9f3a"
             ],
             [
              0.8888888888888888,
              "#fdca26"
             ],
             [
              1,
              "#f0f921"
             ]
            ],
            "type": "heatmap"
           }
          ],
          "heatmapgl": [
           {
            "colorbar": {
             "outlinewidth": 0,
             "ticks": ""
            },
            "colorscale": [
             [
              0,
              "#0d0887"
             ],
             [
              0.1111111111111111,
              "#46039f"
             ],
             [
              0.2222222222222222,
              "#7201a8"
             ],
             [
              0.3333333333333333,
              "#9c179e"
             ],
             [
              0.4444444444444444,
              "#bd3786"
             ],
             [
              0.5555555555555556,
              "#d8576b"
             ],
             [
              0.6666666666666666,
              "#ed7953"
             ],
             [
              0.7777777777777778,
              "#fb9f3a"
             ],
             [
              0.8888888888888888,
              "#fdca26"
             ],
             [
              1,
              "#f0f921"
             ]
            ],
            "type": "heatmapgl"
           }
          ],
          "histogram": [
           {
            "marker": {
             "pattern": {
              "fillmode": "overlay",
              "size": 10,
              "solidity": 0.2
             }
            },
            "type": "histogram"
           }
          ],
          "histogram2d": [
           {
            "colorbar": {
             "outlinewidth": 0,
             "ticks": ""
            },
            "colorscale": [
             [
              0,
              "#0d0887"
             ],
             [
              0.1111111111111111,
              "#46039f"
             ],
             [
              0.2222222222222222,
              "#7201a8"
             ],
             [
              0.3333333333333333,
              "#9c179e"
             ],
             [
              0.4444444444444444,
              "#bd3786"
             ],
             [
              0.5555555555555556,
              "#d8576b"
             ],
             [
              0.6666666666666666,
              "#ed7953"
             ],
             [
              0.7777777777777778,
              "#fb9f3a"
             ],
             [
              0.8888888888888888,
              "#fdca26"
             ],
             [
              1,
              "#f0f921"
             ]
            ],
            "type": "histogram2d"
           }
          ],
          "histogram2dcontour": [
           {
            "colorbar": {
             "outlinewidth": 0,
             "ticks": ""
            },
            "colorscale": [
             [
              0,
              "#0d0887"
             ],
             [
              0.1111111111111111,
              "#46039f"
             ],
             [
              0.2222222222222222,
              "#7201a8"
             ],
             [
              0.3333333333333333,
              "#9c179e"
             ],
             [
              0.4444444444444444,
              "#bd3786"
             ],
             [
              0.5555555555555556,
              "#d8576b"
             ],
             [
              0.6666666666666666,
              "#ed7953"
             ],
             [
              0.7777777777777778,
              "#fb9f3a"
             ],
             [
              0.8888888888888888,
              "#fdca26"
             ],
             [
              1,
              "#f0f921"
             ]
            ],
            "type": "histogram2dcontour"
           }
          ],
          "mesh3d": [
           {
            "colorbar": {
             "outlinewidth": 0,
             "ticks": ""
            },
            "type": "mesh3d"
           }
          ],
          "parcoords": [
           {
            "line": {
             "colorbar": {
              "outlinewidth": 0,
              "ticks": ""
             }
            },
            "type": "parcoords"
           }
          ],
          "pie": [
           {
            "automargin": true,
            "type": "pie"
           }
          ],
          "scatter": [
           {
            "fillpattern": {
             "fillmode": "overlay",
             "size": 10,
             "solidity": 0.2
            },
            "type": "scatter"
           }
          ],
          "scatter3d": [
           {
            "line": {
             "colorbar": {
              "outlinewidth": 0,
              "ticks": ""
             }
            },
            "marker": {
             "colorbar": {
              "outlinewidth": 0,
              "ticks": ""
             }
            },
            "type": "scatter3d"
           }
          ],
          "scattercarpet": [
           {
            "marker": {
             "colorbar": {
              "outlinewidth": 0,
              "ticks": ""
             }
            },
            "type": "scattercarpet"
           }
          ],
          "scattergeo": [
           {
            "marker": {
             "colorbar": {
              "outlinewidth": 0,
              "ticks": ""
             }
            },
            "type": "scattergeo"
           }
          ],
          "scattergl": [
           {
            "marker": {
             "colorbar": {
              "outlinewidth": 0,
              "ticks": ""
             }
            },
            "type": "scattergl"
           }
          ],
          "scattermapbox": [
           {
            "marker": {
             "colorbar": {
              "outlinewidth": 0,
              "ticks": ""
             }
            },
            "type": "scattermapbox"
           }
          ],
          "scatterpolar": [
           {
            "marker": {
             "colorbar": {
              "outlinewidth": 0,
              "ticks": ""
             }
            },
            "type": "scatterpolar"
           }
          ],
          "scatterpolargl": [
           {
            "marker": {
             "colorbar": {
              "outlinewidth": 0,
              "ticks": ""
             }
            },
            "type": "scatterpolargl"
           }
          ],
          "scatterternary": [
           {
            "marker": {
             "colorbar": {
              "outlinewidth": 0,
              "ticks": ""
             }
            },
            "type": "scatterternary"
           }
          ],
          "surface": [
           {
            "colorbar": {
             "outlinewidth": 0,
             "ticks": ""
            },
            "colorscale": [
             [
              0,
              "#0d0887"
             ],
             [
              0.1111111111111111,
              "#46039f"
             ],
             [
              0.2222222222222222,
              "#7201a8"
             ],
             [
              0.3333333333333333,
              "#9c179e"
             ],
             [
              0.4444444444444444,
              "#bd3786"
             ],
             [
              0.5555555555555556,
              "#d8576b"
             ],
             [
              0.6666666666666666,
              "#ed7953"
             ],
             [
              0.7777777777777778,
              "#fb9f3a"
             ],
             [
              0.8888888888888888,
              "#fdca26"
             ],
             [
              1,
              "#f0f921"
             ]
            ],
            "type": "surface"
           }
          ],
          "table": [
           {
            "cells": {
             "fill": {
              "color": "#EBF0F8"
             },
             "line": {
              "color": "white"
             }
            },
            "header": {
             "fill": {
              "color": "#C8D4E3"
             },
             "line": {
              "color": "white"
             }
            },
            "type": "table"
           }
          ]
         },
         "layout": {
          "annotationdefaults": {
           "arrowcolor": "#2a3f5f",
           "arrowhead": 0,
           "arrowwidth": 1
          },
          "autotypenumbers": "strict",
          "coloraxis": {
           "colorbar": {
            "outlinewidth": 0,
            "ticks": ""
           }
          },
          "colorscale": {
           "diverging": [
            [
             0,
             "#8e0152"
            ],
            [
             0.1,
             "#c51b7d"
            ],
            [
             0.2,
             "#de77ae"
            ],
            [
             0.3,
             "#f1b6da"
            ],
            [
             0.4,
             "#fde0ef"
            ],
            [
             0.5,
             "#f7f7f7"
            ],
            [
             0.6,
             "#e6f5d0"
            ],
            [
             0.7,
             "#b8e186"
            ],
            [
             0.8,
             "#7fbc41"
            ],
            [
             0.9,
             "#4d9221"
            ],
            [
             1,
             "#276419"
            ]
           ],
           "sequential": [
            [
             0,
             "#0d0887"
            ],
            [
             0.1111111111111111,
             "#46039f"
            ],
            [
             0.2222222222222222,
             "#7201a8"
            ],
            [
             0.3333333333333333,
             "#9c179e"
            ],
            [
             0.4444444444444444,
             "#bd3786"
            ],
            [
             0.5555555555555556,
             "#d8576b"
            ],
            [
             0.6666666666666666,
             "#ed7953"
            ],
            [
             0.7777777777777778,
             "#fb9f3a"
            ],
            [
             0.8888888888888888,
             "#fdca26"
            ],
            [
             1,
             "#f0f921"
            ]
           ],
           "sequentialminus": [
            [
             0,
             "#0d0887"
            ],
            [
             0.1111111111111111,
             "#46039f"
            ],
            [
             0.2222222222222222,
             "#7201a8"
            ],
            [
             0.3333333333333333,
             "#9c179e"
            ],
            [
             0.4444444444444444,
             "#bd3786"
            ],
            [
             0.5555555555555556,
             "#d8576b"
            ],
            [
             0.6666666666666666,
             "#ed7953"
            ],
            [
             0.7777777777777778,
             "#fb9f3a"
            ],
            [
             0.8888888888888888,
             "#fdca26"
            ],
            [
             1,
             "#f0f921"
            ]
           ]
          },
          "colorway": [
           "#636efa",
           "#EF553B",
           "#00cc96",
           "#ab63fa",
           "#FFA15A",
           "#19d3f3",
           "#FF6692",
           "#B6E880",
           "#FF97FF",
           "#FECB52"
          ],
          "font": {
           "color": "#2a3f5f"
          },
          "geo": {
           "bgcolor": "white",
           "lakecolor": "white",
           "landcolor": "#E5ECF6",
           "showlakes": true,
           "showland": true,
           "subunitcolor": "white"
          },
          "hoverlabel": {
           "align": "left"
          },
          "hovermode": "closest",
          "mapbox": {
           "style": "light"
          },
          "paper_bgcolor": "white",
          "plot_bgcolor": "#E5ECF6",
          "polar": {
           "angularaxis": {
            "gridcolor": "white",
            "linecolor": "white",
            "ticks": ""
           },
           "bgcolor": "#E5ECF6",
           "radialaxis": {
            "gridcolor": "white",
            "linecolor": "white",
            "ticks": ""
           }
          },
          "scene": {
           "xaxis": {
            "backgroundcolor": "#E5ECF6",
            "gridcolor": "white",
            "gridwidth": 2,
            "linecolor": "white",
            "showbackground": true,
            "ticks": "",
            "zerolinecolor": "white"
           },
           "yaxis": {
            "backgroundcolor": "#E5ECF6",
            "gridcolor": "white",
            "gridwidth": 2,
            "linecolor": "white",
            "showbackground": true,
            "ticks": "",
            "zerolinecolor": "white"
           },
           "zaxis": {
            "backgroundcolor": "#E5ECF6",
            "gridcolor": "white",
            "gridwidth": 2,
            "linecolor": "white",
            "showbackground": true,
            "ticks": "",
            "zerolinecolor": "white"
           }
          },
          "shapedefaults": {
           "line": {
            "color": "#2a3f5f"
           }
          },
          "ternary": {
           "aaxis": {
            "gridcolor": "white",
            "linecolor": "white",
            "ticks": ""
           },
           "baxis": {
            "gridcolor": "white",
            "linecolor": "white",
            "ticks": ""
           },
           "bgcolor": "#E5ECF6",
           "caxis": {
            "gridcolor": "white",
            "linecolor": "white",
            "ticks": ""
           }
          },
          "title": {
           "x": 0.05
          },
          "xaxis": {
           "automargin": true,
           "gridcolor": "white",
           "linecolor": "white",
           "ticks": "",
           "title": {
            "standoff": 15
           },
           "zerolinecolor": "white",
           "zerolinewidth": 2
          },
          "yaxis": {
           "automargin": true,
           "gridcolor": "white",
           "linecolor": "white",
           "ticks": "",
           "title": {
            "standoff": 15
           },
           "zerolinecolor": "white",
           "zerolinewidth": 2
          }
         }
        },
        "title": {
         "text": "Top 10 quốc gia có ca mắc covid mới cao nhất"
        },
        "xaxis": {
         "title": {
          "text": "Quốc gia"
         }
        },
        "yaxis": {
         "title": {
          "text": "Số lượng"
         }
        }
       }
      }
     },
     "metadata": {},
     "output_type": "display_data"
    }
   ],
   "source": [
    "df_top = covid_df[['Country', 'New Cases']]\n",
    "df_top = df_top.sort_values(by='New Cases', ascending=False).head(10)\n",
    "\n",
    "fig = go.Figure()\n",
    "fig.add_trace(go.Bar(x=df_top['Country'], y=df_top['New Cases']))\n",
    "fig.update_layout(title='Top 10 quốc gia có ca mắc covid mới cao nhất', xaxis_title='Quốc gia', yaxis_title='Số lượng')\n",
    "fig.show()"
   ]
  },
  {
   "attachments": {},
   "cell_type": "markdown",
   "metadata": {},
   "source": [
    "- **Nhận xét biểu đồ**: \n",
    "  - Nga là quốc gia có số lượng ca mắc covid mới nhiều nhất trong ngày 06/03/2023. Điều này có thể được giải thích là do tỷ lệ tiêm phòng vắc xin của công chúng Nga đang giảm dần và việc đó đã trở nên không còn bắt buộc, quảng bá với các chủng virus mới, các lệnh bắt buộc mang khẩu trang tại nơi đông người bị gỡ bỏ. Hậu quả là số ca mắc tăng do miễn dịch cộng đồng không hiệu quả.\n",
    "  - Hầu hết các quốc gia có số ca nhiễm mới thuộc top đầu đều là các nước thuộc châu Á và châu Âu.\n",
    "  \n",
    "- **Quan hệ với các trường dữ liệu khác**: Nhìn tổng quan biểu đồ, số ca nhiễm của các quốc gia khác không cao như Nga, phải chăng điều này có lẽ là do Nga có dân số đông hơn các quốc gia còn lại nên số ca nhiễm cũng từ đó mà cao vượt trội hơn hẳn? Từ đó, nhóm có một câu hỏi đặt ra là:\n",
    "\n",
    "#### 1.2 Liệu dân số có ảnh hưởng đến việc tăng các ca nhiễm mới?\n",
    "- **Trường dữ liệu được trực quan**: `New Cases`, `Population`.\n",
    "- **Biểu đồ sử dụng**: Scatter.\n",
    "- **Tính phù hợp của biểu đồ**: Scatter là biểu đồ thông dụng nhất khi quan sát mối quan hệ của hai biến, đặc biệt là xem xét sự tương quan giữa hai biến đó. Với lý do như vậy nên sử dụng scatter plot cho câu hỏi xem xét liệu 2 biến `New Cases` và `Population` có sự tương quan với nhau hay không là phù hợp.\n",
    "- **Mục đích của câu hỏi:** Nhằm xem xét sự tương quan giữa số dân với mức nhiễm hiện tại của một quốc gia. Nếu một quốc gia đông dân thì số ca nhiễm cũng tăng lên nhiều theo dân số, ngược lại nếu một quốc gia ít dân thì số ca nhiễm cũng thấp theo."
   ]
  },
  {
   "cell_type": "code",
   "execution_count": 56,
   "metadata": {},
   "outputs": [
    {
     "data": {
      "application/vnd.plotly.v1+json": {
       "config": {
        "plotlyServerURL": "https://plot.ly"
       },
       "data": [
        {
         "hovertemplate": "Population (log scale)=%{x}<br>New Cases (log scale)=%{y}<extra></extra>",
         "legendgroup": "",
         "marker": {
          "color": "#636efa",
          "symbol": "circle"
         },
         "mode": "markers",
         "name": "",
         "orientation": "v",
         "showlegend": false,
         "type": "scatter",
         "x": [
          334805269,
          1406631776,
          65584518,
          83883596,
          215353593,
          125584838,
          51329899,
          60262770,
          68497907,
          145805947,
          85561976,
          46719142,
          98953541,
          26068792,
          23888595,
          46010234,
          17211447,
          86022837,
          131562772,
          279134505,
          37739785,
          51512762,
          9066710.000000011,
          10316637.000000011,
          10140570.000000011,
          43192122,
          19250195,
          33181072,
          9326000.000000011,
          25990679,
          70078203,
          11668278.000000011,
          10736784.000000011,
          38388419,
          33684208,
          8773637.000000011,
          112508994,
          60756135,
          19031335,
          5834950.000000006,
          7604299.000000006,
          10218971.000000011,
          8653016.000000011,
          42164965,
          5943546.000000006,
          4898203.000000006,
          9606259.000000011,
          167885689,
          5460193.000000006,
          3968738.0000000056,
          10300869.000000011,
          5020199.000000006,
          229488994,
          5511370.000000006,
          5554960.000000006,
          19205043,
          2078034.0000000056,
          2661708.0000000056,
          6844597.000000006,
          37772756,
          4059286.0000000056,
          18584039,
          6684849.000000006,
          5182354.000000006,
          11992656.000000011,
          12046656.000000011,
          11305652.000000011,
          18113361,
          10081785.000000011,
          3496016.0000000056,
          4446964.000000006,
          3378078.0000000056,
          30225582,
          9432800.000000011,
          1848837.0000000056,
          35844909,
          10300205.000000011,
          7305843.000000006,
          1783983.0000000056,
          21575842,
          4380326.000000006,
          11056370.000000011,
          1223387.0000000056,
          55227143,
          5345541.000000006,
          1321910.0000000056,
          4013171.0000000056,
          29266991,
          106156692,
          7040745.000000006,
          120812698,
          2979915.0000000056,
          908061.0000000063,
          10221247.000000011,
          2971966.0000000056,
          3249317.0000000056,
          5323993.000000006,
          2081304.0000000056,
          19470234,
          56215221,
          2866374.0000000056,
          2441162.0000000056,
          642371.0000000063,
          627950.0000000063,
          445431.00000000594,
          45350148,
          216746934,
          15331428.000000011,
          34382084,
          33089461,
          374087.00000000594,
          7481023.000000006,
          40754388,
          345393.00000000594,
          6728271.000000006,
          399794.00000000594,
          6550389.000000006,
          1406585.0000000056,
          540985.0000000063,
          32395450,
          2633874.0000000056,
          48432863,
          2985094.0000000056,
          17168639,
          13600464.000000011,
          27911548,
          444033.00000000594,
          288023.00000000594,
          35027343,
          176463.00000000594,
          314169.00000000594,
          95240792,
          17653671,
          20180839,
          27742298,
          596831.0000000063,
          290915.00000000594,
          284164.00000000594,
          1184817.0000000056,
          794045.0000000063,
          412190.00000000594,
          909466.0000000063,
          29178077,
          45992020,
          4901981.000000006,
          567678.0000000063,
          787941.0000000063,
          19364809,
          12624840.000000011,
          99426.00000000602,
          2331533.0000000056,
          77463.00000000602,
          9292169.000000011,
          165529.00000000594,
          107609.00000000602,
          63298550,
          286259.00000000594,
          1274727.0000000056,
          8680837.000000011,
          13865691.000000011,
          85732.00000000602,
          400516.00000000594,
          2175699.0000000056,
          49233.00000000598,
          11680283.000000011,
          21473764,
          67277.00000000602,
          185113.00000000594,
          12784726.000000011,
          16841795,
          5797805.000000006,
          721159.0000000063,
          117489.00000000602,
          34085.00000000598,
          1369429.0000000056,
          22102838,
          38387.00000000598,
          33704.00000000598,
          113475.00000000602,
          61939.00000000598,
          6779100.000000006,
          11618511.000000011,
          9957464.000000011,
          1496662.0000000056,
          107749.00000000602,
          202239.00000000594,
          39783.00000000598,
          72344.00000000602,
          1016097.0000000063,
          60057.00000000598,
          5016678.000000006,
          2558482.0000000056,
          39730.00000000598,
          321832.00000000594,
          56973.00000000598,
          31154867,
          26647.000000006003,
          43966.00000000598,
          3662244.0000000056,
          26083660,
          111551.00000000602,
          99509.00000000602,
          907419.0000000063,
          2063367.0000000056,
          5305117.000000006,
          8306436.000000006,
          17413580,
          30596.000000006003,
          17571.000000006003,
          53871.00000000598,
          39741.00000000598,
          227679.00000000594,
          18233.000000006003,
          9945.000000006003,
          10903.000000006003,
          123419.00000000602,
          15230.000000006003,
          667490.0000000063,
          5759.000000006003,
          10982.000000006003,
          12066.000000006003,
          6115.000000006003,
          3539.000000006,
          4965.000000006003,
          1622.000000006,
          6e-9,
          799.0000000059999,
          626161.0000000063,
          6e-9,
          1378.000000006,
          1448471400
         ],
         "xaxis": "x",
         "y": [
          6e-9,
          6e-9,
          6e-9,
          6e-9,
          6e-9,
          4263.000000006003,
          4300.000000006003,
          6e-9,
          6e-9,
          11163.000000006003,
          6e-9,
          6e-9,
          6e-9,
          6e-9,
          7080.000000006003,
          6e-9,
          6e-9,
          511.00000000599994,
          525.0000000059999,
          144.00000000599994,
          450.00000000599994,
          6e-9,
          6e-9,
          6e-9,
          6e-9,
          6e-9,
          6e-9,
          6e-9,
          6e-9,
          6e-9,
          147.00000000599994,
          6e-9,
          119.00000000600002,
          6e-9,
          6e-9,
          6e-9,
          117.00000000600002,
          6e-9,
          5704.000000006003,
          45.00000000599998,
          6e-9,
          6e-9,
          6e-9,
          6e-9,
          6e-9,
          1634.000000006,
          6e-9,
          6e-9,
          21.000000006,
          6e-9,
          6e-9,
          6e-9,
          50.00000000599998,
          6e-9,
          6e-9,
          6e-9,
          89.00000000600002,
          41.00000000599998,
          6e-9,
          6e-9,
          334.00000000599994,
          6e-9,
          6e-9,
          6e-9,
          6e-9,
          6e-9,
          6e-9,
          6e-9,
          145.00000000599994,
          6e-9,
          6e-9,
          6e-9,
          6e-9,
          6e-9,
          13.000000006,
          98.00000000600002,
          9.000000006,
          6e-9,
          6e-9,
          6e-9,
          6e-9,
          6e-9,
          6e-9,
          6e-9,
          6e-9,
          6e-9,
          6e-9,
          6e-9,
          6e-9,
          13.000000006,
          6e-9,
          124.00000000600002,
          6e-9,
          6e-9,
          6e-9,
          6e-9,
          6e-9,
          6e-9,
          6e-9,
          6e-9,
          6e-9,
          6e-9,
          6e-9,
          6e-9,
          6e-9,
          6e-9,
          6e-9,
          6e-9,
          6e-9,
          6e-9,
          6e-9,
          6e-9,
          12.000000006,
          6e-9,
          6e-9,
          6e-9,
          6e-9,
          6e-9,
          6e-9,
          6e-9,
          6e-9,
          6e-9,
          6e-9,
          6e-9,
          6e-9,
          6e-9,
          6e-9,
          6e-9,
          6e-9,
          6e-9,
          6e-9,
          6e-9,
          6e-9,
          6e-9,
          6e-9,
          6e-9,
          6e-9,
          6e-9,
          6e-9,
          6e-9,
          6e-9,
          6e-9,
          6e-9,
          6e-9,
          6e-9,
          6e-9,
          6e-9,
          6e-9,
          6e-9,
          6e-9,
          6e-9,
          6e-9,
          6e-9,
          6e-9,
          6e-9,
          6e-9,
          6e-9,
          6e-9,
          6e-9,
          6e-9,
          6e-9,
          6e-9,
          6e-9,
          6e-9,
          6e-9,
          6e-9,
          6e-9,
          6e-9,
          6e-9,
          6e-9,
          6e-9,
          6e-9,
          6e-9,
          6e-9,
          6e-9,
          6e-9,
          6e-9,
          6e-9,
          6e-9,
          6e-9,
          6e-9,
          6e-9,
          6e-9,
          6e-9,
          6e-9,
          6e-9,
          6e-9,
          6e-9,
          6e-9,
          6e-9,
          6e-9,
          6e-9,
          6e-9,
          6e-9,
          6e-9,
          6e-9,
          6e-9,
          6e-9,
          6e-9,
          6e-9,
          6e-9,
          6e-9,
          6e-9,
          6e-9,
          6e-9,
          6e-9,
          6e-9,
          6e-9,
          6e-9,
          6e-9,
          6e-9,
          6e-9,
          6e-9,
          6e-9,
          6e-9,
          6e-9,
          6e-9,
          6e-9,
          6e-9,
          6e-9,
          6e-9,
          6e-9,
          6e-9,
          6e-9,
          6e-9,
          6e-9,
          6e-9,
          6e-9,
          6e-9,
          6e-9,
          6e-9
         ],
         "yaxis": "y"
        },
        {
         "hovertemplate": "<b>OLS trendline</b><br>New Cases = 3.66312e-07 * Population + 148.228<br>R<sup>2</sup>=0.002435<br><br>Population (log scale)=%{x}<br>New Cases (log scale)=%{y} <b>(trend)</b><extra></extra>",
         "legendgroup": "",
         "marker": {
          "color": "#636efa",
          "symbol": "circle"
         },
         "mode": "lines",
         "name": "",
         "showlegend": false,
         "type": "scatter",
         "x": [
          6e-9,
          6e-9,
          799.0000000059999,
          1378.000000006,
          1622.000000006,
          3539.000000006,
          4965.000000006003,
          5759.000000006003,
          6115.000000006003,
          9945.000000006003,
          10903.000000006003,
          10982.000000006003,
          12066.000000006003,
          15230.000000006003,
          17571.000000006003,
          18233.000000006003,
          26647.000000006003,
          30596.000000006003,
          33704.00000000598,
          34085.00000000598,
          38387.00000000598,
          39730.00000000598,
          39741.00000000598,
          39783.00000000598,
          43966.00000000598,
          49233.00000000598,
          53871.00000000598,
          56973.00000000598,
          60057.00000000598,
          61939.00000000598,
          67277.00000000602,
          72344.00000000602,
          77463.00000000602,
          85732.00000000602,
          99426.00000000602,
          99509.00000000602,
          107609.00000000602,
          107749.00000000602,
          111551.00000000602,
          113475.00000000602,
          117489.00000000602,
          123419.00000000602,
          165529.00000000594,
          176463.00000000594,
          185113.00000000594,
          202239.00000000594,
          227679.00000000594,
          284164.00000000594,
          286259.00000000594,
          288023.00000000594,
          290915.00000000594,
          314169.00000000594,
          321832.00000000594,
          345393.00000000594,
          374087.00000000594,
          399794.00000000594,
          400516.00000000594,
          412190.00000000594,
          444033.00000000594,
          445431.00000000594,
          540985.0000000063,
          567678.0000000063,
          596831.0000000063,
          626161.0000000063,
          627950.0000000063,
          642371.0000000063,
          667490.0000000063,
          721159.0000000063,
          787941.0000000063,
          794045.0000000063,
          907419.0000000063,
          908061.0000000063,
          909466.0000000063,
          1016097.0000000063,
          1184817.0000000056,
          1223387.0000000056,
          1274727.0000000056,
          1321910.0000000056,
          1369429.0000000056,
          1406585.0000000056,
          1496662.0000000056,
          1783983.0000000056,
          1848837.0000000056,
          2063367.0000000056,
          2078034.0000000056,
          2081304.0000000056,
          2175699.0000000056,
          2331533.0000000056,
          2441162.0000000056,
          2558482.0000000056,
          2633874.0000000056,
          2661708.0000000056,
          2866374.0000000056,
          2971966.0000000056,
          2979915.0000000056,
          2985094.0000000056,
          3249317.0000000056,
          3378078.0000000056,
          3496016.0000000056,
          3662244.0000000056,
          3968738.0000000056,
          4013171.0000000056,
          4059286.0000000056,
          4380326.000000006,
          4446964.000000006,
          4898203.000000006,
          4901981.000000006,
          5016678.000000006,
          5020199.000000006,
          5182354.000000006,
          5305117.000000006,
          5323993.000000006,
          5345541.000000006,
          5460193.000000006,
          5511370.000000006,
          5554960.000000006,
          5797805.000000006,
          5834950.000000006,
          5943546.000000006,
          6550389.000000006,
          6684849.000000006,
          6728271.000000006,
          6779100.000000006,
          6844597.000000006,
          7040745.000000006,
          7305843.000000006,
          7481023.000000006,
          7604299.000000006,
          8306436.000000006,
          8653016.000000011,
          8680837.000000011,
          8773637.000000011,
          9066710.000000011,
          9292169.000000011,
          9326000.000000011,
          9432800.000000011,
          9606259.000000011,
          9957464.000000011,
          10081785.000000011,
          10140570.000000011,
          10218971.000000011,
          10221247.000000011,
          10300205.000000011,
          10300869.000000011,
          10316637.000000011,
          10736784.000000011,
          11056370.000000011,
          11305652.000000011,
          11618511.000000011,
          11668278.000000011,
          11680283.000000011,
          11992656.000000011,
          12046656.000000011,
          12624840.000000011,
          12784726.000000011,
          13600464.000000011,
          13865691.000000011,
          15331428.000000011,
          16841795,
          17168639,
          17211447,
          17413580,
          17653671,
          18113361,
          18584039,
          19031335,
          19205043,
          19250195,
          19364809,
          19470234,
          20180839,
          21473764,
          21575842,
          22102838,
          23888595,
          25990679,
          26068792,
          26083660,
          27742298,
          27911548,
          29178077,
          29266991,
          30225582,
          31154867,
          32395450,
          33089461,
          33181072,
          33684208,
          34382084,
          35027343,
          35844909,
          37739785,
          37772756,
          38388419,
          40754388,
          42164965,
          43192122,
          45350148,
          45992020,
          46010234,
          46719142,
          48432863,
          51329899,
          51512762,
          55227143,
          56215221,
          60262770,
          60756135,
          63298550,
          65584518,
          68497907,
          70078203,
          83883596,
          85561976,
          86022837,
          95240792,
          98953541,
          106156692,
          112508994,
          120812698,
          125584838,
          131562772,
          145805947,
          167885689,
          215353593,
          216746934,
          229488994,
          279134505,
          334805269,
          1406631776,
          1448471400
         ],
         "xaxis": "x",
         "y": [
          148.22802198135977,
          148.22802198135977,
          148.22831466483342,
          148.22852675961596,
          148.22861613980064,
          148.22931836035005,
          148.22984072159338,
          148.23013157350587,
          148.23026198066057,
          148.23166495651046,
          148.23201588362906,
          148.23204482229542,
          148.2324419047553,
          148.23360091665842,
          148.23445845359436,
          148.23470095229217,
          148.23778310341513,
          148.23922967042068,
          148.2403681688388,
          148.24050773379935,
          148.2420836090229,
          148.24257556635095,
          148.2425795957855,
          148.24259498089924,
          148.24412726496718,
          148.24605663149492,
          148.24775558762857,
          148.24889188817332,
          148.25002159509788,
          148.25071099471913,
          148.2526663694154,
          148.2545224734967,
          148.25639762581412,
          148.25942666166338,
          148.26444294137315,
          148.26447334528842,
          148.26744047437046,
          148.26749175808297,
          148.26888447719037,
          148.2695892619254,
          148.27105963922605,
          148.27323187076385,
          148.28865727886802,
          148.2926625368165,
          148.2958311376263,
          148.3021046009175,
          148.3114235841084,
          148.33211473055255,
          148.3328821546793,
          148.33352832945718,
          148.33458770443312,
          148.34310592908412,
          148.3459129797206,
          148.35454366222694,
          148.36505462542192,
          148.37447141397888,
          148.37473589141064,
          148.37901222041106,
          148.39067670082568,
          148.39118880532652,
          148.42619140437623,
          148.43596937679428,
          148.4466484773039,
          148.45739241507866,
          148.45804774766233,
          148.463330336365,
          148.47253173332933,
          148.49219134452719,
          148.51665440802782,
          148.51889037789408,
          148.56042066092422,
          148.56065583337738,
          148.56117050206385,
          148.60023074171127,
          148.66203494155292,
          148.67616360435457,
          148.69497007436328,
          148.71225378442213,
          148.72966057539105,
          148.74327127269615,
          148.7762675796493,
          148.88151677655958,
          148.90527359007623,
          148.98385855328172,
          148.98923125479357,
          148.99042909579336,
          149.02500713896578,
          149.0820910393814,
          149.12224948310143,
          149.16522523420042,
          149.19284224602154,
          149.2030381806967,
          149.27800984004233,
          149.31668948128035,
          149.31960129721529,
          149.3214984282666,
          149.41828654523414,
          149.4654532745834,
          149.508655406642,
          149.56954675640065,
          149.68181925774172,
          149.6980956091616,
          149.71498809775633,
          149.83258897682913,
          149.8569992913683,
          150.0222936567805,
          150.0236775843943,
          150.06569249850787,
          150.06698228387796,
          150.12638164391424,
          150.17135123249392,
          150.1782657421917,
          150.18615903817434,
          150.2281574682374,
          150.24690422935225,
          150.2628717795603,
          150.3518288736247,
          150.36543554149523,
          150.40521558467924,
          150.62750959869362,
          150.67676394145505,
          150.69266995120805,
          150.71128923566604,
          150.7352815879481,
          150.80713299969858,
          150.9042416398694,
          150.96841221673202,
          151.01356972348688,
          151.27077109537058,
          151.39772758885755,
          151.4079187614737,
          151.44191253663553,
          151.54926876150628,
          151.63185715109907,
          151.64424986023164,
          151.68337200664632,
          151.74691216015708,
          151.87556284771864,
          151.9211031507563,
          151.94263681533485,
          151.9713560606631,
          151.97218978730393,
          152.00111306854564,
          152.0013562998679,
          152.00713231114756,
          152.16103729663163,
          152.2781055577186,
          152.36942060362261,
          152.4840246823226,
          152.50225494318983,
          152.50665252153917,
          152.6210785724942,
          152.640859433041,
          152.85265530478853,
          152.9112235023696,
          153.21003831016023,
          153.30719420460903,
          153.8441115971132,
          154.39737750454705,
          154.5171044598164,
          154.53278555385873,
          154.6068293443198,
          154.69477761449633,
          154.8631676845841,
          155.0355827934809,
          155.19943278976098,
          155.26306415501756,
          155.27960388493253,
          155.3215883951308,
          155.36020686222602,
          155.62051016609323,
          156.094124409101,
          156.13151682915455,
          156.3245619103527,
          156.9787065434527,
          157.74872562607445,
          157.7773393734798,
          157.78278570375033,
          158.39036509218658,
          158.45236343751137,
          158.91630850283408,
          158.94887878866103,
          159.30002239777914,
          159.6404308606161,
          160.09487158875834,
          160.34909630744198,
          160.38265453735957,
          160.56695940869392,
          160.82259992415558,
          161.05896618888784,
          161.35845061543918,
          162.05256687302068,
          162.0646445536334,
          162.2901694415371,
          163.15685282759185,
          163.67356443735974,
          164.04982461100101,
          164.84033593252474,
          165.07546149772602,
          165.082133508726,
          165.34181518073493,
          165.96957214586556,
          167.03079187021632,
          167.09777682396006,
          168.45840001985883,
          168.8203450777722,
          170.30301178749767,
          170.48373742200974,
          171.41505513621325,
          172.25243317736798,
          173.31964320565436,
          173.89852496118402,
          178.95560928944718,
          179.5704204139744,
          179.73923943568627,
          183.11588910941413,
          184.4759144837497,
          187.11451680649512,
          189.44144273265997,
          192.483191081652,
          194.23128433812633,
          196.42107468649175,
          201.6385239164564,
          209.72660349813106,
          227.1146773772231,
          227.62507522935425,
          232.29264767265877,
          250.47840563309614,
          270.8712874704214,
          663.4944479387071,
          678.820814006723
         ],
         "yaxis": "y"
        }
       ],
       "layout": {
        "legend": {
         "tracegroupgap": 0
        },
        "template": {
         "data": {
          "bar": [
           {
            "error_x": {
             "color": "#2a3f5f"
            },
            "error_y": {
             "color": "#2a3f5f"
            },
            "marker": {
             "line": {
              "color": "#E5ECF6",
              "width": 0.5
             },
             "pattern": {
              "fillmode": "overlay",
              "size": 10,
              "solidity": 0.2
             }
            },
            "type": "bar"
           }
          ],
          "barpolar": [
           {
            "marker": {
             "line": {
              "color": "#E5ECF6",
              "width": 0.5
             },
             "pattern": {
              "fillmode": "overlay",
              "size": 10,
              "solidity": 0.2
             }
            },
            "type": "barpolar"
           }
          ],
          "carpet": [
           {
            "aaxis": {
             "endlinecolor": "#2a3f5f",
             "gridcolor": "white",
             "linecolor": "white",
             "minorgridcolor": "white",
             "startlinecolor": "#2a3f5f"
            },
            "baxis": {
             "endlinecolor": "#2a3f5f",
             "gridcolor": "white",
             "linecolor": "white",
             "minorgridcolor": "white",
             "startlinecolor": "#2a3f5f"
            },
            "type": "carpet"
           }
          ],
          "choropleth": [
           {
            "colorbar": {
             "outlinewidth": 0,
             "ticks": ""
            },
            "type": "choropleth"
           }
          ],
          "contour": [
           {
            "colorbar": {
             "outlinewidth": 0,
             "ticks": ""
            },
            "colorscale": [
             [
              0,
              "#0d0887"
             ],
             [
              0.1111111111111111,
              "#46039f"
             ],
             [
              0.2222222222222222,
              "#7201a8"
             ],
             [
              0.3333333333333333,
              "#9c179e"
             ],
             [
              0.4444444444444444,
              "#bd3786"
             ],
             [
              0.5555555555555556,
              "#d8576b"
             ],
             [
              0.6666666666666666,
              "#ed7953"
             ],
             [
              0.7777777777777778,
              "#fb9f3a"
             ],
             [
              0.8888888888888888,
              "#fdca26"
             ],
             [
              1,
              "#f0f921"
             ]
            ],
            "type": "contour"
           }
          ],
          "contourcarpet": [
           {
            "colorbar": {
             "outlinewidth": 0,
             "ticks": ""
            },
            "type": "contourcarpet"
           }
          ],
          "heatmap": [
           {
            "colorbar": {
             "outlinewidth": 0,
             "ticks": ""
            },
            "colorscale": [
             [
              0,
              "#0d0887"
             ],
             [
              0.1111111111111111,
              "#46039f"
             ],
             [
              0.2222222222222222,
              "#7201a8"
             ],
             [
              0.3333333333333333,
              "#9c179e"
             ],
             [
              0.4444444444444444,
              "#bd3786"
             ],
             [
              0.5555555555555556,
              "#d8576b"
             ],
             [
              0.6666666666666666,
              "#ed7953"
             ],
             [
              0.7777777777777778,
              "#fb9f3a"
             ],
             [
              0.8888888888888888,
              "#fdca26"
             ],
             [
              1,
              "#f0f921"
             ]
            ],
            "type": "heatmap"
           }
          ],
          "heatmapgl": [
           {
            "colorbar": {
             "outlinewidth": 0,
             "ticks": ""
            },
            "colorscale": [
             [
              0,
              "#0d0887"
             ],
             [
              0.1111111111111111,
              "#46039f"
             ],
             [
              0.2222222222222222,
              "#7201a8"
             ],
             [
              0.3333333333333333,
              "#9c179e"
             ],
             [
              0.4444444444444444,
              "#bd3786"
             ],
             [
              0.5555555555555556,
              "#d8576b"
             ],
             [
              0.6666666666666666,
              "#ed7953"
             ],
             [
              0.7777777777777778,
              "#fb9f3a"
             ],
             [
              0.8888888888888888,
              "#fdca26"
             ],
             [
              1,
              "#f0f921"
             ]
            ],
            "type": "heatmapgl"
           }
          ],
          "histogram": [
           {
            "marker": {
             "pattern": {
              "fillmode": "overlay",
              "size": 10,
              "solidity": 0.2
             }
            },
            "type": "histogram"
           }
          ],
          "histogram2d": [
           {
            "colorbar": {
             "outlinewidth": 0,
             "ticks": ""
            },
            "colorscale": [
             [
              0,
              "#0d0887"
             ],
             [
              0.1111111111111111,
              "#46039f"
             ],
             [
              0.2222222222222222,
              "#7201a8"
             ],
             [
              0.3333333333333333,
              "#9c179e"
             ],
             [
              0.4444444444444444,
              "#bd3786"
             ],
             [
              0.5555555555555556,
              "#d8576b"
             ],
             [
              0.6666666666666666,
              "#ed7953"
             ],
             [
              0.7777777777777778,
              "#fb9f3a"
             ],
             [
              0.8888888888888888,
              "#fdca26"
             ],
             [
              1,
              "#f0f921"
             ]
            ],
            "type": "histogram2d"
           }
          ],
          "histogram2dcontour": [
           {
            "colorbar": {
             "outlinewidth": 0,
             "ticks": ""
            },
            "colorscale": [
             [
              0,
              "#0d0887"
             ],
             [
              0.1111111111111111,
              "#46039f"
             ],
             [
              0.2222222222222222,
              "#7201a8"
             ],
             [
              0.3333333333333333,
              "#9c179e"
             ],
             [
              0.4444444444444444,
              "#bd3786"
             ],
             [
              0.5555555555555556,
              "#d8576b"
             ],
             [
              0.6666666666666666,
              "#ed7953"
             ],
             [
              0.7777777777777778,
              "#fb9f3a"
             ],
             [
              0.8888888888888888,
              "#fdca26"
             ],
             [
              1,
              "#f0f921"
             ]
            ],
            "type": "histogram2dcontour"
           }
          ],
          "mesh3d": [
           {
            "colorbar": {
             "outlinewidth": 0,
             "ticks": ""
            },
            "type": "mesh3d"
           }
          ],
          "parcoords": [
           {
            "line": {
             "colorbar": {
              "outlinewidth": 0,
              "ticks": ""
             }
            },
            "type": "parcoords"
           }
          ],
          "pie": [
           {
            "automargin": true,
            "type": "pie"
           }
          ],
          "scatter": [
           {
            "fillpattern": {
             "fillmode": "overlay",
             "size": 10,
             "solidity": 0.2
            },
            "type": "scatter"
           }
          ],
          "scatter3d": [
           {
            "line": {
             "colorbar": {
              "outlinewidth": 0,
              "ticks": ""
             }
            },
            "marker": {
             "colorbar": {
              "outlinewidth": 0,
              "ticks": ""
             }
            },
            "type": "scatter3d"
           }
          ],
          "scattercarpet": [
           {
            "marker": {
             "colorbar": {
              "outlinewidth": 0,
              "ticks": ""
             }
            },
            "type": "scattercarpet"
           }
          ],
          "scattergeo": [
           {
            "marker": {
             "colorbar": {
              "outlinewidth": 0,
              "ticks": ""
             }
            },
            "type": "scattergeo"
           }
          ],
          "scattergl": [
           {
            "marker": {
             "colorbar": {
              "outlinewidth": 0,
              "ticks": ""
             }
            },
            "type": "scattergl"
           }
          ],
          "scattermapbox": [
           {
            "marker": {
             "colorbar": {
              "outlinewidth": 0,
              "ticks": ""
             }
            },
            "type": "scattermapbox"
           }
          ],
          "scatterpolar": [
           {
            "marker": {
             "colorbar": {
              "outlinewidth": 0,
              "ticks": ""
             }
            },
            "type": "scatterpolar"
           }
          ],
          "scatterpolargl": [
           {
            "marker": {
             "colorbar": {
              "outlinewidth": 0,
              "ticks": ""
             }
            },
            "type": "scatterpolargl"
           }
          ],
          "scatterternary": [
           {
            "marker": {
             "colorbar": {
              "outlinewidth": 0,
              "ticks": ""
             }
            },
            "type": "scatterternary"
           }
          ],
          "surface": [
           {
            "colorbar": {
             "outlinewidth": 0,
             "ticks": ""
            },
            "colorscale": [
             [
              0,
              "#0d0887"
             ],
             [
              0.1111111111111111,
              "#46039f"
             ],
             [
              0.2222222222222222,
              "#7201a8"
             ],
             [
              0.3333333333333333,
              "#9c179e"
             ],
             [
              0.4444444444444444,
              "#bd3786"
             ],
             [
              0.5555555555555556,
              "#d8576b"
             ],
             [
              0.6666666666666666,
              "#ed7953"
             ],
             [
              0.7777777777777778,
              "#fb9f3a"
             ],
             [
              0.8888888888888888,
              "#fdca26"
             ],
             [
              1,
              "#f0f921"
             ]
            ],
            "type": "surface"
           }
          ],
          "table": [
           {
            "cells": {
             "fill": {
              "color": "#EBF0F8"
             },
             "line": {
              "color": "white"
             }
            },
            "header": {
             "fill": {
              "color": "#C8D4E3"
             },
             "line": {
              "color": "white"
             }
            },
            "type": "table"
           }
          ]
         },
         "layout": {
          "annotationdefaults": {
           "arrowcolor": "#2a3f5f",
           "arrowhead": 0,
           "arrowwidth": 1
          },
          "autotypenumbers": "strict",
          "coloraxis": {
           "colorbar": {
            "outlinewidth": 0,
            "ticks": ""
           }
          },
          "colorscale": {
           "diverging": [
            [
             0,
             "#8e0152"
            ],
            [
             0.1,
             "#c51b7d"
            ],
            [
             0.2,
             "#de77ae"
            ],
            [
             0.3,
             "#f1b6da"
            ],
            [
             0.4,
             "#fde0ef"
            ],
            [
             0.5,
             "#f7f7f7"
            ],
            [
             0.6,
             "#e6f5d0"
            ],
            [
             0.7,
             "#b8e186"
            ],
            [
             0.8,
             "#7fbc41"
            ],
            [
             0.9,
             "#4d9221"
            ],
            [
             1,
             "#276419"
            ]
           ],
           "sequential": [
            [
             0,
             "#0d0887"
            ],
            [
             0.1111111111111111,
             "#46039f"
            ],
            [
             0.2222222222222222,
             "#7201a8"
            ],
            [
             0.3333333333333333,
             "#9c179e"
            ],
            [
             0.4444444444444444,
             "#bd3786"
            ],
            [
             0.5555555555555556,
             "#d8576b"
            ],
            [
             0.6666666666666666,
             "#ed7953"
            ],
            [
             0.7777777777777778,
             "#fb9f3a"
            ],
            [
             0.8888888888888888,
             "#fdca26"
            ],
            [
             1,
             "#f0f921"
            ]
           ],
           "sequentialminus": [
            [
             0,
             "#0d0887"
            ],
            [
             0.1111111111111111,
             "#46039f"
            ],
            [
             0.2222222222222222,
             "#7201a8"
            ],
            [
             0.3333333333333333,
             "#9c179e"
            ],
            [
             0.4444444444444444,
             "#bd3786"
            ],
            [
             0.5555555555555556,
             "#d8576b"
            ],
            [
             0.6666666666666666,
             "#ed7953"
            ],
            [
             0.7777777777777778,
             "#fb9f3a"
            ],
            [
             0.8888888888888888,
             "#fdca26"
            ],
            [
             1,
             "#f0f921"
            ]
           ]
          },
          "colorway": [
           "#636efa",
           "#EF553B",
           "#00cc96",
           "#ab63fa",
           "#FFA15A",
           "#19d3f3",
           "#FF6692",
           "#B6E880",
           "#FF97FF",
           "#FECB52"
          ],
          "font": {
           "color": "#2a3f5f"
          },
          "geo": {
           "bgcolor": "white",
           "lakecolor": "white",
           "landcolor": "#E5ECF6",
           "showlakes": true,
           "showland": true,
           "subunitcolor": "white"
          },
          "hoverlabel": {
           "align": "left"
          },
          "hovermode": "closest",
          "mapbox": {
           "style": "light"
          },
          "paper_bgcolor": "white",
          "plot_bgcolor": "#E5ECF6",
          "polar": {
           "angularaxis": {
            "gridcolor": "white",
            "linecolor": "white",
            "ticks": ""
           },
           "bgcolor": "#E5ECF6",
           "radialaxis": {
            "gridcolor": "white",
            "linecolor": "white",
            "ticks": ""
           }
          },
          "scene": {
           "xaxis": {
            "backgroundcolor": "#E5ECF6",
            "gridcolor": "white",
            "gridwidth": 2,
            "linecolor": "white",
            "showbackground": true,
            "ticks": "",
            "zerolinecolor": "white"
           },
           "yaxis": {
            "backgroundcolor": "#E5ECF6",
            "gridcolor": "white",
            "gridwidth": 2,
            "linecolor": "white",
            "showbackground": true,
            "ticks": "",
            "zerolinecolor": "white"
           },
           "zaxis": {
            "backgroundcolor": "#E5ECF6",
            "gridcolor": "white",
            "gridwidth": 2,
            "linecolor": "white",
            "showbackground": true,
            "ticks": "",
            "zerolinecolor": "white"
           }
          },
          "shapedefaults": {
           "line": {
            "color": "#2a3f5f"
           }
          },
          "ternary": {
           "aaxis": {
            "gridcolor": "white",
            "linecolor": "white",
            "ticks": ""
           },
           "baxis": {
            "gridcolor": "white",
            "linecolor": "white",
            "ticks": ""
           },
           "bgcolor": "#E5ECF6",
           "caxis": {
            "gridcolor": "white",
            "linecolor": "white",
            "ticks": ""
           }
          },
          "title": {
           "x": 0.05
          },
          "xaxis": {
           "automargin": true,
           "gridcolor": "white",
           "linecolor": "white",
           "ticks": "",
           "title": {
            "standoff": 15
           },
           "zerolinecolor": "white",
           "zerolinewidth": 2
          },
          "yaxis": {
           "automargin": true,
           "gridcolor": "white",
           "linecolor": "white",
           "ticks": "",
           "title": {
            "standoff": 15
           },
           "zerolinecolor": "white",
           "zerolinewidth": 2
          }
         }
        },
        "title": {
         "text": "Relationship between Population and New Cases"
        },
        "xaxis": {
         "anchor": "y",
         "domain": [
          0,
          1
         ],
         "title": {
          "text": "Population (log scale)"
         },
         "type": "log"
        },
        "yaxis": {
         "anchor": "x",
         "domain": [
          0,
          1
         ],
         "title": {
          "text": "New Cases (log scale)"
         },
         "type": "log"
        }
       }
      }
     },
     "metadata": {},
     "output_type": "display_data"
    }
   ],
   "source": [
    "epsilon = 1e-9\n",
    "covid_df['Population'] = covid_df['Population'] + epsilon\n",
    "covid_df['New Cases'] = covid_df['New Cases'] + epsilon\n",
    "\n",
    "fig = px.scatter(data_frame=covid_df, x='Population', y='New Cases', \n",
    "                 log_x=True, log_y=True, \n",
    "                 labels={'Population': 'Population (log scale)', \n",
    "                         'New Cases': 'New Cases (log scale)'},\n",
    "                 title='Relationship between Population and New Cases', trendline='ols')\n",
    "\n",
    "fig.show()"
   ]
  },
  {
   "attachments": {},
   "cell_type": "markdown",
   "metadata": {},
   "source": [
    "- **Nhận xét biểu đồ**: \n",
    "  - Dựa vào biểu đồ với trendline (đường xu hướng), ta có một phương trình hồi quy là: $$New \\ Cases = 3.66312*10^{-7} * Population + 148.228$$ và hệ số xác định của nó là: $$R^2 = 0.002435$$. Điều này cho ta biết thì với mỗi đơn vị tăng dân số, số ca mắc mới tăng khoảng $3.66312*10^{-7}$ đơn vị và giá trị cố định ban đầu của ca mắc mới là 148228. Với $R^2 - 0.002435$ cho ta biết chỉ khoảng 0.24% là sự biến thiên của số ca mắc mới có thể được giải thích bởi sự biến đổi của dân số. Như vậy, ta có thể khẳng định được rằng dân số phông phải là một yếu tố quyết định trong việc giải thích sự biến động của ca mắc mới. \n",
    "  - Có lẽ vì một số nước đông dân đã áp dụng tốt các quy định về phòng chống dịch covid hoặc miễn dịch cộng đồng cao làm cho số ca mắc mới giảm. "
   ]
  },
  {
   "attachments": {},
   "cell_type": "markdown",
   "metadata": {},
   "source": [
    "#### 1.3 Sự tác động của dịch bệnh qua mối quan hệ của 3 biến `Total Cases, New Cases, New Recovered`:\n",
    "- **Trường dữ liệu được trực quan**: `New Cases, Total Cases, New Recovered`.\n",
    "- **Biểu đồ sử dụng**: Bubble scatter chart.\n",
    "- **Tính phù hợp của biểu đồ**: Bubble scatter chart cho phép vừa biểu thị mối quan hệ giữa hai biến `New Cases`, `New Recoverd` cũng vừa có thể cho phép biến thứ ba là `Total Cases` tham gia vào quá trình trực quan (thể hiện dưới dạng kích thước điểm dữ liệu) mà không cần sử dụng một biểu đồ 3D để làm việc đó.\n",
    "- **Mục đích của câu hỏi:** Nhằm thể hiện mức độ phòng chống dịch bệnh của các quốc gia và khả năng chữa trị của các quốc gia đó với dịch bệnh Covid như thế nào."
   ]
  },
  {
   "cell_type": "code",
   "execution_count": 65,
   "metadata": {},
   "outputs": [
    {
     "data": {
      "application/vnd.plotly.v1+json": {
       "config": {
        "plotlyServerURL": "https://plot.ly"
       },
       "data": [
        {
         "hovertemplate": "<b>%{hovertext}</b><br><br>Continent=North America<br>New Cases=%{x}<br>New Recovered=%{y}<br>Total Cases=%{marker.size}<extra></extra>",
         "hovertext": [
          "USA",
          "Mexico",
          "Canada",
          "Guatemala",
          "Costa Rica",
          "Cuba",
          "Panama",
          "Dominican Republic",
          "Honduras",
          "Martinique",
          "Guadeloupe",
          "El Salvador",
          "Trinidad and Tobago",
          "Jamaica",
          "Barbados",
          "Belize",
          "Curaçao",
          "Aruba",
          "Bahamas",
          "Haiti",
          "Cayman Islands",
          "Saint Lucia",
          "Grenada",
          "Bermuda",
          "Nicaragua",
          "Dominica",
          "Saint Martin",
          "Greenland",
          "Caribbean Netherlands",
          "Sint Maarten",
          "St. Vincent Grenadines",
          "Antigua and Barbuda",
          "British Virgin Islands",
          "Saint Kitts and Nevis",
          "Turks and Caicos",
          "St. Barth",
          "Anguilla",
          "Saint Pierre Miquelon",
          "Montserrat"
         ],
         "legendgroup": "North America",
         "marker": {
          "color": "#636efa",
          "size": [
           105396817,
           7470653,
           4591149,
           1237564,
           1204164,
           1112625,
           1031273,
           660705,
           472219,
           229807,
           201852,
           201785,
           189296,
           154196,
           106645,
           70757,
           45986,
           44044,
           37491,
           34202,
           31472,
           30004,
           19680,
           18814,
           18491,
           15760,
           12257,
           11971,
           11676,
           11020,
           9589,
           9106,
           7305,
           6597,
           6551,
           5439,
           3904,
           3452,
           1403
          ],
          "sizemode": "area",
          "sizeref": 65873.010625,
          "symbol": "circle"
         },
         "mode": "markers",
         "name": "North America",
         "orientation": "v",
         "showlegend": true,
         "type": "scatter",
         "x": [
          6e-9,
          525.0000000059999,
          6e-9,
          6e-9,
          6e-9,
          6e-9,
          6e-9,
          6e-9,
          6e-9,
          6e-9,
          6e-9,
          6e-9,
          6e-9,
          6e-9,
          6e-9,
          6e-9,
          6e-9,
          6e-9,
          6e-9,
          6e-9,
          6e-9,
          6e-9,
          6e-9,
          6e-9,
          6e-9,
          6e-9,
          6e-9,
          6e-9,
          6e-9,
          6e-9,
          6e-9,
          6e-9,
          6e-9,
          6e-9,
          6e-9,
          6e-9,
          6e-9,
          6e-9,
          6e-9
         ],
         "xaxis": "x",
         "y": [
          0,
          2912,
          1530,
          0,
          0,
          0,
          0,
          0,
          0,
          0,
          0,
          0,
          0,
          0,
          0,
          0,
          0,
          0,
          0,
          0,
          0,
          0,
          0,
          0,
          0,
          0,
          0,
          0,
          0,
          0,
          0,
          0,
          0,
          0,
          0,
          0,
          0,
          0,
          0
         ],
         "yaxis": "y"
        },
        {
         "hovertemplate": "<b>%{hovertext}</b><br><br>Continent=Asia<br>New Cases=%{x}<br>New Recovered=%{y}<br>Total Cases=%{marker.size}<extra></extra>",
         "hovertext": [
          "India",
          "Japan",
          "S. Korea",
          "Turkey",
          "Vietnam",
          "Taiwan",
          "Iran",
          "Indonesia",
          "Malaysia",
          "Israel",
          "DPRK",
          "Thailand",
          "Philippines",
          "Hong Kong",
          "Iraq",
          "Singapore",
          "Bangladesh",
          "Georgia",
          "Jordan",
          "Pakistan",
          "Kazakhstan",
          "Lebanon",
          "UAE",
          "Mongolia",
          "Nepal",
          "Saudi Arabia",
          "Azerbaijan",
          "Bahrain",
          "Sri Lanka",
          "Kuwait",
          "Cyprus",
          "Myanmar",
          "Palestine",
          "Qatar",
          "Armenia",
          "Oman",
          "Brunei",
          "Uzbekistan",
          "Laos",
          "Afghanistan",
          "Kyrgyzstan",
          "Maldives",
          "Cambodia",
          "Bhutan",
          "Syria",
          "Timor-Leste",
          "Tajikistan",
          "Yemen",
          "Macao",
          "China"
         ],
         "legendgroup": "Asia",
         "marker": {
          "color": "#EF553B",
          "size": [
           44688101,
           33264491,
           30569215,
           17042722,
           11526966,
           10112117,
           7570743,
           6737303,
           5043790,
           4801511,
           4772813,
           4728182,
           4077109,
           2883700,
           2465545,
           2230570,
           2037829,
           1825598,
           1746997,
           1577214,
           1408124,
           1232517,
           1052664,
           1007897,
           1001149,
           829882,
           828730,
           709230,
           672034,
           663456,
           650685,
           633946,
           621008,
           494737,
           446819,
           399449,
           278698,
           251071,
           218020,
           209406,
           206673,
           185732,
           138719,
           62620,
           57467,
           23418,
           17786,
           11945,
           3514,
           503302
          ],
          "sizemode": "area",
          "sizeref": 65873.010625,
          "symbol": "circle"
         },
         "mode": "markers",
         "name": "Asia",
         "orientation": "v",
         "showlegend": true,
         "type": "scatter",
         "x": [
          6e-9,
          4263.000000006003,
          4300.000000006003,
          6e-9,
          6e-9,
          7080.000000006003,
          511.00000000599994,
          144.00000000599994,
          6e-9,
          6e-9,
          6e-9,
          147.00000000599994,
          117.00000000600002,
          6e-9,
          6e-9,
          6e-9,
          6e-9,
          6e-9,
          6e-9,
          50.00000000599998,
          6e-9,
          6e-9,
          145.00000000599994,
          6e-9,
          6e-9,
          98.00000000600002,
          9.000000006,
          6e-9,
          6e-9,
          6e-9,
          6e-9,
          6e-9,
          6e-9,
          124.00000000600002,
          6e-9,
          6e-9,
          6e-9,
          6e-9,
          6e-9,
          12.000000006,
          6e-9,
          6e-9,
          6e-9,
          6e-9,
          6e-9,
          6e-9,
          6e-9,
          6e-9,
          6e-9,
          6e-9
         ],
         "xaxis": "x",
         "y": [
          0,
          1551,
          0,
          0,
          0,
          20441,
          92,
          218,
          0,
          0,
          0,
          0,
          103,
          0,
          0,
          0,
          0,
          0,
          0,
          0,
          0,
          0,
          65,
          0,
          1,
          65,
          3,
          0,
          0,
          0,
          0,
          0,
          0,
          205,
          0,
          0,
          0,
          0,
          0,
          17,
          0,
          0,
          0,
          0,
          0,
          0,
          0,
          0,
          0,
          0
         ],
         "yaxis": "y"
        },
        {
         "hovertemplate": "<b>%{hovertext}</b><br><br>Continent=Europe<br>New Cases=%{x}<br>New Recovered=%{y}<br>Total Cases=%{marker.size}<extra></extra>",
         "hovertext": [
          "France",
          "Germany",
          "Italy",
          "UK",
          "Russia",
          "Spain",
          "Netherlands",
          "Poland",
          "Austria",
          "Greece",
          "Portugal",
          "Ukraine",
          "Belgium",
          "Czechia",
          "Switzerland",
          "Romania",
          "Denmark",
          "Sweden",
          "Serbia",
          "Hungary",
          "Slovakia",
          "Ireland",
          "Norway",
          "Finland",
          "Slovenia",
          "Lithuania",
          "Bulgaria",
          "Croatia",
          "Belarus",
          "Latvia",
          "Estonia",
          "Moldova",
          "Bosnia and Herzegovina",
          "North Macedonia",
          "Albania",
          "Luxembourg",
          "Montenegro",
          "Iceland",
          "Malta",
          "Channel Islands",
          "Andorra",
          "Isle of Man",
          "Faeroe Islands",
          "San Marino",
          "Liechtenstein",
          "Gibraltar",
          "Monaco",
          "Vatican City"
         ],
         "legendgroup": "Europe",
         "marker": {
          "color": "#00cc96",
          "size": [
           39638159,
           38210850,
           25603510,
           24370154,
           22353291,
           13770429,
           8598182,
           6432765,
           5940935,
           5871458,
           5568084,
           5389439,
           4727795,
           4614143,
           4391007,
           3346046,
           3175554,
           2698535,
           2496295,
           2195926,
           1863419,
           1703850,
           1479259,
           1462976,
           1329966,
           1306368,
           1297062,
           1269326,
           994037,
           976162,
           615119,
           607450,
           401636,
           346852,
           334427,
           297757,
           288552,
           209093,
           117477,
           101382,
           47875,
           38008,
           34658,
           23583,
           21426,
           20433,
           16115,
           29
          ],
          "sizemode": "area",
          "sizeref": 65873.010625,
          "symbol": "circle"
         },
         "mode": "markers",
         "name": "Europe",
         "orientation": "v",
         "showlegend": true,
         "type": "scatter",
         "x": [
          6e-9,
          6e-9,
          6e-9,
          6e-9,
          11163.000000006003,
          6e-9,
          6e-9,
          450.00000000599994,
          6e-9,
          6e-9,
          6e-9,
          6e-9,
          6e-9,
          119.00000000600002,
          6e-9,
          5704.000000006003,
          45.00000000599998,
          6e-9,
          6e-9,
          6e-9,
          21.000000006,
          6e-9,
          6e-9,
          6e-9,
          89.00000000600002,
          41.00000000599998,
          6e-9,
          334.00000000599994,
          6e-9,
          13.000000006,
          6e-9,
          6e-9,
          6e-9,
          6e-9,
          6e-9,
          6e-9,
          6e-9,
          6e-9,
          6e-9,
          6e-9,
          6e-9,
          6e-9,
          6e-9,
          6e-9,
          6e-9,
          6e-9,
          6e-9,
          6e-9
         ],
         "xaxis": "x",
         "y": [
          706,
          17500,
          0,
          3964,
          9166,
          0,
          381,
          0,
          0,
          2619,
          0,
          0,
          792,
          1037,
          0,
          0,
          54,
          184,
          0,
          0,
          12,
          11,
          0,
          72,
          0,
          589,
          0,
          341,
          0,
          12,
          0,
          0,
          0,
          0,
          0,
          0,
          0,
          0,
          0,
          0,
          0,
          0,
          0,
          0,
          0,
          0,
          0,
          0
         ],
         "yaxis": "y"
        },
        {
         "hovertemplate": "<b>%{hovertext}</b><br><br>Continent=South America<br>New Cases=%{x}<br>New Recovered=%{y}<br>Total Cases=%{marker.size}<extra></extra>",
         "hovertext": [
          "Brazil",
          "Argentina",
          "Colombia",
          "Chile",
          "Peru",
          "Bolivia",
          "Ecuador",
          "Uruguay",
          "Paraguay",
          "Venezuela",
          "French Guiana",
          "Suriname",
          "Guyana",
          "Falkland Islands"
         ],
         "legendgroup": "South America",
         "marker": {
          "color": "#ab63fa",
          "size": [
           37076053,
           10044125,
           6360089,
           5180329,
           4486832,
           1193908,
           1057121,
           1034303,
           808401,
           552125,
           98041,
           82467,
           73075,
           1930
          ],
          "sizemode": "area",
          "sizeref": 65873.010625,
          "symbol": "circle"
         },
         "mode": "markers",
         "name": "South America",
         "orientation": "v",
         "showlegend": true,
         "type": "scatter",
         "x": [
          6e-9,
          6e-9,
          6e-9,
          6e-9,
          6e-9,
          6e-9,
          6e-9,
          6e-9,
          6e-9,
          6e-9,
          6e-9,
          6e-9,
          6e-9,
          6e-9
         ],
         "xaxis": "x",
         "y": [
          0,
          0,
          0,
          0,
          0,
          0,
          0,
          0,
          0,
          0,
          0,
          0,
          0,
          0
         ],
         "yaxis": "y"
        },
        {
         "hovertemplate": "<b>%{hovertext}</b><br><br>Continent=Australia/Oceania<br>New Cases=%{x}<br>New Recovered=%{y}<br>Total Cases=%{marker.size}<extra></extra>",
         "hovertext": [
          "Australia",
          "New Zealand",
          "New Caledonia",
          "French Polynesia",
          "Fiji",
          "Papua New Guinea",
          "Solomon Islands",
          "Micronesia",
          "Tonga",
          "Samoa",
          "Marshall Islands",
          "Vanuatu",
          "Cook Islands",
          "Palau",
          "Nauru",
          "Kiribati",
          "Wallis and Futuna",
          "Tuvalu",
          "Niue",
          "Tokelau"
         ],
         "legendgroup": "Australia/Oceania",
         "marker": {
          "color": "#FFA15A",
          "size": [
           11385534,
           2228291,
           79881,
           77957,
           68897,
           46809,
           24575,
           23948,
           16807,
           16607,
           15618,
           12014,
           7030,
           5989,
           5247,
           5013,
           3427,
           2805,
           791,
           5
          ],
          "sizemode": "area",
          "sizeref": 65873.010625,
          "symbol": "circle"
         },
         "mode": "markers",
         "name": "Australia/Oceania",
         "orientation": "v",
         "showlegend": true,
         "type": "scatter",
         "x": [
          6e-9,
          1634.000000006,
          6e-9,
          6e-9,
          6e-9,
          6e-9,
          6e-9,
          6e-9,
          6e-9,
          6e-9,
          6e-9,
          6e-9,
          6e-9,
          6e-9,
          6e-9,
          6e-9,
          6e-9,
          6e-9,
          6e-9,
          6e-9
         ],
         "xaxis": "x",
         "y": [
          0,
          1280,
          0,
          0,
          0,
          0,
          0,
          0,
          0,
          0,
          0,
          0,
          0,
          0,
          0,
          0,
          0,
          0,
          1,
          0
         ],
         "yaxis": "y"
        },
        {
         "hovertemplate": "<b>%{hovertext}</b><br><br>Continent=Africa<br>New Cases=%{x}<br>New Recovered=%{y}<br>Total Cases=%{marker.size}<extra></extra>",
         "hovertext": [
          "South Africa",
          "Morocco",
          "Tunisia",
          "Egypt",
          "Libya",
          "Ethiopia",
          "Réunion",
          "Zambia",
          "Kenya",
          "Botswana",
          "Algeria",
          "Nigeria",
          "Zimbabwe",
          "Mozambique",
          "Ghana",
          "Namibia",
          "Uganda",
          "Rwanda",
          "Cameroon",
          "Angola",
          "DRC",
          "Senegal",
          "Malawi",
          "Ivory Coast",
          "Eswatini",
          "Madagascar",
          "Sudan",
          "Mauritania",
          "Cabo Verde",
          "Burundi",
          "Seychelles",
          "Gabon",
          "Tanzania",
          "Mayotte",
          "Mauritius",
          "Togo",
          "Guinea",
          "Lesotho",
          "Mali",
          "Benin",
          "Somalia",
          "Congo",
          "Burkina Faso",
          "South Sudan",
          "Equatorial Guinea",
          "Djibouti",
          "CAR",
          "Gambia",
          "Eritrea",
          "Niger",
          "Comoros",
          "Guinea-Bissau",
          "Liberia",
          "Sierra Leone",
          "Chad",
          "Sao Tome and Principe",
          "Saint Helena",
          "Western Sahara"
         ],
         "legendgroup": "Africa",
         "marker": {
          "color": "#19d3f3",
          "size": [
           4064889,
           1272487,
           1150962,
           515698,
           507187,
           500050,
           486588,
           343135,
           342919,
           329727,
           271477,
           266598,
           264127,
           233098,
           171209,
           171156,
           170504,
           133180,
           124392,
           105277,
           95749,
           88921,
           88702,
           88240,
           74267,
           67889,
           63809,
           63668,
           63244,
           53631,
           50665,
           48981,
           42846,
           42004,
           41752,
           39394,
           38267,
           34790,
           33053,
           27990,
           27324,
           25375,
           22056,
           18368,
           17229,
           15690,
           15368,
           12586,
           10189,
           9931,
           9001,
           8960,
           8090,
           7760,
           7678,
           6281,
           2166,
           10
          ],
          "sizemode": "area",
          "sizeref": 65873.010625,
          "symbol": "circle"
         },
         "mode": "markers",
         "name": "Africa",
         "orientation": "v",
         "showlegend": true,
         "type": "scatter",
         "x": [
          6e-9,
          6e-9,
          6e-9,
          6e-9,
          13.000000006,
          6e-9,
          6e-9,
          6e-9,
          6e-9,
          6e-9,
          6e-9,
          6e-9,
          6e-9,
          6e-9,
          6e-9,
          6e-9,
          6e-9,
          6e-9,
          6e-9,
          6e-9,
          6e-9,
          6e-9,
          6e-9,
          6e-9,
          6e-9,
          6e-9,
          6e-9,
          6e-9,
          6e-9,
          6e-9,
          6e-9,
          6e-9,
          6e-9,
          6e-9,
          6e-9,
          6e-9,
          6e-9,
          6e-9,
          6e-9,
          6e-9,
          6e-9,
          6e-9,
          6e-9,
          6e-9,
          6e-9,
          6e-9,
          6e-9,
          6e-9,
          6e-9,
          6e-9,
          6e-9,
          6e-9,
          6e-9,
          6e-9,
          6e-9,
          6e-9,
          6e-9,
          6e-9
         ],
         "xaxis": "x",
         "y": [
          0,
          0,
          0,
          0,
          3,
          0,
          0,
          0,
          0,
          0,
          0,
          0,
          0,
          0,
          0,
          0,
          0,
          0,
          0,
          0,
          0,
          0,
          0,
          0,
          0,
          0,
          8,
          0,
          0,
          0,
          0,
          0,
          0,
          0,
          0,
          0,
          0,
          0,
          0,
          0,
          0,
          0,
          0,
          0,
          0,
          0,
          0,
          0,
          0,
          0,
          0,
          0,
          0,
          0,
          0,
          0,
          0,
          0
         ],
         "yaxis": "y"
        },
        {
         "hovertemplate": "<b>%{hovertext}</b><br><br>Continent=Unknown<br>New Cases=%{x}<br>New Recovered=%{y}<br>Total Cases=%{marker.size}<extra></extra>",
         "hovertext": [
          "Diamond Princess",
          "MS Zaandam"
         ],
         "legendgroup": "Unknown",
         "marker": {
          "color": "#FF6692",
          "size": [
           712,
           9
          ],
          "sizemode": "area",
          "sizeref": 65873.010625,
          "symbol": "circle"
         },
         "mode": "markers",
         "name": "Unknown",
         "orientation": "v",
         "showlegend": true,
         "type": "scatter",
         "x": [
          6e-9,
          6e-9
         ],
         "xaxis": "x",
         "y": [
          0,
          0
         ],
         "yaxis": "y"
        }
       ],
       "layout": {
        "legend": {
         "itemsizing": "constant",
         "title": {
          "text": "Continent"
         },
         "tracegroupgap": 0
        },
        "template": {
         "data": {
          "bar": [
           {
            "error_x": {
             "color": "#2a3f5f"
            },
            "error_y": {
             "color": "#2a3f5f"
            },
            "marker": {
             "line": {
              "color": "#E5ECF6",
              "width": 0.5
             },
             "pattern": {
              "fillmode": "overlay",
              "size": 10,
              "solidity": 0.2
             }
            },
            "type": "bar"
           }
          ],
          "barpolar": [
           {
            "marker": {
             "line": {
              "color": "#E5ECF6",
              "width": 0.5
             },
             "pattern": {
              "fillmode": "overlay",
              "size": 10,
              "solidity": 0.2
             }
            },
            "type": "barpolar"
           }
          ],
          "carpet": [
           {
            "aaxis": {
             "endlinecolor": "#2a3f5f",
             "gridcolor": "white",
             "linecolor": "white",
             "minorgridcolor": "white",
             "startlinecolor": "#2a3f5f"
            },
            "baxis": {
             "endlinecolor": "#2a3f5f",
             "gridcolor": "white",
             "linecolor": "white",
             "minorgridcolor": "white",
             "startlinecolor": "#2a3f5f"
            },
            "type": "carpet"
           }
          ],
          "choropleth": [
           {
            "colorbar": {
             "outlinewidth": 0,
             "ticks": ""
            },
            "type": "choropleth"
           }
          ],
          "contour": [
           {
            "colorbar": {
             "outlinewidth": 0,
             "ticks": ""
            },
            "colorscale": [
             [
              0,
              "#0d0887"
             ],
             [
              0.1111111111111111,
              "#46039f"
             ],
             [
              0.2222222222222222,
              "#7201a8"
             ],
             [
              0.3333333333333333,
              "#9c179e"
             ],
             [
              0.4444444444444444,
              "#bd3786"
             ],
             [
              0.5555555555555556,
              "#d8576b"
             ],
             [
              0.6666666666666666,
              "#ed7953"
             ],
             [
              0.7777777777777778,
              "#fb9f3a"
             ],
             [
              0.8888888888888888,
              "#fdca26"
             ],
             [
              1,
              "#f0f921"
             ]
            ],
            "type": "contour"
           }
          ],
          "contourcarpet": [
           {
            "colorbar": {
             "outlinewidth": 0,
             "ticks": ""
            },
            "type": "contourcarpet"
           }
          ],
          "heatmap": [
           {
            "colorbar": {
             "outlinewidth": 0,
             "ticks": ""
            },
            "colorscale": [
             [
              0,
              "#0d0887"
             ],
             [
              0.1111111111111111,
              "#46039f"
             ],
             [
              0.2222222222222222,
              "#7201a8"
             ],
             [
              0.3333333333333333,
              "#9c179e"
             ],
             [
              0.4444444444444444,
              "#bd3786"
             ],
             [
              0.5555555555555556,
              "#d8576b"
             ],
             [
              0.6666666666666666,
              "#ed7953"
             ],
             [
              0.7777777777777778,
              "#fb9f3a"
             ],
             [
              0.8888888888888888,
              "#fdca26"
             ],
             [
              1,
              "#f0f921"
             ]
            ],
            "type": "heatmap"
           }
          ],
          "heatmapgl": [
           {
            "colorbar": {
             "outlinewidth": 0,
             "ticks": ""
            },
            "colorscale": [
             [
              0,
              "#0d0887"
             ],
             [
              0.1111111111111111,
              "#46039f"
             ],
             [
              0.2222222222222222,
              "#7201a8"
             ],
             [
              0.3333333333333333,
              "#9c179e"
             ],
             [
              0.4444444444444444,
              "#bd3786"
             ],
             [
              0.5555555555555556,
              "#d8576b"
             ],
             [
              0.6666666666666666,
              "#ed7953"
             ],
             [
              0.7777777777777778,
              "#fb9f3a"
             ],
             [
              0.8888888888888888,
              "#fdca26"
             ],
             [
              1,
              "#f0f921"
             ]
            ],
            "type": "heatmapgl"
           }
          ],
          "histogram": [
           {
            "marker": {
             "pattern": {
              "fillmode": "overlay",
              "size": 10,
              "solidity": 0.2
             }
            },
            "type": "histogram"
           }
          ],
          "histogram2d": [
           {
            "colorbar": {
             "outlinewidth": 0,
             "ticks": ""
            },
            "colorscale": [
             [
              0,
              "#0d0887"
             ],
             [
              0.1111111111111111,
              "#46039f"
             ],
             [
              0.2222222222222222,
              "#7201a8"
             ],
             [
              0.3333333333333333,
              "#9c179e"
             ],
             [
              0.4444444444444444,
              "#bd3786"
             ],
             [
              0.5555555555555556,
              "#d8576b"
             ],
             [
              0.6666666666666666,
              "#ed7953"
             ],
             [
              0.7777777777777778,
              "#fb9f3a"
             ],
             [
              0.8888888888888888,
              "#fdca26"
             ],
             [
              1,
              "#f0f921"
             ]
            ],
            "type": "histogram2d"
           }
          ],
          "histogram2dcontour": [
           {
            "colorbar": {
             "outlinewidth": 0,
             "ticks": ""
            },
            "colorscale": [
             [
              0,
              "#0d0887"
             ],
             [
              0.1111111111111111,
              "#46039f"
             ],
             [
              0.2222222222222222,
              "#7201a8"
             ],
             [
              0.3333333333333333,
              "#9c179e"
             ],
             [
              0.4444444444444444,
              "#bd3786"
             ],
             [
              0.5555555555555556,
              "#d8576b"
             ],
             [
              0.6666666666666666,
              "#ed7953"
             ],
             [
              0.7777777777777778,
              "#fb9f3a"
             ],
             [
              0.8888888888888888,
              "#fdca26"
             ],
             [
              1,
              "#f0f921"
             ]
            ],
            "type": "histogram2dcontour"
           }
          ],
          "mesh3d": [
           {
            "colorbar": {
             "outlinewidth": 0,
             "ticks": ""
            },
            "type": "mesh3d"
           }
          ],
          "parcoords": [
           {
            "line": {
             "colorbar": {
              "outlinewidth": 0,
              "ticks": ""
             }
            },
            "type": "parcoords"
           }
          ],
          "pie": [
           {
            "automargin": true,
            "type": "pie"
           }
          ],
          "scatter": [
           {
            "fillpattern": {
             "fillmode": "overlay",
             "size": 10,
             "solidity": 0.2
            },
            "type": "scatter"
           }
          ],
          "scatter3d": [
           {
            "line": {
             "colorbar": {
              "outlinewidth": 0,
              "ticks": ""
             }
            },
            "marker": {
             "colorbar": {
              "outlinewidth": 0,
              "ticks": ""
             }
            },
            "type": "scatter3d"
           }
          ],
          "scattercarpet": [
           {
            "marker": {
             "colorbar": {
              "outlinewidth": 0,
              "ticks": ""
             }
            },
            "type": "scattercarpet"
           }
          ],
          "scattergeo": [
           {
            "marker": {
             "colorbar": {
              "outlinewidth": 0,
              "ticks": ""
             }
            },
            "type": "scattergeo"
           }
          ],
          "scattergl": [
           {
            "marker": {
             "colorbar": {
              "outlinewidth": 0,
              "ticks": ""
             }
            },
            "type": "scattergl"
           }
          ],
          "scattermapbox": [
           {
            "marker": {
             "colorbar": {
              "outlinewidth": 0,
              "ticks": ""
             }
            },
            "type": "scattermapbox"
           }
          ],
          "scatterpolar": [
           {
            "marker": {
             "colorbar": {
              "outlinewidth": 0,
              "ticks": ""
             }
            },
            "type": "scatterpolar"
           }
          ],
          "scatterpolargl": [
           {
            "marker": {
             "colorbar": {
              "outlinewidth": 0,
              "ticks": ""
             }
            },
            "type": "scatterpolargl"
           }
          ],
          "scatterternary": [
           {
            "marker": {
             "colorbar": {
              "outlinewidth": 0,
              "ticks": ""
             }
            },
            "type": "scatterternary"
           }
          ],
          "surface": [
           {
            "colorbar": {
             "outlinewidth": 0,
             "ticks": ""
            },
            "colorscale": [
             [
              0,
              "#0d0887"
             ],
             [
              0.1111111111111111,
              "#46039f"
             ],
             [
              0.2222222222222222,
              "#7201a8"
             ],
             [
              0.3333333333333333,
              "#9c179e"
             ],
             [
              0.4444444444444444,
              "#bd3786"
             ],
             [
              0.5555555555555556,
              "#d8576b"
             ],
             [
              0.6666666666666666,
              "#ed7953"
             ],
             [
              0.7777777777777778,
              "#fb9f3a"
             ],
             [
              0.8888888888888888,
              "#fdca26"
             ],
             [
              1,
              "#f0f921"
             ]
            ],
            "type": "surface"
           }
          ],
          "table": [
           {
            "cells": {
             "fill": {
              "color": "#EBF0F8"
             },
             "line": {
              "color": "white"
             }
            },
            "header": {
             "fill": {
              "color": "#C8D4E3"
             },
             "line": {
              "color": "white"
             }
            },
            "type": "table"
           }
          ]
         },
         "layout": {
          "annotationdefaults": {
           "arrowcolor": "#2a3f5f",
           "arrowhead": 0,
           "arrowwidth": 1
          },
          "autotypenumbers": "strict",
          "coloraxis": {
           "colorbar": {
            "outlinewidth": 0,
            "ticks": ""
           }
          },
          "colorscale": {
           "diverging": [
            [
             0,
             "#8e0152"
            ],
            [
             0.1,
             "#c51b7d"
            ],
            [
             0.2,
             "#de77ae"
            ],
            [
             0.3,
             "#f1b6da"
            ],
            [
             0.4,
             "#fde0ef"
            ],
            [
             0.5,
             "#f7f7f7"
            ],
            [
             0.6,
             "#e6f5d0"
            ],
            [
             0.7,
             "#b8e186"
            ],
            [
             0.8,
             "#7fbc41"
            ],
            [
             0.9,
             "#4d9221"
            ],
            [
             1,
             "#276419"
            ]
           ],
           "sequential": [
            [
             0,
             "#0d0887"
            ],
            [
             0.1111111111111111,
             "#46039f"
            ],
            [
             0.2222222222222222,
             "#7201a8"
            ],
            [
             0.3333333333333333,
             "#9c179e"
            ],
            [
             0.4444444444444444,
             "#bd3786"
            ],
            [
             0.5555555555555556,
             "#d8576b"
            ],
            [
             0.6666666666666666,
             "#ed7953"
            ],
            [
             0.7777777777777778,
             "#fb9f3a"
            ],
            [
             0.8888888888888888,
             "#fdca26"
            ],
            [
             1,
             "#f0f921"
            ]
           ],
           "sequentialminus": [
            [
             0,
             "#0d0887"
            ],
            [
             0.1111111111111111,
             "#46039f"
            ],
            [
             0.2222222222222222,
             "#7201a8"
            ],
            [
             0.3333333333333333,
             "#9c179e"
            ],
            [
             0.4444444444444444,
             "#bd3786"
            ],
            [
             0.5555555555555556,
             "#d8576b"
            ],
            [
             0.6666666666666666,
             "#ed7953"
            ],
            [
             0.7777777777777778,
             "#fb9f3a"
            ],
            [
             0.8888888888888888,
             "#fdca26"
            ],
            [
             1,
             "#f0f921"
            ]
           ]
          },
          "colorway": [
           "#636efa",
           "#EF553B",
           "#00cc96",
           "#ab63fa",
           "#FFA15A",
           "#19d3f3",
           "#FF6692",
           "#B6E880",
           "#FF97FF",
           "#FECB52"
          ],
          "font": {
           "color": "#2a3f5f"
          },
          "geo": {
           "bgcolor": "white",
           "lakecolor": "white",
           "landcolor": "#E5ECF6",
           "showlakes": true,
           "showland": true,
           "subunitcolor": "white"
          },
          "hoverlabel": {
           "align": "left"
          },
          "hovermode": "closest",
          "mapbox": {
           "style": "light"
          },
          "paper_bgcolor": "white",
          "plot_bgcolor": "#E5ECF6",
          "polar": {
           "angularaxis": {
            "gridcolor": "white",
            "linecolor": "white",
            "ticks": ""
           },
           "bgcolor": "#E5ECF6",
           "radialaxis": {
            "gridcolor": "white",
            "linecolor": "white",
            "ticks": ""
           }
          },
          "scene": {
           "xaxis": {
            "backgroundcolor": "#E5ECF6",
            "gridcolor": "white",
            "gridwidth": 2,
            "linecolor": "white",
            "showbackground": true,
            "ticks": "",
            "zerolinecolor": "white"
           },
           "yaxis": {
            "backgroundcolor": "#E5ECF6",
            "gridcolor": "white",
            "gridwidth": 2,
            "linecolor": "white",
            "showbackground": true,
            "ticks": "",
            "zerolinecolor": "white"
           },
           "zaxis": {
            "backgroundcolor": "#E5ECF6",
            "gridcolor": "white",
            "gridwidth": 2,
            "linecolor": "white",
            "showbackground": true,
            "ticks": "",
            "zerolinecolor": "white"
           }
          },
          "shapedefaults": {
           "line": {
            "color": "#2a3f5f"
           }
          },
          "ternary": {
           "aaxis": {
            "gridcolor": "white",
            "linecolor": "white",
            "ticks": ""
           },
           "baxis": {
            "gridcolor": "white",
            "linecolor": "white",
            "ticks": ""
           },
           "bgcolor": "#E5ECF6",
           "caxis": {
            "gridcolor": "white",
            "linecolor": "white",
            "ticks": ""
           }
          },
          "title": {
           "x": 0.05
          },
          "xaxis": {
           "automargin": true,
           "gridcolor": "white",
           "linecolor": "white",
           "ticks": "",
           "title": {
            "standoff": 15
           },
           "zerolinecolor": "white",
           "zerolinewidth": 2
          },
          "yaxis": {
           "automargin": true,
           "gridcolor": "white",
           "linecolor": "white",
           "ticks": "",
           "title": {
            "standoff": 15
           },
           "zerolinecolor": "white",
           "zerolinewidth": 2
          }
         }
        },
        "title": {
         "text": "Relationship between Total Cases, New Recovered and New Cases"
        },
        "xaxis": {
         "anchor": "y",
         "domain": [
          0,
          1
         ],
         "title": {
          "text": "New Cases"
         }
        },
        "yaxis": {
         "anchor": "x",
         "domain": [
          0,
          1
         ],
         "title": {
          "text": "New Recovered"
         }
        }
       }
      }
     },
     "metadata": {},
     "output_type": "display_data"
    }
   ],
   "source": [
    "fig = px.scatter(covid_df, x='New Cases', y='New Recovered', size='Total Cases', \n",
    "                 color='Continent', hover_name='Country',\n",
    "                 labels={'New Recovered': 'New Recovered', 'Total Cases': 'Total Cases'},\n",
    "                 title='Relationship between Total Cases, New Recovered and New Cases',\n",
    "                 size_max=40)\n",
    "    \n",
    "fig.show()"
   ]
  },
  {
   "attachments": {},
   "cell_type": "markdown",
   "metadata": {},
   "source": [
    "- **Nhận xét biểu đồ:**\n",
    "  - Qua biểu đồ, nhóm nhận thấy các quốc gia trước kia có tổng số người bị mắc covid lớn hiện nay đã kiểm soát được dịch bệnh tốt, số ca nhiễm mới ở quốc gia đó cũng dần ít đi nhiều. Đồng thời với số ca nhiễm bị ít đi, số ca phục hồi cũng tăng lên rất cao với điển hình là Đức, UK.\n",
    "  - Các quốc gia ở châu Âu, Bắc Mĩ đa số là kiểm soát tốt dịch bệnh, điều này chứng tỏ các nước đó có hệ thống y tế tốt, các dịch vụ và cơ sở y tế được cung cấp đầy đủ, không bị quá tải vì số ca nhiễm mới cũng ít. \n",
    "  - Ngoài các quốc gia trên thì các nước châu Á đa phần cũng kiểm soát dịch bệnh tốt, tuy nhiên còn Hàn Quốc, Nhật Bản, Đài Loan vẫn còn có ca mắc covid nhiều hơn so với các nước châu Á khác nhưng vẫn có tình trạng phục hồi tốt nên cũng không quá tải về y tế. Nga vẫn còn có số ca nhiễm cao hơn, như đã giải thích ở ý 1.1.\n",
    "  - Nhìn chung, các quốc gia trên thế giới kiểm soát tình hình dịch rất tốt và ổn định, số ca mắc mới giảm dần, số ca phục hồi tăng lên. "
   ]
  }
 ],
 "metadata": {
  "kernelspec": {
   "display_name": "Python 3 (ipykernel)",
   "language": "python",
   "name": "python3"
  },
  "language_info": {
   "codemirror_mode": {
    "name": "ipython",
    "version": 3
   },
   "file_extension": ".py",
   "mimetype": "text/x-python",
   "name": "python",
   "nbconvert_exporter": "python",
   "pygments_lexer": "ipython3",
   "version": "3.10.6"
  }
 },
 "nbformat": 4,
 "nbformat_minor": 4
}
