{
 "cells": [
  {
   "cell_type": "markdown",
   "metadata": {},
   "source": [
    "# DATA ANALYSIS\n",
    "\n",
    "## 1. Ý nghĩa của thuộc tính:\n",
    "- **Country**: Tên quốc gia\n",
    "- Total Cases: Tổng số ca nhiễm\n",
    "- New Cases: Số ca nhiễm mới\n",
    "- Total Deaths: Tổng số ca tử vong\n",
    "- New Deaths: Số ca tử vong mới\n",
    "- Total Recovered: Tổng số ca hồi phục\n",
    "- New Recovered: Số ca hồi phục mới\n",
    "- Active Cases: Tổng số ca đang điều trị\n",
    "- Serious, Critical: Số ca nghiêm trọng, nguy kịch\n",
    "- Tot Cases/1M pop: Số ca nhiễm trên 1 triệu dân\n",
    "- Deaths/1M pop: Số ca tử vong trên 1 triệu dân\n",
    "- Total tests: Tổng số lần test\n",
    "- Tests/1M pop: Số lần test trên 1 triệu dân\n",
    "- Population: Dân số\n",
    "- Continent: Châu lục\n",
    "- 1 Case every X ppl: 1 ca nhiễm trên X dân\n",
    "- 1 Death every X ppl: 1 ca tử vong trên X dân\n",
    "- 1 Test every X ppl: 1 lần test trên X dân\n",
    "- New Cases/1M pop: Số ca nhiễm mới trên 1 triệu dân\n",
    "- New Deaths/1M pop: Số ca tử vong mới trên 1 triệu dân\n",
    "- Active Cases/1M pop: Số ca đang điều trị trên 1 triệu dân\n",
    "\n",
    "## 2. Phân tích các mối quan hệ nhờ trực quan"
   ]
  },
  {
   "cell_type": "code",
   "execution_count": 14,
   "metadata": {
    "tags": []
   },
   "outputs": [],
   "source": [
    "# Import thư viện: \n",
    "\n",
    "import pandas as pd\n",
    "import matplotlib.pyplot as plt\n",
    "import seaborn as sns\n",
    "import plotly.graph_objs as go\n",
    "import plotly.express as px\n",
    "from plotly.subplots import make_subplots"
   ]
  },
  {
   "cell_type": "code",
   "execution_count": 15,
   "metadata": {},
   "outputs": [
    {
     "data": {
      "text/html": [
       "<div>\n",
       "<style scoped>\n",
       "    .dataframe tbody tr th:only-of-type {\n",
       "        vertical-align: middle;\n",
       "    }\n",
       "\n",
       "    .dataframe tbody tr th {\n",
       "        vertical-align: top;\n",
       "    }\n",
       "\n",
       "    .dataframe thead th {\n",
       "        text-align: right;\n",
       "    }\n",
       "</style>\n",
       "<table border=\"1\" class=\"dataframe\">\n",
       "  <thead>\n",
       "    <tr style=\"text-align: right;\">\n",
       "      <th></th>\n",
       "      <th>Country</th>\n",
       "      <th>Total Cases</th>\n",
       "      <th>New Cases</th>\n",
       "      <th>Total Deaths</th>\n",
       "      <th>New Deaths</th>\n",
       "      <th>Total Recovered</th>\n",
       "      <th>New Recovered</th>\n",
       "      <th>Active Cases</th>\n",
       "      <th>Serious, Critical</th>\n",
       "      <th>Tot Cases/1M pop</th>\n",
       "      <th>...</th>\n",
       "      <th>Total tests</th>\n",
       "      <th>Tests/1M pop</th>\n",
       "      <th>Population</th>\n",
       "      <th>Continent</th>\n",
       "      <th>1 Case every X ppl</th>\n",
       "      <th>1 Death every X ppl</th>\n",
       "      <th>1 Test every X ppl</th>\n",
       "      <th>New Cases/1M pop</th>\n",
       "      <th>New Deaths/1M pop</th>\n",
       "      <th>Active Cases/1M pop</th>\n",
       "    </tr>\n",
       "  </thead>\n",
       "  <tbody>\n",
       "    <tr>\n",
       "      <th>0</th>\n",
       "      <td>USA</td>\n",
       "      <td>105396817.0</td>\n",
       "      <td>0.0</td>\n",
       "      <td>1146740.0</td>\n",
       "      <td>0.0</td>\n",
       "      <td>102864696.0</td>\n",
       "      <td>0.0</td>\n",
       "      <td>1385381.0</td>\n",
       "      <td>2726.0</td>\n",
       "      <td>314800.0</td>\n",
       "      <td>...</td>\n",
       "      <td>1.167686e+09</td>\n",
       "      <td>3487657.0</td>\n",
       "      <td>3.348053e+08</td>\n",
       "      <td>North America</td>\n",
       "      <td>3.0</td>\n",
       "      <td>292.0</td>\n",
       "      <td>0.0</td>\n",
       "      <td>0.0</td>\n",
       "      <td>0.0</td>\n",
       "      <td>4138.0</td>\n",
       "    </tr>\n",
       "    <tr>\n",
       "      <th>1</th>\n",
       "      <td>India</td>\n",
       "      <td>44688101.0</td>\n",
       "      <td>0.0</td>\n",
       "      <td>530775.0</td>\n",
       "      <td>0.0</td>\n",
       "      <td>44154425.0</td>\n",
       "      <td>0.0</td>\n",
       "      <td>2901.0</td>\n",
       "      <td>0.0</td>\n",
       "      <td>31770.0</td>\n",
       "      <td>...</td>\n",
       "      <td>9.191891e+08</td>\n",
       "      <td>653468.0</td>\n",
       "      <td>1.406632e+09</td>\n",
       "      <td>Asia</td>\n",
       "      <td>31.0</td>\n",
       "      <td>2650.0</td>\n",
       "      <td>2.0</td>\n",
       "      <td>0.0</td>\n",
       "      <td>0.0</td>\n",
       "      <td>2.0</td>\n",
       "    </tr>\n",
       "    <tr>\n",
       "      <th>2</th>\n",
       "      <td>France</td>\n",
       "      <td>39638159.0</td>\n",
       "      <td>0.0</td>\n",
       "      <td>165030.0</td>\n",
       "      <td>0.0</td>\n",
       "      <td>39400459.0</td>\n",
       "      <td>706.0</td>\n",
       "      <td>72670.0</td>\n",
       "      <td>869.0</td>\n",
       "      <td>604383.0</td>\n",
       "      <td>...</td>\n",
       "      <td>2.714902e+08</td>\n",
       "      <td>4139547.0</td>\n",
       "      <td>6.558452e+07</td>\n",
       "      <td>Europe</td>\n",
       "      <td>2.0</td>\n",
       "      <td>397.0</td>\n",
       "      <td>0.0</td>\n",
       "      <td>0.0</td>\n",
       "      <td>0.0</td>\n",
       "      <td>1108.0</td>\n",
       "    </tr>\n",
       "    <tr>\n",
       "      <th>3</th>\n",
       "      <td>Germany</td>\n",
       "      <td>38210850.0</td>\n",
       "      <td>0.0</td>\n",
       "      <td>168397.0</td>\n",
       "      <td>0.0</td>\n",
       "      <td>37767300.0</td>\n",
       "      <td>17500.0</td>\n",
       "      <td>275153.0</td>\n",
       "      <td>0.0</td>\n",
       "      <td>455522.0</td>\n",
       "      <td>...</td>\n",
       "      <td>1.223324e+08</td>\n",
       "      <td>1458359.0</td>\n",
       "      <td>8.388360e+07</td>\n",
       "      <td>Europe</td>\n",
       "      <td>2.0</td>\n",
       "      <td>498.0</td>\n",
       "      <td>1.0</td>\n",
       "      <td>0.0</td>\n",
       "      <td>0.0</td>\n",
       "      <td>3280.0</td>\n",
       "    </tr>\n",
       "    <tr>\n",
       "      <th>4</th>\n",
       "      <td>Brazil</td>\n",
       "      <td>37076053.0</td>\n",
       "      <td>0.0</td>\n",
       "      <td>699276.0</td>\n",
       "      <td>0.0</td>\n",
       "      <td>36249161.0</td>\n",
       "      <td>0.0</td>\n",
       "      <td>127616.0</td>\n",
       "      <td>0.0</td>\n",
       "      <td>172164.0</td>\n",
       "      <td>...</td>\n",
       "      <td>6.377617e+07</td>\n",
       "      <td>296146.0</td>\n",
       "      <td>2.153536e+08</td>\n",
       "      <td>South America</td>\n",
       "      <td>6.0</td>\n",
       "      <td>308.0</td>\n",
       "      <td>3.0</td>\n",
       "      <td>0.0</td>\n",
       "      <td>0.0</td>\n",
       "      <td>593.0</td>\n",
       "    </tr>\n",
       "  </tbody>\n",
       "</table>\n",
       "<p>5 rows × 21 columns</p>\n",
       "</div>"
      ],
      "text/plain": [
       "   Country  Total Cases  New Cases  Total Deaths  New Deaths  Total Recovered  \\\n",
       "0      USA  105396817.0        0.0     1146740.0         0.0      102864696.0   \n",
       "1    India   44688101.0        0.0      530775.0         0.0       44154425.0   \n",
       "2   France   39638159.0        0.0      165030.0         0.0       39400459.0   \n",
       "3  Germany   38210850.0        0.0      168397.0         0.0       37767300.0   \n",
       "4   Brazil   37076053.0        0.0      699276.0         0.0       36249161.0   \n",
       "\n",
       "   New Recovered  Active Cases  Serious, Critical  Tot Cases/1M pop  ...  \\\n",
       "0            0.0     1385381.0             2726.0          314800.0  ...   \n",
       "1            0.0        2901.0                0.0           31770.0  ...   \n",
       "2          706.0       72670.0              869.0          604383.0  ...   \n",
       "3        17500.0      275153.0                0.0          455522.0  ...   \n",
       "4            0.0      127616.0                0.0          172164.0  ...   \n",
       "\n",
       "    Total tests  Tests/1M pop    Population      Continent 1 Case every X ppl  \\\n",
       "0  1.167686e+09     3487657.0  3.348053e+08  North America                3.0   \n",
       "1  9.191891e+08      653468.0  1.406632e+09           Asia               31.0   \n",
       "2  2.714902e+08     4139547.0  6.558452e+07         Europe                2.0   \n",
       "3  1.223324e+08     1458359.0  8.388360e+07         Europe                2.0   \n",
       "4  6.377617e+07      296146.0  2.153536e+08  South America                6.0   \n",
       "\n",
       "   1 Death every X ppl  1 Test every X ppl  New Cases/1M pop  \\\n",
       "0                292.0                 0.0               0.0   \n",
       "1               2650.0                 2.0               0.0   \n",
       "2                397.0                 0.0               0.0   \n",
       "3                498.0                 1.0               0.0   \n",
       "4                308.0                 3.0               0.0   \n",
       "\n",
       "   New Deaths/1M pop  Active Cases/1M pop  \n",
       "0                0.0               4138.0  \n",
       "1                0.0                  2.0  \n",
       "2                0.0               1108.0  \n",
       "3                0.0               3280.0  \n",
       "4                0.0                593.0  \n",
       "\n",
       "[5 rows x 21 columns]"
      ]
     },
     "execution_count": 15,
     "metadata": {},
     "output_type": "execute_result"
    }
   ],
   "source": [
    "# Đọc dữ liệu:\n",
    "covid_df = pd.read_csv('../data/modified/Modified_March_06_2023_corona_data.csv')\n",
    "covid_df.head(5)"
   ]
  },
  {
   "attachments": {},
   "cell_type": "markdown",
   "metadata": {},
   "source": [
    "### 2.1 Biểu đồ: \n",
    "\n",
    "#### 1. Mối quan hệ xoay quanh trường dữ liệu `New Cases` (số ca nhiễm mới): \n",
    "\n",
    "#### 1.1 Các quốc gia có số ca mắc covid cao nhất:\n",
    "- **Trường dữ liệu được trực quan**:  `New Cases`\n",
    "- **Biểu đồ sử dụng**: Bar chart.\n",
    "- **Tính phù hợp của biểu đồ**: Để dễ dàng so sánh top 10 quốc gia có ca mắc covid mới, bar chart là một biểu đồ phù hợp vì việc so sánh được thể hiện rõ ở chiều cao các cột tương ứng với các quốc gia (các giá trị rời rạc). \n",
    "- **Mục đích của câu hỏi:** Để kiểm tra tình trạng kiểm soát dịch của các quốc gia trên thế giới, nhóm lọc ra 10 quốc gia có số ca nhiễm covid mới ở thời điểm hiện tại rồi từ đó xem xét các mối quan hệ xung quanh nó."
   ]
  },
  {
   "cell_type": "code",
   "execution_count": 16,
   "metadata": {},
   "outputs": [
    {
     "data": {
      "application/vnd.plotly.v1+json": {
       "config": {
        "plotlyServerURL": "https://plot.ly"
       },
       "data": [
        {
         "type": "bar",
         "x": [
          "Russia",
          "Taiwan",
          "Romania",
          "S. Korea",
          "Japan",
          "New Zealand",
          "Mexico",
          "Iran",
          "Poland",
          "Croatia"
         ],
         "y": [
          11163,
          7080,
          5704,
          4300,
          4263,
          1634,
          525,
          511,
          450,
          334
         ]
        }
       ],
       "layout": {
        "template": {
         "data": {
          "bar": [
           {
            "error_x": {
             "color": "#2a3f5f"
            },
            "error_y": {
             "color": "#2a3f5f"
            },
            "marker": {
             "line": {
              "color": "#E5ECF6",
              "width": 0.5
             },
             "pattern": {
              "fillmode": "overlay",
              "size": 10,
              "solidity": 0.2
             }
            },
            "type": "bar"
           }
          ],
          "barpolar": [
           {
            "marker": {
             "line": {
              "color": "#E5ECF6",
              "width": 0.5
             },
             "pattern": {
              "fillmode": "overlay",
              "size": 10,
              "solidity": 0.2
             }
            },
            "type": "barpolar"
           }
          ],
          "carpet": [
           {
            "aaxis": {
             "endlinecolor": "#2a3f5f",
             "gridcolor": "white",
             "linecolor": "white",
             "minorgridcolor": "white",
             "startlinecolor": "#2a3f5f"
            },
            "baxis": {
             "endlinecolor": "#2a3f5f",
             "gridcolor": "white",
             "linecolor": "white",
             "minorgridcolor": "white",
             "startlinecolor": "#2a3f5f"
            },
            "type": "carpet"
           }
          ],
          "choropleth": [
           {
            "colorbar": {
             "outlinewidth": 0,
             "ticks": ""
            },
            "type": "choropleth"
           }
          ],
          "contour": [
           {
            "colorbar": {
             "outlinewidth": 0,
             "ticks": ""
            },
            "colorscale": [
             [
              0,
              "#0d0887"
             ],
             [
              0.1111111111111111,
              "#46039f"
             ],
             [
              0.2222222222222222,
              "#7201a8"
             ],
             [
              0.3333333333333333,
              "#9c179e"
             ],
             [
              0.4444444444444444,
              "#bd3786"
             ],
             [
              0.5555555555555556,
              "#d8576b"
             ],
             [
              0.6666666666666666,
              "#ed7953"
             ],
             [
              0.7777777777777778,
              "#fb9f3a"
             ],
             [
              0.8888888888888888,
              "#fdca26"
             ],
             [
              1,
              "#f0f921"
             ]
            ],
            "type": "contour"
           }
          ],
          "contourcarpet": [
           {
            "colorbar": {
             "outlinewidth": 0,
             "ticks": ""
            },
            "type": "contourcarpet"
           }
          ],
          "heatmap": [
           {
            "colorbar": {
             "outlinewidth": 0,
             "ticks": ""
            },
            "colorscale": [
             [
              0,
              "#0d0887"
             ],
             [
              0.1111111111111111,
              "#46039f"
             ],
             [
              0.2222222222222222,
              "#7201a8"
             ],
             [
              0.3333333333333333,
              "#9c179e"
             ],
             [
              0.4444444444444444,
              "#bd3786"
             ],
             [
              0.5555555555555556,
              "#d8576b"
             ],
             [
              0.6666666666666666,
              "#ed7953"
             ],
             [
              0.7777777777777778,
              "#fb9f3a"
             ],
             [
              0.8888888888888888,
              "#fdca26"
             ],
             [
              1,
              "#f0f921"
             ]
            ],
            "type": "heatmap"
           }
          ],
          "heatmapgl": [
           {
            "colorbar": {
             "outlinewidth": 0,
             "ticks": ""
            },
            "colorscale": [
             [
              0,
              "#0d0887"
             ],
             [
              0.1111111111111111,
              "#46039f"
             ],
             [
              0.2222222222222222,
              "#7201a8"
             ],
             [
              0.3333333333333333,
              "#9c179e"
             ],
             [
              0.4444444444444444,
              "#bd3786"
             ],
             [
              0.5555555555555556,
              "#d8576b"
             ],
             [
              0.6666666666666666,
              "#ed7953"
             ],
             [
              0.7777777777777778,
              "#fb9f3a"
             ],
             [
              0.8888888888888888,
              "#fdca26"
             ],
             [
              1,
              "#f0f921"
             ]
            ],
            "type": "heatmapgl"
           }
          ],
          "histogram": [
           {
            "marker": {
             "pattern": {
              "fillmode": "overlay",
              "size": 10,
              "solidity": 0.2
             }
            },
            "type": "histogram"
           }
          ],
          "histogram2d": [
           {
            "colorbar": {
             "outlinewidth": 0,
             "ticks": ""
            },
            "colorscale": [
             [
              0,
              "#0d0887"
             ],
             [
              0.1111111111111111,
              "#46039f"
             ],
             [
              0.2222222222222222,
              "#7201a8"
             ],
             [
              0.3333333333333333,
              "#9c179e"
             ],
             [
              0.4444444444444444,
              "#bd3786"
             ],
             [
              0.5555555555555556,
              "#d8576b"
             ],
             [
              0.6666666666666666,
              "#ed7953"
             ],
             [
              0.7777777777777778,
              "#fb9f3a"
             ],
             [
              0.8888888888888888,
              "#fdca26"
             ],
             [
              1,
              "#f0f921"
             ]
            ],
            "type": "histogram2d"
           }
          ],
          "histogram2dcontour": [
           {
            "colorbar": {
             "outlinewidth": 0,
             "ticks": ""
            },
            "colorscale": [
             [
              0,
              "#0d0887"
             ],
             [
              0.1111111111111111,
              "#46039f"
             ],
             [
              0.2222222222222222,
              "#7201a8"
             ],
             [
              0.3333333333333333,
              "#9c179e"
             ],
             [
              0.4444444444444444,
              "#bd3786"
             ],
             [
              0.5555555555555556,
              "#d8576b"
             ],
             [
              0.6666666666666666,
              "#ed7953"
             ],
             [
              0.7777777777777778,
              "#fb9f3a"
             ],
             [
              0.8888888888888888,
              "#fdca26"
             ],
             [
              1,
              "#f0f921"
             ]
            ],
            "type": "histogram2dcontour"
           }
          ],
          "mesh3d": [
           {
            "colorbar": {
             "outlinewidth": 0,
             "ticks": ""
            },
            "type": "mesh3d"
           }
          ],
          "parcoords": [
           {
            "line": {
             "colorbar": {
              "outlinewidth": 0,
              "ticks": ""
             }
            },
            "type": "parcoords"
           }
          ],
          "pie": [
           {
            "automargin": true,
            "type": "pie"
           }
          ],
          "scatter": [
           {
            "fillpattern": {
             "fillmode": "overlay",
             "size": 10,
             "solidity": 0.2
            },
            "type": "scatter"
           }
          ],
          "scatter3d": [
           {
            "line": {
             "colorbar": {
              "outlinewidth": 0,
              "ticks": ""
             }
            },
            "marker": {
             "colorbar": {
              "outlinewidth": 0,
              "ticks": ""
             }
            },
            "type": "scatter3d"
           }
          ],
          "scattercarpet": [
           {
            "marker": {
             "colorbar": {
              "outlinewidth": 0,
              "ticks": ""
             }
            },
            "type": "scattercarpet"
           }
          ],
          "scattergeo": [
           {
            "marker": {
             "colorbar": {
              "outlinewidth": 0,
              "ticks": ""
             }
            },
            "type": "scattergeo"
           }
          ],
          "scattergl": [
           {
            "marker": {
             "colorbar": {
              "outlinewidth": 0,
              "ticks": ""
             }
            },
            "type": "scattergl"
           }
          ],
          "scattermapbox": [
           {
            "marker": {
             "colorbar": {
              "outlinewidth": 0,
              "ticks": ""
             }
            },
            "type": "scattermapbox"
           }
          ],
          "scatterpolar": [
           {
            "marker": {
             "colorbar": {
              "outlinewidth": 0,
              "ticks": ""
             }
            },
            "type": "scatterpolar"
           }
          ],
          "scatterpolargl": [
           {
            "marker": {
             "colorbar": {
              "outlinewidth": 0,
              "ticks": ""
             }
            },
            "type": "scatterpolargl"
           }
          ],
          "scatterternary": [
           {
            "marker": {
             "colorbar": {
              "outlinewidth": 0,
              "ticks": ""
             }
            },
            "type": "scatterternary"
           }
          ],
          "surface": [
           {
            "colorbar": {
             "outlinewidth": 0,
             "ticks": ""
            },
            "colorscale": [
             [
              0,
              "#0d0887"
             ],
             [
              0.1111111111111111,
              "#46039f"
             ],
             [
              0.2222222222222222,
              "#7201a8"
             ],
             [
              0.3333333333333333,
              "#9c179e"
             ],
             [
              0.4444444444444444,
              "#bd3786"
             ],
             [
              0.5555555555555556,
              "#d8576b"
             ],
             [
              0.6666666666666666,
              "#ed7953"
             ],
             [
              0.7777777777777778,
              "#fb9f3a"
             ],
             [
              0.8888888888888888,
              "#fdca26"
             ],
             [
              1,
              "#f0f921"
             ]
            ],
            "type": "surface"
           }
          ],
          "table": [
           {
            "cells": {
             "fill": {
              "color": "#EBF0F8"
             },
             "line": {
              "color": "white"
             }
            },
            "header": {
             "fill": {
              "color": "#C8D4E3"
             },
             "line": {
              "color": "white"
             }
            },
            "type": "table"
           }
          ]
         },
         "layout": {
          "annotationdefaults": {
           "arrowcolor": "#2a3f5f",
           "arrowhead": 0,
           "arrowwidth": 1
          },
          "autotypenumbers": "strict",
          "coloraxis": {
           "colorbar": {
            "outlinewidth": 0,
            "ticks": ""
           }
          },
          "colorscale": {
           "diverging": [
            [
             0,
             "#8e0152"
            ],
            [
             0.1,
             "#c51b7d"
            ],
            [
             0.2,
             "#de77ae"
            ],
            [
             0.3,
             "#f1b6da"
            ],
            [
             0.4,
             "#fde0ef"
            ],
            [
             0.5,
             "#f7f7f7"
            ],
            [
             0.6,
             "#e6f5d0"
            ],
            [
             0.7,
             "#b8e186"
            ],
            [
             0.8,
             "#7fbc41"
            ],
            [
             0.9,
             "#4d9221"
            ],
            [
             1,
             "#276419"
            ]
           ],
           "sequential": [
            [
             0,
             "#0d0887"
            ],
            [
             0.1111111111111111,
             "#46039f"
            ],
            [
             0.2222222222222222,
             "#7201a8"
            ],
            [
             0.3333333333333333,
             "#9c179e"
            ],
            [
             0.4444444444444444,
             "#bd3786"
            ],
            [
             0.5555555555555556,
             "#d8576b"
            ],
            [
             0.6666666666666666,
             "#ed7953"
            ],
            [
             0.7777777777777778,
             "#fb9f3a"
            ],
            [
             0.8888888888888888,
             "#fdca26"
            ],
            [
             1,
             "#f0f921"
            ]
           ],
           "sequentialminus": [
            [
             0,
             "#0d0887"
            ],
            [
             0.1111111111111111,
             "#46039f"
            ],
            [
             0.2222222222222222,
             "#7201a8"
            ],
            [
             0.3333333333333333,
             "#9c179e"
            ],
            [
             0.4444444444444444,
             "#bd3786"
            ],
            [
             0.5555555555555556,
             "#d8576b"
            ],
            [
             0.6666666666666666,
             "#ed7953"
            ],
            [
             0.7777777777777778,
             "#fb9f3a"
            ],
            [
             0.8888888888888888,
             "#fdca26"
            ],
            [
             1,
             "#f0f921"
            ]
           ]
          },
          "colorway": [
           "#636efa",
           "#EF553B",
           "#00cc96",
           "#ab63fa",
           "#FFA15A",
           "#19d3f3",
           "#FF6692",
           "#B6E880",
           "#FF97FF",
           "#FECB52"
          ],
          "font": {
           "color": "#2a3f5f"
          },
          "geo": {
           "bgcolor": "white",
           "lakecolor": "white",
           "landcolor": "#E5ECF6",
           "showlakes": true,
           "showland": true,
           "subunitcolor": "white"
          },
          "hoverlabel": {
           "align": "left"
          },
          "hovermode": "closest",
          "mapbox": {
           "style": "light"
          },
          "paper_bgcolor": "white",
          "plot_bgcolor": "#E5ECF6",
          "polar": {
           "angularaxis": {
            "gridcolor": "white",
            "linecolor": "white",
            "ticks": ""
           },
           "bgcolor": "#E5ECF6",
           "radialaxis": {
            "gridcolor": "white",
            "linecolor": "white",
            "ticks": ""
           }
          },
          "scene": {
           "xaxis": {
            "backgroundcolor": "#E5ECF6",
            "gridcolor": "white",
            "gridwidth": 2,
            "linecolor": "white",
            "showbackground": true,
            "ticks": "",
            "zerolinecolor": "white"
           },
           "yaxis": {
            "backgroundcolor": "#E5ECF6",
            "gridcolor": "white",
            "gridwidth": 2,
            "linecolor": "white",
            "showbackground": true,
            "ticks": "",
            "zerolinecolor": "white"
           },
           "zaxis": {
            "backgroundcolor": "#E5ECF6",
            "gridcolor": "white",
            "gridwidth": 2,
            "linecolor": "white",
            "showbackground": true,
            "ticks": "",
            "zerolinecolor": "white"
           }
          },
          "shapedefaults": {
           "line": {
            "color": "#2a3f5f"
           }
          },
          "ternary": {
           "aaxis": {
            "gridcolor": "white",
            "linecolor": "white",
            "ticks": ""
           },
           "baxis": {
            "gridcolor": "white",
            "linecolor": "white",
            "ticks": ""
           },
           "bgcolor": "#E5ECF6",
           "caxis": {
            "gridcolor": "white",
            "linecolor": "white",
            "ticks": ""
           }
          },
          "title": {
           "x": 0.05
          },
          "xaxis": {
           "automargin": true,
           "gridcolor": "white",
           "linecolor": "white",
           "ticks": "",
           "title": {
            "standoff": 15
           },
           "zerolinecolor": "white",
           "zerolinewidth": 2
          },
          "yaxis": {
           "automargin": true,
           "gridcolor": "white",
           "linecolor": "white",
           "ticks": "",
           "title": {
            "standoff": 15
           },
           "zerolinecolor": "white",
           "zerolinewidth": 2
          }
         }
        },
        "title": {
         "text": "Top 10 quốc gia có ca mắc covid mới cao nhất"
        },
        "xaxis": {
         "title": {
          "text": "Quốc gia"
         }
        },
        "yaxis": {
         "title": {
          "text": "Số lượng"
         }
        }
       }
      }
     },
     "metadata": {},
     "output_type": "display_data"
    }
   ],
   "source": [
    "df_top = covid_df[['Country', 'New Cases']]\n",
    "df_top = df_top.sort_values(by='New Cases', ascending=False).head(10)\n",
    "\n",
    "fig = go.Figure()\n",
    "fig.add_trace(go.Bar(x=df_top['Country'], y=df_top['New Cases']))\n",
    "fig.update_layout(title='Top 10 quốc gia có ca mắc covid mới cao nhất', \n",
    "                xaxis_title='Quốc gia', yaxis_title='Số lượng')\n",
    "\n",
    "fig.show()"
   ]
  },
  {
   "attachments": {},
   "cell_type": "markdown",
   "metadata": {},
   "source": [
    "- **Nhận xét biểu đồ**: \n",
    "  - Nga là quốc gia có số lượng ca mắc covid mới nhiều nhất trong ngày 06/03/2023. Điều này có thể được giải thích là do tỷ lệ tiêm phòng vắc xin của công chúng Nga đang giảm dần và việc đó đã trở nên không còn bắt buộc, quảng bá với các chủng virus mới, các lệnh bắt buộc mang khẩu trang tại nơi đông người bị gỡ bỏ. Hậu quả là số ca mắc tăng do miễn dịch cộng đồng không hiệu quả.\n",
    "  - Hầu hết các quốc gia có số ca nhiễm mới thuộc top đầu đều là các nước thuộc châu Á và châu Âu.\n",
    "  \n",
    "- **Quan hệ với các trường dữ liệu khác**: Nhìn tổng quan biểu đồ, số ca nhiễm của các quốc gia khác không cao như Nga, phải chăng điều này có lẽ là do Nga có dân số đông hơn các quốc gia còn lại nên số ca nhiễm cũng từ đó mà cao vượt trội hơn hẳn? Từ đó, nhóm có một câu hỏi đặt ra là:\n",
    "\n",
    "#### 1.2 Liệu dân số có ảnh hưởng đến việc tăng các ca nhiễm mới?\n",
    "- **Trường dữ liệu được trực quan**: `New Cases`, `Population`.\n",
    "- **Biểu đồ sử dụng**: Scatter.\n",
    "- **Tính phù hợp của biểu đồ**: Scatter là biểu đồ thông dụng nhất khi quan sát mối quan hệ của hai biến, đặc biệt là xem xét sự tương quan giữa hai biến đó. Với lý do như vậy nên sử dụng scatter plot cho câu hỏi xem xét liệu 2 biến `New Cases` và `Population` có sự tương quan với nhau hay không là phù hợp.\n",
    "- **Mục đích của câu hỏi:** Nhằm xem xét sự tương quan giữa số dân với mức nhiễm hiện tại của một quốc gia. Nếu một quốc gia đông dân thì số ca nhiễm cũng tăng lên nhiều theo dân số, ngược lại nếu một quốc gia ít dân thì số ca nhiễm cũng thấp theo."
   ]
  },
  {
   "cell_type": "code",
   "execution_count": 17,
   "metadata": {},
   "outputs": [
    {
     "data": {
      "application/vnd.plotly.v1+json": {
       "config": {
        "plotlyServerURL": "https://plot.ly"
       },
       "data": [
        {
         "hovertemplate": "Dân số (log scale)=%{x}<br>Số ca nhiễm mới (log scale)=%{y}<extra></extra>",
         "legendgroup": "",
         "marker": {
          "color": "#636efa",
          "symbol": "circle"
         },
         "mode": "markers",
         "name": "",
         "orientation": "v",
         "showlegend": false,
         "type": "scatter",
         "x": [
          334805269,
          1406631776,
          65584518,
          83883596,
          215353593,
          125584838,
          51329899,
          60262770,
          68497907,
          145805947,
          85561976,
          46719142,
          98953541,
          26068792,
          23888595,
          46010234,
          17211447,
          86022837,
          131562772,
          279134505,
          37739785,
          51512762,
          9066710,
          10316637,
          10140570,
          43192122,
          19250195,
          33181072,
          9326000,
          25990679,
          70078203,
          11668278,
          10736784,
          38388419,
          33684208,
          8773637,
          112508994,
          60756135,
          19031335,
          5834950,
          7604299,
          10218971,
          8653016,
          42164965,
          5943546,
          4898203,
          9606259,
          167885689,
          5460193,
          3968738,
          10300869,
          5020199,
          229488994,
          5511370,
          5554960,
          19205043,
          2078034,
          2661708,
          6844597,
          37772756,
          4059286,
          18584039,
          6684849,
          5182354,
          11992656,
          12046656,
          11305652,
          18113361,
          10081785,
          3496016,
          4446964,
          3378078,
          30225582,
          9432800,
          1848837,
          35844909,
          10300205,
          7305843,
          1783983,
          21575842,
          4380326,
          11056370,
          1223387,
          55227143,
          5345541,
          1321910,
          4013171,
          29266991,
          106156692,
          7040745,
          120812698,
          2979915,
          908061,
          10221247,
          2971966,
          3249317,
          5323993,
          2081304,
          19470234,
          56215221,
          2866374,
          2441162,
          642371,
          627950,
          445431,
          45350148,
          216746934,
          15331428,
          34382084,
          33089461,
          374087,
          7481023,
          40754388,
          345393,
          6728271,
          399794,
          6550389,
          1406585,
          540985,
          32395450,
          2633874,
          48432863,
          2985094,
          17168639,
          13600464,
          27911548,
          444033,
          288023,
          35027343,
          176463,
          314169,
          95240792,
          17653671,
          20180839,
          27742298,
          596831,
          290915,
          284164,
          1184817,
          794045,
          412190,
          909466,
          29178077,
          45992020,
          4901981,
          567678,
          787941,
          19364809,
          12624840,
          99426,
          2331533,
          77463,
          9292169,
          165529,
          107609,
          63298550,
          286259,
          1274727,
          8680837,
          13865691,
          85732,
          400516,
          2175699,
          49233,
          11680283,
          21473764,
          67277,
          185113,
          12784726,
          16841795,
          5797805,
          721159,
          117489,
          34085,
          1369429,
          22102838,
          38387,
          33704,
          113475,
          61939,
          6779100,
          11618511,
          9957464,
          1496662,
          107749,
          202239,
          39783,
          72344,
          1016097,
          60057,
          5016678,
          2558482,
          39730,
          321832,
          56973,
          31154867,
          26647,
          43966,
          3662244,
          26083660,
          111551,
          99509,
          907419,
          2063367,
          5305117,
          8306436,
          17413580,
          30596,
          17571,
          53871,
          39741,
          227679,
          18233,
          9945,
          10903,
          123419,
          15230,
          667490,
          5759,
          10982,
          12066,
          6115,
          3539,
          4965,
          1622,
          799,
          626161,
          1378,
          1448471400
         ],
         "xaxis": "x",
         "y": [
          1e-9,
          1e-9,
          1e-9,
          1e-9,
          1e-9,
          4263.000000001,
          4300.000000001,
          1e-9,
          1e-9,
          11163.000000001,
          1e-9,
          1e-9,
          1e-9,
          1e-9,
          7080.000000001,
          1e-9,
          1e-9,
          511.000000001,
          525.000000001,
          144.000000001,
          450.000000001,
          1e-9,
          1e-9,
          1e-9,
          1e-9,
          1e-9,
          1e-9,
          1e-9,
          1e-9,
          1e-9,
          147.000000001,
          1e-9,
          119.000000001,
          1e-9,
          1e-9,
          1e-9,
          117.000000001,
          1e-9,
          5704.000000001,
          45.000000001,
          1e-9,
          1e-9,
          1e-9,
          1e-9,
          1e-9,
          1634.000000001,
          1e-9,
          1e-9,
          21.000000001,
          1e-9,
          1e-9,
          1e-9,
          50.000000001,
          1e-9,
          1e-9,
          1e-9,
          89.000000001,
          41.000000001,
          1e-9,
          1e-9,
          334.000000001,
          1e-9,
          1e-9,
          1e-9,
          1e-9,
          1e-9,
          1e-9,
          1e-9,
          145.000000001,
          1e-9,
          1e-9,
          1e-9,
          1e-9,
          1e-9,
          13.000000001,
          98.000000001,
          9.000000001,
          1e-9,
          1e-9,
          1e-9,
          1e-9,
          1e-9,
          1e-9,
          1e-9,
          1e-9,
          1e-9,
          1e-9,
          1e-9,
          1e-9,
          13.000000001,
          1e-9,
          124.000000001,
          1e-9,
          1e-9,
          1e-9,
          1e-9,
          1e-9,
          1e-9,
          1e-9,
          1e-9,
          1e-9,
          1e-9,
          1e-9,
          1e-9,
          1e-9,
          1e-9,
          1e-9,
          1e-9,
          1e-9,
          1e-9,
          1e-9,
          1e-9,
          12.000000001,
          1e-9,
          1e-9,
          1e-9,
          1e-9,
          1e-9,
          1e-9,
          1e-9,
          1e-9,
          1e-9,
          1e-9,
          1e-9,
          1e-9,
          1e-9,
          1e-9,
          1e-9,
          1e-9,
          1e-9,
          1e-9,
          1e-9,
          1e-9,
          1e-9,
          1e-9,
          1e-9,
          1e-9,
          1e-9,
          1e-9,
          1e-9,
          1e-9,
          1e-9,
          1e-9,
          1e-9,
          1e-9,
          1e-9,
          1e-9,
          1e-9,
          1e-9,
          1e-9,
          1e-9,
          1e-9,
          1e-9,
          1e-9,
          1e-9,
          1e-9,
          1e-9,
          1e-9,
          1e-9,
          1e-9,
          1e-9,
          1e-9,
          1e-9,
          1e-9,
          1e-9,
          1e-9,
          1e-9,
          1e-9,
          1e-9,
          1e-9,
          1e-9,
          1e-9,
          1e-9,
          1e-9,
          1e-9,
          1e-9,
          1e-9,
          1e-9,
          1e-9,
          1e-9,
          1e-9,
          1e-9,
          1e-9,
          1e-9,
          1e-9,
          1e-9,
          1e-9,
          1e-9,
          1e-9,
          1e-9,
          1e-9,
          1e-9,
          1e-9,
          1e-9,
          1e-9,
          1e-9,
          1e-9,
          1e-9,
          1e-9,
          1e-9,
          1e-9,
          1e-9,
          1e-9,
          1e-9,
          1e-9,
          1e-9,
          1e-9,
          1e-9,
          1e-9,
          1e-9,
          1e-9,
          1e-9,
          1e-9,
          1e-9,
          1e-9,
          1e-9,
          1e-9,
          1e-9,
          1e-9,
          1e-9,
          1e-9,
          1e-9,
          1e-9,
          1e-9,
          1e-9,
          1e-9,
          1e-9,
          1e-9,
          1e-9
         ],
         "yaxis": "y"
        },
        {
         "hovertemplate": "<b>OLS trendline</b><br>New Cases = 3.63965e-07 * Population + 149.604<br>R<sup>2</sup>=0.002403<br><br>Dân số (log scale)=%{x}<br>Số ca nhiễm mới (log scale)=%{y} <b>(trend)</b><extra></extra>",
         "legendgroup": "",
         "marker": {
          "color": "#636efa",
          "symbol": "circle"
         },
         "mode": "lines",
         "name": "",
         "showlegend": false,
         "type": "scatter",
         "x": [
          799,
          1378,
          1622,
          3539,
          4965,
          5759,
          6115,
          9945,
          10903,
          10982,
          12066,
          15230,
          17571,
          18233,
          26647,
          30596,
          33704,
          34085,
          38387,
          39730,
          39741,
          39783,
          43966,
          49233,
          53871,
          56973,
          60057,
          61939,
          67277,
          72344,
          77463,
          85732,
          99426,
          99509,
          107609,
          107749,
          111551,
          113475,
          117489,
          123419,
          165529,
          176463,
          185113,
          202239,
          227679,
          284164,
          286259,
          288023,
          290915,
          314169,
          321832,
          345393,
          374087,
          399794,
          400516,
          412190,
          444033,
          445431,
          540985,
          567678,
          596831,
          626161,
          627950,
          642371,
          667490,
          721159,
          787941,
          794045,
          907419,
          908061,
          909466,
          1016097,
          1184817,
          1223387,
          1274727,
          1321910,
          1369429,
          1406585,
          1496662,
          1783983,
          1848837,
          2063367,
          2078034,
          2081304,
          2175699,
          2331533,
          2441162,
          2558482,
          2633874,
          2661708,
          2866374,
          2971966,
          2979915,
          2985094,
          3249317,
          3378078,
          3496016,
          3662244,
          3968738,
          4013171,
          4059286,
          4380326,
          4446964,
          4898203,
          4901981,
          5016678,
          5020199,
          5182354,
          5305117,
          5323993,
          5345541,
          5460193,
          5511370,
          5554960,
          5797805,
          5834950,
          5943546,
          6550389,
          6684849,
          6728271,
          6779100,
          6844597,
          7040745,
          7305843,
          7481023,
          7604299,
          8306436,
          8653016,
          8680837,
          8773637,
          9066710,
          9292169,
          9326000,
          9432800,
          9606259,
          9957464,
          10081785,
          10140570,
          10218971,
          10221247,
          10300205,
          10300869,
          10316637,
          10736784,
          11056370,
          11305652,
          11618511,
          11668278,
          11680283,
          11992656,
          12046656,
          12624840,
          12784726,
          13600464,
          13865691,
          15331428,
          16841795,
          17168639,
          17211447,
          17413580,
          17653671,
          18113361,
          18584039,
          19031335,
          19205043,
          19250195,
          19364809,
          19470234,
          20180839,
          21473764,
          21575842,
          22102838,
          23888595,
          25990679,
          26068792,
          26083660,
          27742298,
          27911548,
          29178077,
          29266991,
          30225582,
          31154867,
          32395450,
          33089461,
          33181072,
          33684208,
          34382084,
          35027343,
          35844909,
          37739785,
          37772756,
          38388419,
          40754388,
          42164965,
          43192122,
          45350148,
          45992020,
          46010234,
          46719142,
          48432863,
          51329899,
          51512762,
          55227143,
          56215221,
          60262770,
          60756135,
          63298550,
          65584518,
          68497907,
          70078203,
          83883596,
          85561976,
          86022837,
          95240792,
          98953541,
          106156692,
          112508994,
          120812698,
          125584838,
          131562772,
          145805947,
          167885689,
          215353593,
          216746934,
          229488994,
          279134505,
          334805269,
          1406631776,
          1448471400
         ],
         "xaxis": "x",
         "y": [
          149.60430872644773,
          149.60451946229801,
          149.6046082698066,
          149.6053059910933,
          149.60582500546724,
          149.60611399383535,
          149.60624356544625,
          149.60763755215888,
          149.60798623081962,
          149.60801498407037,
          149.6084095223462,
          149.60956110823622,
          149.61041315076736,
          149.61065409572916,
          149.61371649891456,
          149.6151537974859,
          149.61628500132474,
          149.61642367206562,
          149.61798945035224,
          149.61847825561466,
          149.61848225923185,
          149.6184975457702,
          149.62002001219813,
          149.62193701690188,
          149.6236250874954,
          149.62475410754308,
          149.62587657621717,
          149.6265615587219,
          149.6285044049548,
          149.63034861661873,
          149.63221175447305,
          149.63522138270457,
          149.64020552214131,
          149.64023573125283,
          149.6431838493657,
          149.64323480449357,
          149.64461860018065,
          149.64531886922376,
          149.646779825533,
          149.6489381391638,
          149.66426471369874,
          149.66824430918592,
          149.6713926081583,
          149.67762587615843,
          149.68688515082403,
          149.7074437250963,
          149.70820623218847,
          149.70884826679972,
          149.7099008541556,
          149.71836450089592,
          149.72115356621677,
          149.72972895027323,
          149.7401725676968,
          149.74952902107054,
          149.7497918039443,
          149.75404073367883,
          149.7656304775144,
          149.7661393008628,
          149.8009176314995,
          149.8106329545596,
          149.82124363200953,
          149.8319187312997,
          149.83256986504094,
          149.83781860717747,
          149.84696104901414,
          149.8664946972857,
          149.89080102121335,
          149.89302266478876,
          149.93428685527377,
          149.9345205209316,
          149.9350318920364,
          149.97384186518374,
          150.03525007357925,
          150.0492882113093,
          150.0679741846321,
          150.08514715462218,
          150.10244241691916,
          150.11596590785766,
          150.14875080109877,
          150.2533256460751,
          150.2769302450988,
          150.35501169926602,
          150.3603499768415,
          150.36154014304262,
          150.39589663801354,
          150.45261479085318,
          150.4925159316675,
          150.53521632882826,
          150.56265639312028,
          150.5727870004726,
          150.64727830191566,
          150.68571011522113,
          150.68860327458893,
          150.69048825035517,
          150.78665622716224,
          150.83352075016612,
          150.8764460778199,
          150.9369472849392,
          151.04850043467826,
          151.06467250037073,
          151.08145675552817,
          151.1983041430536,
          151.22255805599255,
          151.38679334847822,
          151.38816840900049,
          151.42991412544393,
          151.43119564691003,
          151.49021442377332,
          151.5348958835129,
          151.54176609061147,
          151.5496088127221,
          151.5913381507316,
          151.60996479772695,
          151.6258300407566,
          151.71421716953685,
          151.72773665685816,
          151.7672618216218,
          151.98813155495128,
          152.03707031562496,
          152.05287441250113,
          152.0713743996072,
          152.09521302825394,
          152.1666040741309,
          152.2630905204872,
          152.326849944069,
          152.3717181179557,
          152.62727155097016,
          152.75341460968113,
          152.76354048548583,
          152.79731645596416,
          152.90398482876583,
          152.9860440585942,
          152.99835736524562,
          153.03722884851163,
          153.10036188798574,
          153.22818828574265,
          153.27343680326243,
          153.2948324974927,
          153.3233677330689,
          153.3241961178621,
          153.3529340820542,
          153.35317575494642,
          153.35891475820614,
          153.51183364472075,
          153.62815182684668,
          153.71888179961368,
          153.83275158784514,
          153.85086504390972,
          153.85523444612517,
          153.96892734726984,
          153.98858146802232,
          154.19902032271023,
          154.2572132625367,
          154.55411350613636,
          154.65064690400334,
          155.18412416306572,
          155.7338451889648,
          155.85280503050595,
          155.86838565274988,
          155.94195503034356,
          156.02933979896545,
          156.1966509613489,
          156.36796137334022,
          156.53076155104574,
          156.59398521785448,
          156.61041897452512,
          156.65213448185705,
          156.69050551297428,
          156.94914100329484,
          157.41972070836692,
          157.4568735479627,
          157.64868175203807,
          158.2986351541228,
          159.0637205757495,
          159.09215098934834,
          159.09756242392885,
          159.70124893386665,
          159.7628500438177,
          160.2238225234938,
          160.25618412520834,
          160.60507788939788,
          160.943305289462,
          161.3948343280817,
          161.64743017988812,
          161.6807733957447,
          161.86389739016906,
          162.11789996747004,
          162.35275178788893,
          162.6503173598726,
          163.33998628052007,
          163.35198657710026,
          163.576066483486,
          164.43719686168245,
          164.95059780036138,
          165.32444720239374,
          166.10989356518962,
          166.3435126354791,
          166.35014189761588,
          166.60815973899355,
          167.23189454399449,
          168.28631482859194,
          168.3528705967986,
          169.70477601707069,
          170.06440202308667,
          171.53756900081913,
          171.71713669128292,
          172.64248727300327,
          173.47450007130496,
          174.53487227880362,
          175.11004502711197,
          180.13472763928516,
          180.74559955018398,
          180.91333691581556,
          184.26835174286867,
          185.6196631719358,
          188.24135945994135,
          190.55337632224098,
          193.57563560203351,
          195.31252848736145,
          197.48828842599696,
          202.67230845097126,
          210.70856614451682,
          227.98523127568015,
          228.49235891018705,
          233.1300253152845,
          251.19926361180768,
          271.4614843162235,
          661.5690323584437,
          676.7971994387045
         ],
         "yaxis": "y"
        }
       ],
       "layout": {
        "legend": {
         "tracegroupgap": 0
        },
        "template": {
         "data": {
          "bar": [
           {
            "error_x": {
             "color": "#2a3f5f"
            },
            "error_y": {
             "color": "#2a3f5f"
            },
            "marker": {
             "line": {
              "color": "#E5ECF6",
              "width": 0.5
             },
             "pattern": {
              "fillmode": "overlay",
              "size": 10,
              "solidity": 0.2
             }
            },
            "type": "bar"
           }
          ],
          "barpolar": [
           {
            "marker": {
             "line": {
              "color": "#E5ECF6",
              "width": 0.5
             },
             "pattern": {
              "fillmode": "overlay",
              "size": 10,
              "solidity": 0.2
             }
            },
            "type": "barpolar"
           }
          ],
          "carpet": [
           {
            "aaxis": {
             "endlinecolor": "#2a3f5f",
             "gridcolor": "white",
             "linecolor": "white",
             "minorgridcolor": "white",
             "startlinecolor": "#2a3f5f"
            },
            "baxis": {
             "endlinecolor": "#2a3f5f",
             "gridcolor": "white",
             "linecolor": "white",
             "minorgridcolor": "white",
             "startlinecolor": "#2a3f5f"
            },
            "type": "carpet"
           }
          ],
          "choropleth": [
           {
            "colorbar": {
             "outlinewidth": 0,
             "ticks": ""
            },
            "type": "choropleth"
           }
          ],
          "contour": [
           {
            "colorbar": {
             "outlinewidth": 0,
             "ticks": ""
            },
            "colorscale": [
             [
              0,
              "#0d0887"
             ],
             [
              0.1111111111111111,
              "#46039f"
             ],
             [
              0.2222222222222222,
              "#7201a8"
             ],
             [
              0.3333333333333333,
              "#9c179e"
             ],
             [
              0.4444444444444444,
              "#bd3786"
             ],
             [
              0.5555555555555556,
              "#d8576b"
             ],
             [
              0.6666666666666666,
              "#ed7953"
             ],
             [
              0.7777777777777778,
              "#fb9f3a"
             ],
             [
              0.8888888888888888,
              "#fdca26"
             ],
             [
              1,
              "#f0f921"
             ]
            ],
            "type": "contour"
           }
          ],
          "contourcarpet": [
           {
            "colorbar": {
             "outlinewidth": 0,
             "ticks": ""
            },
            "type": "contourcarpet"
           }
          ],
          "heatmap": [
           {
            "colorbar": {
             "outlinewidth": 0,
             "ticks": ""
            },
            "colorscale": [
             [
              0,
              "#0d0887"
             ],
             [
              0.1111111111111111,
              "#46039f"
             ],
             [
              0.2222222222222222,
              "#7201a8"
             ],
             [
              0.3333333333333333,
              "#9c179e"
             ],
             [
              0.4444444444444444,
              "#bd3786"
             ],
             [
              0.5555555555555556,
              "#d8576b"
             ],
             [
              0.6666666666666666,
              "#ed7953"
             ],
             [
              0.7777777777777778,
              "#fb9f3a"
             ],
             [
              0.8888888888888888,
              "#fdca26"
             ],
             [
              1,
              "#f0f921"
             ]
            ],
            "type": "heatmap"
           }
          ],
          "heatmapgl": [
           {
            "colorbar": {
             "outlinewidth": 0,
             "ticks": ""
            },
            "colorscale": [
             [
              0,
              "#0d0887"
             ],
             [
              0.1111111111111111,
              "#46039f"
             ],
             [
              0.2222222222222222,
              "#7201a8"
             ],
             [
              0.3333333333333333,
              "#9c179e"
             ],
             [
              0.4444444444444444,
              "#bd3786"
             ],
             [
              0.5555555555555556,
              "#d8576b"
             ],
             [
              0.6666666666666666,
              "#ed7953"
             ],
             [
              0.7777777777777778,
              "#fb9f3a"
             ],
             [
              0.8888888888888888,
              "#fdca26"
             ],
             [
              1,
              "#f0f921"
             ]
            ],
            "type": "heatmapgl"
           }
          ],
          "histogram": [
           {
            "marker": {
             "pattern": {
              "fillmode": "overlay",
              "size": 10,
              "solidity": 0.2
             }
            },
            "type": "histogram"
           }
          ],
          "histogram2d": [
           {
            "colorbar": {
             "outlinewidth": 0,
             "ticks": ""
            },
            "colorscale": [
             [
              0,
              "#0d0887"
             ],
             [
              0.1111111111111111,
              "#46039f"
             ],
             [
              0.2222222222222222,
              "#7201a8"
             ],
             [
              0.3333333333333333,
              "#9c179e"
             ],
             [
              0.4444444444444444,
              "#bd3786"
             ],
             [
              0.5555555555555556,
              "#d8576b"
             ],
             [
              0.6666666666666666,
              "#ed7953"
             ],
             [
              0.7777777777777778,
              "#fb9f3a"
             ],
             [
              0.8888888888888888,
              "#fdca26"
             ],
             [
              1,
              "#f0f921"
             ]
            ],
            "type": "histogram2d"
           }
          ],
          "histogram2dcontour": [
           {
            "colorbar": {
             "outlinewidth": 0,
             "ticks": ""
            },
            "colorscale": [
             [
              0,
              "#0d0887"
             ],
             [
              0.1111111111111111,
              "#46039f"
             ],
             [
              0.2222222222222222,
              "#7201a8"
             ],
             [
              0.3333333333333333,
              "#9c179e"
             ],
             [
              0.4444444444444444,
              "#bd3786"
             ],
             [
              0.5555555555555556,
              "#d8576b"
             ],
             [
              0.6666666666666666,
              "#ed7953"
             ],
             [
              0.7777777777777778,
              "#fb9f3a"
             ],
             [
              0.8888888888888888,
              "#fdca26"
             ],
             [
              1,
              "#f0f921"
             ]
            ],
            "type": "histogram2dcontour"
           }
          ],
          "mesh3d": [
           {
            "colorbar": {
             "outlinewidth": 0,
             "ticks": ""
            },
            "type": "mesh3d"
           }
          ],
          "parcoords": [
           {
            "line": {
             "colorbar": {
              "outlinewidth": 0,
              "ticks": ""
             }
            },
            "type": "parcoords"
           }
          ],
          "pie": [
           {
            "automargin": true,
            "type": "pie"
           }
          ],
          "scatter": [
           {
            "fillpattern": {
             "fillmode": "overlay",
             "size": 10,
             "solidity": 0.2
            },
            "type": "scatter"
           }
          ],
          "scatter3d": [
           {
            "line": {
             "colorbar": {
              "outlinewidth": 0,
              "ticks": ""
             }
            },
            "marker": {
             "colorbar": {
              "outlinewidth": 0,
              "ticks": ""
             }
            },
            "type": "scatter3d"
           }
          ],
          "scattercarpet": [
           {
            "marker": {
             "colorbar": {
              "outlinewidth": 0,
              "ticks": ""
             }
            },
            "type": "scattercarpet"
           }
          ],
          "scattergeo": [
           {
            "marker": {
             "colorbar": {
              "outlinewidth": 0,
              "ticks": ""
             }
            },
            "type": "scattergeo"
           }
          ],
          "scattergl": [
           {
            "marker": {
             "colorbar": {
              "outlinewidth": 0,
              "ticks": ""
             }
            },
            "type": "scattergl"
           }
          ],
          "scattermapbox": [
           {
            "marker": {
             "colorbar": {
              "outlinewidth": 0,
              "ticks": ""
             }
            },
            "type": "scattermapbox"
           }
          ],
          "scatterpolar": [
           {
            "marker": {
             "colorbar": {
              "outlinewidth": 0,
              "ticks": ""
             }
            },
            "type": "scatterpolar"
           }
          ],
          "scatterpolargl": [
           {
            "marker": {
             "colorbar": {
              "outlinewidth": 0,
              "ticks": ""
             }
            },
            "type": "scatterpolargl"
           }
          ],
          "scatterternary": [
           {
            "marker": {
             "colorbar": {
              "outlinewidth": 0,
              "ticks": ""
             }
            },
            "type": "scatterternary"
           }
          ],
          "surface": [
           {
            "colorbar": {
             "outlinewidth": 0,
             "ticks": ""
            },
            "colorscale": [
             [
              0,
              "#0d0887"
             ],
             [
              0.1111111111111111,
              "#46039f"
             ],
             [
              0.2222222222222222,
              "#7201a8"
             ],
             [
              0.3333333333333333,
              "#9c179e"
             ],
             [
              0.4444444444444444,
              "#bd3786"
             ],
             [
              0.5555555555555556,
              "#d8576b"
             ],
             [
              0.6666666666666666,
              "#ed7953"
             ],
             [
              0.7777777777777778,
              "#fb9f3a"
             ],
             [
              0.8888888888888888,
              "#fdca26"
             ],
             [
              1,
              "#f0f921"
             ]
            ],
            "type": "surface"
           }
          ],
          "table": [
           {
            "cells": {
             "fill": {
              "color": "#EBF0F8"
             },
             "line": {
              "color": "white"
             }
            },
            "header": {
             "fill": {
              "color": "#C8D4E3"
             },
             "line": {
              "color": "white"
             }
            },
            "type": "table"
           }
          ]
         },
         "layout": {
          "annotationdefaults": {
           "arrowcolor": "#2a3f5f",
           "arrowhead": 0,
           "arrowwidth": 1
          },
          "autotypenumbers": "strict",
          "coloraxis": {
           "colorbar": {
            "outlinewidth": 0,
            "ticks": ""
           }
          },
          "colorscale": {
           "diverging": [
            [
             0,
             "#8e0152"
            ],
            [
             0.1,
             "#c51b7d"
            ],
            [
             0.2,
             "#de77ae"
            ],
            [
             0.3,
             "#f1b6da"
            ],
            [
             0.4,
             "#fde0ef"
            ],
            [
             0.5,
             "#f7f7f7"
            ],
            [
             0.6,
             "#e6f5d0"
            ],
            [
             0.7,
             "#b8e186"
            ],
            [
             0.8,
             "#7fbc41"
            ],
            [
             0.9,
             "#4d9221"
            ],
            [
             1,
             "#276419"
            ]
           ],
           "sequential": [
            [
             0,
             "#0d0887"
            ],
            [
             0.1111111111111111,
             "#46039f"
            ],
            [
             0.2222222222222222,
             "#7201a8"
            ],
            [
             0.3333333333333333,
             "#9c179e"
            ],
            [
             0.4444444444444444,
             "#bd3786"
            ],
            [
             0.5555555555555556,
             "#d8576b"
            ],
            [
             0.6666666666666666,
             "#ed7953"
            ],
            [
             0.7777777777777778,
             "#fb9f3a"
            ],
            [
             0.8888888888888888,
             "#fdca26"
            ],
            [
             1,
             "#f0f921"
            ]
           ],
           "sequentialminus": [
            [
             0,
             "#0d0887"
            ],
            [
             0.1111111111111111,
             "#46039f"
            ],
            [
             0.2222222222222222,
             "#7201a8"
            ],
            [
             0.3333333333333333,
             "#9c179e"
            ],
            [
             0.4444444444444444,
             "#bd3786"
            ],
            [
             0.5555555555555556,
             "#d8576b"
            ],
            [
             0.6666666666666666,
             "#ed7953"
            ],
            [
             0.7777777777777778,
             "#fb9f3a"
            ],
            [
             0.8888888888888888,
             "#fdca26"
            ],
            [
             1,
             "#f0f921"
            ]
           ]
          },
          "colorway": [
           "#636efa",
           "#EF553B",
           "#00cc96",
           "#ab63fa",
           "#FFA15A",
           "#19d3f3",
           "#FF6692",
           "#B6E880",
           "#FF97FF",
           "#FECB52"
          ],
          "font": {
           "color": "#2a3f5f"
          },
          "geo": {
           "bgcolor": "white",
           "lakecolor": "white",
           "landcolor": "#E5ECF6",
           "showlakes": true,
           "showland": true,
           "subunitcolor": "white"
          },
          "hoverlabel": {
           "align": "left"
          },
          "hovermode": "closest",
          "mapbox": {
           "style": "light"
          },
          "paper_bgcolor": "white",
          "plot_bgcolor": "#E5ECF6",
          "polar": {
           "angularaxis": {
            "gridcolor": "white",
            "linecolor": "white",
            "ticks": ""
           },
           "bgcolor": "#E5ECF6",
           "radialaxis": {
            "gridcolor": "white",
            "linecolor": "white",
            "ticks": ""
           }
          },
          "scene": {
           "xaxis": {
            "backgroundcolor": "#E5ECF6",
            "gridcolor": "white",
            "gridwidth": 2,
            "linecolor": "white",
            "showbackground": true,
            "ticks": "",
            "zerolinecolor": "white"
           },
           "yaxis": {
            "backgroundcolor": "#E5ECF6",
            "gridcolor": "white",
            "gridwidth": 2,
            "linecolor": "white",
            "showbackground": true,
            "ticks": "",
            "zerolinecolor": "white"
           },
           "zaxis": {
            "backgroundcolor": "#E5ECF6",
            "gridcolor": "white",
            "gridwidth": 2,
            "linecolor": "white",
            "showbackground": true,
            "ticks": "",
            "zerolinecolor": "white"
           }
          },
          "shapedefaults": {
           "line": {
            "color": "#2a3f5f"
           }
          },
          "ternary": {
           "aaxis": {
            "gridcolor": "white",
            "linecolor": "white",
            "ticks": ""
           },
           "baxis": {
            "gridcolor": "white",
            "linecolor": "white",
            "ticks": ""
           },
           "bgcolor": "#E5ECF6",
           "caxis": {
            "gridcolor": "white",
            "linecolor": "white",
            "ticks": ""
           }
          },
          "title": {
           "x": 0.05
          },
          "xaxis": {
           "automargin": true,
           "gridcolor": "white",
           "linecolor": "white",
           "ticks": "",
           "title": {
            "standoff": 15
           },
           "zerolinecolor": "white",
           "zerolinewidth": 2
          },
          "yaxis": {
           "automargin": true,
           "gridcolor": "white",
           "linecolor": "white",
           "ticks": "",
           "title": {
            "standoff": 15
           },
           "zerolinecolor": "white",
           "zerolinewidth": 2
          }
         }
        },
        "title": {
         "text": "Mối quan hệ giữa dân số và số ca nhiễm mới"
        },
        "xaxis": {
         "anchor": "y",
         "domain": [
          0,
          1
         ],
         "title": {
          "text": "Dân số (log scale)"
         },
         "type": "log"
        },
        "yaxis": {
         "anchor": "x",
         "domain": [
          0,
          1
         ],
         "title": {
          "text": "Số ca nhiễm mới (log scale)"
         },
         "type": "log"
        }
       }
      }
     },
     "metadata": {},
     "output_type": "display_data"
    }
   ],
   "source": [
    "epsilon = 1e-9\n",
    "covid_df['Population'] = covid_df['Population']\n",
    "covid_df['New Cases'] = covid_df['New Cases'] + epsilon\n",
    "\n",
    "fig = px.scatter(data_frame=covid_df, x='Population', y='New Cases', \n",
    "                 log_x=True, log_y=True, trendline='ols',\n",
    "                 labels={'Population': 'Dân số (log scale)', \n",
    "                         'New Cases': 'Số ca nhiễm mới (log scale)'},\n",
    "                 title='Mối quan hệ giữa dân số và số ca nhiễm mới' )\n",
    "\n",
    "fig.show()"
   ]
  },
  {
   "attachments": {},
   "cell_type": "markdown",
   "metadata": {},
   "source": [
    "- **Nhận xét biểu đồ**: \n",
    "  - Dựa vào biểu đồ với trendline (đường xu hướng), ta có một phương trình hồi quy là: $$New \\ Cases = 3.66312*10^{-7} * Population + 148.228$$ và hệ số xác định của nó là: $$R^2 = 0.002435$$. Điều này cho ta biết thì với mỗi đơn vị tăng dân số, số ca mắc mới tăng khoảng $3.66312*10^{-7}$ đơn vị và giá trị cố định ban đầu của ca mắc mới là 148228. Với $R^2 = 0.002435$ cho ta biết chỉ khoảng 0.24% là sự biến thiên của số ca mắc mới có thể được giải thích bởi sự biến đổi của dân số. Như vậy, ta có thể khẳng định được rằng dân số không phải là một yếu tố quyết định trong việc giải thích sự biến động của ca mắc mới. \n",
    "  - Có lẽ vì một số nước đông dân đã áp dụng tốt các quy định về phòng chống dịch covid hoặc miễn dịch cộng đồng cao làm cho số ca mắc mới giảm. "
   ]
  },
  {
   "attachments": {},
   "cell_type": "markdown",
   "metadata": {},
   "source": [
    "#### 1.3 Tình hình hồi phục của các quốc gia với dịch bệnh qua mối quan hệ của 3 biến `Active Cases, New Cases, New Recovered`:\n",
    "- **Trường dữ liệu được trực quan**: `Active Cases, New Cases, New Recovered`.\n",
    "- **Biểu đồ sử dụng**: Bubble scatter chart.\n",
    "- **Tính phù hợp của biểu đồ**: Bubble scatter chart cho phép vừa biểu thị mối quan hệ giữa hai biến `New Cases`, `New Recoverd` cũng vừa có thể cho phép biến thứ ba là `Active Cases` tham gia vào quá trình trực quan (thể hiện dưới dạng kích thước điểm dữ liệu) mà không cần sử dụng một biểu đồ 3D để làm việc đó.\n",
    "- **Mục đích của câu hỏi:** Nhằm thể hiện tình hình hồi phục của các quốc gia có nhanh chóng hay không để cung cấp tốt các hoạt động chữa trị bệnh Covid-19, tránh sự quá tải về cơ sở y tế. Ví dụ nếu như số ca đang điều trị lớn, tình hình hồi phục nhỏ mà số ca mắc mới lại tăng lên sẽ làm cho tình trạng các cơ sở y tế bị quá tải, phải lập thêm nhiều trạm xá/bệnh viện hơn nữa để đáp ứng việc chữa trị."
   ]
  },
  {
   "cell_type": "code",
   "execution_count": 18,
   "metadata": {},
   "outputs": [
    {
     "data": {
      "application/vnd.plotly.v1+json": {
       "config": {
        "plotlyServerURL": "https://plot.ly"
       },
       "data": [
        {
         "hovertemplate": "<b>%{hovertext}</b><br><br>Số ca nhiễm mới=%{x}<br>Số ca hồi phục mới=%{y}<br>Số ca đang chữa trị=%{marker.color}<extra></extra>",
         "hovertext": [
          "USA",
          "India",
          "France",
          "Germany",
          "Brazil",
          "Japan",
          "S. Korea",
          "Italy",
          "UK",
          "Russia",
          "Turkey",
          "Spain",
          "Vietnam",
          "Australia",
          "Taiwan",
          "Argentina",
          "Netherlands",
          "Iran",
          "Mexico",
          "Indonesia",
          "Poland",
          "Colombia",
          "Austria",
          "Greece",
          "Portugal",
          "Ukraine",
          "Chile",
          "Malaysia",
          "Israel",
          "DPRK",
          "Thailand",
          "Belgium",
          "Czechia",
          "Canada",
          "Peru",
          "Switzerland",
          "Philippines",
          "South Africa",
          "Romania",
          "Denmark",
          "Hong Kong",
          "Sweden",
          "Serbia",
          "Iraq",
          "Singapore",
          "New Zealand",
          "Hungary",
          "Bangladesh",
          "Slovakia",
          "Georgia",
          "Jordan",
          "Ireland",
          "Pakistan",
          "Norway",
          "Finland",
          "Kazakhstan",
          "Slovenia",
          "Lithuania",
          "Bulgaria",
          "Morocco",
          "Croatia",
          "Guatemala",
          "Lebanon",
          "Costa Rica",
          "Bolivia",
          "Tunisia",
          "Cuba",
          "Ecuador",
          "UAE",
          "Uruguay",
          "Panama",
          "Mongolia",
          "Nepal",
          "Belarus",
          "Latvia",
          "Saudi Arabia",
          "Azerbaijan",
          "Paraguay",
          "Bahrain",
          "Sri Lanka",
          "Kuwait",
          "Dominican Republic",
          "Cyprus",
          "Myanmar",
          "Palestine",
          "Estonia",
          "Moldova",
          "Venezuela",
          "Egypt",
          "Libya",
          "Ethiopia",
          "Qatar",
          "Réunion",
          "Honduras",
          "Armenia",
          "Bosnia and Herzegovina",
          "Oman",
          "North Macedonia",
          "Zambia",
          "Kenya",
          "Albania",
          "Botswana",
          "Luxembourg",
          "Montenegro",
          "Brunei",
          "Algeria",
          "Nigeria",
          "Zimbabwe",
          "Uzbekistan",
          "Mozambique",
          "Martinique",
          "Laos",
          "Afghanistan",
          "Iceland",
          "Kyrgyzstan",
          "Guadeloupe",
          "El Salvador",
          "Trinidad and Tobago",
          "Maldives",
          "Ghana",
          "Namibia",
          "Uganda",
          "Jamaica",
          "Cambodia",
          "Rwanda",
          "Cameroon",
          "Malta",
          "Barbados",
          "Angola",
          "Channel Islands",
          "French Guiana",
          "DRC",
          "Senegal",
          "Malawi",
          "Ivory Coast",
          "Suriname",
          "New Caledonia",
          "French Polynesia",
          "Eswatini",
          "Guyana",
          "Belize",
          "Fiji",
          "Madagascar",
          "Sudan",
          "Mauritania",
          "Cabo Verde",
          "Bhutan",
          "Syria",
          "Burundi",
          "Seychelles",
          "Gabon",
          "Andorra",
          "Papua New Guinea",
          "Curaçao",
          "Aruba",
          "Tanzania",
          "Mayotte",
          "Mauritius",
          "Togo",
          "Guinea",
          "Isle of Man",
          "Bahamas",
          "Lesotho",
          "Faeroe Islands",
          "Haiti",
          "Mali",
          "Cayman Islands",
          "Saint Lucia",
          "Benin",
          "Somalia",
          "Congo",
          "Solomon Islands",
          "Micronesia",
          "San Marino",
          "Timor-Leste",
          "Burkina Faso",
          "Liechtenstein",
          "Gibraltar",
          "Grenada",
          "Bermuda",
          "Nicaragua",
          "South Sudan",
          "Tajikistan",
          "Equatorial Guinea",
          "Tonga",
          "Samoa",
          "Monaco",
          "Dominica",
          "Djibouti",
          "Marshall Islands",
          "CAR",
          "Gambia",
          "Saint Martin",
          "Vanuatu",
          "Greenland",
          "Yemen",
          "Caribbean Netherlands",
          "Sint Maarten",
          "Eritrea",
          "Niger",
          "St. Vincent Grenadines",
          "Antigua and Barbuda",
          "Comoros",
          "Guinea-Bissau",
          "Liberia",
          "Sierra Leone",
          "Chad",
          "British Virgin Islands",
          "Cook Islands",
          "Saint Kitts and Nevis",
          "Turks and Caicos",
          "Sao Tome and Principe",
          "Palau",
          "St. Barth",
          "Nauru",
          "Kiribati",
          "Anguilla",
          "Macao",
          "Saint Pierre Miquelon",
          "Wallis and Futuna",
          "Tuvalu",
          "Saint Helena",
          "Falkland Islands",
          "Montserrat",
          "Niue",
          "Vatican City",
          "Western Sahara",
          "Tokelau",
          "China"
         ],
         "legendgroup": "",
         "marker": {
          "color": [
           1385381,
           2901,
           72670,
           275153,
           127616,
           11496800,
           171986,
           148070,
           56970,
           270533,
           0,
           35072,
           868990,
           33499,
           269825,
           3796,
           14513,
           86045,
           430782,
           2968,
           977873,
           33802,
           59195,
           18329,
           3830,
           12627,
           7496,
           9204,
           7952,
           0,
           1628,
           31600,
           7866,
           31716,
           2063,
           3529,
           8940,
           49788,
           15009,
           873,
           10877,
           3047,
           14205,
           673,
           79265,
           10053,
           3991,
           9936,
           1266,
           32085,
           1868,
           2296,
           7882,
           675,
           1801,
           11258,
           4435,
           5724,
           2980,
           50,
           449,
           1066,
           134090,
           334223,
           12507,
           0,
           87,
           543,
           14743,
           500,
           370,
           2,
           5,
           1327,
           354,
           3262,
           215,
           0,
           1665,
           2,
           649,
           11536,
           5170,
           46,
           159,
           87189,
           91320,
           354,
           48903,
           13,
           5177,
           409,
           67095,
           0,
           2936,
           6273,
           10152,
           122,
           224,
           15,
           1661,
           58,
           7633,
           617,
           34872,
           81793,
           3526,
           620,
           7948,
           2051,
           0,
           0,
           10260,
           0,
           7276,
           0,
           18145,
           396,
           21734,
           27,
           290,
           66443,
           48301,
           5,
           78,
           83,
           622,
           13,
           27,
           126,
           86367,
           9964,
           3,
           436,
           31,
           0,
           9,
           0,
           47,
           21,
           13,
           1154,
           21,
           328,
           230,
           58,
           1035,
           0,
           24,
           53,
           1,
           147,
           2157,
           971,
           1370,
           0,
           0,
           679,
           23,
           43,
           0,
           292,
           8087,
           0,
           290,
           160,
           22882,
           500,
           2,
           12781,
           983,
           0,
           0,
           185,
           178,
           64,
           37,
           3743,
           84,
           16,
           14041,
           115,
           397,
           139,
           1156,
           14973,
           56,
           13,
           74,
           73,
           55,
           25,
           10795,
           24,
           9189,
           662,
           1162,
           24,
           0,
           729,
           0,
           6,
           2,
           124,
           12,
           0,
           2610,
           0,
           1,
           2,
           22,
           0,
           4,
           0,
           171,
           2292,
           13,
           2,
           1001,
           2982,
           2805,
           2164,
           0,
           19,
           1,
           0,
           0,
           5,
           118977
          ],
          "coloraxis": "coloraxis",
          "size": [
           1385381,
           2901,
           72670,
           275153,
           127616,
           11496800,
           171986,
           148070,
           56970,
           270533,
           0,
           35072,
           868990,
           33499,
           269825,
           3796,
           14513,
           86045,
           430782,
           2968,
           977873,
           33802,
           59195,
           18329,
           3830,
           12627,
           7496,
           9204,
           7952,
           0,
           1628,
           31600,
           7866,
           31716,
           2063,
           3529,
           8940,
           49788,
           15009,
           873,
           10877,
           3047,
           14205,
           673,
           79265,
           10053,
           3991,
           9936,
           1266,
           32085,
           1868,
           2296,
           7882,
           675,
           1801,
           11258,
           4435,
           5724,
           2980,
           50,
           449,
           1066,
           134090,
           334223,
           12507,
           0,
           87,
           543,
           14743,
           500,
           370,
           2,
           5,
           1327,
           354,
           3262,
           215,
           0,
           1665,
           2,
           649,
           11536,
           5170,
           46,
           159,
           87189,
           91320,
           354,
           48903,
           13,
           5177,
           409,
           67095,
           0,
           2936,
           6273,
           10152,
           122,
           224,
           15,
           1661,
           58,
           7633,
           617,
           34872,
           81793,
           3526,
           620,
           7948,
           2051,
           0,
           0,
           10260,
           0,
           7276,
           0,
           18145,
           396,
           21734,
           27,
           290,
           66443,
           48301,
           5,
           78,
           83,
           622,
           13,
           27,
           126,
           86367,
           9964,
           3,
           436,
           31,
           0,
           9,
           0,
           47,
           21,
           13,
           1154,
           21,
           328,
           230,
           58,
           1035,
           0,
           24,
           53,
           1,
           147,
           2157,
           971,
           1370,
           0,
           0,
           679,
           23,
           43,
           0,
           292,
           8087,
           0,
           290,
           160,
           22882,
           500,
           2,
           12781,
           983,
           0,
           0,
           185,
           178,
           64,
           37,
           3743,
           84,
           16,
           14041,
           115,
           397,
           139,
           1156,
           14973,
           56,
           13,
           74,
           73,
           55,
           25,
           10795,
           24,
           9189,
           662,
           1162,
           24,
           0,
           729,
           0,
           6,
           2,
           124,
           12,
           0,
           2610,
           0,
           1,
           2,
           22,
           0,
           4,
           0,
           171,
           2292,
           13,
           2,
           1001,
           2982,
           2805,
           2164,
           0,
           19,
           1,
           0,
           0,
           5,
           118977
          ],
          "sizemode": "area",
          "sizeref": 3193.5555555555557,
          "symbol": "circle"
         },
         "mode": "markers",
         "name": "",
         "orientation": "v",
         "showlegend": false,
         "type": "scatter",
         "x": [
          1e-9,
          1e-9,
          1e-9,
          1e-9,
          1e-9,
          4263.000000001,
          4300.000000001,
          1e-9,
          1e-9,
          11163.000000001,
          1e-9,
          1e-9,
          1e-9,
          1e-9,
          7080.000000001,
          1e-9,
          1e-9,
          511.000000001,
          525.000000001,
          144.000000001,
          450.000000001,
          1e-9,
          1e-9,
          1e-9,
          1e-9,
          1e-9,
          1e-9,
          1e-9,
          1e-9,
          1e-9,
          147.000000001,
          1e-9,
          119.000000001,
          1e-9,
          1e-9,
          1e-9,
          117.000000001,
          1e-9,
          5704.000000001,
          45.000000001,
          1e-9,
          1e-9,
          1e-9,
          1e-9,
          1e-9,
          1634.000000001,
          1e-9,
          1e-9,
          21.000000001,
          1e-9,
          1e-9,
          1e-9,
          50.000000001,
          1e-9,
          1e-9,
          1e-9,
          89.000000001,
          41.000000001,
          1e-9,
          1e-9,
          334.000000001,
          1e-9,
          1e-9,
          1e-9,
          1e-9,
          1e-9,
          1e-9,
          1e-9,
          145.000000001,
          1e-9,
          1e-9,
          1e-9,
          1e-9,
          1e-9,
          13.000000001,
          98.000000001,
          9.000000001,
          1e-9,
          1e-9,
          1e-9,
          1e-9,
          1e-9,
          1e-9,
          1e-9,
          1e-9,
          1e-9,
          1e-9,
          1e-9,
          1e-9,
          13.000000001,
          1e-9,
          124.000000001,
          1e-9,
          1e-9,
          1e-9,
          1e-9,
          1e-9,
          1e-9,
          1e-9,
          1e-9,
          1e-9,
          1e-9,
          1e-9,
          1e-9,
          1e-9,
          1e-9,
          1e-9,
          1e-9,
          1e-9,
          1e-9,
          1e-9,
          1e-9,
          12.000000001,
          1e-9,
          1e-9,
          1e-9,
          1e-9,
          1e-9,
          1e-9,
          1e-9,
          1e-9,
          1e-9,
          1e-9,
          1e-9,
          1e-9,
          1e-9,
          1e-9,
          1e-9,
          1e-9,
          1e-9,
          1e-9,
          1e-9,
          1e-9,
          1e-9,
          1e-9,
          1e-9,
          1e-9,
          1e-9,
          1e-9,
          1e-9,
          1e-9,
          1e-9,
          1e-9,
          1e-9,
          1e-9,
          1e-9,
          1e-9,
          1e-9,
          1e-9,
          1e-9,
          1e-9,
          1e-9,
          1e-9,
          1e-9,
          1e-9,
          1e-9,
          1e-9,
          1e-9,
          1e-9,
          1e-9,
          1e-9,
          1e-9,
          1e-9,
          1e-9,
          1e-9,
          1e-9,
          1e-9,
          1e-9,
          1e-9,
          1e-9,
          1e-9,
          1e-9,
          1e-9,
          1e-9,
          1e-9,
          1e-9,
          1e-9,
          1e-9,
          1e-9,
          1e-9,
          1e-9,
          1e-9,
          1e-9,
          1e-9,
          1e-9,
          1e-9,
          1e-9,
          1e-9,
          1e-9,
          1e-9,
          1e-9,
          1e-9,
          1e-9,
          1e-9,
          1e-9,
          1e-9,
          1e-9,
          1e-9,
          1e-9,
          1e-9,
          1e-9,
          1e-9,
          1e-9,
          1e-9,
          1e-9,
          1e-9,
          1e-9,
          1e-9,
          1e-9,
          1e-9,
          1e-9,
          1e-9,
          1e-9,
          1e-9,
          1e-9,
          1e-9,
          1e-9,
          1e-9,
          1e-9,
          1e-9,
          1e-9,
          1e-9,
          1e-9,
          1e-9,
          1e-9,
          1e-9,
          1e-9,
          1e-9,
          1e-9
         ],
         "xaxis": "x",
         "y": [
          0,
          0,
          706,
          17500,
          0,
          1551,
          0,
          0,
          3964,
          9166,
          0,
          0,
          0,
          0,
          20441,
          0,
          381,
          92,
          2912,
          218,
          0,
          0,
          0,
          2619,
          0,
          0,
          0,
          0,
          0,
          0,
          0,
          792,
          1037,
          1530,
          0,
          0,
          103,
          0,
          0,
          54,
          0,
          184,
          0,
          0,
          0,
          1280,
          0,
          0,
          12,
          0,
          0,
          11,
          0,
          0,
          72,
          0,
          0,
          589,
          0,
          0,
          341,
          0,
          0,
          0,
          0,
          0,
          0,
          0,
          65,
          0,
          0,
          0,
          1,
          0,
          12,
          65,
          3,
          0,
          0,
          0,
          0,
          0,
          0,
          0,
          0,
          0,
          0,
          0,
          0,
          3,
          0,
          205,
          0,
          0,
          0,
          0,
          0,
          0,
          0,
          0,
          0,
          0,
          0,
          0,
          0,
          0,
          0,
          0,
          0,
          0,
          0,
          0,
          17,
          0,
          0,
          0,
          0,
          0,
          0,
          0,
          0,
          0,
          0,
          0,
          0,
          0,
          0,
          0,
          0,
          0,
          0,
          0,
          0,
          0,
          0,
          0,
          0,
          0,
          0,
          0,
          0,
          0,
          0,
          8,
          0,
          0,
          0,
          0,
          0,
          0,
          0,
          0,
          0,
          0,
          0,
          0,
          0,
          0,
          0,
          0,
          0,
          0,
          0,
          0,
          0,
          0,
          0,
          0,
          0,
          0,
          0,
          0,
          0,
          0,
          0,
          0,
          0,
          0,
          0,
          0,
          0,
          0,
          0,
          0,
          0,
          0,
          0,
          0,
          0,
          0,
          0,
          0,
          0,
          0,
          0,
          0,
          0,
          0,
          0,
          0,
          0,
          0,
          0,
          0,
          0,
          0,
          0,
          0,
          0,
          0,
          0,
          0,
          0,
          0,
          0,
          0,
          0,
          0,
          0,
          0,
          0,
          0,
          0,
          0,
          1,
          0,
          0,
          0,
          0
         ],
         "yaxis": "y"
        }
       ],
       "layout": {
        "coloraxis": {
         "colorbar": {
          "title": {
           "text": "Số ca đang chữa trị"
          }
         },
         "colorscale": [
          [
           0,
           "#0d0887"
          ],
          [
           0.1111111111111111,
           "#46039f"
          ],
          [
           0.2222222222222222,
           "#7201a8"
          ],
          [
           0.3333333333333333,
           "#9c179e"
          ],
          [
           0.4444444444444444,
           "#bd3786"
          ],
          [
           0.5555555555555556,
           "#d8576b"
          ],
          [
           0.6666666666666666,
           "#ed7953"
          ],
          [
           0.7777777777777778,
           "#fb9f3a"
          ],
          [
           0.8888888888888888,
           "#fdca26"
          ],
          [
           1,
           "#f0f921"
          ]
         ]
        },
        "legend": {
         "itemsizing": "constant",
         "tracegroupgap": 0
        },
        "template": {
         "data": {
          "bar": [
           {
            "error_x": {
             "color": "#2a3f5f"
            },
            "error_y": {
             "color": "#2a3f5f"
            },
            "marker": {
             "line": {
              "color": "#E5ECF6",
              "width": 0.5
             },
             "pattern": {
              "fillmode": "overlay",
              "size": 10,
              "solidity": 0.2
             }
            },
            "type": "bar"
           }
          ],
          "barpolar": [
           {
            "marker": {
             "line": {
              "color": "#E5ECF6",
              "width": 0.5
             },
             "pattern": {
              "fillmode": "overlay",
              "size": 10,
              "solidity": 0.2
             }
            },
            "type": "barpolar"
           }
          ],
          "carpet": [
           {
            "aaxis": {
             "endlinecolor": "#2a3f5f",
             "gridcolor": "white",
             "linecolor": "white",
             "minorgridcolor": "white",
             "startlinecolor": "#2a3f5f"
            },
            "baxis": {
             "endlinecolor": "#2a3f5f",
             "gridcolor": "white",
             "linecolor": "white",
             "minorgridcolor": "white",
             "startlinecolor": "#2a3f5f"
            },
            "type": "carpet"
           }
          ],
          "choropleth": [
           {
            "colorbar": {
             "outlinewidth": 0,
             "ticks": ""
            },
            "type": "choropleth"
           }
          ],
          "contour": [
           {
            "colorbar": {
             "outlinewidth": 0,
             "ticks": ""
            },
            "colorscale": [
             [
              0,
              "#0d0887"
             ],
             [
              0.1111111111111111,
              "#46039f"
             ],
             [
              0.2222222222222222,
              "#7201a8"
             ],
             [
              0.3333333333333333,
              "#9c179e"
             ],
             [
              0.4444444444444444,
              "#bd3786"
             ],
             [
              0.5555555555555556,
              "#d8576b"
             ],
             [
              0.6666666666666666,
              "#ed7953"
             ],
             [
              0.7777777777777778,
              "#fb9f3a"
             ],
             [
              0.8888888888888888,
              "#fdca26"
             ],
             [
              1,
              "#f0f921"
             ]
            ],
            "type": "contour"
           }
          ],
          "contourcarpet": [
           {
            "colorbar": {
             "outlinewidth": 0,
             "ticks": ""
            },
            "type": "contourcarpet"
           }
          ],
          "heatmap": [
           {
            "colorbar": {
             "outlinewidth": 0,
             "ticks": ""
            },
            "colorscale": [
             [
              0,
              "#0d0887"
             ],
             [
              0.1111111111111111,
              "#46039f"
             ],
             [
              0.2222222222222222,
              "#7201a8"
             ],
             [
              0.3333333333333333,
              "#9c179e"
             ],
             [
              0.4444444444444444,
              "#bd3786"
             ],
             [
              0.5555555555555556,
              "#d8576b"
             ],
             [
              0.6666666666666666,
              "#ed7953"
             ],
             [
              0.7777777777777778,
              "#fb9f3a"
             ],
             [
              0.8888888888888888,
              "#fdca26"
             ],
             [
              1,
              "#f0f921"
             ]
            ],
            "type": "heatmap"
           }
          ],
          "heatmapgl": [
           {
            "colorbar": {
             "outlinewidth": 0,
             "ticks": ""
            },
            "colorscale": [
             [
              0,
              "#0d0887"
             ],
             [
              0.1111111111111111,
              "#46039f"
             ],
             [
              0.2222222222222222,
              "#7201a8"
             ],
             [
              0.3333333333333333,
              "#9c179e"
             ],
             [
              0.4444444444444444,
              "#bd3786"
             ],
             [
              0.5555555555555556,
              "#d8576b"
             ],
             [
              0.6666666666666666,
              "#ed7953"
             ],
             [
              0.7777777777777778,
              "#fb9f3a"
             ],
             [
              0.8888888888888888,
              "#fdca26"
             ],
             [
              1,
              "#f0f921"
             ]
            ],
            "type": "heatmapgl"
           }
          ],
          "histogram": [
           {
            "marker": {
             "pattern": {
              "fillmode": "overlay",
              "size": 10,
              "solidity": 0.2
             }
            },
            "type": "histogram"
           }
          ],
          "histogram2d": [
           {
            "colorbar": {
             "outlinewidth": 0,
             "ticks": ""
            },
            "colorscale": [
             [
              0,
              "#0d0887"
             ],
             [
              0.1111111111111111,
              "#46039f"
             ],
             [
              0.2222222222222222,
              "#7201a8"
             ],
             [
              0.3333333333333333,
              "#9c179e"
             ],
             [
              0.4444444444444444,
              "#bd3786"
             ],
             [
              0.5555555555555556,
              "#d8576b"
             ],
             [
              0.6666666666666666,
              "#ed7953"
             ],
             [
              0.7777777777777778,
              "#fb9f3a"
             ],
             [
              0.8888888888888888,
              "#fdca26"
             ],
             [
              1,
              "#f0f921"
             ]
            ],
            "type": "histogram2d"
           }
          ],
          "histogram2dcontour": [
           {
            "colorbar": {
             "outlinewidth": 0,
             "ticks": ""
            },
            "colorscale": [
             [
              0,
              "#0d0887"
             ],
             [
              0.1111111111111111,
              "#46039f"
             ],
             [
              0.2222222222222222,
              "#7201a8"
             ],
             [
              0.3333333333333333,
              "#9c179e"
             ],
             [
              0.4444444444444444,
              "#bd3786"
             ],
             [
              0.5555555555555556,
              "#d8576b"
             ],
             [
              0.6666666666666666,
              "#ed7953"
             ],
             [
              0.7777777777777778,
              "#fb9f3a"
             ],
             [
              0.8888888888888888,
              "#fdca26"
             ],
             [
              1,
              "#f0f921"
             ]
            ],
            "type": "histogram2dcontour"
           }
          ],
          "mesh3d": [
           {
            "colorbar": {
             "outlinewidth": 0,
             "ticks": ""
            },
            "type": "mesh3d"
           }
          ],
          "parcoords": [
           {
            "line": {
             "colorbar": {
              "outlinewidth": 0,
              "ticks": ""
             }
            },
            "type": "parcoords"
           }
          ],
          "pie": [
           {
            "automargin": true,
            "type": "pie"
           }
          ],
          "scatter": [
           {
            "fillpattern": {
             "fillmode": "overlay",
             "size": 10,
             "solidity": 0.2
            },
            "type": "scatter"
           }
          ],
          "scatter3d": [
           {
            "line": {
             "colorbar": {
              "outlinewidth": 0,
              "ticks": ""
             }
            },
            "marker": {
             "colorbar": {
              "outlinewidth": 0,
              "ticks": ""
             }
            },
            "type": "scatter3d"
           }
          ],
          "scattercarpet": [
           {
            "marker": {
             "colorbar": {
              "outlinewidth": 0,
              "ticks": ""
             }
            },
            "type": "scattercarpet"
           }
          ],
          "scattergeo": [
           {
            "marker": {
             "colorbar": {
              "outlinewidth": 0,
              "ticks": ""
             }
            },
            "type": "scattergeo"
           }
          ],
          "scattergl": [
           {
            "marker": {
             "colorbar": {
              "outlinewidth": 0,
              "ticks": ""
             }
            },
            "type": "scattergl"
           }
          ],
          "scattermapbox": [
           {
            "marker": {
             "colorbar": {
              "outlinewidth": 0,
              "ticks": ""
             }
            },
            "type": "scattermapbox"
           }
          ],
          "scatterpolar": [
           {
            "marker": {
             "colorbar": {
              "outlinewidth": 0,
              "ticks": ""
             }
            },
            "type": "scatterpolar"
           }
          ],
          "scatterpolargl": [
           {
            "marker": {
             "colorbar": {
              "outlinewidth": 0,
              "ticks": ""
             }
            },
            "type": "scatterpolargl"
           }
          ],
          "scatterternary": [
           {
            "marker": {
             "colorbar": {
              "outlinewidth": 0,
              "ticks": ""
             }
            },
            "type": "scatterternary"
           }
          ],
          "surface": [
           {
            "colorbar": {
             "outlinewidth": 0,
             "ticks": ""
            },
            "colorscale": [
             [
              0,
              "#0d0887"
             ],
             [
              0.1111111111111111,
              "#46039f"
             ],
             [
              0.2222222222222222,
              "#7201a8"
             ],
             [
              0.3333333333333333,
              "#9c179e"
             ],
             [
              0.4444444444444444,
              "#bd3786"
             ],
             [
              0.5555555555555556,
              "#d8576b"
             ],
             [
              0.6666666666666666,
              "#ed7953"
             ],
             [
              0.7777777777777778,
              "#fb9f3a"
             ],
             [
              0.8888888888888888,
              "#fdca26"
             ],
             [
              1,
              "#f0f921"
             ]
            ],
            "type": "surface"
           }
          ],
          "table": [
           {
            "cells": {
             "fill": {
              "color": "#EBF0F8"
             },
             "line": {
              "color": "white"
             }
            },
            "header": {
             "fill": {
              "color": "#C8D4E3"
             },
             "line": {
              "color": "white"
             }
            },
            "type": "table"
           }
          ]
         },
         "layout": {
          "annotationdefaults": {
           "arrowcolor": "#2a3f5f",
           "arrowhead": 0,
           "arrowwidth": 1
          },
          "autotypenumbers": "strict",
          "coloraxis": {
           "colorbar": {
            "outlinewidth": 0,
            "ticks": ""
           }
          },
          "colorscale": {
           "diverging": [
            [
             0,
             "#8e0152"
            ],
            [
             0.1,
             "#c51b7d"
            ],
            [
             0.2,
             "#de77ae"
            ],
            [
             0.3,
             "#f1b6da"
            ],
            [
             0.4,
             "#fde0ef"
            ],
            [
             0.5,
             "#f7f7f7"
            ],
            [
             0.6,
             "#e6f5d0"
            ],
            [
             0.7,
             "#b8e186"
            ],
            [
             0.8,
             "#7fbc41"
            ],
            [
             0.9,
             "#4d9221"
            ],
            [
             1,
             "#276419"
            ]
           ],
           "sequential": [
            [
             0,
             "#0d0887"
            ],
            [
             0.1111111111111111,
             "#46039f"
            ],
            [
             0.2222222222222222,
             "#7201a8"
            ],
            [
             0.3333333333333333,
             "#9c179e"
            ],
            [
             0.4444444444444444,
             "#bd3786"
            ],
            [
             0.5555555555555556,
             "#d8576b"
            ],
            [
             0.6666666666666666,
             "#ed7953"
            ],
            [
             0.7777777777777778,
             "#fb9f3a"
            ],
            [
             0.8888888888888888,
             "#fdca26"
            ],
            [
             1,
             "#f0f921"
            ]
           ],
           "sequentialminus": [
            [
             0,
             "#0d0887"
            ],
            [
             0.1111111111111111,
             "#46039f"
            ],
            [
             0.2222222222222222,
             "#7201a8"
            ],
            [
             0.3333333333333333,
             "#9c179e"
            ],
            [
             0.4444444444444444,
             "#bd3786"
            ],
            [
             0.5555555555555556,
             "#d8576b"
            ],
            [
             0.6666666666666666,
             "#ed7953"
            ],
            [
             0.7777777777777778,
             "#fb9f3a"
            ],
            [
             0.8888888888888888,
             "#fdca26"
            ],
            [
             1,
             "#f0f921"
            ]
           ]
          },
          "colorway": [
           "#636efa",
           "#EF553B",
           "#00cc96",
           "#ab63fa",
           "#FFA15A",
           "#19d3f3",
           "#FF6692",
           "#B6E880",
           "#FF97FF",
           "#FECB52"
          ],
          "font": {
           "color": "#2a3f5f"
          },
          "geo": {
           "bgcolor": "white",
           "lakecolor": "white",
           "landcolor": "#E5ECF6",
           "showlakes": true,
           "showland": true,
           "subunitcolor": "white"
          },
          "hoverlabel": {
           "align": "left"
          },
          "hovermode": "closest",
          "mapbox": {
           "style": "light"
          },
          "paper_bgcolor": "white",
          "plot_bgcolor": "#E5ECF6",
          "polar": {
           "angularaxis": {
            "gridcolor": "white",
            "linecolor": "white",
            "ticks": ""
           },
           "bgcolor": "#E5ECF6",
           "radialaxis": {
            "gridcolor": "white",
            "linecolor": "white",
            "ticks": ""
           }
          },
          "scene": {
           "xaxis": {
            "backgroundcolor": "#E5ECF6",
            "gridcolor": "white",
            "gridwidth": 2,
            "linecolor": "white",
            "showbackground": true,
            "ticks": "",
            "zerolinecolor": "white"
           },
           "yaxis": {
            "backgroundcolor": "#E5ECF6",
            "gridcolor": "white",
            "gridwidth": 2,
            "linecolor": "white",
            "showbackground": true,
            "ticks": "",
            "zerolinecolor": "white"
           },
           "zaxis": {
            "backgroundcolor": "#E5ECF6",
            "gridcolor": "white",
            "gridwidth": 2,
            "linecolor": "white",
            "showbackground": true,
            "ticks": "",
            "zerolinecolor": "white"
           }
          },
          "shapedefaults": {
           "line": {
            "color": "#2a3f5f"
           }
          },
          "ternary": {
           "aaxis": {
            "gridcolor": "white",
            "linecolor": "white",
            "ticks": ""
           },
           "baxis": {
            "gridcolor": "white",
            "linecolor": "white",
            "ticks": ""
           },
           "bgcolor": "#E5ECF6",
           "caxis": {
            "gridcolor": "white",
            "linecolor": "white",
            "ticks": ""
           }
          },
          "title": {
           "x": 0.05
          },
          "xaxis": {
           "automargin": true,
           "gridcolor": "white",
           "linecolor": "white",
           "ticks": "",
           "title": {
            "standoff": 15
           },
           "zerolinecolor": "white",
           "zerolinewidth": 2
          },
          "yaxis": {
           "automargin": true,
           "gridcolor": "white",
           "linecolor": "white",
           "ticks": "",
           "title": {
            "standoff": 15
           },
           "zerolinecolor": "white",
           "zerolinewidth": 2
          }
         }
        },
        "title": {
         "text": "Tình hình chịu tải/hồi phục của các quốc gia"
        },
        "xaxis": {
         "anchor": "y",
         "domain": [
          0,
          1
         ],
         "title": {
          "text": "Số ca nhiễm mới"
         }
        },
        "yaxis": {
         "anchor": "x",
         "domain": [
          0,
          1
         ],
         "title": {
          "text": "Số ca hồi phục mới"
         }
        }
       }
      }
     },
     "metadata": {},
     "output_type": "display_data"
    }
   ],
   "source": [
    "fig = px.scatter(covid_df, x='New Cases', y='New Recovered', size='Active Cases', \n",
    "                 color='Active Cases', hover_name='Country',\n",
    "                 labels={'New Recovered': 'Số ca hồi phục mới', \n",
    "                         'Active Cases': 'Số ca đang chữa trị',\n",
    "                         'New Cases': 'Số ca nhiễm mới'},\n",
    "                 title='Tình hình chịu tải/hồi phục của các quốc gia',\n",
    "                 size_max=60)\n",
    "    \n",
    "fig.show()"
   ]
  },
  {
   "attachments": {},
   "cell_type": "markdown",
   "metadata": {},
   "source": [
    "- **Nhận xét biểu đồ:**\n",
    "\t- Tình hình y tế của đa số các nước không gặp vấn đề gì vì số ca nhiễm mới bị ít đi, số ca hồi phục cũng nhiều hơn đáng kể so với số ca đang điều trị hiện tại. Điều này cho thấy sự tích cực trong việc phòng và chữa bệnh của các quốc gia cũng như cơ sở y tế của họ không bị quá tải.\n",
    "\t- Nhật Bản là nơi có số ca nhiễm mới không quá cao, số ca hồi phục cũng ít nhưng lại có số ca đang chữa trị lớn nhất trên thế giới. Điều này chứng tỏ việc khả năng chữa bệnh của quốc gia này đang hạn chế so với phần còn lại nhưng có lẽ cũng sẽ không bị quá tải y tế.\n",
    "\t- Nga là nước có số ca đang chữa trị thấp nhưng số ca nhiễm mới lại cao, tình hình hồi phục cũng thấp. Những thông số này cho thấy tình hình của Nga thật báo động vì nếu cứ tiếp tục theo xu hướng này, Nga sẽ bị quá tải về các cơ sở y tế.\n",
    "\t- Ta có thể rút ra một điều: Nếu số ca nhiễm mới mà thấp, số ca đang chữa trị cao, số ca hồi phục cao thì quốc gia đó đang có tình hình y tế ổn định, kiểm soát được tình trạng lây lan dịch bệnh tốt và dấu hiệu chữa trị tích cực."
   ]
  },
  {
   "attachments": {},
   "cell_type": "markdown",
   "metadata": {},
   "source": [
    "#### 1.4 Ca nhiễm mới tăng lên theo thời gian thì số ca tử vong mới, ca nguy kịch mới liệu có cùng tăng lên hay không?\n",
    "- **Trường dữ liệu được trực quan**: `'New Cases', 'New Deaths', 'Serious, Critical' và trường phụ `Date`\n",
    "- **Biểu đồ sử dụng**: Line chart.\n",
    "- **Tính phù hợp của biểu đồ**: Line chart thể hiện xu hướng giữa các biến theo trình tự thời gian. Việc sử dụng line chart ở quan hệ này cho nhóm thấy được xu hướng thay đổi theo thời gian (1 tuần) giữa ba biến `New Cases`, `New Deaths` và `Serious, Critical`, từ đó đưa ra kết luận liệu 3 biến này có mối quan hệ với nhau (cụ thể là đồng biến, nghịch biến) hay không.\n",
    "- **Mục đích của câu hỏi:** Nhằm thể hiện tình hình dịch bệnh Covid-19 qua thời gian, đặc biệt là tình hình tăng cao của các ca nhiễm mới, ca tử vong mới, ca nguy kịch mới. Ví dụ nếu như số ca nhiễm mới tăng lên theo thời gian thì số ca tử vong mới, nguy kịch mới tăng cùng thì đây là dấu hiệu báo động về tình hình dịch bệnh, chính phủ cần đưa ra các biện pháp quyết liệt hơn để kiểm soát dịch bệnh."
   ]
  },
  {
   "cell_type": "code",
   "execution_count": 19,
   "metadata": {},
   "outputs": [],
   "source": [
    "# Tiền xử lý dữ liệu cho mối liên hệ giữa các trường này:\n",
    "\n",
    "def genDateDataframe(path, date):\n",
    "    df = pd.read_csv(path)\n",
    "    df = df[['Country', 'New Cases', 'New Deaths', 'Serious, Critical']]\n",
    "    df['Date'] = date\n",
    "    df['Date'] = pd.to_datetime(df['Date'])\n",
    "\n",
    "    return df\n",
    "\n",
    "dfCovid_0603 = genDateDataframe('../data/modified/Modified_March_06_2023_corona_data.csv', '2023-03-06')\n",
    "dfCovid_0703 = genDateDataframe('../data/modified/Modified_March_07_2023_corona_data.csv', '2023-03-07')\n",
    "dfCovid_0803 = genDateDataframe('../data/modified/Modified_March_08_2023_corona_data.csv', '2023-03-08')\n",
    "dfCovid_0903 = genDateDataframe('../data/modified/Modified_March_09_2023_corona_data.csv', '2023-03-09')\n",
    "dfCovid_1103 = genDateDataframe('../data/modified/Modified_March_11_2023_corona_data.csv', '2023-03-11')\n",
    "dfCovid_1303 = genDateDataframe('../data/modified/Modified_March_13_2023_corona_data.csv', '2023-03-13')\n",
    "\n",
    "dfCovid = pd.concat([dfCovid_0603, dfCovid_0703, dfCovid_0803, \n",
    "                     dfCovid_0903, dfCovid_1103, dfCovid_1303])"
   ]
  },
  {
   "cell_type": "code",
   "execution_count": 20,
   "metadata": {},
   "outputs": [
    {
     "name": "stderr",
     "output_type": "stream",
     "text": [
      "/home/alex/.local/lib/python3.10/site-packages/plotly/graph_objs/_deprecations.py:378: DeprecationWarning:\n",
      "\n",
      "plotly.graph_objs.Line is deprecated.\n",
      "Please replace it with one of the following more specific types\n",
      "  - plotly.graph_objs.scatter.Line\n",
      "  - plotly.graph_objs.layout.shape.Line\n",
      "  - etc.\n",
      "\n",
      "\n"
     ]
    },
    {
     "data": {
      "application/vnd.plotly.v1+json": {
       "config": {
        "plotlyServerURL": "https://plot.ly"
       },
       "data": [
        {
         "line": {
          "color": "blue"
         },
         "name": "New Cases",
         "showlegend": true,
         "type": "scatter",
         "x": [
          "2023-03-06T00:00:00",
          "2023-03-07T00:00:00",
          "2023-03-08T00:00:00",
          "2023-03-09T00:00:00",
          "2023-03-11T00:00:00",
          "2023-03-13T00:00:00"
         ],
         "xaxis": "x",
         "y": [
          11163,
          10449,
          12320,
          12496,
          12241,
          10268
         ],
         "yaxis": "y"
        },
        {
         "line": {
          "color": "red"
         },
         "name": "New Deaths",
         "showlegend": true,
         "type": "scatter",
         "x": [
          "2023-03-06T00:00:00",
          "2023-03-07T00:00:00",
          "2023-03-08T00:00:00",
          "2023-03-09T00:00:00",
          "2023-03-11T00:00:00",
          "2023-03-13T00:00:00"
         ],
         "xaxis": "x",
         "y": [
          38,
          42,
          45,
          40,
          42,
          34
         ],
         "yaxis": "y"
        },
        {
         "line": {
          "color": "green"
         },
         "name": "Serious, Critical",
         "showlegend": true,
         "type": "scatter",
         "x": [
          "2023-03-06T00:00:00",
          "2023-03-07T00:00:00",
          "2023-03-08T00:00:00",
          "2023-03-09T00:00:00",
          "2023-03-11T00:00:00",
          "2023-03-13T00:00:00"
         ],
         "xaxis": "x",
         "y": [
          0,
          0,
          0,
          0,
          0,
          0
         ],
         "yaxis": "y"
        },
        {
         "line": {
          "color": "blue"
         },
         "name": "New Cases",
         "showlegend": false,
         "type": "scatter",
         "x": [
          "2023-03-06T00:00:00",
          "2023-03-07T00:00:00",
          "2023-03-08T00:00:00",
          "2023-03-09T00:00:00",
          "2023-03-11T00:00:00",
          "2023-03-13T00:00:00"
         ],
         "xaxis": "x2",
         "y": [
          7080,
          11038,
          11060,
          9584,
          8618,
          6577
         ],
         "yaxis": "y2"
        },
        {
         "line": {
          "color": "red"
         },
         "name": "New Deaths",
         "showlegend": false,
         "type": "scatter",
         "x": [
          "2023-03-06T00:00:00",
          "2023-03-07T00:00:00",
          "2023-03-08T00:00:00",
          "2023-03-09T00:00:00",
          "2023-03-11T00:00:00",
          "2023-03-13T00:00:00"
         ],
         "xaxis": "x2",
         "y": [
          45,
          34,
          40,
          49,
          48,
          37
         ],
         "yaxis": "y2"
        },
        {
         "line": {
          "color": "green"
         },
         "name": "Serious, Critical",
         "showlegend": false,
         "type": "scatter",
         "x": [
          "2023-03-06T00:00:00",
          "2023-03-07T00:00:00",
          "2023-03-08T00:00:00",
          "2023-03-09T00:00:00",
          "2023-03-11T00:00:00",
          "2023-03-13T00:00:00"
         ],
         "xaxis": "x2",
         "y": [
          0,
          0,
          0,
          0,
          0,
          0
         ],
         "yaxis": "y2"
        },
        {
         "line": {
          "color": "blue"
         },
         "name": "New Cases",
         "showlegend": false,
         "type": "scatter",
         "x": [
          "2023-03-06T00:00:00",
          "2023-03-07T00:00:00",
          "2023-03-08T00:00:00",
          "2023-03-09T00:00:00",
          "2023-03-11T00:00:00",
          "2023-03-13T00:00:00"
         ],
         "xaxis": "x3",
         "y": [
          5704,
          0,
          0,
          0,
          0,
          6310
         ],
         "yaxis": "y3"
        },
        {
         "line": {
          "color": "red"
         },
         "name": "New Deaths",
         "showlegend": false,
         "type": "scatter",
         "x": [
          "2023-03-06T00:00:00",
          "2023-03-07T00:00:00",
          "2023-03-08T00:00:00",
          "2023-03-09T00:00:00",
          "2023-03-11T00:00:00",
          "2023-03-13T00:00:00"
         ],
         "xaxis": "x3",
         "y": [
          32,
          0,
          0,
          0,
          0,
          37
         ],
         "yaxis": "y3"
        },
        {
         "line": {
          "color": "green"
         },
         "name": "Serious, Critical",
         "showlegend": false,
         "type": "scatter",
         "x": [
          "2023-03-06T00:00:00",
          "2023-03-07T00:00:00",
          "2023-03-08T00:00:00",
          "2023-03-09T00:00:00",
          "2023-03-11T00:00:00",
          "2023-03-13T00:00:00"
         ],
         "xaxis": "x3",
         "y": [
          119,
          119,
          119,
          119,
          119,
          117
         ],
         "yaxis": "y3"
        },
        {
         "line": {
          "color": "blue"
         },
         "name": "New Cases",
         "showlegend": false,
         "type": "scatter",
         "x": [
          "2023-03-06T00:00:00",
          "2023-03-07T00:00:00",
          "2023-03-08T00:00:00",
          "2023-03-09T00:00:00",
          "2023-03-11T00:00:00",
          "2023-03-13T00:00:00"
         ],
         "xaxis": "x4",
         "y": [
          4300,
          12284,
          12798,
          10890,
          9867,
          4198
         ],
         "yaxis": "y4"
        },
        {
         "line": {
          "color": "red"
         },
         "name": "New Deaths",
         "showlegend": false,
         "type": "scatter",
         "x": [
          "2023-03-06T00:00:00",
          "2023-03-07T00:00:00",
          "2023-03-08T00:00:00",
          "2023-03-09T00:00:00",
          "2023-03-11T00:00:00",
          "2023-03-13T00:00:00"
         ],
         "xaxis": "x4",
         "y": [
          9,
          15,
          12,
          20,
          3,
          12
         ],
         "yaxis": "y4"
        },
        {
         "line": {
          "color": "green"
         },
         "name": "Serious, Critical",
         "showlegend": false,
         "type": "scatter",
         "x": [
          "2023-03-06T00:00:00",
          "2023-03-07T00:00:00",
          "2023-03-08T00:00:00",
          "2023-03-09T00:00:00",
          "2023-03-11T00:00:00",
          "2023-03-13T00:00:00"
         ],
         "xaxis": "x4",
         "y": [
          145,
          158,
          139,
          143,
          146,
          142
         ],
         "yaxis": "y4"
        },
        {
         "line": {
          "color": "blue"
         },
         "name": "New Cases",
         "showlegend": false,
         "type": "scatter",
         "x": [
          "2023-03-06T00:00:00",
          "2023-03-07T00:00:00",
          "2023-03-08T00:00:00",
          "2023-03-09T00:00:00",
          "2023-03-11T00:00:00",
          "2023-03-13T00:00:00"
         ],
         "xaxis": "x5",
         "y": [
          4263,
          0,
          11805,
          9834,
          9100,
          3368
         ],
         "yaxis": "y5"
        },
        {
         "line": {
          "color": "red"
         },
         "name": "New Deaths",
         "showlegend": false,
         "type": "scatter",
         "x": [
          "2023-03-06T00:00:00",
          "2023-03-07T00:00:00",
          "2023-03-08T00:00:00",
          "2023-03-09T00:00:00",
          "2023-03-11T00:00:00",
          "2023-03-13T00:00:00"
         ],
         "xaxis": "x5",
         "y": [
          34,
          0,
          69,
          80,
          118,
          27
         ],
         "yaxis": "y5"
        },
        {
         "line": {
          "color": "green"
         },
         "name": "Serious, Critical",
         "showlegend": false,
         "type": "scatter",
         "x": [
          "2023-03-06T00:00:00",
          "2023-03-07T00:00:00",
          "2023-03-08T00:00:00",
          "2023-03-09T00:00:00",
          "2023-03-11T00:00:00",
          "2023-03-13T00:00:00"
         ],
         "xaxis": "x5",
         "y": [
          131,
          131,
          128,
          124,
          109,
          111
         ],
         "yaxis": "y5"
        }
       ],
       "layout": {
        "annotations": [
         {
          "font": {
           "size": 16
          },
          "showarrow": false,
          "text": "Russia",
          "x": 0.5,
          "xanchor": "center",
          "xref": "paper",
          "y": 1,
          "yanchor": "bottom",
          "yref": "paper"
         },
         {
          "font": {
           "size": 16
          },
          "showarrow": false,
          "text": "Taiwan",
          "x": 0.5,
          "xanchor": "center",
          "xref": "paper",
          "y": 0.78,
          "yanchor": "bottom",
          "yref": "paper"
         },
         {
          "font": {
           "size": 16
          },
          "showarrow": false,
          "text": "Romania",
          "x": 0.5,
          "xanchor": "center",
          "xref": "paper",
          "y": 0.56,
          "yanchor": "bottom",
          "yref": "paper"
         },
         {
          "font": {
           "size": 16
          },
          "showarrow": false,
          "text": "S. Korea",
          "x": 0.5,
          "xanchor": "center",
          "xref": "paper",
          "y": 0.33999999999999997,
          "yanchor": "bottom",
          "yref": "paper"
         },
         {
          "font": {
           "size": 16
          },
          "showarrow": false,
          "text": "Japan",
          "x": 0.5,
          "xanchor": "center",
          "xref": "paper",
          "y": 0.12,
          "yanchor": "bottom",
          "yref": "paper"
         }
        ],
        "height": 1000,
        "template": {
         "data": {
          "bar": [
           {
            "error_x": {
             "color": "#2a3f5f"
            },
            "error_y": {
             "color": "#2a3f5f"
            },
            "marker": {
             "line": {
              "color": "#E5ECF6",
              "width": 0.5
             },
             "pattern": {
              "fillmode": "overlay",
              "size": 10,
              "solidity": 0.2
             }
            },
            "type": "bar"
           }
          ],
          "barpolar": [
           {
            "marker": {
             "line": {
              "color": "#E5ECF6",
              "width": 0.5
             },
             "pattern": {
              "fillmode": "overlay",
              "size": 10,
              "solidity": 0.2
             }
            },
            "type": "barpolar"
           }
          ],
          "carpet": [
           {
            "aaxis": {
             "endlinecolor": "#2a3f5f",
             "gridcolor": "white",
             "linecolor": "white",
             "minorgridcolor": "white",
             "startlinecolor": "#2a3f5f"
            },
            "baxis": {
             "endlinecolor": "#2a3f5f",
             "gridcolor": "white",
             "linecolor": "white",
             "minorgridcolor": "white",
             "startlinecolor": "#2a3f5f"
            },
            "type": "carpet"
           }
          ],
          "choropleth": [
           {
            "colorbar": {
             "outlinewidth": 0,
             "ticks": ""
            },
            "type": "choropleth"
           }
          ],
          "contour": [
           {
            "colorbar": {
             "outlinewidth": 0,
             "ticks": ""
            },
            "colorscale": [
             [
              0,
              "#0d0887"
             ],
             [
              0.1111111111111111,
              "#46039f"
             ],
             [
              0.2222222222222222,
              "#7201a8"
             ],
             [
              0.3333333333333333,
              "#9c179e"
             ],
             [
              0.4444444444444444,
              "#bd3786"
             ],
             [
              0.5555555555555556,
              "#d8576b"
             ],
             [
              0.6666666666666666,
              "#ed7953"
             ],
             [
              0.7777777777777778,
              "#fb9f3a"
             ],
             [
              0.8888888888888888,
              "#fdca26"
             ],
             [
              1,
              "#f0f921"
             ]
            ],
            "type": "contour"
           }
          ],
          "contourcarpet": [
           {
            "colorbar": {
             "outlinewidth": 0,
             "ticks": ""
            },
            "type": "contourcarpet"
           }
          ],
          "heatmap": [
           {
            "colorbar": {
             "outlinewidth": 0,
             "ticks": ""
            },
            "colorscale": [
             [
              0,
              "#0d0887"
             ],
             [
              0.1111111111111111,
              "#46039f"
             ],
             [
              0.2222222222222222,
              "#7201a8"
             ],
             [
              0.3333333333333333,
              "#9c179e"
             ],
             [
              0.4444444444444444,
              "#bd3786"
             ],
             [
              0.5555555555555556,
              "#d8576b"
             ],
             [
              0.6666666666666666,
              "#ed7953"
             ],
             [
              0.7777777777777778,
              "#fb9f3a"
             ],
             [
              0.8888888888888888,
              "#fdca26"
             ],
             [
              1,
              "#f0f921"
             ]
            ],
            "type": "heatmap"
           }
          ],
          "heatmapgl": [
           {
            "colorbar": {
             "outlinewidth": 0,
             "ticks": ""
            },
            "colorscale": [
             [
              0,
              "#0d0887"
             ],
             [
              0.1111111111111111,
              "#46039f"
             ],
             [
              0.2222222222222222,
              "#7201a8"
             ],
             [
              0.3333333333333333,
              "#9c179e"
             ],
             [
              0.4444444444444444,
              "#bd3786"
             ],
             [
              0.5555555555555556,
              "#d8576b"
             ],
             [
              0.6666666666666666,
              "#ed7953"
             ],
             [
              0.7777777777777778,
              "#fb9f3a"
             ],
             [
              0.8888888888888888,
              "#fdca26"
             ],
             [
              1,
              "#f0f921"
             ]
            ],
            "type": "heatmapgl"
           }
          ],
          "histogram": [
           {
            "marker": {
             "pattern": {
              "fillmode": "overlay",
              "size": 10,
              "solidity": 0.2
             }
            },
            "type": "histogram"
           }
          ],
          "histogram2d": [
           {
            "colorbar": {
             "outlinewidth": 0,
             "ticks": ""
            },
            "colorscale": [
             [
              0,
              "#0d0887"
             ],
             [
              0.1111111111111111,
              "#46039f"
             ],
             [
              0.2222222222222222,
              "#7201a8"
             ],
             [
              0.3333333333333333,
              "#9c179e"
             ],
             [
              0.4444444444444444,
              "#bd3786"
             ],
             [
              0.5555555555555556,
              "#d8576b"
             ],
             [
              0.6666666666666666,
              "#ed7953"
             ],
             [
              0.7777777777777778,
              "#fb9f3a"
             ],
             [
              0.8888888888888888,
              "#fdca26"
             ],
             [
              1,
              "#f0f921"
             ]
            ],
            "type": "histogram2d"
           }
          ],
          "histogram2dcontour": [
           {
            "colorbar": {
             "outlinewidth": 0,
             "ticks": ""
            },
            "colorscale": [
             [
              0,
              "#0d0887"
             ],
             [
              0.1111111111111111,
              "#46039f"
             ],
             [
              0.2222222222222222,
              "#7201a8"
             ],
             [
              0.3333333333333333,
              "#9c179e"
             ],
             [
              0.4444444444444444,
              "#bd3786"
             ],
             [
              0.5555555555555556,
              "#d8576b"
             ],
             [
              0.6666666666666666,
              "#ed7953"
             ],
             [
              0.7777777777777778,
              "#fb9f3a"
             ],
             [
              0.8888888888888888,
              "#fdca26"
             ],
             [
              1,
              "#f0f921"
             ]
            ],
            "type": "histogram2dcontour"
           }
          ],
          "mesh3d": [
           {
            "colorbar": {
             "outlinewidth": 0,
             "ticks": ""
            },
            "type": "mesh3d"
           }
          ],
          "parcoords": [
           {
            "line": {
             "colorbar": {
              "outlinewidth": 0,
              "ticks": ""
             }
            },
            "type": "parcoords"
           }
          ],
          "pie": [
           {
            "automargin": true,
            "type": "pie"
           }
          ],
          "scatter": [
           {
            "fillpattern": {
             "fillmode": "overlay",
             "size": 10,
             "solidity": 0.2
            },
            "type": "scatter"
           }
          ],
          "scatter3d": [
           {
            "line": {
             "colorbar": {
              "outlinewidth": 0,
              "ticks": ""
             }
            },
            "marker": {
             "colorbar": {
              "outlinewidth": 0,
              "ticks": ""
             }
            },
            "type": "scatter3d"
           }
          ],
          "scattercarpet": [
           {
            "marker": {
             "colorbar": {
              "outlinewidth": 0,
              "ticks": ""
             }
            },
            "type": "scattercarpet"
           }
          ],
          "scattergeo": [
           {
            "marker": {
             "colorbar": {
              "outlinewidth": 0,
              "ticks": ""
             }
            },
            "type": "scattergeo"
           }
          ],
          "scattergl": [
           {
            "marker": {
             "colorbar": {
              "outlinewidth": 0,
              "ticks": ""
             }
            },
            "type": "scattergl"
           }
          ],
          "scattermapbox": [
           {
            "marker": {
             "colorbar": {
              "outlinewidth": 0,
              "ticks": ""
             }
            },
            "type": "scattermapbox"
           }
          ],
          "scatterpolar": [
           {
            "marker": {
             "colorbar": {
              "outlinewidth": 0,
              "ticks": ""
             }
            },
            "type": "scatterpolar"
           }
          ],
          "scatterpolargl": [
           {
            "marker": {
             "colorbar": {
              "outlinewidth": 0,
              "ticks": ""
             }
            },
            "type": "scatterpolargl"
           }
          ],
          "scatterternary": [
           {
            "marker": {
             "colorbar": {
              "outlinewidth": 0,
              "ticks": ""
             }
            },
            "type": "scatterternary"
           }
          ],
          "surface": [
           {
            "colorbar": {
             "outlinewidth": 0,
             "ticks": ""
            },
            "colorscale": [
             [
              0,
              "#0d0887"
             ],
             [
              0.1111111111111111,
              "#46039f"
             ],
             [
              0.2222222222222222,
              "#7201a8"
             ],
             [
              0.3333333333333333,
              "#9c179e"
             ],
             [
              0.4444444444444444,
              "#bd3786"
             ],
             [
              0.5555555555555556,
              "#d8576b"
             ],
             [
              0.6666666666666666,
              "#ed7953"
             ],
             [
              0.7777777777777778,
              "#fb9f3a"
             ],
             [
              0.8888888888888888,
              "#fdca26"
             ],
             [
              1,
              "#f0f921"
             ]
            ],
            "type": "surface"
           }
          ],
          "table": [
           {
            "cells": {
             "fill": {
              "color": "#EBF0F8"
             },
             "line": {
              "color": "white"
             }
            },
            "header": {
             "fill": {
              "color": "#C8D4E3"
             },
             "line": {
              "color": "white"
             }
            },
            "type": "table"
           }
          ]
         },
         "layout": {
          "annotationdefaults": {
           "arrowcolor": "#2a3f5f",
           "arrowhead": 0,
           "arrowwidth": 1
          },
          "autotypenumbers": "strict",
          "coloraxis": {
           "colorbar": {
            "outlinewidth": 0,
            "ticks": ""
           }
          },
          "colorscale": {
           "diverging": [
            [
             0,
             "#8e0152"
            ],
            [
             0.1,
             "#c51b7d"
            ],
            [
             0.2,
             "#de77ae"
            ],
            [
             0.3,
             "#f1b6da"
            ],
            [
             0.4,
             "#fde0ef"
            ],
            [
             0.5,
             "#f7f7f7"
            ],
            [
             0.6,
             "#e6f5d0"
            ],
            [
             0.7,
             "#b8e186"
            ],
            [
             0.8,
             "#7fbc41"
            ],
            [
             0.9,
             "#4d9221"
            ],
            [
             1,
             "#276419"
            ]
           ],
           "sequential": [
            [
             0,
             "#0d0887"
            ],
            [
             0.1111111111111111,
             "#46039f"
            ],
            [
             0.2222222222222222,
             "#7201a8"
            ],
            [
             0.3333333333333333,
             "#9c179e"
            ],
            [
             0.4444444444444444,
             "#bd3786"
            ],
            [
             0.5555555555555556,
             "#d8576b"
            ],
            [
             0.6666666666666666,
             "#ed7953"
            ],
            [
             0.7777777777777778,
             "#fb9f3a"
            ],
            [
             0.8888888888888888,
             "#fdca26"
            ],
            [
             1,
             "#f0f921"
            ]
           ],
           "sequentialminus": [
            [
             0,
             "#0d0887"
            ],
            [
             0.1111111111111111,
             "#46039f"
            ],
            [
             0.2222222222222222,
             "#7201a8"
            ],
            [
             0.3333333333333333,
             "#9c179e"
            ],
            [
             0.4444444444444444,
             "#bd3786"
            ],
            [
             0.5555555555555556,
             "#d8576b"
            ],
            [
             0.6666666666666666,
             "#ed7953"
            ],
            [
             0.7777777777777778,
             "#fb9f3a"
            ],
            [
             0.8888888888888888,
             "#fdca26"
            ],
            [
             1,
             "#f0f921"
            ]
           ]
          },
          "colorway": [
           "#636efa",
           "#EF553B",
           "#00cc96",
           "#ab63fa",
           "#FFA15A",
           "#19d3f3",
           "#FF6692",
           "#B6E880",
           "#FF97FF",
           "#FECB52"
          ],
          "font": {
           "color": "#2a3f5f"
          },
          "geo": {
           "bgcolor": "white",
           "lakecolor": "white",
           "landcolor": "#E5ECF6",
           "showlakes": true,
           "showland": true,
           "subunitcolor": "white"
          },
          "hoverlabel": {
           "align": "left"
          },
          "hovermode": "closest",
          "mapbox": {
           "style": "light"
          },
          "paper_bgcolor": "white",
          "plot_bgcolor": "#E5ECF6",
          "polar": {
           "angularaxis": {
            "gridcolor": "white",
            "linecolor": "white",
            "ticks": ""
           },
           "bgcolor": "#E5ECF6",
           "radialaxis": {
            "gridcolor": "white",
            "linecolor": "white",
            "ticks": ""
           }
          },
          "scene": {
           "xaxis": {
            "backgroundcolor": "#E5ECF6",
            "gridcolor": "white",
            "gridwidth": 2,
            "linecolor": "white",
            "showbackground": true,
            "ticks": "",
            "zerolinecolor": "white"
           },
           "yaxis": {
            "backgroundcolor": "#E5ECF6",
            "gridcolor": "white",
            "gridwidth": 2,
            "linecolor": "white",
            "showbackground": true,
            "ticks": "",
            "zerolinecolor": "white"
           },
           "zaxis": {
            "backgroundcolor": "#E5ECF6",
            "gridcolor": "white",
            "gridwidth": 2,
            "linecolor": "white",
            "showbackground": true,
            "ticks": "",
            "zerolinecolor": "white"
           }
          },
          "shapedefaults": {
           "line": {
            "color": "#2a3f5f"
           }
          },
          "ternary": {
           "aaxis": {
            "gridcolor": "white",
            "linecolor": "white",
            "ticks": ""
           },
           "baxis": {
            "gridcolor": "white",
            "linecolor": "white",
            "ticks": ""
           },
           "bgcolor": "#E5ECF6",
           "caxis": {
            "gridcolor": "white",
            "linecolor": "white",
            "ticks": ""
           }
          },
          "title": {
           "x": 0.05
          },
          "xaxis": {
           "automargin": true,
           "gridcolor": "white",
           "linecolor": "white",
           "ticks": "",
           "title": {
            "standoff": 15
           },
           "zerolinecolor": "white",
           "zerolinewidth": 2
          },
          "yaxis": {
           "automargin": true,
           "gridcolor": "white",
           "linecolor": "white",
           "ticks": "",
           "title": {
            "standoff": 15
           },
           "zerolinecolor": "white",
           "zerolinewidth": 2
          }
         }
        },
        "title": {
         "text": "Tình hình dịch bệnh tại 5 quốc gia có số ca mắc covid mới nhiều nhất"
        },
        "width": 800,
        "xaxis": {
         "anchor": "y",
         "domain": [
          0,
          1
         ],
         "matches": "x5",
         "showticklabels": false
        },
        "xaxis2": {
         "anchor": "y2",
         "domain": [
          0,
          1
         ],
         "matches": "x5",
         "showticklabels": false
        },
        "xaxis3": {
         "anchor": "y3",
         "domain": [
          0,
          1
         ],
         "matches": "x5",
         "showticklabels": false
        },
        "xaxis4": {
         "anchor": "y4",
         "domain": [
          0,
          1
         ],
         "matches": "x5",
         "showticklabels": false
        },
        "xaxis5": {
         "anchor": "y5",
         "domain": [
          0,
          1
         ]
        },
        "yaxis": {
         "anchor": "x",
         "domain": [
          0.88,
          1
         ]
        },
        "yaxis2": {
         "anchor": "x2",
         "domain": [
          0.66,
          0.78
         ]
        },
        "yaxis3": {
         "anchor": "x3",
         "domain": [
          0.44,
          0.56
         ]
        },
        "yaxis4": {
         "anchor": "x4",
         "domain": [
          0.22,
          0.33999999999999997
         ]
        },
        "yaxis5": {
         "anchor": "x5",
         "domain": [
          0,
          0.12
         ]
        }
       }
      }
     },
     "metadata": {},
     "output_type": "display_data"
    }
   ],
   "source": [
    "dfCovid_top = covid_df[['Country', 'New Cases']]\n",
    "dfCovid_top = dfCovid_top.sort_values(by='New Cases', ascending=False).head(5)\n",
    "\n",
    "fig = make_subplots(rows=5, cols=1, shared_xaxes=True,\n",
    "                    subplot_titles=(dfCovid_top['Country'].values))\n",
    "\n",
    "for i in range(5):\n",
    "    country = dfCovid_top['Country'].values[i]\n",
    "    dfCovid_country = dfCovid[dfCovid['Country'] == country]\n",
    "    \n",
    "    fig.add_trace(go.Line(x=dfCovid_country['Date'], y=dfCovid_country['New Cases'], \n",
    "                          name='New Cases', line_color='blue', showlegend=i==0), row=i+1, col=1)\n",
    "    fig.add_trace(go.Line(x=dfCovid_country['Date'], y=dfCovid_country['New Deaths'], \n",
    "                          name='New Deaths', line_color='red', showlegend=i==0), row=i+1, col=1)\n",
    "    fig.add_trace(go.Line(x=dfCovid_country['Date'], y=dfCovid_country['Serious, Critical'], \n",
    "                          name='Serious, Critical', line_color='green', showlegend=i==0), row=i+1, col=1)\n",
    "    \n",
    "\n",
    "fig.update_layout(height=1000, width=800, title_text=\"Tình hình dịch bệnh tại 5 quốc gia có số ca mắc covid mới nhiều nhất\");\n",
    "fig.show();"
   ]
  },
  {
   "attachments": {},
   "cell_type": "markdown",
   "metadata": {},
   "source": [
    "- **Nhận xét biểu đồ:**\n",
    "  - Với 5 quốc gia được cho là có số ca nhiễm mới nhiều nhất tại thời điểm 06-03-2023 thì sau 1 tuần, số ca tử vong mới và số ca nguy kịch không có dấu hiệu tăng theo số ca nhiễm mới. Điều này làm rõ mối quan hệ của hai biến `New Deaths` và `Serious, Critical` với biến `New Cases` dường như không đồng biến với nhau, tức là \"số ca nhiễm mới tăng lên thì sau một thời gian, số ca nguy kịch, tử vong mới không tăng lên theo số ca nhiễm mới\".\n",
    "  - Để giải thích cho điều trên thì có lẽ vì các quốc gia đã tiêm chủng vắc-xin đầy đủ, hệ miễn dịch cộng đồng mạnh mẽ nên không bị nguy kịch như lúc dịch mới bùng phát, chứng tỏ rằng covid-19 không phải là dịch bệnh nguy hiểm nữa ở thời điểm hiện tại."
   ]
  }
 ],
 "metadata": {
  "kernelspec": {
   "display_name": "Python 3 (ipykernel)",
   "language": "python",
   "name": "python3"
  },
  "language_info": {
   "codemirror_mode": {
    "name": "ipython",
    "version": 3
   },
   "file_extension": ".py",
   "mimetype": "text/x-python",
   "name": "python",
   "nbconvert_exporter": "python",
   "pygments_lexer": "ipython3",
   "version": "3.10.6"
  }
 },
 "nbformat": 4,
 "nbformat_minor": 4
}
