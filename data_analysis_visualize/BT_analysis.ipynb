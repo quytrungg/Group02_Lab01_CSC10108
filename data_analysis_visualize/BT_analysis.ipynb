{
 "cells": [
  {
   "cell_type": "code",
   "execution_count": 1,
   "metadata": {},
   "outputs": [],
   "source": [
    "# Import thư viện: \n",
    "\n",
    "import pandas as pd\n",
    "import matplotlib.pyplot as plt\n",
    "import seaborn as sns\n",
    "import plotly.graph_objs as go\n",
    "import plotly.express as px\n",
    "from plotly.subplots import make_subplots"
   ]
  },
  {
   "cell_type": "code",
   "execution_count": 2,
   "metadata": {},
   "outputs": [
    {
     "data": {
      "text/html": [
       "<div>\n",
       "<style scoped>\n",
       "    .dataframe tbody tr th:only-of-type {\n",
       "        vertical-align: middle;\n",
       "    }\n",
       "\n",
       "    .dataframe tbody tr th {\n",
       "        vertical-align: top;\n",
       "    }\n",
       "\n",
       "    .dataframe thead th {\n",
       "        text-align: right;\n",
       "    }\n",
       "</style>\n",
       "<table border=\"1\" class=\"dataframe\">\n",
       "  <thead>\n",
       "    <tr style=\"text-align: right;\">\n",
       "      <th></th>\n",
       "      <th>Country</th>\n",
       "      <th>Total Cases</th>\n",
       "      <th>New Cases</th>\n",
       "      <th>Total Deaths</th>\n",
       "      <th>New Deaths</th>\n",
       "      <th>Total Recovered</th>\n",
       "      <th>New Recovered</th>\n",
       "      <th>Active Cases</th>\n",
       "      <th>Serious, Critical</th>\n",
       "      <th>Tot Cases/1M pop</th>\n",
       "      <th>...</th>\n",
       "      <th>Total tests</th>\n",
       "      <th>Tests/1M pop</th>\n",
       "      <th>Population</th>\n",
       "      <th>Continent</th>\n",
       "      <th>1 Case every X ppl</th>\n",
       "      <th>1 Death every X ppl</th>\n",
       "      <th>1 Test every X ppl</th>\n",
       "      <th>New Cases/1M pop</th>\n",
       "      <th>New Deaths/1M pop</th>\n",
       "      <th>Active Cases/1M pop</th>\n",
       "    </tr>\n",
       "  </thead>\n",
       "  <tbody>\n",
       "    <tr>\n",
       "      <th>0</th>\n",
       "      <td>USA</td>\n",
       "      <td>105396817.0</td>\n",
       "      <td>0.0</td>\n",
       "      <td>1146740.0</td>\n",
       "      <td>0.0</td>\n",
       "      <td>102864696.0</td>\n",
       "      <td>0.0</td>\n",
       "      <td>1385381.0</td>\n",
       "      <td>2726.0</td>\n",
       "      <td>314800.0</td>\n",
       "      <td>...</td>\n",
       "      <td>1.167686e+09</td>\n",
       "      <td>3487657.0</td>\n",
       "      <td>3.348053e+08</td>\n",
       "      <td>North America</td>\n",
       "      <td>3.0</td>\n",
       "      <td>292.0</td>\n",
       "      <td>0.0</td>\n",
       "      <td>0.0</td>\n",
       "      <td>0.0</td>\n",
       "      <td>4138.0</td>\n",
       "    </tr>\n",
       "    <tr>\n",
       "      <th>1</th>\n",
       "      <td>India</td>\n",
       "      <td>44688101.0</td>\n",
       "      <td>0.0</td>\n",
       "      <td>530775.0</td>\n",
       "      <td>0.0</td>\n",
       "      <td>44154425.0</td>\n",
       "      <td>0.0</td>\n",
       "      <td>2901.0</td>\n",
       "      <td>0.0</td>\n",
       "      <td>31770.0</td>\n",
       "      <td>...</td>\n",
       "      <td>9.191891e+08</td>\n",
       "      <td>653468.0</td>\n",
       "      <td>1.406632e+09</td>\n",
       "      <td>Asia</td>\n",
       "      <td>31.0</td>\n",
       "      <td>2650.0</td>\n",
       "      <td>2.0</td>\n",
       "      <td>0.0</td>\n",
       "      <td>0.0</td>\n",
       "      <td>2.0</td>\n",
       "    </tr>\n",
       "    <tr>\n",
       "      <th>2</th>\n",
       "      <td>France</td>\n",
       "      <td>39638159.0</td>\n",
       "      <td>0.0</td>\n",
       "      <td>165030.0</td>\n",
       "      <td>0.0</td>\n",
       "      <td>39400459.0</td>\n",
       "      <td>706.0</td>\n",
       "      <td>72670.0</td>\n",
       "      <td>869.0</td>\n",
       "      <td>604383.0</td>\n",
       "      <td>...</td>\n",
       "      <td>2.714902e+08</td>\n",
       "      <td>4139547.0</td>\n",
       "      <td>6.558452e+07</td>\n",
       "      <td>Europe</td>\n",
       "      <td>2.0</td>\n",
       "      <td>397.0</td>\n",
       "      <td>0.0</td>\n",
       "      <td>0.0</td>\n",
       "      <td>0.0</td>\n",
       "      <td>1108.0</td>\n",
       "    </tr>\n",
       "    <tr>\n",
       "      <th>3</th>\n",
       "      <td>Germany</td>\n",
       "      <td>38210850.0</td>\n",
       "      <td>0.0</td>\n",
       "      <td>168397.0</td>\n",
       "      <td>0.0</td>\n",
       "      <td>37767300.0</td>\n",
       "      <td>17500.0</td>\n",
       "      <td>275153.0</td>\n",
       "      <td>0.0</td>\n",
       "      <td>455522.0</td>\n",
       "      <td>...</td>\n",
       "      <td>1.223324e+08</td>\n",
       "      <td>1458359.0</td>\n",
       "      <td>8.388360e+07</td>\n",
       "      <td>Europe</td>\n",
       "      <td>2.0</td>\n",
       "      <td>498.0</td>\n",
       "      <td>1.0</td>\n",
       "      <td>0.0</td>\n",
       "      <td>0.0</td>\n",
       "      <td>3280.0</td>\n",
       "    </tr>\n",
       "    <tr>\n",
       "      <th>4</th>\n",
       "      <td>Brazil</td>\n",
       "      <td>37076053.0</td>\n",
       "      <td>0.0</td>\n",
       "      <td>699276.0</td>\n",
       "      <td>0.0</td>\n",
       "      <td>36249161.0</td>\n",
       "      <td>0.0</td>\n",
       "      <td>127616.0</td>\n",
       "      <td>0.0</td>\n",
       "      <td>172164.0</td>\n",
       "      <td>...</td>\n",
       "      <td>6.377617e+07</td>\n",
       "      <td>296146.0</td>\n",
       "      <td>2.153536e+08</td>\n",
       "      <td>South America</td>\n",
       "      <td>6.0</td>\n",
       "      <td>308.0</td>\n",
       "      <td>3.0</td>\n",
       "      <td>0.0</td>\n",
       "      <td>0.0</td>\n",
       "      <td>593.0</td>\n",
       "    </tr>\n",
       "  </tbody>\n",
       "</table>\n",
       "<p>5 rows × 21 columns</p>\n",
       "</div>"
      ],
      "text/plain": [
       "   Country  Total Cases  New Cases  Total Deaths  New Deaths  Total Recovered  \\\n",
       "0      USA  105396817.0        0.0     1146740.0         0.0      102864696.0   \n",
       "1    India   44688101.0        0.0      530775.0         0.0       44154425.0   \n",
       "2   France   39638159.0        0.0      165030.0         0.0       39400459.0   \n",
       "3  Germany   38210850.0        0.0      168397.0         0.0       37767300.0   \n",
       "4   Brazil   37076053.0        0.0      699276.0         0.0       36249161.0   \n",
       "\n",
       "   New Recovered  Active Cases  Serious, Critical  Tot Cases/1M pop  ...  \\\n",
       "0            0.0     1385381.0             2726.0          314800.0  ...   \n",
       "1            0.0        2901.0                0.0           31770.0  ...   \n",
       "2          706.0       72670.0              869.0          604383.0  ...   \n",
       "3        17500.0      275153.0                0.0          455522.0  ...   \n",
       "4            0.0      127616.0                0.0          172164.0  ...   \n",
       "\n",
       "    Total tests  Tests/1M pop    Population      Continent 1 Case every X ppl  \\\n",
       "0  1.167686e+09     3487657.0  3.348053e+08  North America                3.0   \n",
       "1  9.191891e+08      653468.0  1.406632e+09           Asia               31.0   \n",
       "2  2.714902e+08     4139547.0  6.558452e+07         Europe                2.0   \n",
       "3  1.223324e+08     1458359.0  8.388360e+07         Europe                2.0   \n",
       "4  6.377617e+07      296146.0  2.153536e+08  South America                6.0   \n",
       "\n",
       "   1 Death every X ppl  1 Test every X ppl  New Cases/1M pop  \\\n",
       "0                292.0                 0.0               0.0   \n",
       "1               2650.0                 2.0               0.0   \n",
       "2                397.0                 0.0               0.0   \n",
       "3                498.0                 1.0               0.0   \n",
       "4                308.0                 3.0               0.0   \n",
       "\n",
       "   New Deaths/1M pop  Active Cases/1M pop  \n",
       "0                0.0               4138.0  \n",
       "1                0.0                  2.0  \n",
       "2                0.0               1108.0  \n",
       "3                0.0               3280.0  \n",
       "4                0.0                593.0  \n",
       "\n",
       "[5 rows x 21 columns]"
      ]
     },
     "execution_count": 2,
     "metadata": {},
     "output_type": "execute_result"
    }
   ],
   "source": [
    "# Đọc dữ liệu:\n",
    "covid_df = pd.read_csv('../data/modified/Modified_March_06_2023_corona_data.csv')\n",
    "covid_df.head(5)"
   ]
  },
  {
   "cell_type": "code",
   "execution_count": 14,
   "metadata": {},
   "outputs": [
    {
     "data": {
      "text/html": [
       "<div>\n",
       "<style scoped>\n",
       "    .dataframe tbody tr th:only-of-type {\n",
       "        vertical-align: middle;\n",
       "    }\n",
       "\n",
       "    .dataframe tbody tr th {\n",
       "        vertical-align: top;\n",
       "    }\n",
       "\n",
       "    .dataframe thead th {\n",
       "        text-align: right;\n",
       "    }\n",
       "</style>\n",
       "<table border=\"1\" class=\"dataframe\">\n",
       "  <thead>\n",
       "    <tr style=\"text-align: right;\">\n",
       "      <th></th>\n",
       "      <th>Total Cases</th>\n",
       "      <th>New Cases</th>\n",
       "      <th>Total Deaths</th>\n",
       "      <th>New Deaths</th>\n",
       "      <th>Total Recovered</th>\n",
       "      <th>New Recovered</th>\n",
       "      <th>Active Cases</th>\n",
       "      <th>Serious, Critical</th>\n",
       "      <th>Tot Cases/1M pop</th>\n",
       "      <th>Deaths/1M pop</th>\n",
       "      <th>Total tests</th>\n",
       "      <th>Tests/1M pop</th>\n",
       "      <th>Population</th>\n",
       "      <th>1 Case every X ppl</th>\n",
       "      <th>1 Death every X ppl</th>\n",
       "      <th>1 Test every X ppl</th>\n",
       "      <th>New Cases/1M pop</th>\n",
       "      <th>New Deaths/1M pop</th>\n",
       "      <th>Active Cases/1M pop</th>\n",
       "    </tr>\n",
       "    <tr>\n",
       "      <th>Continent</th>\n",
       "      <th></th>\n",
       "      <th></th>\n",
       "      <th></th>\n",
       "      <th></th>\n",
       "      <th></th>\n",
       "      <th></th>\n",
       "      <th></th>\n",
       "      <th></th>\n",
       "      <th></th>\n",
       "      <th></th>\n",
       "      <th></th>\n",
       "      <th></th>\n",
       "      <th></th>\n",
       "      <th></th>\n",
       "      <th></th>\n",
       "      <th></th>\n",
       "      <th></th>\n",
       "      <th></th>\n",
       "      <th></th>\n",
       "    </tr>\n",
       "  </thead>\n",
       "  <tbody>\n",
       "    <tr>\n",
       "      <th>Africa</th>\n",
       "      <td>12796584.0</td>\n",
       "      <td>13.0</td>\n",
       "      <td>258593.0</td>\n",
       "      <td>0.0</td>\n",
       "      <td>10958582.0</td>\n",
       "      <td>11.0</td>\n",
       "      <td>366328.0</td>\n",
       "      <td>548.0</td>\n",
       "      <td>2486420.0</td>\n",
       "      <td>18504.0</td>\n",
       "      <td>1.107283e+08</td>\n",
       "      <td>10908075.0</td>\n",
       "      <td>1.406729e+09</td>\n",
       "      <td>82740.0</td>\n",
       "      <td>2122801.0</td>\n",
       "      <td>1568.0</td>\n",
       "      <td>2.0</td>\n",
       "      <td>0.00</td>\n",
       "      <td>576722.40</td>\n",
       "    </tr>\n",
       "    <tr>\n",
       "      <th>Asia</th>\n",
       "      <td>214523214.0</td>\n",
       "      <td>17000.0</td>\n",
       "      <td>1537601.0</td>\n",
       "      <td>114.0</td>\n",
       "      <td>182369187.0</td>\n",
       "      <td>22761.0</td>\n",
       "      <td>13457934.0</td>\n",
       "      <td>1669.0</td>\n",
       "      <td>7744105.0</td>\n",
       "      <td>34589.0</td>\n",
       "      <td>2.375423e+09</td>\n",
       "      <td>92863694.0</td>\n",
       "      <td>4.711357e+09</td>\n",
       "      <td>7876.0</td>\n",
       "      <td>894479.0</td>\n",
       "      <td>468.0</td>\n",
       "      <td>483.9</td>\n",
       "      <td>3.07</td>\n",
       "      <td>322402.99</td>\n",
       "    </tr>\n",
       "    <tr>\n",
       "      <th>Australia/Oceania</th>\n",
       "      <td>14027245.0</td>\n",
       "      <td>1634.0</td>\n",
       "      <td>26221.0</td>\n",
       "      <td>3.0</td>\n",
       "      <td>13804048.0</td>\n",
       "      <td>1281.0</td>\n",
       "      <td>71359.0</td>\n",
       "      <td>55.0</td>\n",
       "      <td>4581024.0</td>\n",
       "      <td>8758.0</td>\n",
       "      <td>8.855292e+07</td>\n",
       "      <td>20810938.0</td>\n",
       "      <td>4.347041e+07</td>\n",
       "      <td>624.0</td>\n",
       "      <td>97415.0</td>\n",
       "      <td>61.0</td>\n",
       "      <td>334.0</td>\n",
       "      <td>0.60</td>\n",
       "      <td>939237.00</td>\n",
       "    </tr>\n",
       "    <tr>\n",
       "      <th>Europe</th>\n",
       "      <td>246596854.0</td>\n",
       "      <td>17979.0</td>\n",
       "      <td>2019501.0</td>\n",
       "      <td>90.0</td>\n",
       "      <td>242049974.0</td>\n",
       "      <td>37440.0</td>\n",
       "      <td>2245993.0</td>\n",
       "      <td>2752.0</td>\n",
       "      <td>18626410.0</td>\n",
       "      <td>124830.0</td>\n",
       "      <td>2.824543e+09</td>\n",
       "      <td>212903665.0</td>\n",
       "      <td>7.475438e+08</td>\n",
       "      <td>187.0</td>\n",
       "      <td>23446.0</td>\n",
       "      <td>22.0</td>\n",
       "      <td>559.0</td>\n",
       "      <td>7.00</td>\n",
       "      <td>1348632.00</td>\n",
       "    </tr>\n",
       "    <tr>\n",
       "      <th>North America</th>\n",
       "      <td>124727721.0</td>\n",
       "      <td>525.0</td>\n",
       "      <td>1612602.0</td>\n",
       "      <td>4.0</td>\n",
       "      <td>119887065.0</td>\n",
       "      <td>4442.0</td>\n",
       "      <td>2324721.0</td>\n",
       "      <td>3094.0</td>\n",
       "      <td>8812064.0</td>\n",
       "      <td>58281.0</td>\n",
       "      <td>1.304727e+09</td>\n",
       "      <td>101381898.0</td>\n",
       "      <td>5.981409e+08</td>\n",
       "      <td>987.0</td>\n",
       "      <td>77301.0</td>\n",
       "      <td>133.0</td>\n",
       "      <td>4.0</td>\n",
       "      <td>0.03</td>\n",
       "      <td>2755168.00</td>\n",
       "    </tr>\n",
       "    <tr>\n",
       "      <th>South America</th>\n",
       "      <td>68048799.0</td>\n",
       "      <td>0.0</td>\n",
       "      <td>1350941.0</td>\n",
       "      <td>0.0</td>\n",
       "      <td>65553207.0</td>\n",
       "      <td>0.0</td>\n",
       "      <td>275065.0</td>\n",
       "      <td>1867.0</td>\n",
       "      <td>2587143.0</td>\n",
       "      <td>32982.0</td>\n",
       "      <td>2.425919e+08</td>\n",
       "      <td>13890196.0</td>\n",
       "      <td>4.376944e+08</td>\n",
       "      <td>146.0</td>\n",
       "      <td>10125.0</td>\n",
       "      <td>32.0</td>\n",
       "      <td>0.0</td>\n",
       "      <td>0.00</td>\n",
       "      <td>342753.00</td>\n",
       "    </tr>\n",
       "    <tr>\n",
       "      <th>Unknown</th>\n",
       "      <td>721.0</td>\n",
       "      <td>0.0</td>\n",
       "      <td>15.0</td>\n",
       "      <td>0.0</td>\n",
       "      <td>706.0</td>\n",
       "      <td>0.0</td>\n",
       "      <td>0.0</td>\n",
       "      <td>0.0</td>\n",
       "      <td>0.0</td>\n",
       "      <td>0.0</td>\n",
       "      <td>0.000000e+00</td>\n",
       "      <td>0.0</td>\n",
       "      <td>0.000000e+00</td>\n",
       "      <td>0.0</td>\n",
       "      <td>0.0</td>\n",
       "      <td>0.0</td>\n",
       "      <td>0.0</td>\n",
       "      <td>0.00</td>\n",
       "      <td>0.00</td>\n",
       "    </tr>\n",
       "  </tbody>\n",
       "</table>\n",
       "</div>"
      ],
      "text/plain": [
       "                   Total Cases  New Cases  Total Deaths  New Deaths  \\\n",
       "Continent                                                             \n",
       "Africa              12796584.0       13.0      258593.0         0.0   \n",
       "Asia               214523214.0    17000.0     1537601.0       114.0   \n",
       "Australia/Oceania   14027245.0     1634.0       26221.0         3.0   \n",
       "Europe             246596854.0    17979.0     2019501.0        90.0   \n",
       "North America      124727721.0      525.0     1612602.0         4.0   \n",
       "South America       68048799.0        0.0     1350941.0         0.0   \n",
       "Unknown                  721.0        0.0          15.0         0.0   \n",
       "\n",
       "                   Total Recovered  New Recovered  Active Cases  \\\n",
       "Continent                                                         \n",
       "Africa                  10958582.0           11.0      366328.0   \n",
       "Asia                   182369187.0        22761.0    13457934.0   \n",
       "Australia/Oceania       13804048.0         1281.0       71359.0   \n",
       "Europe                 242049974.0        37440.0     2245993.0   \n",
       "North America          119887065.0         4442.0     2324721.0   \n",
       "South America           65553207.0            0.0      275065.0   \n",
       "Unknown                      706.0            0.0           0.0   \n",
       "\n",
       "                   Serious, Critical  Tot Cases/1M pop  Deaths/1M pop  \\\n",
       "Continent                                                               \n",
       "Africa                         548.0         2486420.0        18504.0   \n",
       "Asia                          1669.0         7744105.0        34589.0   \n",
       "Australia/Oceania               55.0         4581024.0         8758.0   \n",
       "Europe                        2752.0        18626410.0       124830.0   \n",
       "North America                 3094.0         8812064.0        58281.0   \n",
       "South America                 1867.0         2587143.0        32982.0   \n",
       "Unknown                          0.0               0.0            0.0   \n",
       "\n",
       "                    Total tests  Tests/1M pop    Population  \\\n",
       "Continent                                                     \n",
       "Africa             1.107283e+08    10908075.0  1.406729e+09   \n",
       "Asia               2.375423e+09    92863694.0  4.711357e+09   \n",
       "Australia/Oceania  8.855292e+07    20810938.0  4.347041e+07   \n",
       "Europe             2.824543e+09   212903665.0  7.475438e+08   \n",
       "North America      1.304727e+09   101381898.0  5.981409e+08   \n",
       "South America      2.425919e+08    13890196.0  4.376944e+08   \n",
       "Unknown            0.000000e+00           0.0  0.000000e+00   \n",
       "\n",
       "                   1 Case every X ppl  1 Death every X ppl  \\\n",
       "Continent                                                    \n",
       "Africa                        82740.0            2122801.0   \n",
       "Asia                           7876.0             894479.0   \n",
       "Australia/Oceania               624.0              97415.0   \n",
       "Europe                          187.0              23446.0   \n",
       "North America                   987.0              77301.0   \n",
       "South America                   146.0              10125.0   \n",
       "Unknown                           0.0                  0.0   \n",
       "\n",
       "                   1 Test every X ppl  New Cases/1M pop  New Deaths/1M pop  \\\n",
       "Continent                                                                    \n",
       "Africa                         1568.0               2.0               0.00   \n",
       "Asia                            468.0             483.9               3.07   \n",
       "Australia/Oceania                61.0             334.0               0.60   \n",
       "Europe                           22.0             559.0               7.00   \n",
       "North America                   133.0               4.0               0.03   \n",
       "South America                    32.0               0.0               0.00   \n",
       "Unknown                           0.0               0.0               0.00   \n",
       "\n",
       "                   Active Cases/1M pop  \n",
       "Continent                               \n",
       "Africa                       576722.40  \n",
       "Asia                         322402.99  \n",
       "Australia/Oceania            939237.00  \n",
       "Europe                      1348632.00  \n",
       "North America               2755168.00  \n",
       "South America                342753.00  \n",
       "Unknown                           0.00  "
      ]
     },
     "execution_count": 14,
     "metadata": {},
     "output_type": "execute_result"
    }
   ],
   "source": [
    "continent_covid = covid_df.groupby(\"Continent\").sum()\n",
    "continent_covid"
   ]
  },
  {
   "cell_type": "code",
   "execution_count": 42,
   "metadata": {},
   "outputs": [
    {
     "data": {
      "text/plain": [
       "'North America'"
      ]
     },
     "execution_count": 42,
     "metadata": {},
     "output_type": "execute_result"
    }
   ],
   "source": [
    "df = covid_df[\"Continent\"].unique()\n",
    "df[0]"
   ]
  },
  {
   "cell_type": "code",
   "execution_count": 43,
   "metadata": {},
   "outputs": [
    {
     "data": {
      "text/html": [
       "<div>\n",
       "<style scoped>\n",
       "    .dataframe tbody tr th:only-of-type {\n",
       "        vertical-align: middle;\n",
       "    }\n",
       "\n",
       "    .dataframe tbody tr th {\n",
       "        vertical-align: top;\n",
       "    }\n",
       "\n",
       "    .dataframe thead th {\n",
       "        text-align: right;\n",
       "    }\n",
       "</style>\n",
       "<table border=\"1\" class=\"dataframe\">\n",
       "  <thead>\n",
       "    <tr style=\"text-align: right;\">\n",
       "      <th></th>\n",
       "      <th>Country</th>\n",
       "      <th>Total Cases</th>\n",
       "      <th>New Cases</th>\n",
       "      <th>Total Deaths</th>\n",
       "      <th>New Deaths</th>\n",
       "      <th>Total Recovered</th>\n",
       "      <th>New Recovered</th>\n",
       "      <th>Active Cases</th>\n",
       "      <th>Serious, Critical</th>\n",
       "      <th>Tot Cases/1M pop</th>\n",
       "      <th>...</th>\n",
       "      <th>Total tests</th>\n",
       "      <th>Tests/1M pop</th>\n",
       "      <th>Population</th>\n",
       "      <th>Continent</th>\n",
       "      <th>1 Case every X ppl</th>\n",
       "      <th>1 Death every X ppl</th>\n",
       "      <th>1 Test every X ppl</th>\n",
       "      <th>New Cases/1M pop</th>\n",
       "      <th>New Deaths/1M pop</th>\n",
       "      <th>Active Cases/1M pop</th>\n",
       "    </tr>\n",
       "  </thead>\n",
       "  <tbody>\n",
       "    <tr>\n",
       "      <th>0</th>\n",
       "      <td>USA</td>\n",
       "      <td>105396817.0</td>\n",
       "      <td>0.0</td>\n",
       "      <td>1146740.0</td>\n",
       "      <td>0.0</td>\n",
       "      <td>102864696.0</td>\n",
       "      <td>0.0</td>\n",
       "      <td>1385381.0</td>\n",
       "      <td>2726.0</td>\n",
       "      <td>314800.0</td>\n",
       "      <td>...</td>\n",
       "      <td>1.167686e+09</td>\n",
       "      <td>3487657.0</td>\n",
       "      <td>334805269.0</td>\n",
       "      <td>North America</td>\n",
       "      <td>3.0</td>\n",
       "      <td>292.0</td>\n",
       "      <td>0.0</td>\n",
       "      <td>0.0</td>\n",
       "      <td>0.00</td>\n",
       "      <td>4138.0</td>\n",
       "    </tr>\n",
       "    <tr>\n",
       "      <th>18</th>\n",
       "      <td>Mexico</td>\n",
       "      <td>7470653.0</td>\n",
       "      <td>525.0</td>\n",
       "      <td>333100.0</td>\n",
       "      <td>4.0</td>\n",
       "      <td>6706771.0</td>\n",
       "      <td>2912.0</td>\n",
       "      <td>430782.0</td>\n",
       "      <td>0.0</td>\n",
       "      <td>56784.0</td>\n",
       "      <td>...</td>\n",
       "      <td>1.957232e+07</td>\n",
       "      <td>148768.0</td>\n",
       "      <td>131562772.0</td>\n",
       "      <td>North America</td>\n",
       "      <td>18.0</td>\n",
       "      <td>395.0</td>\n",
       "      <td>7.0</td>\n",
       "      <td>4.0</td>\n",
       "      <td>0.03</td>\n",
       "      <td>3274.0</td>\n",
       "    </tr>\n",
       "    <tr>\n",
       "      <th>33</th>\n",
       "      <td>Canada</td>\n",
       "      <td>4591149.0</td>\n",
       "      <td>0.0</td>\n",
       "      <td>51249.0</td>\n",
       "      <td>0.0</td>\n",
       "      <td>4508184.0</td>\n",
       "      <td>1530.0</td>\n",
       "      <td>31716.0</td>\n",
       "      <td>99.0</td>\n",
       "      <td>119597.0</td>\n",
       "      <td>...</td>\n",
       "      <td>6.634312e+07</td>\n",
       "      <td>1728207.0</td>\n",
       "      <td>38388419.0</td>\n",
       "      <td>North America</td>\n",
       "      <td>8.0</td>\n",
       "      <td>749.0</td>\n",
       "      <td>1.0</td>\n",
       "      <td>0.0</td>\n",
       "      <td>0.00</td>\n",
       "      <td>826.0</td>\n",
       "    </tr>\n",
       "    <tr>\n",
       "      <th>61</th>\n",
       "      <td>Guatemala</td>\n",
       "      <td>1237564.0</td>\n",
       "      <td>0.0</td>\n",
       "      <td>20178.0</td>\n",
       "      <td>0.0</td>\n",
       "      <td>1216320.0</td>\n",
       "      <td>0.0</td>\n",
       "      <td>1066.0</td>\n",
       "      <td>5.0</td>\n",
       "      <td>66593.0</td>\n",
       "      <td>...</td>\n",
       "      <td>6.948424e+06</td>\n",
       "      <td>373892.0</td>\n",
       "      <td>18584039.0</td>\n",
       "      <td>North America</td>\n",
       "      <td>15.0</td>\n",
       "      <td>921.0</td>\n",
       "      <td>3.0</td>\n",
       "      <td>0.0</td>\n",
       "      <td>0.00</td>\n",
       "      <td>57.0</td>\n",
       "    </tr>\n",
       "    <tr>\n",
       "      <th>63</th>\n",
       "      <td>Costa Rica</td>\n",
       "      <td>1204164.0</td>\n",
       "      <td>0.0</td>\n",
       "      <td>9230.0</td>\n",
       "      <td>0.0</td>\n",
       "      <td>860711.0</td>\n",
       "      <td>0.0</td>\n",
       "      <td>334223.0</td>\n",
       "      <td>52.0</td>\n",
       "      <td>232358.0</td>\n",
       "      <td>...</td>\n",
       "      <td>4.659757e+06</td>\n",
       "      <td>899158.0</td>\n",
       "      <td>5182354.0</td>\n",
       "      <td>North America</td>\n",
       "      <td>4.0</td>\n",
       "      <td>561.0</td>\n",
       "      <td>1.0</td>\n",
       "      <td>0.0</td>\n",
       "      <td>0.00</td>\n",
       "      <td>64493.0</td>\n",
       "    </tr>\n",
       "    <tr>\n",
       "      <th>66</th>\n",
       "      <td>Cuba</td>\n",
       "      <td>1112625.0</td>\n",
       "      <td>0.0</td>\n",
       "      <td>8530.0</td>\n",
       "      <td>0.0</td>\n",
       "      <td>1104008.0</td>\n",
       "      <td>0.0</td>\n",
       "      <td>87.0</td>\n",
       "      <td>2.0</td>\n",
       "      <td>98413.0</td>\n",
       "      <td>...</td>\n",
       "      <td>1.431960e+07</td>\n",
       "      <td>1266588.0</td>\n",
       "      <td>11305652.0</td>\n",
       "      <td>North America</td>\n",
       "      <td>10.0</td>\n",
       "      <td>1325.0</td>\n",
       "      <td>1.0</td>\n",
       "      <td>0.0</td>\n",
       "      <td>0.00</td>\n",
       "      <td>8.0</td>\n",
       "    </tr>\n",
       "    <tr>\n",
       "      <th>70</th>\n",
       "      <td>Panama</td>\n",
       "      <td>1031273.0</td>\n",
       "      <td>0.0</td>\n",
       "      <td>8604.0</td>\n",
       "      <td>0.0</td>\n",
       "      <td>1022299.0</td>\n",
       "      <td>0.0</td>\n",
       "      <td>370.0</td>\n",
       "      <td>16.0</td>\n",
       "      <td>231905.0</td>\n",
       "      <td>...</td>\n",
       "      <td>7.532271e+06</td>\n",
       "      <td>1693801.0</td>\n",
       "      <td>4446964.0</td>\n",
       "      <td>North America</td>\n",
       "      <td>4.0</td>\n",
       "      <td>517.0</td>\n",
       "      <td>1.0</td>\n",
       "      <td>0.0</td>\n",
       "      <td>0.00</td>\n",
       "      <td>83.0</td>\n",
       "    </tr>\n",
       "    <tr>\n",
       "      <th>81</th>\n",
       "      <td>Dominican Republic</td>\n",
       "      <td>660705.0</td>\n",
       "      <td>0.0</td>\n",
       "      <td>4384.0</td>\n",
       "      <td>0.0</td>\n",
       "      <td>644785.0</td>\n",
       "      <td>0.0</td>\n",
       "      <td>11536.0</td>\n",
       "      <td>4.0</td>\n",
       "      <td>59758.0</td>\n",
       "      <td>...</td>\n",
       "      <td>3.740928e+06</td>\n",
       "      <td>338350.0</td>\n",
       "      <td>11056370.0</td>\n",
       "      <td>North America</td>\n",
       "      <td>17.0</td>\n",
       "      <td>2522.0</td>\n",
       "      <td>3.0</td>\n",
       "      <td>0.0</td>\n",
       "      <td>0.00</td>\n",
       "      <td>1043.0</td>\n",
       "    </tr>\n",
       "    <tr>\n",
       "      <th>93</th>\n",
       "      <td>Honduras</td>\n",
       "      <td>472219.0</td>\n",
       "      <td>0.0</td>\n",
       "      <td>11111.0</td>\n",
       "      <td>0.0</td>\n",
       "      <td>0.0</td>\n",
       "      <td>0.0</td>\n",
       "      <td>0.0</td>\n",
       "      <td>105.0</td>\n",
       "      <td>46200.0</td>\n",
       "      <td>...</td>\n",
       "      <td>1.635233e+06</td>\n",
       "      <td>159984.0</td>\n",
       "      <td>10221247.0</td>\n",
       "      <td>North America</td>\n",
       "      <td>22.0</td>\n",
       "      <td>920.0</td>\n",
       "      <td>6.0</td>\n",
       "      <td>0.0</td>\n",
       "      <td>0.00</td>\n",
       "      <td>32145.0</td>\n",
       "    </tr>\n",
       "    <tr>\n",
       "      <th>110</th>\n",
       "      <td>Martinique</td>\n",
       "      <td>229807.0</td>\n",
       "      <td>0.0</td>\n",
       "      <td>1098.0</td>\n",
       "      <td>0.0</td>\n",
       "      <td>0.0</td>\n",
       "      <td>0.0</td>\n",
       "      <td>0.0</td>\n",
       "      <td>12.0</td>\n",
       "      <td>614314.0</td>\n",
       "      <td>...</td>\n",
       "      <td>8.289280e+05</td>\n",
       "      <td>2215870.0</td>\n",
       "      <td>374087.0</td>\n",
       "      <td>North America</td>\n",
       "      <td>2.0</td>\n",
       "      <td>341.0</td>\n",
       "      <td>0.0</td>\n",
       "      <td>0.0</td>\n",
       "      <td>0.00</td>\n",
       "      <td>611101.0</td>\n",
       "    </tr>\n",
       "    <tr>\n",
       "      <th>115</th>\n",
       "      <td>Guadeloupe</td>\n",
       "      <td>201852.0</td>\n",
       "      <td>0.0</td>\n",
       "      <td>1010.0</td>\n",
       "      <td>0.0</td>\n",
       "      <td>0.0</td>\n",
       "      <td>0.0</td>\n",
       "      <td>0.0</td>\n",
       "      <td>19.0</td>\n",
       "      <td>504890.0</td>\n",
       "      <td>...</td>\n",
       "      <td>9.380390e+05</td>\n",
       "      <td>2346306.0</td>\n",
       "      <td>399794.0</td>\n",
       "      <td>North America</td>\n",
       "      <td>2.0</td>\n",
       "      <td>396.0</td>\n",
       "      <td>0.0</td>\n",
       "      <td>0.0</td>\n",
       "      <td>0.00</td>\n",
       "      <td>496736.0</td>\n",
       "    </tr>\n",
       "    <tr>\n",
       "      <th>116</th>\n",
       "      <td>El Salvador</td>\n",
       "      <td>201785.0</td>\n",
       "      <td>0.0</td>\n",
       "      <td>4230.0</td>\n",
       "      <td>0.0</td>\n",
       "      <td>179410.0</td>\n",
       "      <td>0.0</td>\n",
       "      <td>18145.0</td>\n",
       "      <td>8.0</td>\n",
       "      <td>30805.0</td>\n",
       "      <td>...</td>\n",
       "      <td>2.610114e+06</td>\n",
       "      <td>398467.0</td>\n",
       "      <td>6550389.0</td>\n",
       "      <td>North America</td>\n",
       "      <td>32.0</td>\n",
       "      <td>1549.0</td>\n",
       "      <td>3.0</td>\n",
       "      <td>0.0</td>\n",
       "      <td>0.00</td>\n",
       "      <td>2770.0</td>\n",
       "    </tr>\n",
       "    <tr>\n",
       "      <th>117</th>\n",
       "      <td>Trinidad and Tobago</td>\n",
       "      <td>189296.0</td>\n",
       "      <td>0.0</td>\n",
       "      <td>4347.0</td>\n",
       "      <td>0.0</td>\n",
       "      <td>184553.0</td>\n",
       "      <td>0.0</td>\n",
       "      <td>396.0</td>\n",
       "      <td>8.0</td>\n",
       "      <td>134578.0</td>\n",
       "      <td>...</td>\n",
       "      <td>8.981690e+05</td>\n",
       "      <td>638546.0</td>\n",
       "      <td>1406585.0</td>\n",
       "      <td>North America</td>\n",
       "      <td>7.0</td>\n",
       "      <td>324.0</td>\n",
       "      <td>2.0</td>\n",
       "      <td>0.0</td>\n",
       "      <td>0.00</td>\n",
       "      <td>282.0</td>\n",
       "    </tr>\n",
       "    <tr>\n",
       "      <th>122</th>\n",
       "      <td>Jamaica</td>\n",
       "      <td>154196.0</td>\n",
       "      <td>0.0</td>\n",
       "      <td>3502.0</td>\n",
       "      <td>0.0</td>\n",
       "      <td>102393.0</td>\n",
       "      <td>0.0</td>\n",
       "      <td>48301.0</td>\n",
       "      <td>0.0</td>\n",
       "      <td>51655.0</td>\n",
       "      <td>...</td>\n",
       "      <td>1.183986e+06</td>\n",
       "      <td>396633.0</td>\n",
       "      <td>2985094.0</td>\n",
       "      <td>North America</td>\n",
       "      <td>19.0</td>\n",
       "      <td>852.0</td>\n",
       "      <td>3.0</td>\n",
       "      <td>0.0</td>\n",
       "      <td>0.00</td>\n",
       "      <td>16181.0</td>\n",
       "    </tr>\n",
       "    <tr>\n",
       "      <th>127</th>\n",
       "      <td>Barbados</td>\n",
       "      <td>106645.0</td>\n",
       "      <td>0.0</td>\n",
       "      <td>575.0</td>\n",
       "      <td>0.0</td>\n",
       "      <td>106057.0</td>\n",
       "      <td>0.0</td>\n",
       "      <td>13.0</td>\n",
       "      <td>0.0</td>\n",
       "      <td>370266.0</td>\n",
       "      <td>...</td>\n",
       "      <td>7.944260e+05</td>\n",
       "      <td>2758203.0</td>\n",
       "      <td>288023.0</td>\n",
       "      <td>North America</td>\n",
       "      <td>3.0</td>\n",
       "      <td>501.0</td>\n",
       "      <td>0.0</td>\n",
       "      <td>0.0</td>\n",
       "      <td>0.00</td>\n",
       "      <td>45.0</td>\n",
       "    </tr>\n",
       "    <tr>\n",
       "      <th>140</th>\n",
       "      <td>Belize</td>\n",
       "      <td>70757.0</td>\n",
       "      <td>0.0</td>\n",
       "      <td>688.0</td>\n",
       "      <td>0.0</td>\n",
       "      <td>70056.0</td>\n",
       "      <td>0.0</td>\n",
       "      <td>13.0</td>\n",
       "      <td>6.0</td>\n",
       "      <td>171661.0</td>\n",
       "      <td>...</td>\n",
       "      <td>5.760160e+05</td>\n",
       "      <td>1397453.0</td>\n",
       "      <td>412190.0</td>\n",
       "      <td>North America</td>\n",
       "      <td>6.0</td>\n",
       "      <td>599.0</td>\n",
       "      <td>1.0</td>\n",
       "      <td>0.0</td>\n",
       "      <td>0.00</td>\n",
       "      <td>32.0</td>\n",
       "    </tr>\n",
       "    <tr>\n",
       "      <th>153</th>\n",
       "      <td>Curaçao</td>\n",
       "      <td>45986.0</td>\n",
       "      <td>0.0</td>\n",
       "      <td>295.0</td>\n",
       "      <td>0.0</td>\n",
       "      <td>44720.0</td>\n",
       "      <td>0.0</td>\n",
       "      <td>971.0</td>\n",
       "      <td>3.0</td>\n",
       "      <td>277812.0</td>\n",
       "      <td>...</td>\n",
       "      <td>4.966930e+05</td>\n",
       "      <td>3000640.0</td>\n",
       "      <td>165529.0</td>\n",
       "      <td>North America</td>\n",
       "      <td>4.0</td>\n",
       "      <td>561.0</td>\n",
       "      <td>0.0</td>\n",
       "      <td>0.0</td>\n",
       "      <td>0.00</td>\n",
       "      <td>5866.0</td>\n",
       "    </tr>\n",
       "    <tr>\n",
       "      <th>154</th>\n",
       "      <td>Aruba</td>\n",
       "      <td>44044.0</td>\n",
       "      <td>0.0</td>\n",
       "      <td>236.0</td>\n",
       "      <td>0.0</td>\n",
       "      <td>42438.0</td>\n",
       "      <td>0.0</td>\n",
       "      <td>1370.0</td>\n",
       "      <td>2.0</td>\n",
       "      <td>409297.0</td>\n",
       "      <td>...</td>\n",
       "      <td>1.778850e+05</td>\n",
       "      <td>1653068.0</td>\n",
       "      <td>107609.0</td>\n",
       "      <td>North America</td>\n",
       "      <td>2.0</td>\n",
       "      <td>456.0</td>\n",
       "      <td>1.0</td>\n",
       "      <td>0.0</td>\n",
       "      <td>0.00</td>\n",
       "      <td>12731.0</td>\n",
       "    </tr>\n",
       "    <tr>\n",
       "      <th>161</th>\n",
       "      <td>Bahamas</td>\n",
       "      <td>37491.0</td>\n",
       "      <td>0.0</td>\n",
       "      <td>833.0</td>\n",
       "      <td>0.0</td>\n",
       "      <td>36366.0</td>\n",
       "      <td>0.0</td>\n",
       "      <td>292.0</td>\n",
       "      <td>1.0</td>\n",
       "      <td>93607.0</td>\n",
       "      <td>...</td>\n",
       "      <td>2.578390e+05</td>\n",
       "      <td>643767.0</td>\n",
       "      <td>400516.0</td>\n",
       "      <td>North America</td>\n",
       "      <td>11.0</td>\n",
       "      <td>481.0</td>\n",
       "      <td>2.0</td>\n",
       "      <td>0.0</td>\n",
       "      <td>0.00</td>\n",
       "      <td>729.0</td>\n",
       "    </tr>\n",
       "    <tr>\n",
       "      <th>164</th>\n",
       "      <td>Haiti</td>\n",
       "      <td>34202.0</td>\n",
       "      <td>0.0</td>\n",
       "      <td>860.0</td>\n",
       "      <td>0.0</td>\n",
       "      <td>33052.0</td>\n",
       "      <td>0.0</td>\n",
       "      <td>290.0</td>\n",
       "      <td>0.0</td>\n",
       "      <td>2928.0</td>\n",
       "      <td>...</td>\n",
       "      <td>1.324220e+05</td>\n",
       "      <td>11337.0</td>\n",
       "      <td>11680283.0</td>\n",
       "      <td>North America</td>\n",
       "      <td>342.0</td>\n",
       "      <td>13582.0</td>\n",
       "      <td>88.0</td>\n",
       "      <td>0.0</td>\n",
       "      <td>0.00</td>\n",
       "      <td>25.0</td>\n",
       "    </tr>\n",
       "    <tr>\n",
       "      <th>166</th>\n",
       "      <td>Cayman Islands</td>\n",
       "      <td>31472.0</td>\n",
       "      <td>0.0</td>\n",
       "      <td>37.0</td>\n",
       "      <td>0.0</td>\n",
       "      <td>8553.0</td>\n",
       "      <td>0.0</td>\n",
       "      <td>22882.0</td>\n",
       "      <td>1.0</td>\n",
       "      <td>467797.0</td>\n",
       "      <td>...</td>\n",
       "      <td>2.227730e+05</td>\n",
       "      <td>3311280.0</td>\n",
       "      <td>67277.0</td>\n",
       "      <td>North America</td>\n",
       "      <td>2.0</td>\n",
       "      <td>1818.0</td>\n",
       "      <td>0.0</td>\n",
       "      <td>0.0</td>\n",
       "      <td>0.00</td>\n",
       "      <td>340116.0</td>\n",
       "    </tr>\n",
       "    <tr>\n",
       "      <th>167</th>\n",
       "      <td>Saint Lucia</td>\n",
       "      <td>30004.0</td>\n",
       "      <td>0.0</td>\n",
       "      <td>409.0</td>\n",
       "      <td>0.0</td>\n",
       "      <td>29095.0</td>\n",
       "      <td>0.0</td>\n",
       "      <td>500.0</td>\n",
       "      <td>0.0</td>\n",
       "      <td>162085.0</td>\n",
       "      <td>...</td>\n",
       "      <td>2.109830e+05</td>\n",
       "      <td>1139752.0</td>\n",
       "      <td>185113.0</td>\n",
       "      <td>North America</td>\n",
       "      <td>6.0</td>\n",
       "      <td>453.0</td>\n",
       "      <td>1.0</td>\n",
       "      <td>0.0</td>\n",
       "      <td>0.00</td>\n",
       "      <td>2701.0</td>\n",
       "    </tr>\n",
       "    <tr>\n",
       "      <th>178</th>\n",
       "      <td>Grenada</td>\n",
       "      <td>19680.0</td>\n",
       "      <td>0.0</td>\n",
       "      <td>238.0</td>\n",
       "      <td>0.0</td>\n",
       "      <td>19358.0</td>\n",
       "      <td>0.0</td>\n",
       "      <td>84.0</td>\n",
       "      <td>4.0</td>\n",
       "      <td>173430.0</td>\n",
       "      <td>...</td>\n",
       "      <td>1.829810e+05</td>\n",
       "      <td>1612523.0</td>\n",
       "      <td>113475.0</td>\n",
       "      <td>North America</td>\n",
       "      <td>6.0</td>\n",
       "      <td>477.0</td>\n",
       "      <td>1.0</td>\n",
       "      <td>0.0</td>\n",
       "      <td>0.00</td>\n",
       "      <td>740.0</td>\n",
       "    </tr>\n",
       "    <tr>\n",
       "      <th>179</th>\n",
       "      <td>Bermuda</td>\n",
       "      <td>18814.0</td>\n",
       "      <td>0.0</td>\n",
       "      <td>160.0</td>\n",
       "      <td>0.0</td>\n",
       "      <td>18638.0</td>\n",
       "      <td>0.0</td>\n",
       "      <td>16.0</td>\n",
       "      <td>0.0</td>\n",
       "      <td>303750.0</td>\n",
       "      <td>...</td>\n",
       "      <td>1.027859e+06</td>\n",
       "      <td>16594698.0</td>\n",
       "      <td>61939.0</td>\n",
       "      <td>North America</td>\n",
       "      <td>3.0</td>\n",
       "      <td>387.0</td>\n",
       "      <td>0.0</td>\n",
       "      <td>0.0</td>\n",
       "      <td>0.00</td>\n",
       "      <td>258.0</td>\n",
       "    </tr>\n",
       "    <tr>\n",
       "      <th>180</th>\n",
       "      <td>Nicaragua</td>\n",
       "      <td>18491.0</td>\n",
       "      <td>0.0</td>\n",
       "      <td>225.0</td>\n",
       "      <td>0.0</td>\n",
       "      <td>4225.0</td>\n",
       "      <td>0.0</td>\n",
       "      <td>14041.0</td>\n",
       "      <td>0.0</td>\n",
       "      <td>2728.0</td>\n",
       "      <td>...</td>\n",
       "      <td>0.000000e+00</td>\n",
       "      <td>0.0</td>\n",
       "      <td>6779100.0</td>\n",
       "      <td>North America</td>\n",
       "      <td>367.0</td>\n",
       "      <td>30129.0</td>\n",
       "      <td>0.0</td>\n",
       "      <td>0.0</td>\n",
       "      <td>0.00</td>\n",
       "      <td>2071.0</td>\n",
       "    </tr>\n",
       "    <tr>\n",
       "      <th>187</th>\n",
       "      <td>Dominica</td>\n",
       "      <td>15760.0</td>\n",
       "      <td>0.0</td>\n",
       "      <td>74.0</td>\n",
       "      <td>0.0</td>\n",
       "      <td>15673.0</td>\n",
       "      <td>0.0</td>\n",
       "      <td>13.0</td>\n",
       "      <td>0.0</td>\n",
       "      <td>217848.0</td>\n",
       "      <td>...</td>\n",
       "      <td>2.293440e+05</td>\n",
       "      <td>3170187.0</td>\n",
       "      <td>72344.0</td>\n",
       "      <td>North America</td>\n",
       "      <td>5.0</td>\n",
       "      <td>978.0</td>\n",
       "      <td>0.0</td>\n",
       "      <td>0.0</td>\n",
       "      <td>0.00</td>\n",
       "      <td>180.0</td>\n",
       "    </tr>\n",
       "    <tr>\n",
       "      <th>192</th>\n",
       "      <td>Saint Martin</td>\n",
       "      <td>12257.0</td>\n",
       "      <td>0.0</td>\n",
       "      <td>63.0</td>\n",
       "      <td>0.0</td>\n",
       "      <td>1399.0</td>\n",
       "      <td>0.0</td>\n",
       "      <td>10795.0</td>\n",
       "      <td>7.0</td>\n",
       "      <td>308507.0</td>\n",
       "      <td>...</td>\n",
       "      <td>1.123820e+05</td>\n",
       "      <td>2828643.0</td>\n",
       "      <td>39730.0</td>\n",
       "      <td>North America</td>\n",
       "      <td>3.0</td>\n",
       "      <td>631.0</td>\n",
       "      <td>0.0</td>\n",
       "      <td>0.0</td>\n",
       "      <td>0.00</td>\n",
       "      <td>271709.0</td>\n",
       "    </tr>\n",
       "    <tr>\n",
       "      <th>194</th>\n",
       "      <td>Greenland</td>\n",
       "      <td>11971.0</td>\n",
       "      <td>0.0</td>\n",
       "      <td>21.0</td>\n",
       "      <td>0.0</td>\n",
       "      <td>2761.0</td>\n",
       "      <td>0.0</td>\n",
       "      <td>9189.0</td>\n",
       "      <td>4.0</td>\n",
       "      <td>210117.0</td>\n",
       "      <td>...</td>\n",
       "      <td>1.649260e+05</td>\n",
       "      <td>2894810.0</td>\n",
       "      <td>56973.0</td>\n",
       "      <td>North America</td>\n",
       "      <td>5.0</td>\n",
       "      <td>2713.0</td>\n",
       "      <td>0.0</td>\n",
       "      <td>0.0</td>\n",
       "      <td>0.00</td>\n",
       "      <td>161287.0</td>\n",
       "    </tr>\n",
       "    <tr>\n",
       "      <th>196</th>\n",
       "      <td>Caribbean Netherlands</td>\n",
       "      <td>11676.0</td>\n",
       "      <td>0.0</td>\n",
       "      <td>38.0</td>\n",
       "      <td>0.0</td>\n",
       "      <td>10476.0</td>\n",
       "      <td>0.0</td>\n",
       "      <td>1162.0</td>\n",
       "      <td>0.0</td>\n",
       "      <td>438173.0</td>\n",
       "      <td>...</td>\n",
       "      <td>3.012600e+04</td>\n",
       "      <td>1130559.0</td>\n",
       "      <td>26647.0</td>\n",
       "      <td>North America</td>\n",
       "      <td>2.0</td>\n",
       "      <td>701.0</td>\n",
       "      <td>1.0</td>\n",
       "      <td>0.0</td>\n",
       "      <td>0.00</td>\n",
       "      <td>43607.0</td>\n",
       "    </tr>\n",
       "    <tr>\n",
       "      <th>197</th>\n",
       "      <td>Sint Maarten</td>\n",
       "      <td>11020.0</td>\n",
       "      <td>0.0</td>\n",
       "      <td>91.0</td>\n",
       "      <td>0.0</td>\n",
       "      <td>10905.0</td>\n",
       "      <td>0.0</td>\n",
       "      <td>24.0</td>\n",
       "      <td>0.0</td>\n",
       "      <td>250648.0</td>\n",
       "      <td>...</td>\n",
       "      <td>6.205600e+04</td>\n",
       "      <td>1411454.0</td>\n",
       "      <td>43966.0</td>\n",
       "      <td>North America</td>\n",
       "      <td>4.0</td>\n",
       "      <td>483.0</td>\n",
       "      <td>1.0</td>\n",
       "      <td>0.0</td>\n",
       "      <td>0.00</td>\n",
       "      <td>546.0</td>\n",
       "    </tr>\n",
       "    <tr>\n",
       "      <th>200</th>\n",
       "      <td>St. Vincent Grenadines</td>\n",
       "      <td>9589.0</td>\n",
       "      <td>0.0</td>\n",
       "      <td>123.0</td>\n",
       "      <td>0.0</td>\n",
       "      <td>9466.0</td>\n",
       "      <td>0.0</td>\n",
       "      <td>0.0</td>\n",
       "      <td>0.0</td>\n",
       "      <td>85961.0</td>\n",
       "      <td>...</td>\n",
       "      <td>1.137030e+05</td>\n",
       "      <td>1019292.0</td>\n",
       "      <td>111551.0</td>\n",
       "      <td>North America</td>\n",
       "      <td>12.0</td>\n",
       "      <td>907.0</td>\n",
       "      <td>1.0</td>\n",
       "      <td>0.0</td>\n",
       "      <td>0.00</td>\n",
       "      <td>0.0</td>\n",
       "    </tr>\n",
       "    <tr>\n",
       "      <th>201</th>\n",
       "      <td>Antigua and Barbuda</td>\n",
       "      <td>9106.0</td>\n",
       "      <td>0.0</td>\n",
       "      <td>146.0</td>\n",
       "      <td>0.0</td>\n",
       "      <td>8954.0</td>\n",
       "      <td>0.0</td>\n",
       "      <td>6.0</td>\n",
       "      <td>1.0</td>\n",
       "      <td>91509.0</td>\n",
       "      <td>...</td>\n",
       "      <td>1.890100e+04</td>\n",
       "      <td>189943.0</td>\n",
       "      <td>99509.0</td>\n",
       "      <td>North America</td>\n",
       "      <td>11.0</td>\n",
       "      <td>682.0</td>\n",
       "      <td>5.0</td>\n",
       "      <td>0.0</td>\n",
       "      <td>0.00</td>\n",
       "      <td>60.0</td>\n",
       "    </tr>\n",
       "    <tr>\n",
       "      <th>207</th>\n",
       "      <td>British Virgin Islands</td>\n",
       "      <td>7305.0</td>\n",
       "      <td>0.0</td>\n",
       "      <td>64.0</td>\n",
       "      <td>0.0</td>\n",
       "      <td>0.0</td>\n",
       "      <td>0.0</td>\n",
       "      <td>0.0</td>\n",
       "      <td>0.0</td>\n",
       "      <td>238757.0</td>\n",
       "      <td>...</td>\n",
       "      <td>1.073390e+05</td>\n",
       "      <td>3508269.0</td>\n",
       "      <td>30596.0</td>\n",
       "      <td>North America</td>\n",
       "      <td>4.0</td>\n",
       "      <td>478.0</td>\n",
       "      <td>0.0</td>\n",
       "      <td>0.0</td>\n",
       "      <td>0.00</td>\n",
       "      <td>392.0</td>\n",
       "    </tr>\n",
       "    <tr>\n",
       "      <th>209</th>\n",
       "      <td>Saint Kitts and Nevis</td>\n",
       "      <td>6597.0</td>\n",
       "      <td>0.0</td>\n",
       "      <td>47.0</td>\n",
       "      <td>0.0</td>\n",
       "      <td>6548.0</td>\n",
       "      <td>0.0</td>\n",
       "      <td>2.0</td>\n",
       "      <td>0.0</td>\n",
       "      <td>122459.0</td>\n",
       "      <td>...</td>\n",
       "      <td>1.269320e+05</td>\n",
       "      <td>2356221.0</td>\n",
       "      <td>53871.0</td>\n",
       "      <td>North America</td>\n",
       "      <td>8.0</td>\n",
       "      <td>1146.0</td>\n",
       "      <td>0.0</td>\n",
       "      <td>0.0</td>\n",
       "      <td>0.00</td>\n",
       "      <td>37.0</td>\n",
       "    </tr>\n",
       "    <tr>\n",
       "      <th>210</th>\n",
       "      <td>Turks and Caicos</td>\n",
       "      <td>6551.0</td>\n",
       "      <td>0.0</td>\n",
       "      <td>38.0</td>\n",
       "      <td>0.0</td>\n",
       "      <td>6491.0</td>\n",
       "      <td>0.0</td>\n",
       "      <td>22.0</td>\n",
       "      <td>4.0</td>\n",
       "      <td>164842.0</td>\n",
       "      <td>...</td>\n",
       "      <td>6.115270e+05</td>\n",
       "      <td>15387811.0</td>\n",
       "      <td>39741.0</td>\n",
       "      <td>North America</td>\n",
       "      <td>6.0</td>\n",
       "      <td>1046.0</td>\n",
       "      <td>0.0</td>\n",
       "      <td>0.0</td>\n",
       "      <td>0.00</td>\n",
       "      <td>554.0</td>\n",
       "    </tr>\n",
       "    <tr>\n",
       "      <th>213</th>\n",
       "      <td>St. Barth</td>\n",
       "      <td>5439.0</td>\n",
       "      <td>0.0</td>\n",
       "      <td>6.0</td>\n",
       "      <td>0.0</td>\n",
       "      <td>0.0</td>\n",
       "      <td>0.0</td>\n",
       "      <td>0.0</td>\n",
       "      <td>0.0</td>\n",
       "      <td>546908.0</td>\n",
       "      <td>...</td>\n",
       "      <td>7.864600e+04</td>\n",
       "      <td>7908095.0</td>\n",
       "      <td>9945.0</td>\n",
       "      <td>North America</td>\n",
       "      <td>2.0</td>\n",
       "      <td>1658.0</td>\n",
       "      <td>0.0</td>\n",
       "      <td>0.0</td>\n",
       "      <td>0.00</td>\n",
       "      <td>499849.0</td>\n",
       "    </tr>\n",
       "    <tr>\n",
       "      <th>216</th>\n",
       "      <td>Anguilla</td>\n",
       "      <td>3904.0</td>\n",
       "      <td>0.0</td>\n",
       "      <td>12.0</td>\n",
       "      <td>0.0</td>\n",
       "      <td>3879.0</td>\n",
       "      <td>0.0</td>\n",
       "      <td>13.0</td>\n",
       "      <td>4.0</td>\n",
       "      <td>256336.0</td>\n",
       "      <td>...</td>\n",
       "      <td>5.138200e+04</td>\n",
       "      <td>3373736.0</td>\n",
       "      <td>15230.0</td>\n",
       "      <td>North America</td>\n",
       "      <td>4.0</td>\n",
       "      <td>1269.0</td>\n",
       "      <td>0.0</td>\n",
       "      <td>0.0</td>\n",
       "      <td>0.00</td>\n",
       "      <td>854.0</td>\n",
       "    </tr>\n",
       "    <tr>\n",
       "      <th>218</th>\n",
       "      <td>Saint Pierre Miquelon</td>\n",
       "      <td>3452.0</td>\n",
       "      <td>0.0</td>\n",
       "      <td>2.0</td>\n",
       "      <td>0.0</td>\n",
       "      <td>2449.0</td>\n",
       "      <td>0.0</td>\n",
       "      <td>1001.0</td>\n",
       "      <td>1.0</td>\n",
       "      <td>599410.0</td>\n",
       "      <td>...</td>\n",
       "      <td>2.540000e+04</td>\n",
       "      <td>4410488.0</td>\n",
       "      <td>5759.0</td>\n",
       "      <td>North America</td>\n",
       "      <td>2.0</td>\n",
       "      <td>2880.0</td>\n",
       "      <td>0.0</td>\n",
       "      <td>0.0</td>\n",
       "      <td>0.00</td>\n",
       "      <td>173815.0</td>\n",
       "    </tr>\n",
       "    <tr>\n",
       "      <th>223</th>\n",
       "      <td>Montserrat</td>\n",
       "      <td>1403.0</td>\n",
       "      <td>0.0</td>\n",
       "      <td>8.0</td>\n",
       "      <td>0.0</td>\n",
       "      <td>1376.0</td>\n",
       "      <td>0.0</td>\n",
       "      <td>19.0</td>\n",
       "      <td>0.0</td>\n",
       "      <td>282578.0</td>\n",
       "      <td>...</td>\n",
       "      <td>1.776200e+04</td>\n",
       "      <td>3577442.0</td>\n",
       "      <td>4965.0</td>\n",
       "      <td>North America</td>\n",
       "      <td>4.0</td>\n",
       "      <td>621.0</td>\n",
       "      <td>0.0</td>\n",
       "      <td>0.0</td>\n",
       "      <td>0.00</td>\n",
       "      <td>3827.0</td>\n",
       "    </tr>\n",
       "  </tbody>\n",
       "</table>\n",
       "<p>39 rows × 21 columns</p>\n",
       "</div>"
      ],
      "text/plain": [
       "                    Country  Total Cases  New Cases  Total Deaths  New Deaths  \\\n",
       "0                       USA  105396817.0        0.0     1146740.0         0.0   \n",
       "18                   Mexico    7470653.0      525.0      333100.0         4.0   \n",
       "33                   Canada    4591149.0        0.0       51249.0         0.0   \n",
       "61                Guatemala    1237564.0        0.0       20178.0         0.0   \n",
       "63               Costa Rica    1204164.0        0.0        9230.0         0.0   \n",
       "66                     Cuba    1112625.0        0.0        8530.0         0.0   \n",
       "70                   Panama    1031273.0        0.0        8604.0         0.0   \n",
       "81       Dominican Republic     660705.0        0.0        4384.0         0.0   \n",
       "93                 Honduras     472219.0        0.0       11111.0         0.0   \n",
       "110              Martinique     229807.0        0.0        1098.0         0.0   \n",
       "115              Guadeloupe     201852.0        0.0        1010.0         0.0   \n",
       "116             El Salvador     201785.0        0.0        4230.0         0.0   \n",
       "117     Trinidad and Tobago     189296.0        0.0        4347.0         0.0   \n",
       "122                 Jamaica     154196.0        0.0        3502.0         0.0   \n",
       "127                Barbados     106645.0        0.0         575.0         0.0   \n",
       "140                  Belize      70757.0        0.0         688.0         0.0   \n",
       "153                 Curaçao      45986.0        0.0         295.0         0.0   \n",
       "154                   Aruba      44044.0        0.0         236.0         0.0   \n",
       "161                 Bahamas      37491.0        0.0         833.0         0.0   \n",
       "164                   Haiti      34202.0        0.0         860.0         0.0   \n",
       "166          Cayman Islands      31472.0        0.0          37.0         0.0   \n",
       "167             Saint Lucia      30004.0        0.0         409.0         0.0   \n",
       "178                 Grenada      19680.0        0.0         238.0         0.0   \n",
       "179                 Bermuda      18814.0        0.0         160.0         0.0   \n",
       "180               Nicaragua      18491.0        0.0         225.0         0.0   \n",
       "187                Dominica      15760.0        0.0          74.0         0.0   \n",
       "192            Saint Martin      12257.0        0.0          63.0         0.0   \n",
       "194               Greenland      11971.0        0.0          21.0         0.0   \n",
       "196   Caribbean Netherlands      11676.0        0.0          38.0         0.0   \n",
       "197            Sint Maarten      11020.0        0.0          91.0         0.0   \n",
       "200  St. Vincent Grenadines       9589.0        0.0         123.0         0.0   \n",
       "201     Antigua and Barbuda       9106.0        0.0         146.0         0.0   \n",
       "207  British Virgin Islands       7305.0        0.0          64.0         0.0   \n",
       "209   Saint Kitts and Nevis       6597.0        0.0          47.0         0.0   \n",
       "210        Turks and Caicos       6551.0        0.0          38.0         0.0   \n",
       "213               St. Barth       5439.0        0.0           6.0         0.0   \n",
       "216                Anguilla       3904.0        0.0          12.0         0.0   \n",
       "218   Saint Pierre Miquelon       3452.0        0.0           2.0         0.0   \n",
       "223              Montserrat       1403.0        0.0           8.0         0.0   \n",
       "\n",
       "     Total Recovered  New Recovered  Active Cases  Serious, Critical  \\\n",
       "0        102864696.0            0.0     1385381.0             2726.0   \n",
       "18         6706771.0         2912.0      430782.0                0.0   \n",
       "33         4508184.0         1530.0       31716.0               99.0   \n",
       "61         1216320.0            0.0        1066.0                5.0   \n",
       "63          860711.0            0.0      334223.0               52.0   \n",
       "66         1104008.0            0.0          87.0                2.0   \n",
       "70         1022299.0            0.0         370.0               16.0   \n",
       "81          644785.0            0.0       11536.0                4.0   \n",
       "93               0.0            0.0           0.0              105.0   \n",
       "110              0.0            0.0           0.0               12.0   \n",
       "115              0.0            0.0           0.0               19.0   \n",
       "116         179410.0            0.0       18145.0                8.0   \n",
       "117         184553.0            0.0         396.0                8.0   \n",
       "122         102393.0            0.0       48301.0                0.0   \n",
       "127         106057.0            0.0          13.0                0.0   \n",
       "140          70056.0            0.0          13.0                6.0   \n",
       "153          44720.0            0.0         971.0                3.0   \n",
       "154          42438.0            0.0        1370.0                2.0   \n",
       "161          36366.0            0.0         292.0                1.0   \n",
       "164          33052.0            0.0         290.0                0.0   \n",
       "166           8553.0            0.0       22882.0                1.0   \n",
       "167          29095.0            0.0         500.0                0.0   \n",
       "178          19358.0            0.0          84.0                4.0   \n",
       "179          18638.0            0.0          16.0                0.0   \n",
       "180           4225.0            0.0       14041.0                0.0   \n",
       "187          15673.0            0.0          13.0                0.0   \n",
       "192           1399.0            0.0       10795.0                7.0   \n",
       "194           2761.0            0.0        9189.0                4.0   \n",
       "196          10476.0            0.0        1162.0                0.0   \n",
       "197          10905.0            0.0          24.0                0.0   \n",
       "200           9466.0            0.0           0.0                0.0   \n",
       "201           8954.0            0.0           6.0                1.0   \n",
       "207              0.0            0.0           0.0                0.0   \n",
       "209           6548.0            0.0           2.0                0.0   \n",
       "210           6491.0            0.0          22.0                4.0   \n",
       "213              0.0            0.0           0.0                0.0   \n",
       "216           3879.0            0.0          13.0                4.0   \n",
       "218           2449.0            0.0        1001.0                1.0   \n",
       "223           1376.0            0.0          19.0                0.0   \n",
       "\n",
       "     Tot Cases/1M pop  ...   Total tests  Tests/1M pop   Population  \\\n",
       "0            314800.0  ...  1.167686e+09     3487657.0  334805269.0   \n",
       "18            56784.0  ...  1.957232e+07      148768.0  131562772.0   \n",
       "33           119597.0  ...  6.634312e+07     1728207.0   38388419.0   \n",
       "61            66593.0  ...  6.948424e+06      373892.0   18584039.0   \n",
       "63           232358.0  ...  4.659757e+06      899158.0    5182354.0   \n",
       "66            98413.0  ...  1.431960e+07     1266588.0   11305652.0   \n",
       "70           231905.0  ...  7.532271e+06     1693801.0    4446964.0   \n",
       "81            59758.0  ...  3.740928e+06      338350.0   11056370.0   \n",
       "93            46200.0  ...  1.635233e+06      159984.0   10221247.0   \n",
       "110          614314.0  ...  8.289280e+05     2215870.0     374087.0   \n",
       "115          504890.0  ...  9.380390e+05     2346306.0     399794.0   \n",
       "116           30805.0  ...  2.610114e+06      398467.0    6550389.0   \n",
       "117          134578.0  ...  8.981690e+05      638546.0    1406585.0   \n",
       "122           51655.0  ...  1.183986e+06      396633.0    2985094.0   \n",
       "127          370266.0  ...  7.944260e+05     2758203.0     288023.0   \n",
       "140          171661.0  ...  5.760160e+05     1397453.0     412190.0   \n",
       "153          277812.0  ...  4.966930e+05     3000640.0     165529.0   \n",
       "154          409297.0  ...  1.778850e+05     1653068.0     107609.0   \n",
       "161           93607.0  ...  2.578390e+05      643767.0     400516.0   \n",
       "164            2928.0  ...  1.324220e+05       11337.0   11680283.0   \n",
       "166          467797.0  ...  2.227730e+05     3311280.0      67277.0   \n",
       "167          162085.0  ...  2.109830e+05     1139752.0     185113.0   \n",
       "178          173430.0  ...  1.829810e+05     1612523.0     113475.0   \n",
       "179          303750.0  ...  1.027859e+06    16594698.0      61939.0   \n",
       "180            2728.0  ...  0.000000e+00           0.0    6779100.0   \n",
       "187          217848.0  ...  2.293440e+05     3170187.0      72344.0   \n",
       "192          308507.0  ...  1.123820e+05     2828643.0      39730.0   \n",
       "194          210117.0  ...  1.649260e+05     2894810.0      56973.0   \n",
       "196          438173.0  ...  3.012600e+04     1130559.0      26647.0   \n",
       "197          250648.0  ...  6.205600e+04     1411454.0      43966.0   \n",
       "200           85961.0  ...  1.137030e+05     1019292.0     111551.0   \n",
       "201           91509.0  ...  1.890100e+04      189943.0      99509.0   \n",
       "207          238757.0  ...  1.073390e+05     3508269.0      30596.0   \n",
       "209          122459.0  ...  1.269320e+05     2356221.0      53871.0   \n",
       "210          164842.0  ...  6.115270e+05    15387811.0      39741.0   \n",
       "213          546908.0  ...  7.864600e+04     7908095.0       9945.0   \n",
       "216          256336.0  ...  5.138200e+04     3373736.0      15230.0   \n",
       "218          599410.0  ...  2.540000e+04     4410488.0       5759.0   \n",
       "223          282578.0  ...  1.776200e+04     3577442.0       4965.0   \n",
       "\n",
       "         Continent 1 Case every X ppl  1 Death every X ppl  \\\n",
       "0    North America                3.0                292.0   \n",
       "18   North America               18.0                395.0   \n",
       "33   North America                8.0                749.0   \n",
       "61   North America               15.0                921.0   \n",
       "63   North America                4.0                561.0   \n",
       "66   North America               10.0               1325.0   \n",
       "70   North America                4.0                517.0   \n",
       "81   North America               17.0               2522.0   \n",
       "93   North America               22.0                920.0   \n",
       "110  North America                2.0                341.0   \n",
       "115  North America                2.0                396.0   \n",
       "116  North America               32.0               1549.0   \n",
       "117  North America                7.0                324.0   \n",
       "122  North America               19.0                852.0   \n",
       "127  North America                3.0                501.0   \n",
       "140  North America                6.0                599.0   \n",
       "153  North America                4.0                561.0   \n",
       "154  North America                2.0                456.0   \n",
       "161  North America               11.0                481.0   \n",
       "164  North America              342.0              13582.0   \n",
       "166  North America                2.0               1818.0   \n",
       "167  North America                6.0                453.0   \n",
       "178  North America                6.0                477.0   \n",
       "179  North America                3.0                387.0   \n",
       "180  North America              367.0              30129.0   \n",
       "187  North America                5.0                978.0   \n",
       "192  North America                3.0                631.0   \n",
       "194  North America                5.0               2713.0   \n",
       "196  North America                2.0                701.0   \n",
       "197  North America                4.0                483.0   \n",
       "200  North America               12.0                907.0   \n",
       "201  North America               11.0                682.0   \n",
       "207  North America                4.0                478.0   \n",
       "209  North America                8.0               1146.0   \n",
       "210  North America                6.0               1046.0   \n",
       "213  North America                2.0               1658.0   \n",
       "216  North America                4.0               1269.0   \n",
       "218  North America                2.0               2880.0   \n",
       "223  North America                4.0                621.0   \n",
       "\n",
       "     1 Test every X ppl  New Cases/1M pop  New Deaths/1M pop  \\\n",
       "0                   0.0               0.0               0.00   \n",
       "18                  7.0               4.0               0.03   \n",
       "33                  1.0               0.0               0.00   \n",
       "61                  3.0               0.0               0.00   \n",
       "63                  1.0               0.0               0.00   \n",
       "66                  1.0               0.0               0.00   \n",
       "70                  1.0               0.0               0.00   \n",
       "81                  3.0               0.0               0.00   \n",
       "93                  6.0               0.0               0.00   \n",
       "110                 0.0               0.0               0.00   \n",
       "115                 0.0               0.0               0.00   \n",
       "116                 3.0               0.0               0.00   \n",
       "117                 2.0               0.0               0.00   \n",
       "122                 3.0               0.0               0.00   \n",
       "127                 0.0               0.0               0.00   \n",
       "140                 1.0               0.0               0.00   \n",
       "153                 0.0               0.0               0.00   \n",
       "154                 1.0               0.0               0.00   \n",
       "161                 2.0               0.0               0.00   \n",
       "164                88.0               0.0               0.00   \n",
       "166                 0.0               0.0               0.00   \n",
       "167                 1.0               0.0               0.00   \n",
       "178                 1.0               0.0               0.00   \n",
       "179                 0.0               0.0               0.00   \n",
       "180                 0.0               0.0               0.00   \n",
       "187                 0.0               0.0               0.00   \n",
       "192                 0.0               0.0               0.00   \n",
       "194                 0.0               0.0               0.00   \n",
       "196                 1.0               0.0               0.00   \n",
       "197                 1.0               0.0               0.00   \n",
       "200                 1.0               0.0               0.00   \n",
       "201                 5.0               0.0               0.00   \n",
       "207                 0.0               0.0               0.00   \n",
       "209                 0.0               0.0               0.00   \n",
       "210                 0.0               0.0               0.00   \n",
       "213                 0.0               0.0               0.00   \n",
       "216                 0.0               0.0               0.00   \n",
       "218                 0.0               0.0               0.00   \n",
       "223                 0.0               0.0               0.00   \n",
       "\n",
       "     Active Cases/1M pop  \n",
       "0                 4138.0  \n",
       "18                3274.0  \n",
       "33                 826.0  \n",
       "61                  57.0  \n",
       "63               64493.0  \n",
       "66                   8.0  \n",
       "70                  83.0  \n",
       "81                1043.0  \n",
       "93               32145.0  \n",
       "110             611101.0  \n",
       "115             496736.0  \n",
       "116               2770.0  \n",
       "117                282.0  \n",
       "122              16181.0  \n",
       "127                 45.0  \n",
       "140                 32.0  \n",
       "153               5866.0  \n",
       "154              12731.0  \n",
       "161                729.0  \n",
       "164                 25.0  \n",
       "166             340116.0  \n",
       "167               2701.0  \n",
       "178                740.0  \n",
       "179                258.0  \n",
       "180               2071.0  \n",
       "187                180.0  \n",
       "192             271709.0  \n",
       "194             161287.0  \n",
       "196              43607.0  \n",
       "197                546.0  \n",
       "200                  0.0  \n",
       "201                 60.0  \n",
       "207                392.0  \n",
       "209                 37.0  \n",
       "210                554.0  \n",
       "213             499849.0  \n",
       "216                854.0  \n",
       "218             173815.0  \n",
       "223               3827.0  \n",
       "\n",
       "[39 rows x 21 columns]"
      ]
     },
     "execution_count": 43,
     "metadata": {},
     "output_type": "execute_result"
    }
   ],
   "source": [
    "covid_df[covid_df[\"Continent\"] == \"North America\"] \n"
   ]
  },
  {
   "cell_type": "code",
   "execution_count": 54,
   "metadata": {},
   "outputs": [
    {
     "data": {
      "application/vnd.plotly.v1+json": {
       "config": {
        "plotlyServerURL": "https://plot.ly"
       },
       "data": [
        {
         "alignmentgroup": "True",
         "hovertemplate": "Total Deaths=%{x}<br>Country=%{y}<extra></extra>",
         "legendgroup": "",
         "marker": {
          "color": "#636efa"
         },
         "name": "",
         "notched": false,
         "offsetgroup": "",
         "orientation": "h",
         "showlegend": false,
         "type": "box",
         "x": [
          1146740,
          333100,
          51249,
          20178,
          11111,
          9230,
          8604,
          8530,
          4384,
          4347
         ],
         "x0": " ",
         "xaxis": "x",
         "y": [
          "USA",
          "Mexico",
          "Canada",
          "Guatemala",
          "Honduras",
          "Costa Rica",
          "Panama",
          "Cuba",
          "Dominican Republic",
          "Trinidad and Tobago"
         ],
         "y0": " ",
         "yaxis": "y"
        }
       ],
       "layout": {
        "boxmode": "group",
        "legend": {
         "tracegroupgap": 0
        },
        "margin": {
         "t": 60
        },
        "template": {
         "data": {
          "bar": [
           {
            "error_x": {
             "color": "#2a3f5f"
            },
            "error_y": {
             "color": "#2a3f5f"
            },
            "marker": {
             "line": {
              "color": "#E5ECF6",
              "width": 0.5
             },
             "pattern": {
              "fillmode": "overlay",
              "size": 10,
              "solidity": 0.2
             }
            },
            "type": "bar"
           }
          ],
          "barpolar": [
           {
            "marker": {
             "line": {
              "color": "#E5ECF6",
              "width": 0.5
             },
             "pattern": {
              "fillmode": "overlay",
              "size": 10,
              "solidity": 0.2
             }
            },
            "type": "barpolar"
           }
          ],
          "carpet": [
           {
            "aaxis": {
             "endlinecolor": "#2a3f5f",
             "gridcolor": "white",
             "linecolor": "white",
             "minorgridcolor": "white",
             "startlinecolor": "#2a3f5f"
            },
            "baxis": {
             "endlinecolor": "#2a3f5f",
             "gridcolor": "white",
             "linecolor": "white",
             "minorgridcolor": "white",
             "startlinecolor": "#2a3f5f"
            },
            "type": "carpet"
           }
          ],
          "choropleth": [
           {
            "colorbar": {
             "outlinewidth": 0,
             "ticks": ""
            },
            "type": "choropleth"
           }
          ],
          "contour": [
           {
            "colorbar": {
             "outlinewidth": 0,
             "ticks": ""
            },
            "colorscale": [
             [
              0,
              "#0d0887"
             ],
             [
              0.1111111111111111,
              "#46039f"
             ],
             [
              0.2222222222222222,
              "#7201a8"
             ],
             [
              0.3333333333333333,
              "#9c179e"
             ],
             [
              0.4444444444444444,
              "#bd3786"
             ],
             [
              0.5555555555555556,
              "#d8576b"
             ],
             [
              0.6666666666666666,
              "#ed7953"
             ],
             [
              0.7777777777777778,
              "#fb9f3a"
             ],
             [
              0.8888888888888888,
              "#fdca26"
             ],
             [
              1,
              "#f0f921"
             ]
            ],
            "type": "contour"
           }
          ],
          "contourcarpet": [
           {
            "colorbar": {
             "outlinewidth": 0,
             "ticks": ""
            },
            "type": "contourcarpet"
           }
          ],
          "heatmap": [
           {
            "colorbar": {
             "outlinewidth": 0,
             "ticks": ""
            },
            "colorscale": [
             [
              0,
              "#0d0887"
             ],
             [
              0.1111111111111111,
              "#46039f"
             ],
             [
              0.2222222222222222,
              "#7201a8"
             ],
             [
              0.3333333333333333,
              "#9c179e"
             ],
             [
              0.4444444444444444,
              "#bd3786"
             ],
             [
              0.5555555555555556,
              "#d8576b"
             ],
             [
              0.6666666666666666,
              "#ed7953"
             ],
             [
              0.7777777777777778,
              "#fb9f3a"
             ],
             [
              0.8888888888888888,
              "#fdca26"
             ],
             [
              1,
              "#f0f921"
             ]
            ],
            "type": "heatmap"
           }
          ],
          "heatmapgl": [
           {
            "colorbar": {
             "outlinewidth": 0,
             "ticks": ""
            },
            "colorscale": [
             [
              0,
              "#0d0887"
             ],
             [
              0.1111111111111111,
              "#46039f"
             ],
             [
              0.2222222222222222,
              "#7201a8"
             ],
             [
              0.3333333333333333,
              "#9c179e"
             ],
             [
              0.4444444444444444,
              "#bd3786"
             ],
             [
              0.5555555555555556,
              "#d8576b"
             ],
             [
              0.6666666666666666,
              "#ed7953"
             ],
             [
              0.7777777777777778,
              "#fb9f3a"
             ],
             [
              0.8888888888888888,
              "#fdca26"
             ],
             [
              1,
              "#f0f921"
             ]
            ],
            "type": "heatmapgl"
           }
          ],
          "histogram": [
           {
            "marker": {
             "pattern": {
              "fillmode": "overlay",
              "size": 10,
              "solidity": 0.2
             }
            },
            "type": "histogram"
           }
          ],
          "histogram2d": [
           {
            "colorbar": {
             "outlinewidth": 0,
             "ticks": ""
            },
            "colorscale": [
             [
              0,
              "#0d0887"
             ],
             [
              0.1111111111111111,
              "#46039f"
             ],
             [
              0.2222222222222222,
              "#7201a8"
             ],
             [
              0.3333333333333333,
              "#9c179e"
             ],
             [
              0.4444444444444444,
              "#bd3786"
             ],
             [
              0.5555555555555556,
              "#d8576b"
             ],
             [
              0.6666666666666666,
              "#ed7953"
             ],
             [
              0.7777777777777778,
              "#fb9f3a"
             ],
             [
              0.8888888888888888,
              "#fdca26"
             ],
             [
              1,
              "#f0f921"
             ]
            ],
            "type": "histogram2d"
           }
          ],
          "histogram2dcontour": [
           {
            "colorbar": {
             "outlinewidth": 0,
             "ticks": ""
            },
            "colorscale": [
             [
              0,
              "#0d0887"
             ],
             [
              0.1111111111111111,
              "#46039f"
             ],
             [
              0.2222222222222222,
              "#7201a8"
             ],
             [
              0.3333333333333333,
              "#9c179e"
             ],
             [
              0.4444444444444444,
              "#bd3786"
             ],
             [
              0.5555555555555556,
              "#d8576b"
             ],
             [
              0.6666666666666666,
              "#ed7953"
             ],
             [
              0.7777777777777778,
              "#fb9f3a"
             ],
             [
              0.8888888888888888,
              "#fdca26"
             ],
             [
              1,
              "#f0f921"
             ]
            ],
            "type": "histogram2dcontour"
           }
          ],
          "mesh3d": [
           {
            "colorbar": {
             "outlinewidth": 0,
             "ticks": ""
            },
            "type": "mesh3d"
           }
          ],
          "parcoords": [
           {
            "line": {
             "colorbar": {
              "outlinewidth": 0,
              "ticks": ""
             }
            },
            "type": "parcoords"
           }
          ],
          "pie": [
           {
            "automargin": true,
            "type": "pie"
           }
          ],
          "scatter": [
           {
            "fillpattern": {
             "fillmode": "overlay",
             "size": 10,
             "solidity": 0.2
            },
            "type": "scatter"
           }
          ],
          "scatter3d": [
           {
            "line": {
             "colorbar": {
              "outlinewidth": 0,
              "ticks": ""
             }
            },
            "marker": {
             "colorbar": {
              "outlinewidth": 0,
              "ticks": ""
             }
            },
            "type": "scatter3d"
           }
          ],
          "scattercarpet": [
           {
            "marker": {
             "colorbar": {
              "outlinewidth": 0,
              "ticks": ""
             }
            },
            "type": "scattercarpet"
           }
          ],
          "scattergeo": [
           {
            "marker": {
             "colorbar": {
              "outlinewidth": 0,
              "ticks": ""
             }
            },
            "type": "scattergeo"
           }
          ],
          "scattergl": [
           {
            "marker": {
             "colorbar": {
              "outlinewidth": 0,
              "ticks": ""
             }
            },
            "type": "scattergl"
           }
          ],
          "scattermapbox": [
           {
            "marker": {
             "colorbar": {
              "outlinewidth": 0,
              "ticks": ""
             }
            },
            "type": "scattermapbox"
           }
          ],
          "scatterpolar": [
           {
            "marker": {
             "colorbar": {
              "outlinewidth": 0,
              "ticks": ""
             }
            },
            "type": "scatterpolar"
           }
          ],
          "scatterpolargl": [
           {
            "marker": {
             "colorbar": {
              "outlinewidth": 0,
              "ticks": ""
             }
            },
            "type": "scatterpolargl"
           }
          ],
          "scatterternary": [
           {
            "marker": {
             "colorbar": {
              "outlinewidth": 0,
              "ticks": ""
             }
            },
            "type": "scatterternary"
           }
          ],
          "surface": [
           {
            "colorbar": {
             "outlinewidth": 0,
             "ticks": ""
            },
            "colorscale": [
             [
              0,
              "#0d0887"
             ],
             [
              0.1111111111111111,
              "#46039f"
             ],
             [
              0.2222222222222222,
              "#7201a8"
             ],
             [
              0.3333333333333333,
              "#9c179e"
             ],
             [
              0.4444444444444444,
              "#bd3786"
             ],
             [
              0.5555555555555556,
              "#d8576b"
             ],
             [
              0.6666666666666666,
              "#ed7953"
             ],
             [
              0.7777777777777778,
              "#fb9f3a"
             ],
             [
              0.8888888888888888,
              "#fdca26"
             ],
             [
              1,
              "#f0f921"
             ]
            ],
            "type": "surface"
           }
          ],
          "table": [
           {
            "cells": {
             "fill": {
              "color": "#EBF0F8"
             },
             "line": {
              "color": "white"
             }
            },
            "header": {
             "fill": {
              "color": "#C8D4E3"
             },
             "line": {
              "color": "white"
             }
            },
            "type": "table"
           }
          ]
         },
         "layout": {
          "annotationdefaults": {
           "arrowcolor": "#2a3f5f",
           "arrowhead": 0,
           "arrowwidth": 1
          },
          "autotypenumbers": "strict",
          "coloraxis": {
           "colorbar": {
            "outlinewidth": 0,
            "ticks": ""
           }
          },
          "colorscale": {
           "diverging": [
            [
             0,
             "#8e0152"
            ],
            [
             0.1,
             "#c51b7d"
            ],
            [
             0.2,
             "#de77ae"
            ],
            [
             0.3,
             "#f1b6da"
            ],
            [
             0.4,
             "#fde0ef"
            ],
            [
             0.5,
             "#f7f7f7"
            ],
            [
             0.6,
             "#e6f5d0"
            ],
            [
             0.7,
             "#b8e186"
            ],
            [
             0.8,
             "#7fbc41"
            ],
            [
             0.9,
             "#4d9221"
            ],
            [
             1,
             "#276419"
            ]
           ],
           "sequential": [
            [
             0,
             "#0d0887"
            ],
            [
             0.1111111111111111,
             "#46039f"
            ],
            [
             0.2222222222222222,
             "#7201a8"
            ],
            [
             0.3333333333333333,
             "#9c179e"
            ],
            [
             0.4444444444444444,
             "#bd3786"
            ],
            [
             0.5555555555555556,
             "#d8576b"
            ],
            [
             0.6666666666666666,
             "#ed7953"
            ],
            [
             0.7777777777777778,
             "#fb9f3a"
            ],
            [
             0.8888888888888888,
             "#fdca26"
            ],
            [
             1,
             "#f0f921"
            ]
           ],
           "sequentialminus": [
            [
             0,
             "#0d0887"
            ],
            [
             0.1111111111111111,
             "#46039f"
            ],
            [
             0.2222222222222222,
             "#7201a8"
            ],
            [
             0.3333333333333333,
             "#9c179e"
            ],
            [
             0.4444444444444444,
             "#bd3786"
            ],
            [
             0.5555555555555556,
             "#d8576b"
            ],
            [
             0.6666666666666666,
             "#ed7953"
            ],
            [
             0.7777777777777778,
             "#fb9f3a"
            ],
            [
             0.8888888888888888,
             "#fdca26"
            ],
            [
             1,
             "#f0f921"
            ]
           ]
          },
          "colorway": [
           "#636efa",
           "#EF553B",
           "#00cc96",
           "#ab63fa",
           "#FFA15A",
           "#19d3f3",
           "#FF6692",
           "#B6E880",
           "#FF97FF",
           "#FECB52"
          ],
          "font": {
           "color": "#2a3f5f"
          },
          "geo": {
           "bgcolor": "white",
           "lakecolor": "white",
           "landcolor": "#E5ECF6",
           "showlakes": true,
           "showland": true,
           "subunitcolor": "white"
          },
          "hoverlabel": {
           "align": "left"
          },
          "hovermode": "closest",
          "mapbox": {
           "style": "light"
          },
          "paper_bgcolor": "white",
          "plot_bgcolor": "#E5ECF6",
          "polar": {
           "angularaxis": {
            "gridcolor": "white",
            "linecolor": "white",
            "ticks": ""
           },
           "bgcolor": "#E5ECF6",
           "radialaxis": {
            "gridcolor": "white",
            "linecolor": "white",
            "ticks": ""
           }
          },
          "scene": {
           "xaxis": {
            "backgroundcolor": "#E5ECF6",
            "gridcolor": "white",
            "gridwidth": 2,
            "linecolor": "white",
            "showbackground": true,
            "ticks": "",
            "zerolinecolor": "white"
           },
           "yaxis": {
            "backgroundcolor": "#E5ECF6",
            "gridcolor": "white",
            "gridwidth": 2,
            "linecolor": "white",
            "showbackground": true,
            "ticks": "",
            "zerolinecolor": "white"
           },
           "zaxis": {
            "backgroundcolor": "#E5ECF6",
            "gridcolor": "white",
            "gridwidth": 2,
            "linecolor": "white",
            "showbackground": true,
            "ticks": "",
            "zerolinecolor": "white"
           }
          },
          "shapedefaults": {
           "line": {
            "color": "#2a3f5f"
           }
          },
          "ternary": {
           "aaxis": {
            "gridcolor": "white",
            "linecolor": "white",
            "ticks": ""
           },
           "baxis": {
            "gridcolor": "white",
            "linecolor": "white",
            "ticks": ""
           },
           "bgcolor": "#E5ECF6",
           "caxis": {
            "gridcolor": "white",
            "linecolor": "white",
            "ticks": ""
           }
          },
          "title": {
           "x": 0.05
          },
          "xaxis": {
           "automargin": true,
           "gridcolor": "white",
           "linecolor": "white",
           "ticks": "",
           "title": {
            "standoff": 15
           },
           "zerolinecolor": "white",
           "zerolinewidth": 2
          },
          "yaxis": {
           "automargin": true,
           "gridcolor": "white",
           "linecolor": "white",
           "ticks": "",
           "title": {
            "standoff": 15
           },
           "zerolinecolor": "white",
           "zerolinewidth": 2
          }
         }
        },
        "xaxis": {
         "anchor": "y",
         "domain": [
          0,
          1
         ],
         "title": {
          "text": "Total Deaths"
         }
        },
        "yaxis": {
         "anchor": "x",
         "domain": [
          0,
          1
         ],
         "title": {
          "text": "Country"
         }
        }
       }
      }
     },
     "metadata": {},
     "output_type": "display_data"
    }
   ],
   "source": [
    "continent = pd.DataFrame(covid_df[covid_df[\"Continent\"] == \"North America\"].nlargest(columns=\"Total Deaths\", n=10))\n",
    "fig = px.box(continent, x=\"Total Deaths\", y=\"Country\")\n",
    "\n",
    "fig.show()"
   ]
  },
  {
   "cell_type": "code",
   "execution_count": 6,
   "metadata": {},
   "outputs": [
    {
     "data": {
      "text/plain": [
       "Country\n",
       "USA       1146740.0\n",
       "Brazil     699276.0\n",
       "India      530775.0\n",
       "Name: Total Deaths, dtype: float64"
      ]
     },
     "execution_count": 6,
     "metadata": {},
     "output_type": "execute_result"
    }
   ],
   "source": [
    "# Group the data by country and sum the number of deaths\n",
    "deaths_by_country = covid_df.groupby('Country')['Total Deaths'].sum()\n",
    "\n",
    "# Sort the countries by the number of deaths in descending order\n",
    "sorted_deaths_by_country = deaths_by_country.sort_values(ascending=False)\n",
    "\n",
    "# Select the top 3 countries with the highest number of deaths\n",
    "top_3_deaths_by_country = sorted_deaths_by_country[:3]\n",
    "\n",
    "top_3_deaths_by_country"
   ]
  },
  {
   "cell_type": "code",
   "execution_count": 7,
   "metadata": {},
   "outputs": [
    {
     "data": {
      "image/png": "[encoded data removed]",
      "text/plain": [
       "<Figure size 432x288 with 1 Axes>"
      ]
     },
     "metadata": {},
     "output_type": "display_data"
    }
   ],
   "source": [
    "plt.pie(top_3_deaths_by_country, labels=top_3_deaths_by_country.index, autopct='%1.1f%%')\n",
    "plt.title('Share of Top 3 Countries in Deaths')\n",
    "plt.show()"
   ]
  },
  {
   "cell_type": "code",
   "execution_count": null,
   "metadata": {},
   "outputs": [],
   "source": [
    "def get_lat(x):\n",
    "    country_region = x[\"Country/Region\"]\n",
    "    lat = df_complete_1[df_complete_1[\"Country/Region\"] == country_region][\"Lat\"]\n",
    "    return lat.iloc[0]"
   ]
  },
  {
   "cell_type": "code",
   "execution_count": null,
   "metadata": {},
   "outputs": [],
   "source": []
  },
  {
   "cell_type": "code",
   "execution_count": 5,
   "metadata": {},
   "outputs": [
    {
     "ename": "KeyError",
     "evalue": "'Long'",
     "output_type": "error",
     "traceback": [
      "\u001b[0;31m---------------------------------------------------------------------------\u001b[0m",
      "\u001b[0;31mKeyError\u001b[0m                                  Traceback (most recent call last)",
      "File \u001b[0;32m~/anaconda3/lib/python3.9/site-packages/pandas/core/indexes/base.py:3629\u001b[0m, in \u001b[0;36mIndex.get_loc\u001b[0;34m(self, key, method, tolerance)\u001b[0m\n\u001b[1;32m   3628\u001b[0m \u001b[39mtry\u001b[39;00m:\n\u001b[0;32m-> 3629\u001b[0m     \u001b[39mreturn\u001b[39;00m \u001b[39mself\u001b[39;49m\u001b[39m.\u001b[39;49m_engine\u001b[39m.\u001b[39;49mget_loc(casted_key)\n\u001b[1;32m   3630\u001b[0m \u001b[39mexcept\u001b[39;00m \u001b[39mKeyError\u001b[39;00m \u001b[39mas\u001b[39;00m err:\n",
      "File \u001b[0;32m~/anaconda3/lib/python3.9/site-packages/pandas/_libs/index.pyx:136\u001b[0m, in \u001b[0;36mpandas._libs.index.IndexEngine.get_loc\u001b[0;34m()\u001b[0m\n",
      "File \u001b[0;32m~/anaconda3/lib/python3.9/site-packages/pandas/_libs/index.pyx:163\u001b[0m, in \u001b[0;36mpandas._libs.index.IndexEngine.get_loc\u001b[0;34m()\u001b[0m\n",
      "File \u001b[0;32mpandas/_libs/hashtable_class_helper.pxi:5198\u001b[0m, in \u001b[0;36mpandas._libs.hashtable.PyObjectHashTable.get_item\u001b[0;34m()\u001b[0m\n",
      "File \u001b[0;32mpandas/_libs/hashtable_class_helper.pxi:5206\u001b[0m, in \u001b[0;36mpandas._libs.hashtable.PyObjectHashTable.get_item\u001b[0;34m()\u001b[0m\n",
      "\u001b[0;31mKeyError\u001b[0m: 'Long'",
      "\nThe above exception was the direct cause of the following exception:\n",
      "\u001b[0;31mKeyError\u001b[0m                                  Traceback (most recent call last)",
      "\u001b[1;32m/home/tramngu/Coding/Group02_Lab01_CSC10108/data_analysis_visualize/BT_analysis.ipynb Cell 5\u001b[0m in \u001b[0;36m<cell line: 1>\u001b[0;34m()\u001b[0m\n\u001b[1;32m      <a href='vscode-notebook-cell:/home/tramngu/Coding/Group02_Lab01_CSC10108/data_analysis_visualize/BT_analysis.ipynb#W4sZmlsZQ%3D%3D?line=0'>1</a>\u001b[0m fig \u001b[39m=\u001b[39m px\u001b[39m.\u001b[39mscatter_mapbox(\n\u001b[1;32m      <a href='vscode-notebook-cell:/home/tramngu/Coding/Group02_Lab01_CSC10108/data_analysis_visualize/BT_analysis.ipynb#W4sZmlsZQ%3D%3D?line=1'>2</a>\u001b[0m     covid_df, \n\u001b[0;32m----> <a href='vscode-notebook-cell:/home/tramngu/Coding/Group02_Lab01_CSC10108/data_analysis_visualize/BT_analysis.ipynb#W4sZmlsZQ%3D%3D?line=2'>3</a>\u001b[0m     lon \u001b[39m=\u001b[39m covid_df[\u001b[39m\"\u001b[39;49m\u001b[39mLong\u001b[39;49m\u001b[39m\"\u001b[39;49m],\n\u001b[1;32m      <a href='vscode-notebook-cell:/home/tramngu/Coding/Group02_Lab01_CSC10108/data_analysis_visualize/BT_analysis.ipynb#W4sZmlsZQ%3D%3D?line=3'>4</a>\u001b[0m     lat \u001b[39m=\u001b[39m covid_df[\u001b[39m\"\u001b[39m\u001b[39mLat\u001b[39m\u001b[39m\"\u001b[39m],\n\u001b[1;32m      <a href='vscode-notebook-cell:/home/tramngu/Coding/Group02_Lab01_CSC10108/data_analysis_visualize/BT_analysis.ipynb#W4sZmlsZQ%3D%3D?line=4'>5</a>\u001b[0m     zoom\u001b[39m=\u001b[39m\u001b[39m3\u001b[39m,\n\u001b[1;32m      <a href='vscode-notebook-cell:/home/tramngu/Coding/Group02_Lab01_CSC10108/data_analysis_visualize/BT_analysis.ipynb#W4sZmlsZQ%3D%3D?line=5'>6</a>\u001b[0m     color\u001b[39m=\u001b[39mcovid_df[\u001b[39m\"\u001b[39m\u001b[39mTot Cases/1M pop\u001b[39m\u001b[39m\"\u001b[39m],\n\u001b[1;32m      <a href='vscode-notebook-cell:/home/tramngu/Coding/Group02_Lab01_CSC10108/data_analysis_visualize/BT_analysis.ipynb#W4sZmlsZQ%3D%3D?line=6'>7</a>\u001b[0m     size\u001b[39m=\u001b[39mcovid_df[\u001b[39m\"\u001b[39m\u001b[39mTot Cases/1M pop\u001b[39m\u001b[39m\"\u001b[39m],\n\u001b[1;32m      <a href='vscode-notebook-cell:/home/tramngu/Coding/Group02_Lab01_CSC10108/data_analysis_visualize/BT_analysis.ipynb#W4sZmlsZQ%3D%3D?line=7'>8</a>\u001b[0m     width\u001b[39m=\u001b[39m\u001b[39m800\u001b[39m,\n\u001b[1;32m      <a href='vscode-notebook-cell:/home/tramngu/Coding/Group02_Lab01_CSC10108/data_analysis_visualize/BT_analysis.ipynb#W4sZmlsZQ%3D%3D?line=8'>9</a>\u001b[0m     height\u001b[39m=\u001b[39m\u001b[39m600\u001b[39m,\n\u001b[1;32m     <a href='vscode-notebook-cell:/home/tramngu/Coding/Group02_Lab01_CSC10108/data_analysis_visualize/BT_analysis.ipynb#W4sZmlsZQ%3D%3D?line=9'>10</a>\u001b[0m     title\u001b[39m=\u001b[39m\u001b[39m\"\u001b[39m\u001b[39mConfirmed Cases World Wide\u001b[39m\u001b[39m\"\u001b[39m,\n\u001b[1;32m     <a href='vscode-notebook-cell:/home/tramngu/Coding/Group02_Lab01_CSC10108/data_analysis_visualize/BT_analysis.ipynb#W4sZmlsZQ%3D%3D?line=10'>11</a>\u001b[0m     text\u001b[39m=\u001b[39m\u001b[39m\"\u001b[39m\u001b[39mCountry/Region\u001b[39m\u001b[39m\"\u001b[39m,\n\u001b[1;32m     <a href='vscode-notebook-cell:/home/tramngu/Coding/Group02_Lab01_CSC10108/data_analysis_visualize/BT_analysis.ipynb#W4sZmlsZQ%3D%3D?line=11'>12</a>\u001b[0m     hover_data\u001b[39m=\u001b[39m[\u001b[39m\"\u001b[39m\u001b[39mTotal Recovered\u001b[39m\u001b[39m\"\u001b[39m, \u001b[39m\"\u001b[39m\u001b[39mDeaths/1M pop\u001b[39m\u001b[39m\"\u001b[39m]\n\u001b[1;32m     <a href='vscode-notebook-cell:/home/tramngu/Coding/Group02_Lab01_CSC10108/data_analysis_visualize/BT_analysis.ipynb#W4sZmlsZQ%3D%3D?line=12'>13</a>\u001b[0m )\n\u001b[1;32m     <a href='vscode-notebook-cell:/home/tramngu/Coding/Group02_Lab01_CSC10108/data_analysis_visualize/BT_analysis.ipynb#W4sZmlsZQ%3D%3D?line=14'>15</a>\u001b[0m fig\u001b[39m.\u001b[39mupdate_layout(mapbox_style\u001b[39m=\u001b[39m\u001b[39m\"\u001b[39m\u001b[39mopen-street-map\u001b[39m\u001b[39m\"\u001b[39m)\n\u001b[1;32m     <a href='vscode-notebook-cell:/home/tramngu/Coding/Group02_Lab01_CSC10108/data_analysis_visualize/BT_analysis.ipynb#W4sZmlsZQ%3D%3D?line=15'>16</a>\u001b[0m fig\u001b[39m.\u001b[39mupdate_layout(margin\u001b[39m=\u001b[39m{\u001b[39m\"\u001b[39m\u001b[39mr\u001b[39m\u001b[39m\"\u001b[39m: \u001b[39m0\u001b[39m, \u001b[39m\"\u001b[39m\u001b[39mt\u001b[39m\u001b[39m\"\u001b[39m: \u001b[39m50\u001b[39m, \u001b[39m\"\u001b[39m\u001b[39ml\u001b[39m\u001b[39m\"\u001b[39m: \u001b[39m0\u001b[39m, \u001b[39m\"\u001b[39m\u001b[39mb\u001b[39m\u001b[39m\"\u001b[39m: \u001b[39m10\u001b[39m})\n",
      "File \u001b[0;32m~/anaconda3/lib/python3.9/site-packages/pandas/core/frame.py:3505\u001b[0m, in \u001b[0;36mDataFrame.__getitem__\u001b[0;34m(self, key)\u001b[0m\n\u001b[1;32m   3503\u001b[0m \u001b[39mif\u001b[39;00m \u001b[39mself\u001b[39m\u001b[39m.\u001b[39mcolumns\u001b[39m.\u001b[39mnlevels \u001b[39m>\u001b[39m \u001b[39m1\u001b[39m:\n\u001b[1;32m   3504\u001b[0m     \u001b[39mreturn\u001b[39;00m \u001b[39mself\u001b[39m\u001b[39m.\u001b[39m_getitem_multilevel(key)\n\u001b[0;32m-> 3505\u001b[0m indexer \u001b[39m=\u001b[39m \u001b[39mself\u001b[39;49m\u001b[39m.\u001b[39;49mcolumns\u001b[39m.\u001b[39;49mget_loc(key)\n\u001b[1;32m   3506\u001b[0m \u001b[39mif\u001b[39;00m is_integer(indexer):\n\u001b[1;32m   3507\u001b[0m     indexer \u001b[39m=\u001b[39m [indexer]\n",
      "File \u001b[0;32m~/anaconda3/lib/python3.9/site-packages/pandas/core/indexes/base.py:3631\u001b[0m, in \u001b[0;36mIndex.get_loc\u001b[0;34m(self, key, method, tolerance)\u001b[0m\n\u001b[1;32m   3629\u001b[0m     \u001b[39mreturn\u001b[39;00m \u001b[39mself\u001b[39m\u001b[39m.\u001b[39m_engine\u001b[39m.\u001b[39mget_loc(casted_key)\n\u001b[1;32m   3630\u001b[0m \u001b[39mexcept\u001b[39;00m \u001b[39mKeyError\u001b[39;00m \u001b[39mas\u001b[39;00m err:\n\u001b[0;32m-> 3631\u001b[0m     \u001b[39mraise\u001b[39;00m \u001b[39mKeyError\u001b[39;00m(key) \u001b[39mfrom\u001b[39;00m \u001b[39merr\u001b[39;00m\n\u001b[1;32m   3632\u001b[0m \u001b[39mexcept\u001b[39;00m \u001b[39mTypeError\u001b[39;00m:\n\u001b[1;32m   3633\u001b[0m     \u001b[39m# If we have a listlike key, _check_indexing_error will raise\u001b[39;00m\n\u001b[1;32m   3634\u001b[0m     \u001b[39m#  InvalidIndexError. Otherwise we fall through and re-raise\u001b[39;00m\n\u001b[1;32m   3635\u001b[0m     \u001b[39m#  the TypeError.\u001b[39;00m\n\u001b[1;32m   3636\u001b[0m     \u001b[39mself\u001b[39m\u001b[39m.\u001b[39m_check_indexing_error(key)\n",
      "\u001b[0;31mKeyError\u001b[0m: 'Long'"
     ]
    }
   ],
   "source": [
    "fig = px.scatter_mapbox(\n",
    "    covid_df, \n",
    "    lon = covid_df[\"Long\"],\n",
    "    lat = covid_df[\"Lat\"],\n",
    "    zoom=3,\n",
    "    color=covid_df[\"Tot Cases/1M pop\"],\n",
    "    size=covid_df[\"Tot Cases/1M pop\"],\n",
    "    width=800,\n",
    "    height=600,\n",
    "    title=\"Confirmed Cases World Wide\",\n",
    "    text=\"Country/Region\",\n",
    "    hover_data=[\"Total Recovered\", \"Deaths/1M pop\"]\n",
    ")\n",
    "\n",
    "fig.update_layout(mapbox_style=\"open-street-map\")\n",
    "fig.update_layout(margin={\"r\": 0, \"t\": 50, \"l\": 0, \"b\": 10})\n",
    "\n",
    "fig.show()"
   ]
  }
 ],
 "metadata": {
  "kernelspec": {
   "display_name": "base",
   "language": "python",
   "name": "python3"
  },
  "language_info": {
   "codemirror_mode": {
    "name": "ipython",
    "version": 3
   },
   "file_extension": ".py",
   "mimetype": "text/x-python",
   "name": "python",
   "nbconvert_exporter": "python",
   "pygments_lexer": "ipython3",
   "version": "3.9.13"
  },
  "orig_nbformat": 4
 },
 "nbformat": 4,
 "nbformat_minor": 2
}
